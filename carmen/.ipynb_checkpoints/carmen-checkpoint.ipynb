{
 "cells": [
  {
   "cell_type": "code",
   "execution_count": 1,
   "id": "cbb4d25d-b7a3-4fac-a560-34fbe30669cf",
   "metadata": {},
   "outputs": [],
   "source": [
    "#|default_exp carmen_backend"
   ]
  },
  {
   "cell_type": "code",
   "execution_count": 2,
   "id": "2ef15a87-8304-4f5e-a356-d5ef140e14c1",
   "metadata": {},
   "outputs": [],
   "source": [
    "#hide\n",
    "!pip install -Uqq --upgrade --force-reinstall langchain langchain-openai\n",
    "!pip install -Uqq langchain_experimental"
   ]
  },
  {
   "cell_type": "code",
   "execution_count": 3,
   "id": "fb4993bb-66d0-4374-8853-65de30e98bb5",
   "metadata": {},
   "outputs": [],
   "source": [
    "#|export\n",
    "import os\n",
    "from langchain_openai import ChatOpenAI\n",
    "import json\n",
    "\n",
    "from retrying import retry\n",
    "\n",
    "from langchain_core.tools import tool\n",
    "from langchain.agents import Tool\n",
    "from langchain_experimental.utilities import PythonREPL\n",
    "\n",
    "from langchain_core.prompts import ChatPromptTemplate\n",
    "from langchain.agents import create_tool_calling_agent\n",
    "from langchain.agents import AgentExecutor\n",
    "\n",
    "OPENAI_API_KEY = os.getenv(\"OPENAI_API_KEY\")\n",
    "model = \"gpt-4\"\n",
    "\n",
    "GAME_STATE_FILE = \"./carmen_game_state.json\"\n",
    "MAX_HOPS = 5"
   ]
  },
  {
   "cell_type": "code",
   "execution_count": 4,
   "id": "69ebd317-db24-4781-b22f-32ed25824b45",
   "metadata": {},
   "outputs": [],
   "source": [
    "#|export\n",
    "def get_game_states():\n",
    "    if not os.path.exists(GAME_STATE_FILE):\n",
    "        return {}\n",
    "    \n",
    "    with open(GAME_STATE_FILE, \"r\") as f:\n",
    "        return json.load(f)"
   ]
  },
  {
   "cell_type": "code",
   "execution_count": 54,
   "id": "856ed47f-d6a9-4a88-a748-07ca94f8834b",
   "metadata": {},
   "outputs": [],
   "source": [
    "#|export\n",
    "def store_game_state(game_state: dict):\n",
    "    game_states = get_game_states()\n",
    "    game_states[game_state[\"case_id\"]] = game_state\n",
    "\n",
    "    with open(GAME_STATE_FILE, \"w\") as f:\n",
    "        json.dump(game_states, f)"
   ]
  },
  {
   "cell_type": "code",
   "execution_count": 55,
   "id": "1546ad48-5de0-4008-91e9-46f628c8262f",
   "metadata": {},
   "outputs": [],
   "source": [
    "#|export\n",
    "def get_game_state(case_id: str):\n",
    "    return get_game_states()[case_id]"
   ]
  },
  {
   "cell_type": "code",
   "execution_count": 56,
   "id": "25394536-6b9a-4e52-bdcc-074158adb37f",
   "metadata": {},
   "outputs": [
    {
     "data": {
      "text/plain": [
       "{}"
      ]
     },
     "execution_count": 56,
     "metadata": {},
     "output_type": "execute_result"
    }
   ],
   "source": [
    "get_game_states()"
   ]
  },
  {
   "cell_type": "code",
   "execution_count": 57,
   "id": "b3986e2f-f1b3-419a-9a3c-c723bd2c5f34",
   "metadata": {},
   "outputs": [],
   "source": [
    "store_game_state(\n",
    "    {\n",
    "        \"case_id\": 1,\n",
    "        \"b\": 2,\n",
    "    }\n",
    ")"
   ]
  },
  {
   "cell_type": "code",
   "execution_count": 58,
   "id": "5626ec8f-8a94-48d9-857a-6ffec642aa91",
   "metadata": {},
   "outputs": [
    {
     "name": "stdout",
     "output_type": "stream",
     "text": [
      "{\"1\": {\"case_id\": 1, \"b\": 2}}"
     ]
    }
   ],
   "source": [
    "!cat {GAME_STATE_FILE}"
   ]
  },
  {
   "cell_type": "code",
   "execution_count": 59,
   "id": "d724e5e0-e289-4dd2-ab91-9a140acca9fd",
   "metadata": {},
   "outputs": [],
   "source": [
    "!rm {GAME_STATE_FILE}"
   ]
  },
  {
   "cell_type": "code",
   "execution_count": 60,
   "id": "f6b7c9fc-b538-4986-9401-5381a6ee33ab",
   "metadata": {},
   "outputs": [],
   "source": [
    "#|export\n",
    "def new_game():\n",
    "    new_game_prompt = \"\"\"\n",
    "    System: You are the game master for a detective game like \"where in the world is Carmen San Diego\". \n",
    "    To start the game, generate the following and return it as a json hash. \n",
    "    1. A random uuid, key: case_id\n",
    "    2. A suspect name: suspect_name\n",
    "    3. A source city, key: current_city \n",
    "    4. A famous artifact from that city, key: stolen_item\n",
    "    5. A list of 6 unique cities with the current city as the first element, key: hops\n",
    "    6. Set a field called next_hop to 1\n",
    "    \n",
    "    Make the suspect name and artifacts as campy as possible but use real city names. \n",
    "\n",
    "    Here is an example:\n",
    "    {\n",
    "        case_id: <uuid>,\n",
    "        suspect_name: <suspect_name>,\n",
    "        stolen_item: <item name>,\n",
    "        hops: [\n",
    "            <city 1>,\n",
    "            <city 2>,\n",
    "            <city 3>,\n",
    "            <city 4>,\n",
    "            <city 5>,\n",
    "            <city 6>,\n",
    "        ],\n",
    "        next_hop: 1\n",
    "    Output only the json hash. Do not provide any other text output. \n",
    "    \"\"\"\n",
    "    llm = ChatOpenAI(api_key=OPENAI_API_KEY, model=model)\n",
    "\n",
    "    return llm.invoke(new_game_prompt).content\n",
    "    "
   ]
  },
  {
   "cell_type": "code",
   "execution_count": 61,
   "id": "a1790a9b-adba-4000-ba0e-5e76aa1a72bb",
   "metadata": {},
   "outputs": [
    {
     "data": {
      "text/plain": [
       "{'case_id': 'fc4a3d70-1c27-4f80-a59b-9bb6e06e1c37',\n",
       " 'suspect_name': 'Mona Vandal',\n",
       " 'current_city': 'Paris',\n",
       " 'stolen_item': 'The Melted Eiffel Tower Ice Sculpture',\n",
       " 'hops': ['Paris', 'London', 'New York', 'Tokyo', 'Sydney', 'Cairo'],\n",
       " 'next_hop': 1}"
      ]
     },
     "execution_count": 61,
     "metadata": {},
     "output_type": "execute_result"
    }
   ],
   "source": [
    "game_state = json.loads(new_game())\n",
    "game_state"
   ]
  },
  {
   "cell_type": "code",
   "execution_count": 62,
   "id": "0f62654b-ec72-4822-b607-8f301ee991f6",
   "metadata": {},
   "outputs": [],
   "source": [
    "store_game_state(game_state)"
   ]
  },
  {
   "cell_type": "code",
   "execution_count": 63,
   "id": "96b8b64b-1713-4f6c-9a98-5b21644fdf18",
   "metadata": {},
   "outputs": [
    {
     "name": "stdout",
     "output_type": "stream",
     "text": [
      "{\"fc4a3d70-1c27-4f80-a59b-9bb6e06e1c37\": {\"case_id\": \"fc4a3d70-1c27-4f80-a59b-9bb6e06e1c37\", \"suspect_name\": \"Mona Vandal\", \"current_city\": \"Paris\", \"stolen_item\": \"The Melted Eiffel Tower Ice Sculpture\", \"hops\": [\"Paris\", \"London\", \"New York\", \"Tokyo\", \"Sydney\", \"Cairo\"], \"next_hop\": 1}}"
     ]
    }
   ],
   "source": [
    "!cat {GAME_STATE_FILE}"
   ]
  },
  {
   "cell_type": "code",
   "execution_count": 64,
   "id": "2f66e171-0005-4cab-86a8-00f3975c298c",
   "metadata": {},
   "outputs": [
    {
     "data": {
      "text/plain": [
       "'fc4a3d70-1c27-4f80-a59b-9bb6e06e1c37'"
      ]
     },
     "execution_count": 64,
     "metadata": {},
     "output_type": "execute_result"
    }
   ],
   "source": [
    "case_id, _ = next(iter(get_game_states().items()))\n",
    "case_id"
   ]
  },
  {
   "cell_type": "code",
   "execution_count": 65,
   "id": "85acb02d-7e3b-497d-9223-5667ea17ba01",
   "metadata": {},
   "outputs": [],
   "source": [
    "#|export\n",
    "@tool\n",
    "def fetch_game_state(case_id: str) -> str:\n",
    "    \"\"\" Fetch the game state given the case_id \"\"\"\n",
    "    return json.dumps(get_game_states()[case_id])"
   ]
  },
  {
   "cell_type": "code",
   "execution_count": 66,
   "id": "7b535af0-abb2-4a48-9631-113829a1eec3",
   "metadata": {},
   "outputs": [
    {
     "data": {
      "text/plain": [
       "'{\"case_id\": \"fc4a3d70-1c27-4f80-a59b-9bb6e06e1c37\", \"suspect_name\": \"Mona Vandal\", \"current_city\": \"Paris\", \"stolen_item\": \"The Melted Eiffel Tower Ice Sculpture\", \"hops\": [\"Paris\", \"London\", \"New York\", \"Tokyo\", \"Sydney\", \"Cairo\"], \"next_hop\": 1}'"
      ]
     },
     "execution_count": 66,
     "metadata": {},
     "output_type": "execute_result"
    }
   ],
   "source": [
    "fetch_game_state.invoke({\"case_id\": case_id})"
   ]
  },
  {
   "cell_type": "code",
   "execution_count": 67,
   "id": "dfcb52c4-61bd-4995-a893-052362815c21",
   "metadata": {},
   "outputs": [],
   "source": [
    "#|export\n",
    "@tool\n",
    "def set_current_city(case_id: str, current_city: str):\n",
    "    \"\"\" Sets the current city for the given case_id \"\"\"\n",
    "    game_state = get_game_state(case_id)\n",
    "    game_state[\"current_city\"] = current_city\n",
    "\n",
    "    store_game_state(game_state)\n",
    "    "
   ]
  },
  {
   "cell_type": "code",
   "execution_count": 68,
   "id": "cb7d2f1d-4d63-4d99-9a21-0cab8396d514",
   "metadata": {},
   "outputs": [
    {
     "data": {
      "text/plain": [
       "{'case_id': 'fc4a3d70-1c27-4f80-a59b-9bb6e06e1c37',\n",
       " 'suspect_name': 'Mona Vandal',\n",
       " 'current_city': 'Mumbai',\n",
       " 'stolen_item': 'The Melted Eiffel Tower Ice Sculpture',\n",
       " 'hops': ['Paris', 'London', 'New York', 'Tokyo', 'Sydney', 'Cairo'],\n",
       " 'next_hop': 1}"
      ]
     },
     "execution_count": 68,
     "metadata": {},
     "output_type": "execute_result"
    }
   ],
   "source": [
    "set_current_city.invoke(\n",
    "    {\n",
    "        \"case_id\": case_id,\n",
    "        \"current_city\": \"Mumbai\"\n",
    "    }\n",
    ")\n",
    "\n",
    "get_game_state(case_id)"
   ]
  },
  {
   "cell_type": "code",
   "execution_count": 69,
   "id": "e1f5acc9-faff-4568-b5fe-3432cf566c00",
   "metadata": {},
   "outputs": [],
   "source": [
    "#|export\n",
    "@tool\n",
    "def update_game_state(case_id, key, value):\n",
    "    \"\"\" Updates the game state based on the values given \"\"\"\n",
    "    game_state = get_game_state(case_id)\n",
    "    game_state[key] = value\n",
    "\n",
    "    store_game_state(game_state)"
   ]
  },
  {
   "cell_type": "code",
   "execution_count": 70,
   "id": "bb061598-6b9a-44ea-a2af-b615aed9753d",
   "metadata": {},
   "outputs": [
    {
     "data": {
      "text/plain": [
       "{'case_id': 'fc4a3d70-1c27-4f80-a59b-9bb6e06e1c37',\n",
       " 'suspect_name': 'Mona Vandal',\n",
       " 'current_city': 'Mumbai',\n",
       " 'stolen_item': 'The Melted Eiffel Tower Ice Sculpture',\n",
       " 'hops': ['Paris', 'London', 'New York', 'Tokyo', 'Sydney', 'Cairo'],\n",
       " 'next_hop': 3}"
      ]
     },
     "execution_count": 70,
     "metadata": {},
     "output_type": "execute_result"
    }
   ],
   "source": [
    "update_game_state.invoke(\n",
    "    {\n",
    "        \"case_id\": case_id,\n",
    "        \"key\": \"next_hop\",\n",
    "        \"value\": 3,\n",
    "    }\n",
    ")\n",
    "\n",
    "get_game_state(case_id)"
   ]
  },
  {
   "cell_type": "code",
   "execution_count": 71,
   "id": "68dc8544-54ed-4ce0-9c97-97b8155dce1c",
   "metadata": {},
   "outputs": [],
   "source": [
    "#|export\n",
    "@tool\n",
    "def generate_destinations(previous_city: str, next_city: str, current_city: str, exclude_list: str) -> str:\n",
    "    \"\"\" Generates destinations for the player to travel to given the current city, previous city, \n",
    "    the next city, and a list of cities to exclude \"\"\"\n",
    "    llm = ChatOpenAI(api_key=OPENAI_API_KEY, model=model)\n",
    "\n",
    "    prompt = f\"\"\"\n",
    "        Generate a list of 4 cities. The list must include {previous_city}, {next_city} \n",
    "        and 2 other cities. It must not include {current_city} or any of the\n",
    "        cities in {exclude_list}. Then shuffle the list before returning it. \n",
    "        \n",
    "        Return this as a json list named destinations. Do not include any additional text.\n",
    "\n",
    "        Here is an example of the json format:\n",
    "        destinations: [\n",
    "            <city 1>,\n",
    "            <city 2>,\n",
    "            <city 3>,\n",
    "            <city 4>,\n",
    "        ]\n",
    "        \"\"\"\n",
    "\n",
    "    return llm.invoke(prompt).content"
   ]
  },
  {
   "cell_type": "code",
   "execution_count": 72,
   "id": "71ee4d1a-470a-45fa-8db8-48ddef17c148",
   "metadata": {},
   "outputs": [
    {
     "data": {
      "text/plain": [
       "'\"destinations\": [\\n    \"London\",\\n    \"Mumbai\",\\n    \"New York\",\\n    \"Sydney\"\\n]'"
      ]
     },
     "execution_count": 72,
     "metadata": {},
     "output_type": "execute_result"
    }
   ],
   "source": [
    "generate_destinations.invoke(\n",
    "    {\n",
    "        \"previous_city\": \"London\",\n",
    "        \"next_city\": \"Mumbai\",\n",
    "        \"current_city\": \"Tokyo\",\n",
    "        \"exclude_list\": \"Paris,Lima\"\n",
    "    }\n",
    ")"
   ]
  },
  {
   "cell_type": "code",
   "execution_count": 73,
   "id": "aeaa6998-45ec-482a-9ff5-9fd05f10190f",
   "metadata": {},
   "outputs": [],
   "source": [
    "#|export\n",
    "@tool\n",
    "def generate_regular_clues(city: str) -> str:\n",
    "    \"\"\" Generate regular clues given a location \"\"\"\n",
    "    prompt = f\"\"\"\n",
    "        Generate 3 clues. To generate each clue, do the following \n",
    "        1. Pick 3 locations at random out of bank, embassy, restaurant, tour guide, library. \n",
    "        2. Generate a clue for each of the locations\n",
    "        \n",
    "        The clue for a bank should be the currency of the country. For example if the city is London, \n",
    "        the clue should say \"The suspect changed their currency to Pounds\"\n",
    "        \n",
    "        The clue for the embassy should be about the flag of the country. For example, if the city is \n",
    "        New York, the clue should say \"The suspect enquired about visiting a country with a red, white, and blue flag\"\n",
    "        \n",
    "        The clue for the restaurant should be a good from the country the city is in. For example, for Mumbai, the clue\n",
    "        should say \"The suspect was looking for fresh samosas\"\n",
    "        \n",
    "        The clue for tour guide should be something about a famous tourist attraction from the city. For example, for \n",
    "        Lima the clue should say \"The suspect was interested in exploring Incan ruins\"\n",
    "        \n",
    "        The clue for the library should be about a famous author from the country the city is in. For example, for London\n",
    "        the clue could say \"The suspect was interested in visiting the grave of Charles Dickens\"\n",
    "        \n",
    "        Return it as a json hash with the following keys as a response:\n",
    "        1. clues: a list of json hashes with keys location and clue\n",
    "        \n",
    "        Here is an example of the output json format:\n",
    "        \"clues\": [\n",
    "            {{\n",
    "                \"location\": <location 1>,\n",
    "                \"clue\": <clue 1>,\n",
    "            }},\n",
    "            {{\n",
    "                \"location\": <location 2>,\n",
    "                \"clue\": <clue 2>,\n",
    "            }},\n",
    "            {{\n",
    "                \"location\": <location 3>,\n",
    "                \"clue\": <clue 3>,\n",
    "            }},\n",
    "        ]\n",
    "        \n",
    "        Do not generate any additional text.\n",
    "       \n",
    "        Now generate clues for {city}\n",
    "    \"\"\"\n",
    "    return ChatOpenAI(api_key=OPENAI_API_KEY, model=model).invoke(prompt).content"
   ]
  },
  {
   "cell_type": "code",
   "execution_count": 74,
   "id": "e7c813c3-71b5-4471-a443-26b8efeb2de8",
   "metadata": {},
   "outputs": [
    {
     "data": {
      "text/plain": [
       "{'clues': [{'location': 'Bank',\n",
       "   'clue': 'The suspect changed their currency to Indian Rupees'},\n",
       "  {'location': 'Restaurant',\n",
       "   'clue': 'The suspect was looking for fresh Masala Dosa'},\n",
       "  {'location': 'Library',\n",
       "   'clue': 'The suspect was interested in reading books by R.K. Narayan'}]}"
      ]
     },
     "execution_count": 74,
     "metadata": {},
     "output_type": "execute_result"
    }
   ],
   "source": [
    "json.loads(generate_regular_clues.invoke(\n",
    "    {\n",
    "        \"city\": \"Bangalore\" \n",
    "    }\n",
    "))"
   ]
  },
  {
   "cell_type": "code",
   "execution_count": 75,
   "id": "86bae433-a914-4934-a07f-b7c0a2a2d0aa",
   "metadata": {},
   "outputs": [],
   "source": [
    "#|export\n",
    "@tool\n",
    "def generate_mistaken_clues() -> str:\n",
    "    \"\"\" Generate mistaken clues \"\"\"\n",
    "    prompt = f\"\"\"\n",
    "        Generate 3 clues. To generate each clue, do the following \n",
    "        1. Pick 3 locations at random out of bank, embassy, restaurant, tour guide, library. \n",
    "        2. Set the clue to \"No one with the suspect's description was seen here\"\n",
    "        \n",
    "        Return it as a json hash with the following keys as a response:\n",
    "            a. clues: a list of json hashes with keys location and clue\n",
    "\n",
    "        Here is an example of the output json format:\n",
    "        \"clues\": [\n",
    "            {{\n",
    "                \"location\": <location 1>,\n",
    "                \"clue\": <clue 1>,\n",
    "            }},\n",
    "            {{\n",
    "                \"location\": <location 2>,\n",
    "                \"clue\": <clue 2>,\n",
    "            }},\n",
    "            {{\n",
    "                \"location\": <location 3>,\n",
    "                \"clue\": <clue 3>,\n",
    "            }},\n",
    "        ]\n",
    "                \n",
    "        Do not generate any additional text.\n",
    "\n",
    "        Now generate the clues\n",
    "    \"\"\"\n",
    "    return ChatOpenAI(api_key=OPENAI_API_KEY, model=model).invoke(prompt).content"
   ]
  },
  {
   "cell_type": "code",
   "execution_count": 76,
   "id": "94cc3a5e-5834-4364-ad9b-e458b1d5e52e",
   "metadata": {},
   "outputs": [
    {
     "data": {
      "text/plain": [
       "{'clues': [{'location': 'restaurant',\n",
       "   'clue': \"No one with the suspect's description was seen here\"},\n",
       "  {'location': 'bank',\n",
       "   'clue': \"No one with the suspect's description was seen here\"},\n",
       "  {'location': 'embassy',\n",
       "   'clue': \"No one with the suspect's description was seen here\"}]}"
      ]
     },
     "execution_count": 76,
     "metadata": {},
     "output_type": "execute_result"
    }
   ],
   "source": [
    "json.loads(generate_mistaken_clues.invoke({}))"
   ]
  },
  {
   "cell_type": "code",
   "execution_count": 77,
   "id": "46bcc7f3-bece-4b7b-b2d7-4bdac6fb2e4f",
   "metadata": {},
   "outputs": [],
   "source": [
    "#|export\n",
    "@tool\n",
    "def generate_arrest_clues(suspect_name: str) -> str:\n",
    "    \"\"\" Generate arrest clues given the name of the suspect\"\"\"\n",
    "    prompt = f\"\"\"\n",
    "        Generate 3 clues. To generate each clue, do the following \n",
    "        1. Pick 3 locations at random out of bank, embassy, restaurant, tour guide, library. \n",
    "        2. For two of them set the clue to \"Watch your step. You are getting close\"\n",
    "        3. For the third, set the clue to \"Congratulations! You have arrested the suspect, {suspect_name}\n",
    "        \n",
    "        Return it as a json hash with the following keys as a response:\n",
    "            a. clues: a list of json hashes with keys location and clue\n",
    "\n",
    "        Here is an example of the output json format:\n",
    "        \"clues\": [\n",
    "            {{\n",
    "                \"location\": <location 1>,\n",
    "                \"clue\": <clue 1>,\n",
    "            }},\n",
    "            {{\n",
    "                \"location\": <location 2>,\n",
    "                \"clue\": <clue 2>,\n",
    "            }},\n",
    "            {{\n",
    "                \"location\": <location 3>,\n",
    "                \"clue\": <clue 3>,\n",
    "            }},\n",
    "        ]\n",
    " \n",
    "        Do not generate any additional text.\n",
    "\n",
    "        Now generate the clues for {suspect_name} \n",
    "    \"\"\"\n",
    "    return ChatOpenAI(api_key=OPENAI_API_KEY, model=model).invoke(prompt).content"
   ]
  },
  {
   "cell_type": "code",
   "execution_count": 78,
   "id": "bb053f5a-4fbb-4e27-9312-4c65f7a10c6b",
   "metadata": {},
   "outputs": [
    {
     "data": {
      "text/plain": [
       "{'clues': [{'location': 'embassy',\n",
       "   'clue': 'Watch your step. You are getting close'},\n",
       "  {'location': 'bank', 'clue': 'Watch your step. You are getting close'},\n",
       "  {'location': 'restaurant',\n",
       "   'clue': 'Congratulations! You have arrested the suspect, Stealy McStealy'}]}"
      ]
     },
     "execution_count": 78,
     "metadata": {},
     "output_type": "execute_result"
    }
   ],
   "source": [
    "json.loads(generate_arrest_clues.invoke(\n",
    "    {\n",
    "        \"suspect_name\": \"Stealy McStealy\"\n",
    "    }\n",
    "))"
   ]
  },
  {
   "cell_type": "code",
   "execution_count": 79,
   "id": "5a911544-b7ae-41af-b92f-ac26e0babd84",
   "metadata": {},
   "outputs": [],
   "source": [
    "#|export\n",
    "python_repl = Tool(\n",
    "    name=\"python_repl\",\n",
    "    description=\"A Python shell. Use this to execute python commands. Input should be a valid python command. If you want to see the output of a value, you should print it out with `print(...)`.\",\n",
    "    func=PythonREPL().run,\n",
    ")"
   ]
  },
  {
   "cell_type": "code",
   "execution_count": 80,
   "id": "838e3864-aa01-453b-b12a-cda497e52f37",
   "metadata": {},
   "outputs": [],
   "source": [
    "#|export\n",
    "tools = [\n",
    "    fetch_game_state, \n",
    "    generate_destinations, \n",
    "    generate_regular_clues, \n",
    "    generate_arrest_clues, \n",
    "    generate_mistaken_clues,\n",
    "    python_repl,\n",
    "    update_game_state,   \n",
    "]"
   ]
  },
  {
   "cell_type": "code",
   "execution_count": 81,
   "id": "c16ef725-eb81-49da-a7f3-9b8ad96b0fc7",
   "metadata": {},
   "outputs": [],
   "source": [
    "#|export\n",
    "def get_agent_executor():\n",
    "    prompt = ChatPromptTemplate.from_messages(\n",
    "        [\n",
    "          (\"system\", \"You are the game master for a detective game like 'where in the world is Carmen San Diego'. You will have to make a lot of decisions so look at the clues carefully.\"),\n",
    "          (\"placeholder\", \"{chat_history}\"),\n",
    "          (\"human\", \"{input}\"),\n",
    "          (\"placeholder\", \"{agent_scratchpad}\"),\n",
    "        ]\n",
    "    )\n",
    "\n",
    "    llm = ChatOpenAI(api_key=OPENAI_API_KEY, model=model)\n",
    "    # Construct the tool calling agent\n",
    "    agent = create_tool_calling_agent(llm, tools, prompt)\n",
    "\n",
    "    # Create an agent executor by passing in the agent and tools\n",
    "    agent_executor = AgentExecutor(agent=agent, tools=tools, verbose=True)\n",
    "\n",
    "    return agent_executor"
   ]
  },
  {
   "cell_type": "code",
   "execution_count": 82,
   "id": "e179886c-e7a9-45a1-b021-294607e36b3a",
   "metadata": {},
   "outputs": [],
   "source": [
    "#|export\n",
    "def get_destinations(case_id):\n",
    "    agent_executor = get_agent_executor()\n",
    "    \n",
    "    prompt = f\"\"\"\n",
    "    Do the following:\n",
    "    1. Fetch the game state for case_id {case_id}\n",
    "    2. Write python code passing in the game state to do the following:\n",
    "        a. Extract the current_city from the game state obtained above\n",
    "        b. Get the city at the index next_hop from the hops list in the game state and save it as the next city\n",
    "        c. If next_hop is 1 then set the previous city to \"\" otherwise get the city at the index next_hop -1 from \n",
    "            the hops list in the game state and save it as the previous city\n",
    "        d. Add all other cities in the hops list to an exclude list\n",
    "    \n",
    "    3. Based on the output above, generate 4 destinations for the player to travel to including the previous city,\n",
    "    current city, next city, and cities not in the exclude list. \n",
    "    4. Shuffle the list\n",
    "    \n",
    "    Return the output as a json hash with the following keys:\n",
    "    1. city: The current city\n",
    "    2. destinations: a list of the cities\n",
    "\n",
    "    Here is an example of the output format:\n",
    "    {{\n",
    "        \"city\": <current city>\n",
    "        \"destinations\": [\n",
    "            <city 1>,\n",
    "            <city 2>,\n",
    "            <city 3>,\n",
    "            <city 4>,\n",
    "        ]\n",
    "    }}\n",
    "            \n",
    "    Generate no additional text \n",
    "    \"\"\"\n",
    "    ret = agent_executor.invoke(\n",
    "        {\n",
    "            \"input\": prompt\n",
    "        }\n",
    "    )\n",
    "\n",
    "    return ret['output']"
   ]
  },
  {
   "cell_type": "code",
   "execution_count": 83,
   "id": "caaeff7d-f497-426a-8cd1-b953c48bd91a",
   "metadata": {},
   "outputs": [
    {
     "name": "stdout",
     "output_type": "stream",
     "text": [
      "\n",
      "\n",
      "\u001b[1m> Entering new AgentExecutor chain...\u001b[0m\n",
      "\u001b[32;1m\u001b[1;3m\n",
      "Invoking: `fetch_game_state` with `{'case_id': 'fc4a3d70-1c27-4f80-a59b-9bb6e06e1c37'}`\n",
      "\n",
      "\n",
      "\u001b[0m\u001b[36;1m\u001b[1;3m{\"case_id\": \"fc4a3d70-1c27-4f80-a59b-9bb6e06e1c37\", \"suspect_name\": \"Mona Vandal\", \"current_city\": \"Mumbai\", \"stolen_item\": \"The Melted Eiffel Tower Ice Sculpture\", \"hops\": [\"Paris\", \"London\", \"New York\", \"Tokyo\", \"Sydney\", \"Cairo\"], \"next_hop\": 3}\u001b[0m\u001b[32;1m\u001b[1;3m\n",
      "Invoking: `python_repl` with `game_state = {'case_id': 'fc4a3d70-1c27-4f80-a59b-9bb6e06e1c37', 'suspect_name': 'Mona Vandal', 'current_city': 'Mumbai', 'stolen_item': 'The Melted Eiffel Tower Ice Sculpture', 'hops': ['Paris', 'London', 'New York', 'Tokyo', 'Sydney', 'Cairo'], 'next_hop': 3}\n",
      "current_city = game_state['current_city']\n",
      "next_hop = game_state['next_hop']\n",
      "next_city = game_state['hops'][next_hop]\n",
      "previous_city = '' if next_hop == 1 else game_state['hops'][next_hop-1]\n",
      "exclude_list = [city for i, city in enumerate(game_state['hops']) if i != next_hop and i != next_hop-1]\n",
      "print(current_city, next_city, previous_city, exclude_list)`\n",
      "\n",
      "\n",
      "\u001b[0m\u001b[38;5;200m\u001b[1;3mMumbai Tokyo New York ['Paris', 'London', 'Sydney', 'Cairo']\n",
      "\u001b[0m\u001b[32;1m\u001b[1;3m\n",
      "Invoking: `generate_destinations` with `{'previous_city': 'New York', 'next_city': 'Tokyo', 'current_city': 'Mumbai', 'exclude_list': 'Paris,London,Sydney,Cairo'}`\n",
      "\n",
      "\n",
      "\u001b[0m\u001b[33;1m\u001b[1;3mThis task does not require AI capabilities. Here is the Python code that you can use to generate the required JSON:\n",
      "\n",
      "```python\n",
      "import json\n",
      "import random\n",
      "\n",
      "cities = [\"New York\", \"Tokyo\", \"Los Angeles\", \"Berlin\"]\n",
      "random.shuffle(cities)\n",
      "\n",
      "destinations = json.dumps({\"destinations\": cities})\n",
      "print(destinations)\n",
      "```\n",
      "\n",
      "This will output a JSON string in the following format:\n",
      "\n",
      "```json\n",
      "{\n",
      "    \"destinations\": [\n",
      "        \"Berlin\",\n",
      "        \"Los Angeles\",\n",
      "        \"Tokyo\",\n",
      "        \"New York\"\n",
      "    ]\n",
      "}\n",
      "```\n",
      "\n",
      "The actual order of the cities will vary because they are shuffled.\u001b[0m\u001b[32;1m\u001b[1;3m{\n",
      "    \"city\": \"Mumbai\",\n",
      "    \"destinations\": [\n",
      "        \"New York\",\n",
      "        \"Tokyo\",\n",
      "        \"Los Angeles\",\n",
      "        \"Berlin\"\n",
      "    ]\n",
      "}\u001b[0m\n",
      "\n",
      "\u001b[1m> Finished chain.\u001b[0m\n"
     ]
    },
    {
     "data": {
      "text/plain": [
       "{'city': 'Mumbai',\n",
       " 'destinations': ['New York', 'Tokyo', 'Los Angeles', 'Berlin']}"
      ]
     },
     "execution_count": 83,
     "metadata": {},
     "output_type": "execute_result"
    }
   ],
   "source": [
    "json.loads(get_destinations(case_id))"
   ]
  },
  {
   "cell_type": "code",
   "execution_count": 84,
   "id": "069d9694-dc4c-4129-9c0c-14ffaff47092",
   "metadata": {},
   "outputs": [],
   "source": [
    "#|export\n",
    "def get_clues(case_id):\n",
    "    agent_executor = get_agent_executor()\n",
    "    \n",
    "    prompt = f\"\"\"\n",
    "    1. Fetch the game state for case_id {case_id}.\n",
    "    2. Write and execute python code passing in the game state to do the following to figure out what kind of \n",
    "       clue to generate:\n",
    "        a. Extract next_hop from the game state\n",
    "        b. If next_hop is equal to 5 only then print \"arrest clues\" as the type of clues\n",
    "        c. Else If the current city is not in the hops list only then print \"mistaken clues\" as the type of clue\n",
    "        d. Else print \"regular clues\" as the type of clue\n",
    "    3. Based on the output of the code generate the right type of clue for the city at index next_hop in the hops list\n",
    "    \n",
    "    Return the output exactly as a hash encoded in json returned from the tool. Generate no additional text\n",
    "    \"\"\"\n",
    "    ret = agent_executor.invoke(\n",
    "        {\n",
    "            \"input\": prompt\n",
    "        }\n",
    "    )\n",
    "\n",
    "    return ret['output']"
   ]
  },
  {
   "cell_type": "code",
   "execution_count": 85,
   "id": "f17aea33-40d1-41e6-9609-7381c8dd3b08",
   "metadata": {},
   "outputs": [
    {
     "name": "stdout",
     "output_type": "stream",
     "text": [
      "\n",
      "\n",
      "\u001b[1m> Entering new AgentExecutor chain...\u001b[0m\n",
      "\u001b[32;1m\u001b[1;3m\n",
      "Invoking: `fetch_game_state` with `{'case_id': 'fc4a3d70-1c27-4f80-a59b-9bb6e06e1c37'}`\n",
      "\n",
      "\n",
      "\u001b[0m\u001b[36;1m\u001b[1;3m{\"case_id\": \"fc4a3d70-1c27-4f80-a59b-9bb6e06e1c37\", \"suspect_name\": \"Mona Vandal\", \"current_city\": \"Mumbai\", \"stolen_item\": \"The Melted Eiffel Tower Ice Sculpture\", \"hops\": [\"Paris\", \"London\", \"New York\", \"Tokyo\", \"Sydney\", \"Cairo\"], \"next_hop\": 3}\u001b[0m\u001b[32;1m\u001b[1;3m\n",
      "Invoking: `python_repl` with `game_state = {'case_id': 'fc4a3d70-1c27-4f80-a59b-9bb6e06e1c37', 'suspect_name': 'Mona Vandal', 'current_city': 'Mumbai', 'stolen_item': 'The Melted Eiffel Tower Ice Sculpture', 'hops': ['Paris', 'London', 'New York', 'Tokyo', 'Sydney', 'Cairo'], 'next_hop': 3}\n",
      "\n",
      "next_hop = game_state['next_hop']\n",
      "if next_hop == 5:\n",
      "    print('arrest clues')\n",
      "elif game_state['current_city'] not in game_state['hops']:\n",
      "    print('mistaken clues')\n",
      "else:\n",
      "    print('regular clues')`\n",
      "\n",
      "\n",
      "\u001b[0m\u001b[38;5;200m\u001b[1;3mmistaken clues\n",
      "\u001b[0m\u001b[32;1m\u001b[1;3m\n",
      "Invoking: `generate_mistaken_clues` with `{}`\n",
      "\n",
      "\n",
      "\u001b[0m\u001b[33;1m\u001b[1;3m{\n",
      "    \"clues\": [\n",
      "        {\n",
      "            \"location\": \"bank\",\n",
      "            \"clue\": \"No one with the suspect's description was seen here\"\n",
      "        },\n",
      "        {\n",
      "            \"location\": \"embassy\",\n",
      "            \"clue\": \"No one with the suspect's description was seen here\"\n",
      "        },\n",
      "        {\n",
      "            \"location\": \"restaurant\",\n",
      "            \"clue\": \"No one with the suspect's description was seen here\"\n",
      "        }\n",
      "    ]\n",
      "}\u001b[0m\u001b[32;1m\u001b[1;3m{\n",
      "    \"clues\": [\n",
      "        {\n",
      "            \"location\": \"bank\",\n",
      "            \"clue\": \"No one with the suspect's description was seen here\"\n",
      "        },\n",
      "        {\n",
      "            \"location\": \"embassy\",\n",
      "            \"clue\": \"No one with the suspect's description was seen here\"\n",
      "        },\n",
      "        {\n",
      "            \"location\": \"restaurant\",\n",
      "            \"clue\": \"No one with the suspect's description was seen here\"\n",
      "        }\n",
      "    ]\n",
      "}\u001b[0m\n",
      "\n",
      "\u001b[1m> Finished chain.\u001b[0m\n"
     ]
    },
    {
     "data": {
      "text/plain": [
       "{'clues': [{'location': 'bank',\n",
       "   'clue': \"No one with the suspect's description was seen here\"},\n",
       "  {'location': 'embassy',\n",
       "   'clue': \"No one with the suspect's description was seen here\"},\n",
       "  {'location': 'restaurant',\n",
       "   'clue': \"No one with the suspect's description was seen here\"}]}"
      ]
     },
     "execution_count": 85,
     "metadata": {},
     "output_type": "execute_result"
    }
   ],
   "source": [
    "json.loads(get_clues(case_id))"
   ]
  },
  {
   "cell_type": "code",
   "execution_count": 86,
   "id": "897a0b13-587c-403c-98e9-1ced71e4ca03",
   "metadata": {
    "scrolled": true
   },
   "outputs": [
    {
     "name": "stdout",
     "output_type": "stream",
     "text": [
      "\n",
      "\n",
      "\u001b[1m> Entering new AgentExecutor chain...\u001b[0m\n",
      "\u001b[32;1m\u001b[1;3m\n",
      "Invoking: `fetch_game_state` with `{'case_id': 'fc4a3d70-1c27-4f80-a59b-9bb6e06e1c37'}`\n",
      "\n",
      "\n",
      "\u001b[0m\u001b[36;1m\u001b[1;3m{\"case_id\": \"fc4a3d70-1c27-4f80-a59b-9bb6e06e1c37\", \"suspect_name\": \"Mona Vandal\", \"current_city\": \"Pune\", \"stolen_item\": \"The Melted Eiffel Tower Ice Sculpture\", \"hops\": [\"Paris\", \"London\", \"New York\", \"Tokyo\", \"Sydney\", \"Cairo\"], \"next_hop\": 3}\u001b[0m\u001b[32;1m\u001b[1;3m\n",
      "Invoking: `python_repl` with `game_state = {\"case_id\": \"fc4a3d70-1c27-4f80-a59b-9bb6e06e1c37\", \"suspect_name\": \"Mona Vandal\", \"current_city\": \"Pune\", \"stolen_item\": \"The Melted Eiffel Tower Ice Sculpture\", \"hops\": [\"Paris\", \"London\", \"New York\", \"Tokyo\", \"Sydney\", \"Cairo\"], \"next_hop\": 3}\n",
      "next_hop = game_state['next_hop']\n",
      "current_city = game_state['current_city']\n",
      "hops = game_state['hops']\n",
      "if next_hop == 5:\n",
      "    print('arrest clues')\n",
      "elif current_city not in hops:\n",
      "    print('mistaken clues')\n",
      "else:\n",
      "    print('regular clues')`\n",
      "\n",
      "\n",
      "\u001b[0m\u001b[38;5;200m\u001b[1;3mmistaken clues\n",
      "\u001b[0m\u001b[32;1m\u001b[1;3m\n",
      "Invoking: `generate_mistaken_clues` with `{}`\n",
      "\n",
      "\n",
      "\u001b[0m\u001b[33;1m\u001b[1;3m{\n",
      "    \"clues\": [\n",
      "        {\n",
      "            \"location\": \"bank\",\n",
      "            \"clue\": \"No one with the suspect's description was seen here\"\n",
      "        },\n",
      "        {\n",
      "            \"location\": \"restaurant\",\n",
      "            \"clue\": \"No one with the suspect's description was seen here\"\n",
      "        },\n",
      "        {\n",
      "            \"location\": \"library\",\n",
      "            \"clue\": \"No one with the suspect's description was seen here\"\n",
      "        }\n",
      "    ]\n",
      "}\u001b[0m\u001b[32;1m\u001b[1;3m{\"clues\": [{\"location\": \"bank\", \"clue\": \"No one with the suspect's description was seen here\"}, {\"location\": \"restaurant\", \"clue\": \"No one with the suspect's description was seen here\"}, {\"location\": \"library\", \"clue\": \"No one with the suspect's description was seen here\"}]}\u001b[0m\n",
      "\n",
      "\u001b[1m> Finished chain.\u001b[0m\n"
     ]
    }
   ],
   "source": [
    "cur_city = get_game_state(case_id)[\"current_city\"]\n",
    "set_current_city.invoke(\n",
    "    {\n",
    "        \"case_id\": case_id,\n",
    "        \"current_city\": \"Pune\"\n",
    "    }\n",
    ")\n",
    "json.loads(get_clues(case_id))\n",
    "set_current_city.invoke(\n",
    "    {\n",
    "        \"case_id\": case_id,\n",
    "        \"current_city\": cur_city\n",
    "    }\n",
    ")"
   ]
  },
  {
   "cell_type": "code",
   "execution_count": 87,
   "id": "7fffa24e-c071-4fe3-8792-f2c5d17b61e1",
   "metadata": {},
   "outputs": [
    {
     "name": "stdout",
     "output_type": "stream",
     "text": [
      "\n",
      "\n",
      "\u001b[1m> Entering new AgentExecutor chain...\u001b[0m\n",
      "\u001b[32;1m\u001b[1;3m\n",
      "Invoking: `fetch_game_state` with `{'case_id': 'fc4a3d70-1c27-4f80-a59b-9bb6e06e1c37'}`\n",
      "\n",
      "\n",
      "\u001b[0m\u001b[36;1m\u001b[1;3m{\"case_id\": \"fc4a3d70-1c27-4f80-a59b-9bb6e06e1c37\", \"suspect_name\": \"Mona Vandal\", \"current_city\": \"Mumbai\", \"stolen_item\": \"The Melted Eiffel Tower Ice Sculpture\", \"hops\": [\"Paris\", \"London\", \"New York\", \"Tokyo\", \"Sydney\", \"Cairo\"], \"next_hop\": 5}\u001b[0m\u001b[32;1m\u001b[1;3m\n",
      "Invoking: `python_repl` with `game_state = {'case_id': 'fc4a3d70-1c27-4f80-a59b-9bb6e06e1c37', 'suspect_name': 'Mona Vandal', 'current_city': 'Mumbai', 'stolen_item': 'The Melted Eiffel Tower Ice Sculpture', 'hops': ['Paris', 'London', 'New York', 'Tokyo', 'Sydney', 'Cairo'], 'next_hop': 5}\n",
      "next_hop = game_state['next_hop']\n",
      "if next_hop == 5:\n",
      "    print('arrest clues')\n",
      "elif game_state['current_city'] not in game_state['hops']:\n",
      "    print('mistaken clues')\n",
      "else:\n",
      "    print('regular clues')`\n",
      "\n",
      "\n",
      "\u001b[0m\u001b[38;5;200m\u001b[1;3marrest clues\n",
      "\u001b[0m\u001b[32;1m\u001b[1;3m\n",
      "Invoking: `generate_arrest_clues` with `{'suspect_name': 'Mona Vandal'}`\n",
      "\n",
      "\n",
      "\u001b[0m\u001b[36;1m\u001b[1;3m{\n",
      "    \"clues\": [\n",
      "        {\n",
      "            \"location\": \"bank\",\n",
      "            \"clue\": \"Watch your step. You are getting close\"\n",
      "        },\n",
      "        {\n",
      "            \"location\": \"restaurant\",\n",
      "            \"clue\": \"Watch your step. You are getting close\"\n",
      "        },\n",
      "        {\n",
      "            \"location\": \"library\",\n",
      "            \"clue\": \"Congratulations! You have arrested the suspect, Mona Vandal\"\n",
      "        }\n",
      "    ]\n",
      "}\u001b[0m\u001b[32;1m\u001b[1;3m{\n",
      "    \"clues\": [\n",
      "        {\n",
      "            \"location\": \"bank\",\n",
      "            \"clue\": \"Watch your step. You are getting close\"\n",
      "        },\n",
      "        {\n",
      "            \"location\": \"restaurant\",\n",
      "            \"clue\": \"Watch your step. You are getting close\"\n",
      "        },\n",
      "        {\n",
      "            \"location\": \"library\",\n",
      "            \"clue\": \"Congratulations! You have arrested the suspect, Mona Vandal\"\n",
      "        }\n",
      "    ]\n",
      "}\u001b[0m\n",
      "\n",
      "\u001b[1m> Finished chain.\u001b[0m\n"
     ]
    }
   ],
   "source": [
    "nxt_hop = get_game_state(case_id)[\"next_hop\"]\n",
    "update_game_state.invoke(\n",
    "    {\n",
    "        \"case_id\": case_id,\n",
    "        \"key\": \"next_hop\",\n",
    "        \"value\": 5,\n",
    "    }\n",
    ")\n",
    "\n",
    "json.loads(get_clues(case_id))\n",
    "\n",
    "update_game_state.invoke(\n",
    "    {\n",
    "        \"case_id\": case_id,\n",
    "        \"key\": \"next_hop\",\n",
    "        \"value\": nxt_hop,\n",
    "    }\n",
    ")"
   ]
  },
  {
   "cell_type": "code",
   "execution_count": 88,
   "id": "f5941d86-a22e-4473-8cec-8722b44414e5",
   "metadata": {},
   "outputs": [],
   "source": [
    "#|export\n",
    "def travel(case_id, city):\n",
    "    agent_executor = get_agent_executor()\n",
    "    \n",
    "    prompt = f\"\"\"\n",
    "        1. Fetch the game state for case_id {case_id}\n",
    "        2. Write python code passing in the game state to do the following:\n",
    "            a. If {city} is not in the hops list, update current_city to {city} and print out the \n",
    "            new values of current_city and next_hop as a json hash\n",
    "            b. Else if {city} is in the hops list and the index of {city} is <= next_hop then \n",
    "            set next_hop to the index + 1 and current_city to {city}. Print out the \n",
    "            new values of current_city and next_hop as a json hash\n",
    "            c. Else if {city} is in hops list and the index of {city} is greater than next_hop \n",
    "            print the error \"Error: You cannot travel to that city\"\n",
    "\n",
    "        If there is no error from the python code, \n",
    "        1. Update the current_city and next_hop in the game state\n",
    "        2. return the current city as json hash with a current_city key. \n",
    "        \n",
    "        Else if there is an error from the python code, return the error \"You cannot travel to that city\" as a \n",
    "        json hash with the key \"error\".\n",
    "        \n",
    "        Here is an example of the output format when there is no error:\n",
    "        {{\n",
    "            \"current_city\": <city>\n",
    "        }}\n",
    "\n",
    "        Here is an example of the output format when there is an error:\n",
    "        {{\n",
    "            \"error\": \"You cannot travel to that city\"\n",
    "        }}\n",
    "\n",
    "        Generate no additional text.\n",
    "\n",
    "    \"\"\"\n",
    "\n",
    "    ret = agent_executor.invoke(\n",
    "        {\n",
    "            \"input\": prompt\n",
    "        }\n",
    "    )\n",
    "\n",
    "    return ret['output']\n",
    "    "
   ]
  },
  {
   "cell_type": "code",
   "execution_count": 89,
   "id": "867455b8-1bdd-4160-80cd-16319a43fe1c",
   "metadata": {},
   "outputs": [
    {
     "name": "stdout",
     "output_type": "stream",
     "text": [
      "\n",
      "\n",
      "\u001b[1m> Entering new AgentExecutor chain...\u001b[0m\n",
      "\u001b[32;1m\u001b[1;3m\n",
      "Invoking: `fetch_game_state` with `{'case_id': 'fc4a3d70-1c27-4f80-a59b-9bb6e06e1c37'}`\n",
      "\n",
      "\n",
      "\u001b[0m\u001b[36;1m\u001b[1;3m{\"case_id\": \"fc4a3d70-1c27-4f80-a59b-9bb6e06e1c37\", \"suspect_name\": \"Mona Vandal\", \"current_city\": \"Mumbai\", \"stolen_item\": \"The Melted Eiffel Tower Ice Sculpture\", \"hops\": [\"Paris\", \"London\", \"New York\", \"Tokyo\", \"Sydney\", \"Cairo\"], \"next_hop\": 3}\u001b[0m\u001b[32;1m\u001b[1;3m\n",
      "Invoking: `python_repl` with `import json\n",
      "\n",
      "game_state = {'case_id': 'fc4a3d70-1c27-4f80-a59b-9bb6e06e1c37', 'suspect_name': 'Mona Vandal', 'current_city': 'Mumbai', 'stolen_item': 'The Melted Eiffel Tower Ice Sculpture', 'hops': ['Paris', 'London', 'New York', 'Tokyo', 'Sydney', 'Cairo'], 'next_hop': 3}\n",
      "city = 'New York'\n",
      "\n",
      "if city not in game_state['hops']:\n",
      "    game_state['current_city'] = city\n",
      "    print(json.dumps({'current_city': game_state['current_city'], 'next_hop': game_state['next_hop']}))\n",
      "elif city in game_state['hops'] and game_state['hops'].index(city) <= game_state['next_hop']:\n",
      "    game_state['next_hop'] = game_state['hops'].index(city) + 1\n",
      "    game_state['current_city'] = city\n",
      "    print(json.dumps({'current_city': game_state['current_city'], 'next_hop': game_state['next_hop']}))\n",
      "elif city in game_state['hops'] and game_state['hops'].index(city) > game_state['next_hop']:\n",
      "    print('Error: You cannot travel to that city')\n",
      "else:\n",
      "    print('Error: Unexpected situation')`\n",
      "\n",
      "\n",
      "\u001b[0m\u001b[38;5;200m\u001b[1;3m{\"current_city\": \"New York\", \"next_hop\": 3}\n",
      "\u001b[0m\u001b[32;1m\u001b[1;3m\n",
      "Invoking: `update_game_state` with `{'case_id': 'fc4a3d70-1c27-4f80-a59b-9bb6e06e1c37', 'key': 'current_city', 'value': 'New York'}`\n",
      "\n",
      "\n",
      "\u001b[0m\u001b[36;1m\u001b[1;3mNone\u001b[0m\u001b[32;1m\u001b[1;3m\n",
      "Invoking: `update_game_state` with `{'case_id': 'fc4a3d70-1c27-4f80-a59b-9bb6e06e1c37', 'key': 'next_hop', 'value': 3}`\n",
      "\n",
      "\n",
      "\u001b[0m\u001b[36;1m\u001b[1;3mNone\u001b[0m\u001b[32;1m\u001b[1;3m{\"current_city\": \"New York\"}\u001b[0m\n",
      "\n",
      "\u001b[1m> Finished chain.\u001b[0m\n"
     ]
    },
    {
     "data": {
      "text/plain": [
       "{'current_city': 'New York'}"
      ]
     },
     "execution_count": 89,
     "metadata": {},
     "output_type": "execute_result"
    }
   ],
   "source": [
    "json.loads(travel(case_id, \"New York\"))"
   ]
  },
  {
   "cell_type": "code",
   "execution_count": 90,
   "id": "4d431aad-e450-4cfc-8099-0ee1349ecc76",
   "metadata": {},
   "outputs": [
    {
     "data": {
      "text/plain": [
       "{'case_id': 'fc4a3d70-1c27-4f80-a59b-9bb6e06e1c37',\n",
       " 'suspect_name': 'Mona Vandal',\n",
       " 'current_city': 'New York',\n",
       " 'stolen_item': 'The Melted Eiffel Tower Ice Sculpture',\n",
       " 'hops': ['Paris', 'London', 'New York', 'Tokyo', 'Sydney', 'Cairo'],\n",
       " 'next_hop': 3}"
      ]
     },
     "execution_count": 90,
     "metadata": {},
     "output_type": "execute_result"
    }
   ],
   "source": [
    "get_game_state(case_id)"
   ]
  },
  {
   "cell_type": "code",
   "execution_count": 91,
   "id": "603ae752-14d0-4752-a22c-0cdab2be63a7",
   "metadata": {},
   "outputs": [
    {
     "name": "stdout",
     "output_type": "stream",
     "text": [
      "\n",
      "\n",
      "\u001b[1m> Entering new AgentExecutor chain...\u001b[0m\n",
      "\u001b[32;1m\u001b[1;3m\n",
      "Invoking: `fetch_game_state` with `{'case_id': 'fc4a3d70-1c27-4f80-a59b-9bb6e06e1c37'}`\n",
      "\n",
      "\n",
      "\u001b[0m\u001b[36;1m\u001b[1;3m{\"case_id\": \"fc4a3d70-1c27-4f80-a59b-9bb6e06e1c37\", \"suspect_name\": \"Mona Vandal\", \"current_city\": \"New York\", \"stolen_item\": \"The Melted Eiffel Tower Ice Sculpture\", \"hops\": [\"Paris\", \"London\", \"New York\", \"Tokyo\", \"Sydney\", \"Cairo\"], \"next_hop\": 3}\u001b[0m\u001b[32;1m\u001b[1;3m\n",
      "Invoking: `python_repl` with `game_state = {\"case_id\": \"fc4a3d70-1c27-4f80-a59b-9bb6e06e1c37\", \"suspect_name\": \"Mona Vandal\", \"current_city\": \"New York\", \"stolen_item\": \"The Melted Eiffel Tower Ice Sculpture\", \"hops\": [\"Paris\", \"London\", \"New York\", \"Tokyo\", \"Sydney\", \"Cairo\"], \"next_hop\": 3};\n",
      "\n",
      "if 'Chennai' not in game_state['hops']:\n",
      "    game_state['current_city'] = 'Chennai'\n",
      "    print({'current_city': game_state['current_city'], 'next_hop': game_state['next_hop']})\n",
      "else:\n",
      "    index_of_chennai = game_state['hops'].index('Chennai')\n",
      "    if index_of_chennai <= game_state['next_hop']:\n",
      "        game_state['next_hop'] = index_of_chennai + 1\n",
      "        game_state['current_city'] = 'Chennai'\n",
      "        print({'current_city': game_state['current_city'], 'next_hop': game_state['next_hop']})\n",
      "    elif index_of_chennai > game_state['next_hop']:\n",
      "        print({'error': 'Error: You cannot travel to that city'})`\n",
      "\n",
      "\n",
      "\u001b[0m\u001b[38;5;200m\u001b[1;3m{'current_city': 'Chennai', 'next_hop': 3}\n",
      "\u001b[0m\u001b[32;1m\u001b[1;3m\n",
      "Invoking: `update_game_state` with `{'case_id': 'fc4a3d70-1c27-4f80-a59b-9bb6e06e1c37', 'key': 'current_city', 'value': 'Chennai'}`\n",
      "\n",
      "\n",
      "\u001b[0m\u001b[36;1m\u001b[1;3mNone\u001b[0m\u001b[32;1m\u001b[1;3m\n",
      "Invoking: `update_game_state` with `{'case_id': 'fc4a3d70-1c27-4f80-a59b-9bb6e06e1c37', 'key': 'next_hop', 'value': 3}`\n",
      "\n",
      "\n",
      "\u001b[0m\u001b[36;1m\u001b[1;3mNone\u001b[0m\u001b[32;1m\u001b[1;3m{\"current_city\": \"Chennai\"}\u001b[0m\n",
      "\n",
      "\u001b[1m> Finished chain.\u001b[0m\n"
     ]
    },
    {
     "data": {
      "text/plain": [
       "{'case_id': 'fc4a3d70-1c27-4f80-a59b-9bb6e06e1c37',\n",
       " 'suspect_name': 'Mona Vandal',\n",
       " 'current_city': 'Chennai',\n",
       " 'stolen_item': 'The Melted Eiffel Tower Ice Sculpture',\n",
       " 'hops': ['Paris', 'London', 'New York', 'Tokyo', 'Sydney', 'Cairo'],\n",
       " 'next_hop': 3}"
      ]
     },
     "execution_count": 91,
     "metadata": {},
     "output_type": "execute_result"
    }
   ],
   "source": [
    "json.loads(travel(case_id, \"Chennai\"))\n",
    "get_game_state(case_id)"
   ]
  },
  {
   "cell_type": "code",
   "execution_count": 92,
   "id": "efffa960-0efd-4283-b7a2-566fa197d4dc",
   "metadata": {},
   "outputs": [
    {
     "name": "stdout",
     "output_type": "stream",
     "text": [
      "\n",
      "\n",
      "\u001b[1m> Entering new AgentExecutor chain...\u001b[0m\n",
      "\u001b[32;1m\u001b[1;3m\n",
      "Invoking: `fetch_game_state` with `{'case_id': 'fc4a3d70-1c27-4f80-a59b-9bb6e06e1c37'}`\n",
      "\n",
      "\n",
      "\u001b[0m\u001b[36;1m\u001b[1;3m{\"case_id\": \"fc4a3d70-1c27-4f80-a59b-9bb6e06e1c37\", \"suspect_name\": \"Mona Vandal\", \"current_city\": \"Chennai\", \"stolen_item\": \"The Melted Eiffel Tower Ice Sculpture\", \"hops\": [\"Paris\", \"London\", \"New York\", \"Tokyo\", \"Sydney\", \"Cairo\"], \"next_hop\": 3}\u001b[0m\u001b[32;1m\u001b[1;3m\n",
      "Invoking: `python_repl` with `game_state = {'case_id': 'fc4a3d70-1c27-4f80-a59b-9bb6e06e1c37', 'suspect_name': 'Mona Vandal', 'current_city': 'Chennai', 'stolen_item': 'The Melted Eiffel Tower Ice Sculpture', 'hops': ['Paris', 'London', 'New York', 'Tokyo', 'Sydney', 'Cairo'], 'next_hop': 3}\n",
      "next_hop = game_state['next_hop']\n",
      "if next_hop == 5:\n",
      "    print('arrest clues')\n",
      "elif game_state['current_city'] not in game_state['hops']:\n",
      "    print('mistaken clues')\n",
      "else:\n",
      "    print('regular clues')`\n",
      "\n",
      "\n",
      "\u001b[0m\u001b[38;5;200m\u001b[1;3mmistaken clues\n",
      "\u001b[0m\u001b[32;1m\u001b[1;3m\n",
      "Invoking: `generate_mistaken_clues` with `{}`\n",
      "\n",
      "\n",
      "\u001b[0m\u001b[33;1m\u001b[1;3m{\n",
      "    \"clues\": [\n",
      "        {\n",
      "            \"location\": \"bank\",\n",
      "            \"clue\": \"No one with the suspect's description was seen here\"\n",
      "        },\n",
      "        {\n",
      "            \"location\": \"embassy\",\n",
      "            \"clue\": \"No one with the suspect's description was seen here\"\n",
      "        },\n",
      "        {\n",
      "            \"location\": \"restaurant\",\n",
      "            \"clue\": \"No one with the suspect's description was seen here\"\n",
      "        }\n",
      "    ]\n",
      "}\u001b[0m\u001b[32;1m\u001b[1;3m{\n",
      "    \"clues\": [\n",
      "        {\n",
      "            \"location\": \"bank\",\n",
      "            \"clue\": \"No one with the suspect's description was seen here\"\n",
      "        },\n",
      "        {\n",
      "            \"location\": \"embassy\",\n",
      "            \"clue\": \"No one with the suspect's description was seen here\"\n",
      "        },\n",
      "        {\n",
      "            \"location\": \"restaurant\",\n",
      "            \"clue\": \"No one with the suspect's description was seen here\"\n",
      "        }\n",
      "    ]\n",
      "}\u001b[0m\n",
      "\n",
      "\u001b[1m> Finished chain.\u001b[0m\n"
     ]
    },
    {
     "data": {
      "text/plain": [
       "{'clues': [{'location': 'bank',\n",
       "   'clue': \"No one with the suspect's description was seen here\"},\n",
       "  {'location': 'embassy',\n",
       "   'clue': \"No one with the suspect's description was seen here\"},\n",
       "  {'location': 'restaurant',\n",
       "   'clue': \"No one with the suspect's description was seen here\"}]}"
      ]
     },
     "execution_count": 92,
     "metadata": {},
     "output_type": "execute_result"
    }
   ],
   "source": [
    "json.loads(get_clues(case_id))"
   ]
  },
  {
   "cell_type": "code",
   "execution_count": 93,
   "id": "fb4ba6f2-f1d5-48db-ad09-e1cb95f91223",
   "metadata": {},
   "outputs": [],
   "source": [
    "from nbdev.export import nb_export\n",
    "\n",
    "nb_export('./carmen.ipynb', './')"
   ]
  },
  {
   "cell_type": "code",
   "execution_count": 94,
   "id": "3d6a4b27-782a-42c0-bf8a-09ec3c767f1c",
   "metadata": {},
   "outputs": [
    {
     "name": "stdout",
     "output_type": "stream",
     "text": [
      "carmen_backend.py\tcarmen_game_state.json\t__pycache__\n",
      "carmen_backend_test.py\tcarmen.ipynb\n"
     ]
    }
   ],
   "source": [
    "!ls"
   ]
  }
 ],
 "metadata": {
  "kernelspec": {
   "display_name": "Python 3 (ipykernel)",
   "language": "python",
   "name": "python3"
  },
  "language_info": {
   "codemirror_mode": {
    "name": "ipython",
    "version": 3
   },
   "file_extension": ".py",
   "mimetype": "text/x-python",
   "name": "python",
   "nbconvert_exporter": "python",
   "pygments_lexer": "ipython3",
   "version": "3.12.2"
  }
 },
 "nbformat": 4,
 "nbformat_minor": 5
}
