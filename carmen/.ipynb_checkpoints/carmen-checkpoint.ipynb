{
 "cells": [
  {
   "cell_type": "code",
   "execution_count": 1,
   "id": "fb4993bb-66d0-4374-8853-65de30e98bb5",
   "metadata": {},
   "outputs": [],
   "source": [
    "import os\n",
    "\n",
    "OPENAI_API_KEY=os.getenv(\"OPENAI_API_KEY\")"
   ]
  },
  {
   "cell_type": "code",
   "execution_count": 2,
   "id": "2ef15a87-8304-4f5e-a356-d5ef140e14c1",
   "metadata": {},
   "outputs": [],
   "source": [
    "!pip install -Uqq --upgrade --force-reinstall langchain langchain-openai"
   ]
  },
  {
   "cell_type": "code",
   "execution_count": 3,
   "id": "3441dd7a-0804-4800-892f-c142f9482b0b",
   "metadata": {},
   "outputs": [],
   "source": [
    "from langchain_openai import ChatOpenAI\n",
    "import json\n",
    "\n",
    "model = \"gpt-4\""
   ]
  },
  {
   "cell_type": "code",
   "execution_count": 4,
   "id": "f6b7c9fc-b538-4986-9401-5381a6ee33ab",
   "metadata": {},
   "outputs": [],
   "source": [
    "def new_game():\n",
    "    new_game_prompt = \"\"\"\n",
    "    System: You are the game master for a detective game like \"where in the world is Carmen San Diego\". \n",
    "    To start the game, generate the following and return it as a json hash. \n",
    "    1. A random uuid, key: case_id\n",
    "    2. A suspect name: suspect_name\n",
    "    3. A source city, key: current_city \n",
    "    4. A famous artifact from that city, key: stolen_item\n",
    "    5. A list of 6 unique cities with the current city as the first element, key: hops\n",
    "    6. Set a field called next_hop to 1\n",
    "    \n",
    "    Make the suspect name and artifacts as campy as possible but use real city names. \n",
    "    Output only the json hash. Do not provide any other text output. \n",
    "    \"\"\"\n",
    "    llm = ChatOpenAI(api_key=OPENAI_API_KEY, model=model)\n",
    "\n",
    "    return llm.invoke(new_game_prompt).content\n",
    "    "
   ]
  },
  {
   "cell_type": "code",
   "execution_count": 5,
   "id": "297ad173-0df5-4762-93ab-0a575161056c",
   "metadata": {},
   "outputs": [
    {
     "data": {
      "text/plain": [
       "'{\\n  \"case_id\": \"123e4567-e89b-12d3-a456-426614174000\",\\n  \"suspect_name\": \"Archibald The Artful\",\\n  \"current_city\": \"Paris\",\\n  \"stolen_item\": \"The Mysterious Mona Lisa\",\\n  \"hops\": [\"Paris\", \"London\", \"New York\", \"Beijing\", \"Moscow\", \"Sydney\"],\\n  \"next_hop\": 1\\n}'"
      ]
     },
     "execution_count": 5,
     "metadata": {},
     "output_type": "execute_result"
    }
   ],
   "source": [
    "new_game()"
   ]
  },
  {
   "cell_type": "code",
   "execution_count": 6,
   "id": "69ebd317-db24-4781-b22f-32ed25824b45",
   "metadata": {},
   "outputs": [],
   "source": [
    "game_states = {}"
   ]
  },
  {
   "cell_type": "code",
   "execution_count": 7,
   "id": "0f62654b-ec72-4822-b607-8f301ee991f6",
   "metadata": {},
   "outputs": [
    {
     "data": {
      "text/plain": [
       "{'123e4567-e89b-12d3-a456-426614174000': {'case_id': '123e4567-e89b-12d3-a456-426614174000',\n",
       "  'suspect_name': 'Countess Conundrum',\n",
       "  'current_city': 'Paris',\n",
       "  'stolen_item': \"The Eiffel Tower's Topmost Tip\",\n",
       "  'hops': ['Paris',\n",
       "   'New York',\n",
       "   'Rio de Janeiro',\n",
       "   'Cape Town',\n",
       "   'Moscow',\n",
       "   'Tokyo',\n",
       "   'Sydney'],\n",
       "  'next_hop': 1}}"
      ]
     },
     "execution_count": 7,
     "metadata": {},
     "output_type": "execute_result"
    }
   ],
   "source": [
    "game_state = json.loads(new_game())\n",
    "game_states[game_state[\"case_id\"]] = game_state\n",
    "game_states"
   ]
  },
  {
   "cell_type": "code",
   "execution_count": 8,
   "id": "2f66e171-0005-4cab-86a8-00f3975c298c",
   "metadata": {},
   "outputs": [
    {
     "data": {
      "text/plain": [
       "'123e4567-e89b-12d3-a456-426614174000'"
      ]
     },
     "execution_count": 8,
     "metadata": {},
     "output_type": "execute_result"
    }
   ],
   "source": [
    "case_id, _ = next(iter(game_states.items()))\n",
    "case_id"
   ]
  },
  {
   "cell_type": "code",
   "execution_count": 9,
   "id": "85acb02d-7e3b-497d-9223-5667ea17ba01",
   "metadata": {},
   "outputs": [],
   "source": [
    "from langchain_core.tools import tool\n",
    "\n",
    "@tool\n",
    "def fetch_game_state(case_id: str) -> str:\n",
    "    \"\"\" Fetch the game state given the case_id \"\"\"\n",
    "    return json.dumps(game_states[case_id])"
   ]
  },
  {
   "cell_type": "code",
   "execution_count": 10,
   "id": "7b535af0-abb2-4a48-9631-113829a1eec3",
   "metadata": {},
   "outputs": [
    {
     "data": {
      "text/plain": [
       "'{\"case_id\": \"123e4567-e89b-12d3-a456-426614174000\", \"suspect_name\": \"Countess Conundrum\", \"current_city\": \"Paris\", \"stolen_item\": \"The Eiffel Tower\\'s Topmost Tip\", \"hops\": [\"Paris\", \"New York\", \"Rio de Janeiro\", \"Cape Town\", \"Moscow\", \"Tokyo\", \"Sydney\"], \"next_hop\": 1}'"
      ]
     },
     "execution_count": 10,
     "metadata": {},
     "output_type": "execute_result"
    }
   ],
   "source": [
    "fetch_game_state.invoke({\"case_id\": case_id})"
   ]
  },
  {
   "cell_type": "code",
   "execution_count": 11,
   "id": "dfcb52c4-61bd-4995-a893-052362815c21",
   "metadata": {},
   "outputs": [],
   "source": [
    "@tool\n",
    "def set_current_city(case_id: str, current_city: str):\n",
    "    \"\"\" Sets the current city for the given case_id \"\"\"\n",
    "    game_states[case_id][\"current_city\"] = current_city\n",
    "    "
   ]
  },
  {
   "cell_type": "code",
   "execution_count": 12,
   "id": "68dc8544-54ed-4ce0-9c97-97b8155dce1c",
   "metadata": {},
   "outputs": [],
   "source": [
    "@tool\n",
    "def generate_destinations(previous_city: str, next_city: str, current_city: str, exclude_list: str) -> str:\n",
    "    \"\"\" Generates destinations for the player to travel to given the current city, previous city, \n",
    "    the next city, and a list of cities to exclude \"\"\"\n",
    "    llm = ChatOpenAI(api_key=OPENAI_API_KEY, model=model)\n",
    "\n",
    "    prompt = f\"\"\"\n",
    "        Generate a list of 4 cities. The list must include {previous_city}, {next_city} \n",
    "        and 2 other cities in random order. It must not include {current_city} or any of the\n",
    "        cities in {exclude_list}. \n",
    "        \n",
    "        Return this as a json list named destinations. Do not include any additional text.\"\"\"\n",
    "\n",
    "    return llm.invoke(prompt).content"
   ]
  },
  {
   "cell_type": "code",
   "execution_count": 13,
   "id": "71ee4d1a-470a-45fa-8db8-48ddef17c148",
   "metadata": {},
   "outputs": [
    {
     "data": {
      "text/plain": [
       "'{\\n  \"destinations\": [\"London\", \"Mumbai\", \"New York\", \"Sydney\"]\\n}'"
      ]
     },
     "execution_count": 13,
     "metadata": {},
     "output_type": "execute_result"
    }
   ],
   "source": [
    "generate_destinations.invoke(\n",
    "    {\n",
    "        \"previous_city\": \"London\",\n",
    "        \"next_city\": \"Mumbai\",\n",
    "        \"current_city\": \"Tokyo\",\n",
    "        \"exclude_list\": \"Paris,Lima\"\n",
    "    }\n",
    ")"
   ]
  },
  {
   "cell_type": "code",
   "execution_count": 14,
   "id": "aeaa6998-45ec-482a-9ff5-9fd05f10190f",
   "metadata": {},
   "outputs": [],
   "source": [
    "@tool\n",
    "def generate_regular_clues(city: str) -> str:\n",
    "    \"\"\" Generate regular clues given a location \"\"\"\n",
    "    prompt = f\"\"\"\n",
    "        Generate 3 clues. To generate each clue, do the following \n",
    "        1. Pick 3 locations at random out of bank, embassy, restaurant, tour guide, library. \n",
    "        2. Generate a clue for each of the locations\n",
    "        3. Return it as a json hash with the key location for the location name and clue for the clue. \n",
    "        \n",
    "        The clue for a bank should be the currency of the country. For example if the city is London, \n",
    "        the clue should say \"The suspect changed their currency to Pounds\"\n",
    "        \n",
    "        The clue for the embassy should be about the flag of the country. For example, if the city is \n",
    "        New York, the clue should say \"The suspect enquired about visiting a country with a red, white, and blue flag\"\n",
    "        \n",
    "        The clue for the restaurant should be a good from the country the city is in. For example, for Mumbai, the clue\n",
    "        should say \"The suspect was looking for fresh samosas\"\n",
    "        \n",
    "        The clue for tour guide should be something about a famous tourist attraction from the city. For example, for \n",
    "        Lima the clue should say \"The suspect was interested in exploring Incan ruins\"\n",
    "        \n",
    "        The clue for the library should be about a famous author from the country the city is in. For example, for London\n",
    "        the clue could say \"The suspect was interested in visiting the grave of Charles Dickens\"\n",
    "        \n",
    "        Generate only a json hash in response with the keys location for the location and clue for the clue. \n",
    "        \n",
    "        Do not generate any additional text.\n",
    "\n",
    "        Now generate clues for {city}\n",
    "    \"\"\"\n",
    "    return ChatOpenAI(api_key=OPENAI_API_KEY, model=model).invoke(prompt).content"
   ]
  },
  {
   "cell_type": "code",
   "execution_count": 15,
   "id": "86bae433-a914-4934-a07f-b7c0a2a2d0aa",
   "metadata": {},
   "outputs": [],
   "source": [
    "@tool\n",
    "def generate_mistaken_clues(city: str) -> str:\n",
    "    \"\"\" Generate mistaken clues given a location \"\"\"\n",
    "    prompt = f\"\"\"\n",
    "        Generate 3 clues. To generate each clue, do the following \n",
    "        1. Pick 3 locations at random out of bank, embassy, restaurant, tour guide, library. \n",
    "        2. Set the clue to \"No one with the suspect's description was seen here\"\n",
    "        3. Return it as a json hash with the key location for the location name and clue for the clue. \n",
    "        \n",
    "        Do not generate any additional text.\n",
    "    \"\"\"\n",
    "    return ChatOpenAI(api_key=OPENAI_API_KEY, model=model).invoke(prompt).content"
   ]
  },
  {
   "cell_type": "code",
   "execution_count": 16,
   "id": "46bcc7f3-bece-4b7b-b2d7-4bdac6fb2e4f",
   "metadata": {},
   "outputs": [],
   "source": [
    "@tool\n",
    "def generate_arrest_clues(city: str) -> str:\n",
    "    \"\"\" Generate arrest clues given a location \"\"\"\n",
    "    prompt = f\"\"\"\n",
    "        Generate 3 clues. To generate each clue, do the following \n",
    "        1. Pick 3 locations at random out of bank, embassy, restaurant, tour guide, library. \n",
    "        2. For two of them set the clue to \"Watch your step. You are getting close\"\n",
    "        3. For the third, set the clue to \"You have arrested the suspect!\"\n",
    "        Generate only a json hash in response with the keys location for the location and clue for the clue. \n",
    "        \n",
    "        Do not generate any additional text.\n",
    "    \"\"\"\n",
    "    return ChatOpenAI(api_key=OPENAI_API_KEY, model=model).invoke(prompt).content"
   ]
  },
  {
   "cell_type": "code",
   "execution_count": 17,
   "id": "e7c813c3-71b5-4471-a443-26b8efeb2de8",
   "metadata": {},
   "outputs": [
    {
     "data": {
      "text/plain": [
       "'[\\n  {\\n    \"location\": \"bank\",\\n    \"clue\": \"The suspect changed their currency to Yen\"\\n  },\\n  {\\n    \"location\": \"restaurant\",\\n    \"clue\": \"The suspect was looking for authentic sushi\"\\n  },\\n  {\\n    \"location\": \"tour guide\",\\n    \"clue\": \"The suspect was interested in the Osaka Castle\"\\n  }\\n]'"
      ]
     },
     "execution_count": 17,
     "metadata": {},
     "output_type": "execute_result"
    }
   ],
   "source": [
    "generate_regular_clues.invoke(\n",
    "    {\n",
    "        \"city\": \"Osaka\" \n",
    "    }\n",
    ")"
   ]
  },
  {
   "cell_type": "code",
   "execution_count": 18,
   "id": "bb053f5a-4fbb-4e27-9312-4c65f7a10c6b",
   "metadata": {},
   "outputs": [
    {
     "data": {
      "text/plain": [
       "'{\\n  \"location1\": {\\n    \"location\": \"bank\",\\n    \"clue\": \"Watch your step. You are getting close\"\\n  },\\n  \"location2\": {\\n    \"location\": \"restaurant\",\\n    \"clue\": \"Watch your step. You are getting close\"\\n  },\\n  \"location3\": {\\n    \"location\": \"embassy\",\\n    \"clue\": \"You have arrested the suspect!\"\\n  }\\n}'"
      ]
     },
     "execution_count": 18,
     "metadata": {},
     "output_type": "execute_result"
    }
   ],
   "source": [
    "generate_arrest_clues.invoke(\n",
    "    {\n",
    "        \"city\": \"Osaka\" \n",
    "    }\n",
    ")"
   ]
  },
  {
   "cell_type": "code",
   "execution_count": 19,
   "id": "94cc3a5e-5834-4364-ad9b-e458b1d5e52e",
   "metadata": {},
   "outputs": [
    {
     "data": {
      "text/plain": [
       "'{\\n  \"location1\": {\\n    \"location\": \"bank\",\\n    \"clue\": \"No one with the suspect\\'s description was seen here\"\\n  },\\n  \"location2\": {\\n    \"location\": \"embassy\",\\n    \"clue\": \"No one with the suspect\\'s description was seen here\"\\n  },\\n  \"location3\": {\\n    \"location\": \"restaurant\",\\n    \"clue\": \"No one with the suspect\\'s description was seen here\"\\n  }\\n}'"
      ]
     },
     "execution_count": 19,
     "metadata": {},
     "output_type": "execute_result"
    }
   ],
   "source": [
    "generate_mistaken_clues.invoke(\n",
    "    {\n",
    "        \"city\": \"Osaka\" \n",
    "    }\n",
    ")"
   ]
  },
  {
   "cell_type": "code",
   "execution_count": 20,
   "id": "be2bd820-9681-462b-9c1b-07ef766aeba9",
   "metadata": {},
   "outputs": [],
   "source": [
    "!pip install -Uqq langchain_experimental"
   ]
  },
  {
   "cell_type": "code",
   "execution_count": 21,
   "id": "5a911544-b7ae-41af-b92f-ac26e0babd84",
   "metadata": {},
   "outputs": [],
   "source": [
    "from langchain.agents import Tool\n",
    "from langchain_experimental.utilities import PythonREPL\n",
    "\n",
    "python_repl = Tool(\n",
    "    name=\"python_repl\",\n",
    "    description=\"A Python shell. Use this to execute python commands. Input should be a valid python command. If you want to see the output of a value, you should print it out with `print(...)`.\",\n",
    "    func=PythonREPL().run,\n",
    ")"
   ]
  },
  {
   "cell_type": "code",
   "execution_count": 22,
   "id": "e1f5acc9-faff-4568-b5fe-3432cf566c00",
   "metadata": {},
   "outputs": [],
   "source": [
    "@tool\n",
    "def update_game_state(case_id, key, value):\n",
    "    \"\"\" Updates the game state based on the values given \"\"\"\n",
    "    game_states[case_id][key] = value"
   ]
  },
  {
   "cell_type": "code",
   "execution_count": 23,
   "id": "838e3864-aa01-453b-b12a-cda497e52f37",
   "metadata": {},
   "outputs": [],
   "source": [
    "tools = [\n",
    "    fetch_game_state, \n",
    "    generate_destinations, \n",
    "    generate_regular_clues, \n",
    "    generate_arrest_clues, \n",
    "    generate_mistaken_clues,\n",
    "    python_repl,\n",
    "    update_game_state,   \n",
    "]"
   ]
  },
  {
   "cell_type": "code",
   "execution_count": 24,
   "id": "c16ef725-eb81-49da-a7f3-9b8ad96b0fc7",
   "metadata": {},
   "outputs": [],
   "source": [
    "from langchain_core.prompts import ChatPromptTemplate\n",
    "from langchain.agents import create_tool_calling_agent\n",
    "from langchain.agents import AgentExecutor\n",
    "\n",
    "def get_agent_executor():\n",
    "    prompt = ChatPromptTemplate.from_messages(\n",
    "        [\n",
    "          (\"system\", \"You are the game master for a detective game like 'where in the world is Carmen San Diego'. You will have to make a lot of decisions so look at the clues carefully.\"),\n",
    "          (\"placeholder\", \"{chat_history}\"),\n",
    "          (\"human\", \"{input}\"),\n",
    "          (\"placeholder\", \"{agent_scratchpad}\"),\n",
    "        ]\n",
    "    )\n",
    "\n",
    "    llm = ChatOpenAI(api_key=OPENAI_API_KEY, model=model)\n",
    "    # Construct the tool calling agent\n",
    "    agent = create_tool_calling_agent(llm, tools, prompt)\n",
    "\n",
    "    # Create an agent executor by passing in the agent and tools\n",
    "    agent_executor = AgentExecutor(agent=agent, tools=tools, verbose=True)\n",
    "\n",
    "    return agent_executor"
   ]
  },
  {
   "cell_type": "code",
   "execution_count": 25,
   "id": "e179886c-e7a9-45a1-b021-294607e36b3a",
   "metadata": {},
   "outputs": [],
   "source": [
    "def get_destinations(case_id):\n",
    "    agent_executor = get_agent_executor()\n",
    "    \n",
    "    prompt = f\"\"\"\n",
    "    Do the following:\n",
    "    1. Fetch the game state for case_id {case_id}\n",
    "    2. Write python code passing in the game state to do the following:\n",
    "        a. Extract the current_city from the game state obtained above\n",
    "        b. Get the city at the index next_hop from the hops list in the game state and save it as the next city\n",
    "        c. If next_hop is 1 then set the previous city to \"\" otherwise get the city at the index next_hop -1 from \n",
    "            the hops list in the game state and save it as the previous city\n",
    "        d. Add all other cities in the hops list to an exclude list\n",
    "    \n",
    "    3. Based on the output above, generate destinations for the player to travel to including the previous city,\n",
    "    current city, next city, and the exclude list. \n",
    "    4. Shuffle the list\n",
    "    \n",
    "    Return the destinations in a list encoded in json. Generate no additional text \n",
    "    \"\"\"\n",
    "    ret = agent_executor.invoke(\n",
    "        {\n",
    "            \"input\": prompt\n",
    "        }\n",
    "    )\n",
    "\n",
    "    return ret['output']"
   ]
  },
  {
   "cell_type": "code",
   "execution_count": 26,
   "id": "caaeff7d-f497-426a-8cd1-b953c48bd91a",
   "metadata": {},
   "outputs": [
    {
     "name": "stdout",
     "output_type": "stream",
     "text": [
      "\n",
      "\n",
      "\u001b[1m> Entering new AgentExecutor chain...\u001b[0m\n",
      "\u001b[32;1m\u001b[1;3m\n",
      "Invoking: `fetch_game_state` with `{'case_id': '123e4567-e89b-12d3-a456-426614174000'}`\n",
      "\n",
      "\n",
      "\u001b[0m\u001b[36;1m\u001b[1;3m{\"case_id\": \"123e4567-e89b-12d3-a456-426614174000\", \"suspect_name\": \"Countess Conundrum\", \"current_city\": \"Paris\", \"stolen_item\": \"The Eiffel Tower's Topmost Tip\", \"hops\": [\"Paris\", \"New York\", \"Rio de Janeiro\", \"Cape Town\", \"Moscow\", \"Tokyo\", \"Sydney\"], \"next_hop\": 1}\u001b[0m"
     ]
    },
    {
     "name": "stderr",
     "output_type": "stream",
     "text": [
      "Python REPL can execute arbitrary code. Use with caution.\n"
     ]
    },
    {
     "name": "stdout",
     "output_type": "stream",
     "text": [
      "\u001b[32;1m\u001b[1;3m\n",
      "Invoking: `python_repl` with `game_state = {\"case_id\": \"123e4567-e89b-12d3-a456-426614174000\", \"suspect_name\": \"Countess Conundrum\", \"current_city\": \"Paris\", \"stolen_item\": \"The Eiffel Tower's Topmost Tip\", \"hops\": [\"Paris\", \"New York\", \"Rio de Janeiro\", \"Cape Town\", \"Moscow\", \"Tokyo\", \"Sydney\"], \"next_hop\": 1}\n",
      "current_city = game_state['current_city']\n",
      "next_city = game_state['hops'][game_state['next_hop']]\n",
      "if game_state['next_hop'] == 1:\n",
      "    previous_city = ''\n",
      "else:\n",
      "    previous_city = game_state['hops'][game_state['next_hop'] - 1]\n",
      "exclude_list = [city for city in game_state['hops'] if city != current_city and city != next_city and city != previous_city]\n",
      "print(current_city, next_city, previous_city, exclude_list)`\n",
      "\n",
      "\n",
      "\u001b[0m\u001b[38;5;200m\u001b[1;3mParis New York  ['Rio de Janeiro', 'Cape Town', 'Moscow', 'Tokyo', 'Sydney']\n",
      "\u001b[0m\u001b[32;1m\u001b[1;3m\n",
      "Invoking: `generate_destinations` with `{'previous_city': '', 'next_city': 'New York', 'current_city': 'Paris', 'exclude_list': \"['Rio de Janeiro', 'Cape Town', 'Moscow', 'Tokyo', 'Sydney']\"}`\n",
      "\n",
      "\n",
      "\u001b[0m\u001b[33;1m\u001b[1;3m{\n",
      "  \"destinations\": [\"New York\", \"Chicago\", \"Los Angeles\", \"London\"]\n",
      "}\u001b[0m\u001b[32;1m\u001b[1;3m\n",
      "Invoking: `python_repl` with `import random\n",
      "import json\n",
      "destinations = [\"New York\", \"Chicago\", \"Los Angeles\", \"London\"]\n",
      "random.shuffle(destinations)\n",
      "print(json.dumps(destinations))`\n",
      "\n",
      "\n",
      "\u001b[0m\u001b[38;5;200m\u001b[1;3m[\"Chicago\", \"Los Angeles\", \"New York\", \"London\"]\n",
      "\u001b[0m\u001b[32;1m\u001b[1;3m[\"Chicago\", \"Los Angeles\", \"New York\", \"London\"]\u001b[0m\n",
      "\n",
      "\u001b[1m> Finished chain.\u001b[0m\n"
     ]
    },
    {
     "data": {
      "text/plain": [
       "['Chicago', 'Los Angeles', 'New York', 'London']"
      ]
     },
     "execution_count": 26,
     "metadata": {},
     "output_type": "execute_result"
    }
   ],
   "source": [
    "json.loads(get_destinations(case_id))"
   ]
  },
  {
   "cell_type": "code",
   "execution_count": 27,
   "id": "069d9694-dc4c-4129-9c0c-14ffaff47092",
   "metadata": {},
   "outputs": [],
   "source": [
    "def get_clues(case_id):\n",
    "    agent_executor = get_agent_executor()\n",
    "    \n",
    "    prompt = f\"\"\"\n",
    "    1. Fetch the game state for case_id {case_id}.\n",
    "    2. Write and execute python code passing in the game state to do the following to figure out what kind of clue to generate:\n",
    "        a. Extract next_hop from the game state\n",
    "        b. If next_hop is equal to 5 only then print \"arrest clues\" as the type of clues\n",
    "        c. Else If the current city is not in the hops list only then print \"mistaken clues\" as the type of clue\n",
    "        d. Else print \"regular clues\" as the type of clue\n",
    "    3. Based on the output of the code generate the right type of clue for the city at index next_hop in the hops list\n",
    "    \n",
    "    Return the output as a hash encoded in json. Generate no additional text\n",
    "    \"\"\"\n",
    "    ret = agent_executor.invoke(\n",
    "        {\n",
    "            \"input\": prompt\n",
    "        }\n",
    "    )\n",
    "\n",
    "    return ret['output']"
   ]
  },
  {
   "cell_type": "code",
   "execution_count": 28,
   "id": "f17aea33-40d1-41e6-9609-7381c8dd3b08",
   "metadata": {},
   "outputs": [
    {
     "name": "stdout",
     "output_type": "stream",
     "text": [
      "\n",
      "\n",
      "\u001b[1m> Entering new AgentExecutor chain...\u001b[0m\n",
      "\u001b[32;1m\u001b[1;3m\n",
      "Invoking: `fetch_game_state` with `{'case_id': '123e4567-e89b-12d3-a456-426614174000'}`\n",
      "\n",
      "\n",
      "\u001b[0m\u001b[36;1m\u001b[1;3m{\"case_id\": \"123e4567-e89b-12d3-a456-426614174000\", \"suspect_name\": \"Countess Conundrum\", \"current_city\": \"Paris\", \"stolen_item\": \"The Eiffel Tower's Topmost Tip\", \"hops\": [\"Paris\", \"New York\", \"Rio de Janeiro\", \"Cape Town\", \"Moscow\", \"Tokyo\", \"Sydney\"], \"next_hop\": 1}\u001b[0m\u001b[32;1m\u001b[1;3m\n",
      "Invoking: `python_repl` with `game_state = {\"case_id\": \"123e4567-e89b-12d3-a456-426614174000\", \"suspect_name\": \"Countess Conundrum\", \"current_city\": \"Paris\", \"stolen_item\": \"The Eiffel Tower's Topmost Tip\", \"hops\": [\"Paris\", \"New York\", \"Rio de Janeiro\", \"Cape Town\", \"Moscow\", \"Tokyo\", \"Sydney\"], \"next_hop\": 1}\n",
      "\n",
      "next_hop = game_state['next_hop']\n",
      "if next_hop == 5:\n",
      "    print(\"arrest clues\")\n",
      "elif game_state['current_city'] not in game_state['hops']:\n",
      "    print(\"mistaken clues\")\n",
      "else:\n",
      "    print(\"regular clues\")`\n",
      "\n",
      "\n",
      "\u001b[0m\u001b[38;5;200m\u001b[1;3mregular clues\n",
      "\u001b[0m\u001b[32;1m\u001b[1;3m\n",
      "Invoking: `generate_regular_clues` with `{'city': 'New York'}`\n",
      "\n",
      "\n",
      "\u001b[0m\u001b[38;5;200m\u001b[1;3m[\n",
      "  {\n",
      "    \"location\": \"bank\",\n",
      "    \"clue\": \"The suspect changed their currency to Dollars\"\n",
      "  },\n",
      "  {\n",
      "    \"location\": \"embassy\",\n",
      "    \"clue\": \"The suspect enquired about visiting a country with a red, white, and blue flag\"\n",
      "  },\n",
      "  {\n",
      "    \"location\": \"restaurant\",\n",
      "    \"clue\": \"The suspect was looking for fresh hamburgers\"\n",
      "  },\n",
      "  {\n",
      "    \"location\": \"tour guide\",\n",
      "    \"clue\": \"The suspect was interested in visiting the Statue of Liberty\"\n",
      "  },\n",
      "  {\n",
      "    \"location\": \"library\",\n",
      "    \"clue\": \"The suspect was interested in the works of Edgar Allan Poe\"\n",
      "  }\n",
      "]\u001b[0m\u001b[32;1m\u001b[1;3m{\"clues\": [{\"location\": \"bank\", \"clue\": \"The suspect changed their currency to Dollars\"}, {\"location\": \"embassy\", \"clue\": \"The suspect enquired about visiting a country with a red, white, and blue flag\"}, {\"location\": \"restaurant\", \"clue\": \"The suspect was looking for fresh hamburgers\"}, {\"location\": \"tour guide\", \"clue\": \"The suspect was interested in visiting the Statue of Liberty\"}, {\"location\": \"library\", \"clue\": \"The suspect was interested in the works of Edgar Allan Poe\"}]}\u001b[0m\n",
      "\n",
      "\u001b[1m> Finished chain.\u001b[0m\n"
     ]
    },
    {
     "data": {
      "text/plain": [
       "{'clues': [{'location': 'bank',\n",
       "   'clue': 'The suspect changed their currency to Dollars'},\n",
       "  {'location': 'embassy',\n",
       "   'clue': 'The suspect enquired about visiting a country with a red, white, and blue flag'},\n",
       "  {'location': 'restaurant',\n",
       "   'clue': 'The suspect was looking for fresh hamburgers'},\n",
       "  {'location': 'tour guide',\n",
       "   'clue': 'The suspect was interested in visiting the Statue of Liberty'},\n",
       "  {'location': 'library',\n",
       "   'clue': 'The suspect was interested in the works of Edgar Allan Poe'}]}"
      ]
     },
     "execution_count": 28,
     "metadata": {},
     "output_type": "execute_result"
    }
   ],
   "source": [
    "json.loads(get_clues(case_id))"
   ]
  },
  {
   "cell_type": "code",
   "execution_count": 29,
   "id": "897a0b13-587c-403c-98e9-1ced71e4ca03",
   "metadata": {
    "scrolled": true
   },
   "outputs": [
    {
     "name": "stdout",
     "output_type": "stream",
     "text": [
      "\n",
      "\n",
      "\u001b[1m> Entering new AgentExecutor chain...\u001b[0m\n",
      "\u001b[32;1m\u001b[1;3m\n",
      "Invoking: `fetch_game_state` with `{'case_id': '123e4567-e89b-12d3-a456-426614174000'}`\n",
      "\n",
      "\n",
      "\u001b[0m\u001b[36;1m\u001b[1;3m{\"case_id\": \"123e4567-e89b-12d3-a456-426614174000\", \"suspect_name\": \"Countess Conundrum\", \"current_city\": \"Pune\", \"stolen_item\": \"The Eiffel Tower's Topmost Tip\", \"hops\": [\"Paris\", \"New York\", \"Rio de Janeiro\", \"Cape Town\", \"Moscow\", \"Tokyo\", \"Sydney\"], \"next_hop\": 1}\u001b[0m\u001b[32;1m\u001b[1;3m\n",
      "Invoking: `python_repl` with `game_state = {'case_id': '123e4567-e89b-12d3-a456-426614174000', 'suspect_name': 'Countess Conundrum', 'current_city': 'Pune', 'stolen_item': 'The Eiffel Tower's Topmost Tip', 'hops': ['Paris', 'New York', 'Rio de Janeiro', 'Cape Town', 'Moscow', 'Tokyo', 'Sydney'], 'next_hop': 1}\n",
      "\n",
      "next_hop = game_state['next_hop']\n",
      "current_city = game_state['current_city']\n",
      "hops = game_state['hops']\n",
      "\n",
      "if next_hop == 5:\n",
      "    print('arrest clues')\n",
      "elif current_city not in hops:\n",
      "    print('mistaken clues')\n",
      "else:\n",
      "    print('regular clues')`\n",
      "\n",
      "\n",
      "\u001b[0m\u001b[38;5;200m\u001b[1;3mSyntaxError('unterminated string literal (detected at line 1)', ('<string>', 1, 277, \"game_state = {'case_id': '123e4567-e89b-12d3-a456-426614174000', 'suspect_name': 'Countess Conundrum', 'current_city': 'Pune', 'stolen_item': 'The Eiffel Tower's Topmost Tip', 'hops': ['Paris', 'New York', 'Rio de Janeiro', 'Cape Town', 'Moscow', 'Tokyo', 'Sydney'], 'next_hop': 1}\", 1, 277))\u001b[0m\u001b[32;1m\u001b[1;3m\n",
      "Invoking: `python_repl` with `game_state = {'case_id': '123e4567-e89b-12d3-a456-426614174000', 'suspect_name': 'Countess Conundrum', 'current_city': 'Pune', 'stolen_item': 'The Eiffel Towers Topmost Tip', 'hops': ['Paris', 'New York', 'Rio de Janeiro', 'Cape Town', 'Moscow', 'Tokyo', 'Sydney'], 'next_hop': 1}\n",
      "\n",
      "next_hop = game_state['next_hop']\n",
      "current_city = game_state['current_city']\n",
      "hops = game_state['hops']\n",
      "\n",
      "if next_hop == 5:\n",
      "    print('arrest clues')\n",
      "elif current_city not in hops:\n",
      "    print('mistaken clues')\n",
      "else:\n",
      "    print('regular clues')`\n",
      "responded: Apologies for the error. Let's try executing the Python code again.\n",
      "\n",
      "\u001b[0m\u001b[38;5;200m\u001b[1;3mmistaken clues\n",
      "\u001b[0m\u001b[32;1m\u001b[1;3m\n",
      "Invoking: `generate_mistaken_clues` with `{'city': 'New York'}`\n",
      "\n",
      "\n",
      "\u001b[0m\u001b[33;1m\u001b[1;3m[\n",
      "  {\n",
      "    \"location\": \"bank\",\n",
      "    \"clue\": \"No one with the suspect's description was seen here\"\n",
      "  },\n",
      "  {\n",
      "    \"location\": \"restaurant\",\n",
      "    \"clue\": \"No one with the suspect's description was seen here\"\n",
      "  },\n",
      "  {\n",
      "    \"location\": \"library\",\n",
      "    \"clue\": \"No one with the suspect's description was seen here\"\n",
      "  }\n",
      "]\u001b[0m\u001b[32;1m\u001b[1;3m{\"clues\": [{\"location\": \"bank\", \"clue\": \"No one with the suspect's description was seen here\"}, {\"location\": \"restaurant\", \"clue\": \"No one with the suspect's description was seen here\"}, {\"location\": \"library\", \"clue\": \"No one with the suspect's description was seen here\"}]}\u001b[0m\n",
      "\n",
      "\u001b[1m> Finished chain.\u001b[0m\n"
     ]
    }
   ],
   "source": [
    "cur_city = game_states[case_id][\"current_city\"]\n",
    "game_states[case_id][\"current_city\"] = \"Pune\"\n",
    "json.loads(get_clues(case_id))\n",
    "game_states[case_id][\"current_city\"] = cur_city"
   ]
  },
  {
   "cell_type": "code",
   "execution_count": 30,
   "id": "7fffa24e-c071-4fe3-8792-f2c5d17b61e1",
   "metadata": {},
   "outputs": [
    {
     "name": "stdout",
     "output_type": "stream",
     "text": [
      "\n",
      "\n",
      "\u001b[1m> Entering new AgentExecutor chain...\u001b[0m\n",
      "\u001b[32;1m\u001b[1;3m\n",
      "Invoking: `fetch_game_state` with `{'case_id': '123e4567-e89b-12d3-a456-426614174000'}`\n",
      "\n",
      "\n",
      "\u001b[0m\u001b[36;1m\u001b[1;3m{\"case_id\": \"123e4567-e89b-12d3-a456-426614174000\", \"suspect_name\": \"Countess Conundrum\", \"current_city\": \"Paris\", \"stolen_item\": \"The Eiffel Tower's Topmost Tip\", \"hops\": [\"Paris\", \"New York\", \"Rio de Janeiro\", \"Cape Town\", \"Moscow\", \"Tokyo\", \"Sydney\"], \"next_hop\": 5}\u001b[0m\u001b[32;1m\u001b[1;3m\n",
      "Invoking: `python_repl` with `game_state = {\"case_id\": \"123e4567-e89b-12d3-a456-426614174000\", \"suspect_name\": \"Countess Conundrum\", \"current_city\": \"Paris\", \"stolen_item\": \"The Eiffel Tower's Topmost Tip\", \"hops\": [\"Paris\", \"New York\", \"Rio de Janeiro\", \"Cape Town\", \"Moscow\", \"Tokyo\", \"Sydney\"], \"next_hop\": 5}\n",
      "\n",
      "next_hop = game_state['next_hop']\n",
      "\n",
      "if next_hop == 5:\n",
      "    print('arrest clues')\n",
      "elif game_state['current_city'] not in game_state['hops']:\n",
      "    print('mistaken clues')\n",
      "else:\n",
      "    print('regular clues')`\n",
      "\n",
      "\n",
      "\u001b[0m\u001b[38;5;200m\u001b[1;3marrest clues\n",
      "\u001b[0m\u001b[32;1m\u001b[1;3m\n",
      "Invoking: `generate_arrest_clues` with `{'city': 'Tokyo'}`\n",
      "\n",
      "\n",
      "\u001b[0m\u001b[36;1m\u001b[1;3m[\n",
      "  {\n",
      "    \"location\": \"bank\",\n",
      "    \"clue\": \"Watch your step. You are getting close\"\n",
      "  },\n",
      "  {\n",
      "    \"location\": \"embassy\",\n",
      "    \"clue\": \"Watch your step. You are getting close\"\n",
      "  },\n",
      "  {\n",
      "    \"location\": \"restaurant\",\n",
      "    \"clue\": \"You have arrested the suspect!\"\n",
      "  }\n",
      "]\u001b[0m\u001b[32;1m\u001b[1;3m{\"location_clues\": [{\"location\": \"bank\", \"clue\": \"Watch your step. You are getting close\"}, {\"location\": \"embassy\", \"clue\": \"Watch your step. You are getting close\"}, {\"location\": \"restaurant\", \"clue\": \"You have arrested the suspect!\"}]}\u001b[0m\n",
      "\n",
      "\u001b[1m> Finished chain.\u001b[0m\n"
     ]
    }
   ],
   "source": [
    "nxt_hop = game_states[case_id][\"next_hop\"]\n",
    "game_states[case_id][\"next_hop\"] = 5\n",
    "json.loads(get_clues(case_id))\n",
    "game_states[case_id][\"next_hop\"] = nxt_hop"
   ]
  },
  {
   "cell_type": "code",
   "execution_count": 36,
   "id": "f5941d86-a22e-4473-8cec-8722b44414e5",
   "metadata": {},
   "outputs": [],
   "source": [
    "def travel(case_id, city):\n",
    "    agent_executor = get_agent_executor()\n",
    "    \n",
    "    prompt = f\"\"\"\n",
    "        1. Fetch the game state for case_id {case_id}\n",
    "        2. Write python code passing in the game state to do the following:\n",
    "            a. If {city} is not in the hops list, update current_city to {city} \n",
    "            b. If {city} is in the hops list and the index of {city} is <= next_hop then set next_hop to the index + 1 and current_city to {city}\n",
    "            c. If the index of {city} is greater than next_hop print error\n",
    "            e. Print out the new values of current_city and next_hop as a json hash\n",
    "        3. Based on the output update the next_hop and current_city values in the game state\n",
    "        Return the current city as json with a current_city key. Generate no additional text.\n",
    "    \"\"\"\n",
    "\n",
    "    ret = agent_executor.invoke(\n",
    "        {\n",
    "            \"input\": prompt\n",
    "        }\n",
    "    )\n",
    "\n",
    "    return ret['output']\n",
    "    "
   ]
  },
  {
   "cell_type": "code",
   "execution_count": 37,
   "id": "867455b8-1bdd-4160-80cd-16319a43fe1c",
   "metadata": {},
   "outputs": [
    {
     "name": "stdout",
     "output_type": "stream",
     "text": [
      "\n",
      "\n",
      "\u001b[1m> Entering new AgentExecutor chain...\u001b[0m\n",
      "\u001b[32;1m\u001b[1;3m\n",
      "Invoking: `fetch_game_state` with `{'case_id': '123e4567-e89b-12d3-a456-426614174000'}`\n",
      "\n",
      "\n",
      "\u001b[0m\u001b[36;1m\u001b[1;3m{\"case_id\": \"123e4567-e89b-12d3-a456-426614174000\", \"suspect_name\": \"Countess Conundrum\", \"current_city\": \"New York\", \"stolen_item\": \"The Eiffel Tower's Topmost Tip\", \"hops\": [\"Paris\", \"New York\", \"Rio de Janeiro\", \"Cape Town\", \"Moscow\", \"Tokyo\", \"Sydney\"], \"next_hop\": 2}\u001b[0m\u001b[32;1m\u001b[1;3m\n",
      "Invoking: `python_repl` with `\n",
      "game_state = {'case_id': '123e4567-e89b-12d3-a456-426614174000', 'suspect_name': 'Countess Conundrum', 'current_city': 'New York', 'stolen_item': \"The Eiffel Tower's Topmost Tip\", 'hops': ['Paris', 'New York', 'Rio de Janeiro', 'Cape Town', 'Moscow', 'Tokyo', 'Sydney'], 'next_hop': 2}\n",
      "\n",
      "# If New York is not in the hops list, update current_city to New York \n",
      "if 'New York' not in game_state['hops']:\n",
      "    game_state['current_city'] = 'New York'\n",
      "\n",
      "# If New York is in the hops list and the index of New York is <= next_hop then set next_hop to the index + 1 and current_city to New York\n",
      "elif 'New York' in game_state['hops'] and game_state['hops'].index('New York') <= game_state['next_hop']:\n",
      "    game_state['next_hop'] = game_state['hops'].index('New York') + 1\n",
      "    game_state['current_city'] = 'New York'\n",
      "\n",
      "# If the index of New York is greater than next_hop print error\n",
      "elif game_state['hops'].index('New York') > game_state['next_hop']:\n",
      "    print('Error: New York is not the next city to visit')\n",
      "\n",
      "# Print out the new values of current_city and next_hop as a json hash\n",
      "print({'current_city': game_state['current_city'], 'next_hop': game_state['next_hop']})\n",
      "`\n",
      "\n",
      "\n",
      "\u001b[0m\u001b[38;5;200m\u001b[1;3m{'current_city': 'New York', 'next_hop': 2}\n",
      "\u001b[0m\u001b[32;1m\u001b[1;3m\n",
      "Invoking: `update_game_state` with `{'case_id': '123e4567-e89b-12d3-a456-426614174000', 'key': 'current_city', 'value': 'New York'}`\n",
      "\n",
      "\n",
      "\u001b[0m\u001b[36;1m\u001b[1;3mNone\u001b[0m\u001b[32;1m\u001b[1;3m\n",
      "Invoking: `update_game_state` with `{'case_id': '123e4567-e89b-12d3-a456-426614174000', 'key': 'next_hop', 'value': 2}`\n",
      "\n",
      "\n",
      "\u001b[0m\u001b[36;1m\u001b[1;3mNone\u001b[0m\u001b[32;1m\u001b[1;3m{\"current_city\": \"New York\"}\u001b[0m\n",
      "\n",
      "\u001b[1m> Finished chain.\u001b[0m\n"
     ]
    },
    {
     "data": {
      "text/plain": [
       "{'current_city': 'New York'}"
      ]
     },
     "execution_count": 37,
     "metadata": {},
     "output_type": "execute_result"
    }
   ],
   "source": [
    "json.loads(travel(case_id, \"New York\"))"
   ]
  },
  {
   "cell_type": "code",
   "execution_count": 38,
   "id": "4d431aad-e450-4cfc-8099-0ee1349ecc76",
   "metadata": {},
   "outputs": [
    {
     "data": {
      "text/plain": [
       "{'case_id': '123e4567-e89b-12d3-a456-426614174000',\n",
       " 'suspect_name': 'Countess Conundrum',\n",
       " 'current_city': 'New York',\n",
       " 'stolen_item': \"The Eiffel Tower's Topmost Tip\",\n",
       " 'hops': ['Paris',\n",
       "  'New York',\n",
       "  'Rio de Janeiro',\n",
       "  'Cape Town',\n",
       "  'Moscow',\n",
       "  'Tokyo',\n",
       "  'Sydney'],\n",
       " 'next_hop': 2}"
      ]
     },
     "execution_count": 38,
     "metadata": {},
     "output_type": "execute_result"
    }
   ],
   "source": [
    "game_state"
   ]
  },
  {
   "cell_type": "code",
   "execution_count": 44,
   "id": "603ae752-14d0-4752-a22c-0cdab2be63a7",
   "metadata": {},
   "outputs": [
    {
     "name": "stdout",
     "output_type": "stream",
     "text": [
      "\n",
      "\n",
      "\u001b[1m> Entering new AgentExecutor chain...\u001b[0m\n",
      "\u001b[32;1m\u001b[1;3m\n",
      "Invoking: `fetch_game_state` with `{'case_id': '123e4567-e89b-12d3-a456-426614174000'}`\n",
      "\n",
      "\n",
      "\u001b[0m\u001b[36;1m\u001b[1;3m{\"case_id\": \"123e4567-e89b-12d3-a456-426614174000\", \"suspect_name\": \"Countess Conundrum\", \"current_city\": \"Paris\", \"stolen_item\": \"The Eiffel Tower's Topmost Tip\", \"hops\": [\"Paris\", \"New York\", \"Rio de Janeiro\", \"Cape Town\", \"Moscow\", \"Tokyo\", \"Sydney\"], \"next_hop\": 1}\u001b[0m\u001b[32;1m\u001b[1;3m\n",
      "Invoking: `python_repl` with `game_state = {\"case_id\": \"123e4567-e89b-12d3-a456-426614174000\", \"suspect_name\": \"Countess Conundrum\", \"current_city\": \"Paris\", \"stolen_item\": \"The Eiffel Tower's Topmost Tip\", \"hops\": [\"Paris\", \"New York\", \"Rio de Janeiro\", \"Cape Town\", \"Moscow\", \"Tokyo\", \"Sydney\"], \"next_hop\": 1}\n",
      "\n",
      "if 'Chennai' not in game_state['hops']:\n",
      "    game_state['current_city'] = 'Chennai'\n",
      "elif 'Chennai' in game_state['hops']:\n",
      "    index = game_state['hops'].index('Chennai')\n",
      "    if index <= game_state['next_hop']:\n",
      "        game_state['next_hop'] = index + 1\n",
      "        game_state['current_city'] = 'Chennai'\n",
      "    elif index > game_state['next_hop']:\n",
      "        print('Error: Chennai is not the next hop.')\n",
      "\n",
      "print({'current_city': game_state['current_city'], 'next_hop': game_state['next_hop']})`\n",
      "\n",
      "\n",
      "\u001b[0m\u001b[38;5;200m\u001b[1;3m{'current_city': 'Chennai', 'next_hop': 1}\n",
      "\u001b[0m\u001b[32;1m\u001b[1;3m\n",
      "Invoking: `update_game_state` with `{'case_id': '123e4567-e89b-12d3-a456-426614174000', 'key': 'current_city', 'value': 'Chennai'}`\n",
      "\n",
      "\n",
      "\u001b[0m\u001b[36;1m\u001b[1;3mNone\u001b[0m\u001b[32;1m\u001b[1;3m\n",
      "Invoking: `update_game_state` with `{'case_id': '123e4567-e89b-12d3-a456-426614174000', 'key': 'next_hop', 'value': 1}`\n",
      "\n",
      "\n",
      "\u001b[0m\u001b[36;1m\u001b[1;3mNone\u001b[0m\u001b[32;1m\u001b[1;3m{\"current_city\": \"Chennai\"}\u001b[0m\n",
      "\n",
      "\u001b[1m> Finished chain.\u001b[0m\n"
     ]
    },
    {
     "data": {
      "text/plain": [
       "{'case_id': '123e4567-e89b-12d3-a456-426614174000',\n",
       " 'suspect_name': 'Countess Conundrum',\n",
       " 'current_city': 'Chennai',\n",
       " 'stolen_item': \"The Eiffel Tower's Topmost Tip\",\n",
       " 'hops': ['Paris',\n",
       "  'New York',\n",
       "  'Rio de Janeiro',\n",
       "  'Cape Town',\n",
       "  'Moscow',\n",
       "  'Tokyo',\n",
       "  'Sydney'],\n",
       " 'next_hop': 1}"
      ]
     },
     "execution_count": 44,
     "metadata": {},
     "output_type": "execute_result"
    }
   ],
   "source": [
    "json.loads(travel(case_id, \"Chennai\"))\n",
    "game_state"
   ]
  },
  {
   "cell_type": "code",
   "execution_count": 45,
   "id": "efffa960-0efd-4283-b7a2-566fa197d4dc",
   "metadata": {},
   "outputs": [
    {
     "name": "stdout",
     "output_type": "stream",
     "text": [
      "\n",
      "\n",
      "\u001b[1m> Entering new AgentExecutor chain...\u001b[0m\n",
      "\u001b[32;1m\u001b[1;3m\n",
      "Invoking: `fetch_game_state` with `{'case_id': '123e4567-e89b-12d3-a456-426614174000'}`\n",
      "\n",
      "\n",
      "\u001b[0m\u001b[36;1m\u001b[1;3m{\"case_id\": \"123e4567-e89b-12d3-a456-426614174000\", \"suspect_name\": \"Countess Conundrum\", \"current_city\": \"Chennai\", \"stolen_item\": \"The Eiffel Tower's Topmost Tip\", \"hops\": [\"Paris\", \"New York\", \"Rio de Janeiro\", \"Cape Town\", \"Moscow\", \"Tokyo\", \"Sydney\"], \"next_hop\": 1}\u001b[0m\u001b[32;1m\u001b[1;3m\n",
      "Invoking: `python_repl` with `game_state = {'case_id': '123e4567-e89b-12d3-a456-426614174000', 'suspect_name': 'Countess Conundrum', 'current_city': 'Chennai', 'stolen_item': \"The Eiffel Tower's Topmost Tip\", 'hops': ['Paris', 'New York', 'Rio de Janeiro', 'Cape Town', 'Moscow', 'Tokyo', 'Sydney'], 'next_hop': 1}\n",
      "next_hop = game_state['next_hop']\n",
      "if next_hop == 5:\n",
      "    print('arrest clues')\n",
      "elif game_state['current_city'] not in game_state['hops']:\n",
      "    print('mistaken clues')\n",
      "else:\n",
      "    print('regular clues')`\n",
      "\n",
      "\n",
      "\u001b[0m\u001b[38;5;200m\u001b[1;3mmistaken clues\n",
      "\u001b[0m\u001b[32;1m\u001b[1;3m\n",
      "Invoking: `generate_mistaken_clues` with `{'city': 'Chennai'}`\n",
      "\n",
      "\n",
      "\u001b[0m\u001b[33;1m\u001b[1;3m{\n",
      "\"clue1\": {\"location\": \"bank\", \"clue\": \"No one with the suspect's description was seen here\"},\n",
      "\"clue2\": {\"location\": \"tour guide\", \"clue\": \"No one with the suspect's description was seen here\"},\n",
      "\"clue3\": {\"location\": \"restaurant\", \"clue\": \"No one with the suspect's description was seen here\"}\n",
      "}\u001b[0m\u001b[32;1m\u001b[1;3m{\"clue1\": {\"location\": \"bank\", \"clue\": \"No one with the suspect's description was seen here\"},\"clue2\": {\"location\": \"tour guide\", \"clue\": \"No one with the suspect's description was seen here\"},\"clue3\": {\"location\": \"restaurant\", \"clue\": \"No one with the suspect's description was seen here\"}}\u001b[0m\n",
      "\n",
      "\u001b[1m> Finished chain.\u001b[0m\n"
     ]
    },
    {
     "data": {
      "text/plain": [
       "{'clue1': {'location': 'bank',\n",
       "  'clue': \"No one with the suspect's description was seen here\"},\n",
       " 'clue2': {'location': 'tour guide',\n",
       "  'clue': \"No one with the suspect's description was seen here\"},\n",
       " 'clue3': {'location': 'restaurant',\n",
       "  'clue': \"No one with the suspect's description was seen here\"}}"
      ]
     },
     "execution_count": 45,
     "metadata": {},
     "output_type": "execute_result"
    }
   ],
   "source": [
    "json.loads(get_clues(case_id))"
   ]
  },
  {
   "cell_type": "code",
   "execution_count": 46,
   "id": "00a2a838-dc45-4284-aa7c-851a3f1e0de2",
   "metadata": {},
   "outputs": [
    {
     "name": "stdout",
     "output_type": "stream",
     "text": [
      "\n",
      "\n",
      "\u001b[1m> Entering new AgentExecutor chain...\u001b[0m\n",
      "\u001b[32;1m\u001b[1;3m\n",
      "Invoking: `fetch_game_state` with `{'case_id': '123e4567-e89b-12d3-a456-426614174000'}`\n",
      "\n",
      "\n",
      "\u001b[0m\u001b[36;1m\u001b[1;3m{\"case_id\": \"123e4567-e89b-12d3-a456-426614174000\", \"suspect_name\": \"Countess Conundrum\", \"current_city\": \"Chennai\", \"stolen_item\": \"The Eiffel Tower's Topmost Tip\", \"hops\": [\"Paris\", \"New York\", \"Rio de Janeiro\", \"Cape Town\", \"Moscow\", \"Tokyo\", \"Sydney\"], \"next_hop\": 1}\u001b[0m\u001b[32;1m\u001b[1;3m\n",
      "Invoking: `python_repl` with `game_state = {'case_id': '123e4567-e89b-12d3-a456-426614174000', 'suspect_name': 'Countess Conundrum', 'current_city': 'Chennai', 'stolen_item': \"The Eiffel Tower's Topmost Tip\", 'hops': ['Paris', 'New York', 'Rio de Janeiro', 'Cape Town', 'Moscow', 'Tokyo', 'Sydney'], 'next_hop': 1}; paris_index = game_state['hops'].index('Paris') if 'Paris' in game_state['hops'] else -1; if paris_index == -1: game_state['current_city'] = 'Paris'; elif paris_index <= game_state['next_hop']: game_state['next_hop'] = paris_index + 1; game_state['current_city'] = 'Paris'; elif paris_index > game_state['next_hop']: print('Error: Paris is beyond the next hop'); print({'current_city': game_state['current_city'], 'next_hop': game_state['next_hop']})`\n",
      "\n",
      "\n",
      "\u001b[0m\u001b[38;5;200m\u001b[1;3mSyntaxError('invalid syntax', ('<string>', 1, 377, 'game_state = {\\'case_id\\': \\'123e4567-e89b-12d3-a456-426614174000\\', \\'suspect_name\\': \\'Countess Conundrum\\', \\'current_city\\': \\'Chennai\\', \\'stolen_item\\': \"The Eiffel Tower\\'s Topmost Tip\", \\'hops\\': [\\'Paris\\', \\'New York\\', \\'Rio de Janeiro\\', \\'Cape Town\\', \\'Moscow\\', \\'Tokyo\\', \\'Sydney\\'], \\'next_hop\\': 1}; paris_index = game_state[\\'hops\\'].index(\\'Paris\\') if \\'Paris\\' in game_state[\\'hops\\'] else -1; if paris_index == -1: game_state[\\'current_city\\'] = \\'Paris\\'; elif paris_index <= game_state[\\'next_hop\\']: game_state[\\'next_hop\\'] = paris_index + 1; game_state[\\'current_city\\'] = \\'Paris\\'; elif paris_index > game_state[\\'next_hop\\']: print(\\'Error: Paris is beyond the next hop\\'); print({\\'current_city\\': game_state[\\'current_city\\'], \\'next_hop\\': game_state[\\'next_hop\\']})\\n', 1, 379))\u001b[0m\u001b[32;1m\u001b[1;3m\n",
      "Invoking: `python_repl` with `game_state = {'case_id': '123e4567-e89b-12d3-a456-426614174000', 'suspect_name': 'Countess Conundrum', 'current_city': 'Chennai', 'stolen_item': \"The Eiffel Tower's Topmost Tip\", 'hops': ['Paris', 'New York', 'Rio de Janeiro', 'Cape Town', 'Moscow', 'Tokyo', 'Sydney'], 'next_hop': 1}\n",
      "paris_index = game_state['hops'].index('Paris') if 'Paris' in game_state['hops'] else -1\n",
      "if paris_index == -1:\n",
      "    game_state['current_city'] = 'Paris'\n",
      "elif paris_index <= game_state['next_hop']:\n",
      "    game_state['next_hop'] = paris_index + 1\n",
      "    game_state['current_city'] = 'Paris'\n",
      "elif paris_index > game_state['next_hop']:\n",
      "    print('Error: Paris is beyond the next hop')\n",
      "print({'current_city': game_state['current_city'], 'next_hop': game_state['next_hop']})`\n",
      "responded: I apologize for the mistake. It seems there was a syntax error in my Python code due to incorrect use of semicolons. Let me correct this.\n",
      "\n",
      "Let's break down the requested operations in separate lines of code:\n",
      "\n",
      "1. Get the index of 'Paris' in the 'hops' list if it exists, otherwise set it to -1.\n",
      "2. Check if 'Paris' is not in the 'hops' list. If it's not, set 'current_city' to 'Paris'.\n",
      "3. If 'Paris' is in the 'hops' list and its index is less than or equal to 'next_hop', increment 'next_hop' by 1 and set 'current_city' to 'Paris'.\n",
      "4. If the index of 'Paris' is greater than 'next_hop', print an error message.\n",
      "5. Print the new values of 'current_city' and 'next_hop' as a JSON hash.\n",
      "\n",
      "Let's run the corrected Python code now.\n",
      "\n",
      "\u001b[0m\u001b[38;5;200m\u001b[1;3m{'current_city': 'Paris', 'next_hop': 1}\n",
      "\u001b[0m\u001b[32;1m\u001b[1;3m\n",
      "Invoking: `update_game_state` with `{'case_id': '123e4567-e89b-12d3-a456-426614174000', 'key': 'current_city', 'value': 'Paris'}`\n",
      "\n",
      "\n",
      "\u001b[0m\u001b[36;1m\u001b[1;3mNone\u001b[0m\u001b[32;1m\u001b[1;3m\n",
      "Invoking: `update_game_state` with `{'case_id': '123e4567-e89b-12d3-a456-426614174000', 'key': 'next_hop', 'value': 1}`\n",
      "\n",
      "\n",
      "\u001b[0m\u001b[36;1m\u001b[1;3mNone\u001b[0m\u001b[32;1m\u001b[1;3m{\"current_city\": \"Paris\"}\u001b[0m\n",
      "\n",
      "\u001b[1m> Finished chain.\u001b[0m\n"
     ]
    },
    {
     "data": {
      "text/plain": [
       "{'current_city': 'Paris'}"
      ]
     },
     "execution_count": 46,
     "metadata": {},
     "output_type": "execute_result"
    }
   ],
   "source": [
    "json.loads(travel(case_id, \"Paris\"))"
   ]
  },
  {
   "cell_type": "code",
   "execution_count": 47,
   "id": "27c21d42-fc06-4d18-8b3b-c2e9b9bf3d18",
   "metadata": {},
   "outputs": [
    {
     "data": {
      "text/plain": [
       "{'case_id': '123e4567-e89b-12d3-a456-426614174000',\n",
       " 'suspect_name': 'Countess Conundrum',\n",
       " 'current_city': 'Paris',\n",
       " 'stolen_item': \"The Eiffel Tower's Topmost Tip\",\n",
       " 'hops': ['Paris',\n",
       "  'New York',\n",
       "  'Rio de Janeiro',\n",
       "  'Cape Town',\n",
       "  'Moscow',\n",
       "  'Tokyo',\n",
       "  'Sydney'],\n",
       " 'next_hop': 1}"
      ]
     },
     "execution_count": 47,
     "metadata": {},
     "output_type": "execute_result"
    }
   ],
   "source": [
    "game_state"
   ]
  },
  {
   "cell_type": "code",
   "execution_count": 43,
   "id": "99a9664b-4d48-45ee-a1be-f4786b0c261d",
   "metadata": {},
   "outputs": [
    {
     "name": "stdout",
     "output_type": "stream",
     "text": [
      "\n",
      "\n",
      "\u001b[1m> Entering new AgentExecutor chain...\u001b[0m\n",
      "\u001b[32;1m\u001b[1;3m\n",
      "Invoking: `fetch_game_state` with `{'case_id': '123e4567-e89b-12d3-a456-426614174000'}`\n",
      "\n",
      "\n",
      "\u001b[0m\u001b[36;1m\u001b[1;3m{\"case_id\": \"123e4567-e89b-12d3-a456-426614174000\", \"suspect_name\": \"Countess Conundrum\", \"current_city\": \"Paris\", \"stolen_item\": \"The Eiffel Tower's Topmost Tip\", \"hops\": [\"Paris\", \"New York\", \"Rio de Janeiro\", \"Cape Town\", \"Moscow\", \"Tokyo\", \"Sydney\"], \"next_hop\": 1}\u001b[0m\u001b[32;1m\u001b[1;3m\n",
      "Invoking: `python_repl` with `game_state = {'case_id': '123e4567-e89b-12d3-a456-426614174000', 'suspect_name': 'Countess Conundrum', 'current_city': 'Paris', 'stolen_item': 'The Eiffel Towers Topmost Tip', 'hops': ['Paris', 'New York', 'Rio de Janeiro', 'Cape Town', 'Moscow', 'Tokyo', 'Sydney'], 'next_hop': 1}\n",
      "if 'Cape Town' in game_state['hops']:\n",
      "    cape_town_index = game_state['hops'].index('Cape Town')\n",
      "    if cape_town_index <= game_state['next_hop']:\n",
      "        game_state['next_hop'] = cape_town_index + 1\n",
      "        game_state['current_city'] = 'Cape Town'\n",
      "    elif cape_town_index > game_state['next_hop']:\n",
      "        print('Error: Cape Town index is greater than next hop')\n",
      "else:\n",
      "    game_state['current_city'] = 'Cape Town'\n",
      "print({'current_city': game_state['current_city'], 'next_hop': game_state['next_hop']})`\n",
      "\n",
      "\n",
      "\u001b[0m\u001b[38;5;200m\u001b[1;3mError: Cape Town index is greater than next hop\n",
      "{'current_city': 'Paris', 'next_hop': 1}\n",
      "\u001b[0m\u001b[32;1m\u001b[1;3m\n",
      "Invoking: `update_game_state` with `{'case_id': '123e4567-e89b-12d3-a456-426614174000', 'key': 'current_city', 'value': 'Paris'}`\n",
      "\n",
      "\n",
      "\u001b[0m\u001b[36;1m\u001b[1;3mNone\u001b[0m\u001b[32;1m\u001b[1;3m\n",
      "Invoking: `update_game_state` with `{'case_id': '123e4567-e89b-12d3-a456-426614174000', 'key': 'next_hop', 'value': 1}`\n",
      "\n",
      "\n",
      "\u001b[0m\u001b[36;1m\u001b[1;3mNone\u001b[0m\u001b[32;1m\u001b[1;3m{\"current_city\": \"Paris\"}\u001b[0m\n",
      "\n",
      "\u001b[1m> Finished chain.\u001b[0m\n"
     ]
    },
    {
     "data": {
      "text/plain": [
       "{'current_city': 'Paris'}"
      ]
     },
     "execution_count": 43,
     "metadata": {},
     "output_type": "execute_result"
    }
   ],
   "source": [
    "json.loads(travel(case_id, \"Cape Town\"))"
   ]
  },
  {
   "cell_type": "code",
   "execution_count": 51,
   "id": "dac43cfd-888d-44af-b5b9-087f500f6b41",
   "metadata": {},
   "outputs": [
    {
     "data": {
      "text/plain": [
       "{'123e4567-e89b-12d3-a456-426614174000': {'case_id': '123e4567-e89b-12d3-a456-426614174000',\n",
       "  'suspect_name': 'Countess Conundrum',\n",
       "  'current_city': 'Paris',\n",
       "  'stolen_item': \"The Eiffel Tower's Topmost Tip\",\n",
       "  'hops': ['Paris',\n",
       "   'New York',\n",
       "   'Rio de Janeiro',\n",
       "   'Cape Town',\n",
       "   'Moscow',\n",
       "   'Tokyo',\n",
       "   'Sydney'],\n",
       "  'next_hop': 1},\n",
       " '0c4e6e0a-6a71-4d61-a6fc-7c1fcb8cd611': {'case_id': '0c4e6e0a-6a71-4d61-a6fc-7c1fcb8cd611',\n",
       "  'suspect_name': 'Percival Pickpocket',\n",
       "  'current_city': 'Paris',\n",
       "  'stolen_item': \"The Louvre's Mona Lisa\",\n",
       "  'hops': ['Paris', 'Tokyo', 'New York', 'Cairo', 'Sydney', 'London'],\n",
       "  'next_hop': 1}}"
      ]
     },
     "execution_count": 51,
     "metadata": {},
     "output_type": "execute_result"
    }
   ],
   "source": [
    "game_state = json.loads(new_game())\n",
    "game_states[game_state[\"case_id\"]] = game_state\n",
    "game_states"
   ]
  },
  {
   "cell_type": "code",
   "execution_count": 52,
   "id": "b09f9db9-bd2e-46e8-9011-551d2f02cfbf",
   "metadata": {},
   "outputs": [],
   "source": [
    "case_id, _ = next(iter(game_states.items()))"
   ]
  },
  {
   "cell_type": "code",
   "execution_count": 53,
   "id": "b7dc18e3-6ca1-404b-9ac8-f927e2455435",
   "metadata": {},
   "outputs": [
    {
     "name": "stdout",
     "output_type": "stream",
     "text": [
      "\n",
      "\n",
      "\u001b[1m> Entering new AgentExecutor chain...\u001b[0m\n",
      "\u001b[32;1m\u001b[1;3m\n",
      "Invoking: `fetch_game_state` with `{'case_id': '123e4567-e89b-12d3-a456-426614174000'}`\n",
      "\n",
      "\n",
      "\u001b[0m\u001b[36;1m\u001b[1;3m{\"case_id\": \"123e4567-e89b-12d3-a456-426614174000\", \"suspect_name\": \"Countess Conundrum\", \"current_city\": \"Paris\", \"stolen_item\": \"The Eiffel Tower's Topmost Tip\", \"hops\": [\"Paris\", \"New York\", \"Rio de Janeiro\", \"Cape Town\", \"Moscow\", \"Tokyo\", \"Sydney\"], \"next_hop\": 1}\u001b[0m\u001b[32;1m\u001b[1;3m\n",
      "Invoking: `python_repl` with `game_state = {'case_id': '123e4567-e89b-12d3-a456-426614174000', 'suspect_name': 'Countess Conundrum', 'current_city': 'Paris', 'stolen_item': 'The Eiffel Tower's Topmost Tip', 'hops': ['Paris', 'New York', 'Rio de Janeiro', 'Cape Town', 'Moscow', 'Tokyo', 'Sydney'], 'next_hop': 1}\n",
      "\n",
      "next_hop = game_state['next_hop']\n",
      "\n",
      "if next_hop == 5:\n",
      "    print('arrest clues')\n",
      "elif game_state['current_city'] not in game_state['hops']:\n",
      "    print('mistaken clues')\n",
      "else:\n",
      "    print('regular clues')`\n",
      "\n",
      "\n",
      "\u001b[0m\u001b[38;5;200m\u001b[1;3mSyntaxError('unterminated string literal (detected at line 1)', ('<string>', 1, 278, \"game_state = {'case_id': '123e4567-e89b-12d3-a456-426614174000', 'suspect_name': 'Countess Conundrum', 'current_city': 'Paris', 'stolen_item': 'The Eiffel Tower's Topmost Tip', 'hops': ['Paris', 'New York', 'Rio de Janeiro', 'Cape Town', 'Moscow', 'Tokyo', 'Sydney'], 'next_hop': 1}\", 1, 278))\u001b[0m\u001b[32;1m\u001b[1;3m\n",
      "Invoking: `python_repl` with `game_state = {'case_id': '123e4567-e89b-12d3-a456-426614174000', 'suspect_name': 'Countess Conundrum', 'current_city': 'Paris', 'stolen_item': 'The Eiffel Towers Topmost Tip', 'hops': ['Paris', 'New York', 'Rio de Janeiro', 'Cape Town', 'Moscow', 'Tokyo', 'Sydney'], 'next_hop': 1}\n",
      "\n",
      "next_hop = game_state['next_hop']\n",
      "\n",
      "if next_hop == 5:\n",
      "    print('arrest clues')\n",
      "elif game_state['current_city'] not in game_state['hops']:\n",
      "    print('mistaken clues')\n",
      "else:\n",
      "    print('regular clues')`\n",
      "responded: I apologize for the error. It seems there was a syntax error in the Python code due to an unterminated string literal. Let me correct this and try again.\n",
      "\n",
      "\u001b[0m\u001b[38;5;200m\u001b[1;3mregular clues\n",
      "\u001b[0m\u001b[32;1m\u001b[1;3m\n",
      "Invoking: `generate_regular_clues` with `{'city': 'New York'}`\n",
      "\n",
      "\n",
      "\u001b[0m\u001b[38;5;200m\u001b[1;3m[\n",
      "  {\n",
      "    \"location\": \"bank\",\n",
      "    \"clue\": \"The suspect changed their currency to Dollars\"\n",
      "  },\n",
      "  {\n",
      "    \"location\": \"restaurant\",\n",
      "    \"clue\": \"The suspect was looking for fresh New York style pizza\"\n",
      "  },\n",
      "  {\n",
      "    \"location\": \"library\",\n",
      "    \"clue\": \"The suspect was interested in visiting the grave of Edgar Allan Poe\"\n",
      "  }\n",
      "]\u001b[0m\u001b[32;1m\u001b[1;3m{\"location\": \"bank\", \"clue\": \"The suspect changed their currency to Dollars\"}, {\"location\": \"restaurant\", \"clue\": \"The suspect was looking for fresh New York style pizza\"}, {\"location\": \"library\", \"clue\": \"The suspect was interested in visiting the grave of Edgar Allan Poe\"}\u001b[0m\n",
      "\n",
      "\u001b[1m> Finished chain.\u001b[0m\n"
     ]
    },
    {
     "data": {
      "text/plain": [
       "'{\"location\": \"bank\", \"clue\": \"The suspect changed their currency to Dollars\"}, {\"location\": \"restaurant\", \"clue\": \"The suspect was looking for fresh New York style pizza\"}, {\"location\": \"library\", \"clue\": \"The suspect was interested in visiting the grave of Edgar Allan Poe\"}'"
      ]
     },
     "execution_count": 53,
     "metadata": {},
     "output_type": "execute_result"
    }
   ],
   "source": [
    "get_clues(case_id)"
   ]
  },
  {
   "cell_type": "code",
   "execution_count": 54,
   "id": "0182e18d-f58c-4524-902f-729f76e9af47",
   "metadata": {},
   "outputs": [
    {
     "name": "stdout",
     "output_type": "stream",
     "text": [
      "\n",
      "\n",
      "\u001b[1m> Entering new AgentExecutor chain...\u001b[0m\n",
      "\u001b[32;1m\u001b[1;3m\n",
      "Invoking: `fetch_game_state` with `{'case_id': '123e4567-e89b-12d3-a456-426614174000'}`\n",
      "\n",
      "\n",
      "\u001b[0m\u001b[36;1m\u001b[1;3m{\"case_id\": \"123e4567-e89b-12d3-a456-426614174000\", \"suspect_name\": \"Countess Conundrum\", \"current_city\": \"Paris\", \"stolen_item\": \"The Eiffel Tower's Topmost Tip\", \"hops\": [\"Paris\", \"New York\", \"Rio de Janeiro\", \"Cape Town\", \"Moscow\", \"Tokyo\", \"Sydney\"], \"next_hop\": 1}\u001b[0m\u001b[32;1m\u001b[1;3m\n",
      "Invoking: `python_repl` with `game_state = {\"case_id\": \"123e4567-e89b-12d3-a456-426614174000\", \"suspect_name\": \"Countess Conundrum\", \"current_city\": \"Paris\", \"stolen_item\": \"The Eiffel Tower's Topmost Tip\", \"hops\": [\"Paris\", \"New York\", \"Rio de Janeiro\", \"Cape Town\", \"Moscow\", \"Tokyo\", \"Sydney\"], \"next_hop\": 1};\n",
      "\n",
      "if 'New York' not in game_state['hops']:\n",
      "    game_state['current_city'] = 'New York'\n",
      "elif game_state['hops'].index('New York') <= game_state['next_hop']:\n",
      "    game_state['next_hop'] = game_state['hops'].index('New York') + 1\n",
      "    game_state['current_city'] = 'New York'\n",
      "elif game_state['hops'].index('New York') > game_state['next_hop']:\n",
      "    print('Error: New York index is greater than next_hop')\n",
      "\n",
      "print({'current_city': game_state['current_city'], 'next_hop': game_state['next_hop']})`\n",
      "\n",
      "\n",
      "\u001b[0m\u001b[38;5;200m\u001b[1;3m{'current_city': 'New York', 'next_hop': 2}\n",
      "\u001b[0m\u001b[32;1m\u001b[1;3m\n",
      "Invoking: `update_game_state` with `{'case_id': '123e4567-e89b-12d3-a456-426614174000', 'key': 'next_hop', 'value': 2}`\n",
      "\n",
      "\n",
      "\u001b[0m\u001b[36;1m\u001b[1;3mNone\u001b[0m\u001b[32;1m\u001b[1;3m\n",
      "Invoking: `update_game_state` with `{'case_id': '123e4567-e89b-12d3-a456-426614174000', 'key': 'current_city', 'value': 'New York'}`\n",
      "\n",
      "\n",
      "\u001b[0m\u001b[36;1m\u001b[1;3mNone\u001b[0m\u001b[32;1m\u001b[1;3m{\"current_city\": \"New York\"}\u001b[0m\n",
      "\n",
      "\u001b[1m> Finished chain.\u001b[0m\n"
     ]
    },
    {
     "data": {
      "text/plain": [
       "'{\"current_city\": \"New York\"}'"
      ]
     },
     "execution_count": 54,
     "metadata": {},
     "output_type": "execute_result"
    }
   ],
   "source": [
    "travel(case_id, \"New York\")"
   ]
  },
  {
   "cell_type": "code",
   "execution_count": 55,
   "id": "7b27b7a8-e645-4066-baea-bfc6de03051c",
   "metadata": {},
   "outputs": [
    {
     "name": "stdout",
     "output_type": "stream",
     "text": [
      "\n",
      "\n",
      "\u001b[1m> Entering new AgentExecutor chain...\u001b[0m\n",
      "\u001b[32;1m\u001b[1;3m\n",
      "Invoking: `fetch_game_state` with `{'case_id': '123e4567-e89b-12d3-a456-426614174000'}`\n",
      "\n",
      "\n",
      "\u001b[0m\u001b[36;1m\u001b[1;3m{\"case_id\": \"123e4567-e89b-12d3-a456-426614174000\", \"suspect_name\": \"Countess Conundrum\", \"current_city\": \"New York\", \"stolen_item\": \"The Eiffel Tower's Topmost Tip\", \"hops\": [\"Paris\", \"New York\", \"Rio de Janeiro\", \"Cape Town\", \"Moscow\", \"Tokyo\", \"Sydney\"], \"next_hop\": 2}\u001b[0m\u001b[32;1m\u001b[1;3m\n",
      "Invoking: `python_repl` with `game_state = {'case_id': '123e4567-e89b-12d3-a456-426614174000', 'suspect_name': 'Countess Conundrum', 'current_city': 'New York', 'stolen_item': 'The Eiffel Tower's Topmost Tip', 'hops': ['Paris', 'New York', 'Rio de Janeiro', 'Cape Town', 'Moscow', 'Tokyo', 'Sydney'], 'next_hop': 2}\n",
      "next_hop = game_state['next_hop']\n",
      "current_city = game_state['current_city']\n",
      "hops = game_state['hops']\n",
      "if next_hop == 5:\n",
      "    print('arrest clues')\n",
      "elif current_city not in hops:\n",
      "    print('mistaken clues')\n",
      "else:\n",
      "    print('regular clues')`\n",
      "\n",
      "\n",
      "\u001b[0m\u001b[38;5;200m\u001b[1;3mSyntaxError('unterminated string literal (detected at line 1)', ('<string>', 1, 281, \"game_state = {'case_id': '123e4567-e89b-12d3-a456-426614174000', 'suspect_name': 'Countess Conundrum', 'current_city': 'New York', 'stolen_item': 'The Eiffel Tower's Topmost Tip', 'hops': ['Paris', 'New York', 'Rio de Janeiro', 'Cape Town', 'Moscow', 'Tokyo', 'Sydney'], 'next_hop': 2}\", 1, 281))\u001b[0m\u001b[32;1m\u001b[1;3m\n",
      "Invoking: `python_repl` with `game_state = {'case_id': '123e4567-e89b-12d3-a456-426614174000', 'suspect_name': 'Countess Conundrum', 'current_city': 'New York', 'stolen_item': 'The Eiffel Towers Topmost Tip', 'hops': ['Paris', 'New York', 'Rio de Janeiro', 'Cape Town', 'Moscow', 'Tokyo', 'Sydney'], 'next_hop': 2}\n",
      "next_hop = game_state['next_hop']\n",
      "current_city = game_state['current_city']\n",
      "hops = game_state['hops']\n",
      "if next_hop == 5:\n",
      "    print('arrest clues')\n",
      "elif current_city not in hops:\n",
      "    print('mistaken clues')\n",
      "else:\n",
      "    print('regular clues')`\n",
      "\n",
      "\n",
      "\u001b[0m\u001b[38;5;200m\u001b[1;3mregular clues\n",
      "\u001b[0m\u001b[32;1m\u001b[1;3m\n",
      "Invoking: `generate_regular_clues` with `{'city': 'Rio de Janeiro'}`\n",
      "\n",
      "\n",
      "\u001b[0m\u001b[38;5;200m\u001b[1;3m[\n",
      "  {\n",
      "    \"location\": \"bank\",\n",
      "    \"clue\": \"The suspect changed their currency to Reais\"\n",
      "  },\n",
      "  {\n",
      "    \"location\": \"restaurant\",\n",
      "    \"clue\": \"The suspect was looking for fresh feijoada\"\n",
      "  },\n",
      "  {\n",
      "    \"location\": \"tour guide\",\n",
      "    \"clue\": \"The suspect was interested in exploring Cristo Redentor\"\n",
      "  }\n",
      "]\u001b[0m\u001b[32;1m\u001b[1;3m{\"bank\": \"The suspect changed their currency to Reais\", \"restaurant\": \"The suspect was looking for fresh feijoada\", \"tour guide\": \"The suspect was interested in exploring Cristo Redentor\"}\u001b[0m\n",
      "\n",
      "\u001b[1m> Finished chain.\u001b[0m\n"
     ]
    },
    {
     "data": {
      "text/plain": [
       "'{\"bank\": \"The suspect changed their currency to Reais\", \"restaurant\": \"The suspect was looking for fresh feijoada\", \"tour guide\": \"The suspect was interested in exploring Cristo Redentor\"}'"
      ]
     },
     "execution_count": 55,
     "metadata": {},
     "output_type": "execute_result"
    }
   ],
   "source": [
    "get_clues(case_id)"
   ]
  },
  {
   "cell_type": "code",
   "execution_count": 56,
   "id": "36d0ce83-0173-4885-8428-fc135b1ac368",
   "metadata": {},
   "outputs": [
    {
     "name": "stdout",
     "output_type": "stream",
     "text": [
      "\n",
      "\n",
      "\u001b[1m> Entering new AgentExecutor chain...\u001b[0m\n",
      "\u001b[32;1m\u001b[1;3m\n",
      "Invoking: `fetch_game_state` with `{'case_id': '123e4567-e89b-12d3-a456-426614174000'}`\n",
      "\n",
      "\n",
      "\u001b[0m\u001b[36;1m\u001b[1;3m{\"case_id\": \"123e4567-e89b-12d3-a456-426614174000\", \"suspect_name\": \"Countess Conundrum\", \"current_city\": \"New York\", \"stolen_item\": \"The Eiffel Tower's Topmost Tip\", \"hops\": [\"Paris\", \"New York\", \"Rio de Janeiro\", \"Cape Town\", \"Moscow\", \"Tokyo\", \"Sydney\"], \"next_hop\": 2}\u001b[0m\u001b[32;1m\u001b[1;3m\n",
      "Invoking: `python_repl` with `game_state = {'case_id': '123e4567-e89b-12d3-a456-426614174000', 'suspect_name': 'Countess Conundrum', 'current_city': 'New York', 'stolen_item': 'The Eiffel Tower's Topmost Tip', 'hops': ['Paris', 'New York', 'Rio de Janeiro', 'Cape Town', 'Moscow', 'Tokyo', 'Sydney'], 'next_hop': 2}\n",
      "\n",
      "# Extract the current_city from the game state\n",
      "current_city = game_state['current_city']\n",
      "\n",
      "# Get the city at the index next_hop from the hops list in the game state\n",
      "next_city = game_state['hops'][game_state['next_hop']]\n",
      "\n",
      "# If next_hop is 1 then set the previous city to '' otherwise get the city at the index next_hop -1 from the hops list in the game state\n",
      "previous_city = '' if game_state['next_hop'] == 1 else game_state['hops'][game_state['next_hop'] - 1]\n",
      "\n",
      "# Add all other cities in the hops list to an exclude list\n",
      "exclude_list = [city for city in game_state['hops'] if city not in [current_city, previous_city, next_city]]\n",
      "\n",
      "print(current_city, next_city, previous_city, exclude_list)`\n",
      "\n",
      "\n",
      "\u001b[0m\u001b[38;5;200m\u001b[1;3mSyntaxError('unterminated string literal (detected at line 1)', ('<string>', 1, 281, \"game_state = {'case_id': '123e4567-e89b-12d3-a456-426614174000', 'suspect_name': 'Countess Conundrum', 'current_city': 'New York', 'stolen_item': 'The Eiffel Tower's Topmost Tip', 'hops': ['Paris', 'New York', 'Rio de Janeiro', 'Cape Town', 'Moscow', 'Tokyo', 'Sydney'], 'next_hop': 2}\", 1, 281))\u001b[0m\u001b[32;1m\u001b[1;3m\n",
      "Invoking: `python_repl` with `game_state = {'case_id': '123e4567-e89b-12d3-a456-426614174000', 'suspect_name': 'Countess Conundrum', 'current_city': 'New York', 'stolen_item': 'The Eiffel Towers Topmost Tip', 'hops': ['Paris', 'New York', 'Rio de Janeiro', 'Cape Town', 'Moscow', 'Tokyo', 'Sydney'], 'next_hop': 2}\n",
      "\n",
      "# Extract the current_city from the game state\n",
      "current_city = game_state['current_city']\n",
      "\n",
      "# Get the city at the index next_hop from the hops list in the game state\n",
      "next_city = game_state['hops'][game_state['next_hop']]\n",
      "\n",
      "# If next_hop is 1 then set the previous city to '' otherwise get the city at the index next_hop -1 from the hops list in the game state\n",
      "previous_city = '' if game_state['next_hop'] == 1 else game_state['hops'][game_state['next_hop'] - 1]\n",
      "\n",
      "# Add all other cities in the hops list to an exclude list\n",
      "exclude_list = [city for city in game_state['hops'] if city not in [current_city, previous_city, next_city]]\n",
      "\n",
      "print(current_city, next_city, previous_city, exclude_list)`\n",
      "\n",
      "\n",
      "\u001b[0m\u001b[38;5;200m\u001b[1;3mNew York Rio de Janeiro New York ['Paris', 'Cape Town', 'Moscow', 'Tokyo', 'Sydney']\n",
      "\u001b[0m\u001b[32;1m\u001b[1;3m\n",
      "Invoking: `generate_destinations` with `{'previous_city': 'New York', 'next_city': 'Rio de Janeiro', 'current_city': 'New York', 'exclude_list': 'Paris, Cape Town, Moscow, Tokyo, Sydney'}`\n",
      "\n",
      "\n",
      "\u001b[0m\u001b[33;1m\u001b[1;3m{\n",
      "\"destinations\": [\"New York\", \"Rio de Janeiro\", \"Berlin\", \"Toronto\"]\n",
      "}\u001b[0m\u001b[32;1m\u001b[1;3m[\"New York\", \"Rio de Janeiro\", \"Berlin\", \"Toronto\"]\u001b[0m\n",
      "\n",
      "\u001b[1m> Finished chain.\u001b[0m\n"
     ]
    },
    {
     "data": {
      "text/plain": [
       "'[\"New York\", \"Rio de Janeiro\", \"Berlin\", \"Toronto\"]'"
      ]
     },
     "execution_count": 56,
     "metadata": {},
     "output_type": "execute_result"
    }
   ],
   "source": [
    "get_destinations(case_id)"
   ]
  },
  {
   "cell_type": "code",
   "execution_count": 57,
   "id": "bb915e40-9dac-441e-984f-89b0e71eb7c5",
   "metadata": {},
   "outputs": [
    {
     "name": "stdout",
     "output_type": "stream",
     "text": [
      "\n",
      "\n",
      "\u001b[1m> Entering new AgentExecutor chain...\u001b[0m\n",
      "\u001b[32;1m\u001b[1;3m\n",
      "Invoking: `fetch_game_state` with `{'case_id': '123e4567-e89b-12d3-a456-426614174000'}`\n",
      "\n",
      "\n",
      "\u001b[0m\u001b[36;1m\u001b[1;3m{\"case_id\": \"123e4567-e89b-12d3-a456-426614174000\", \"suspect_name\": \"Countess Conundrum\", \"current_city\": \"New York\", \"stolen_item\": \"The Eiffel Tower's Topmost Tip\", \"hops\": [\"Paris\", \"New York\", \"Rio de Janeiro\", \"Cape Town\", \"Moscow\", \"Tokyo\", \"Sydney\"], \"next_hop\": 2}\u001b[0m\u001b[32;1m\u001b[1;3m\n",
      "Invoking: `python_repl` with `game_state = {\"case_id\": \"123e4567-e89b-12d3-a456-426614174000\", \"suspect_name\": \"Countess Conundrum\", \"current_city\": \"New York\", \"stolen_item\": \"The Eiffel Tower's Topmost Tip\", \"hops\": [\"Paris\", \"New York\", \"Rio de Janeiro\", \"Cape Town\", \"Moscow\", \"Tokyo\", \"Sydney\"], \"next_hop\": 2}\n",
      "\n",
      "if 'Berlin' not in game_state['hops']:\n",
      "  game_state['current_city'] = 'Berlin'\n",
      "else:\n",
      "  berlin_index = game_state['hops'].index('Berlin')\n",
      "  if berlin_index <= game_state['next_hop']:\n",
      "    game_state['next_hop'] = berlin_index + 1\n",
      "    game_state['current_city'] = 'Berlin'\n",
      "  elif berlin_index > game_state['next_hop']:\n",
      "    print('Error: Berlin is not the next hop')\n",
      "\n",
      "print({'current_city': game_state['current_city'], 'next_hop': game_state['next_hop']})`\n",
      "\n",
      "\n",
      "\u001b[0m\u001b[38;5;200m\u001b[1;3m{'current_city': 'Berlin', 'next_hop': 2}\n",
      "\u001b[0m\u001b[32;1m\u001b[1;3m\n",
      "Invoking: `update_game_state` with `{'case_id': '123e4567-e89b-12d3-a456-426614174000', 'key': 'current_city', 'value': 'Berlin'}`\n",
      "\n",
      "\n",
      "\u001b[0m\u001b[36;1m\u001b[1;3mNone\u001b[0m\u001b[32;1m\u001b[1;3m\n",
      "Invoking: `update_game_state` with `{'case_id': '123e4567-e89b-12d3-a456-426614174000', 'key': 'next_hop', 'value': 2}`\n",
      "\n",
      "\n",
      "\u001b[0m\u001b[36;1m\u001b[1;3mNone\u001b[0m\u001b[32;1m\u001b[1;3m{\"current_city\": \"Berlin\"}\u001b[0m\n",
      "\n",
      "\u001b[1m> Finished chain.\u001b[0m\n"
     ]
    },
    {
     "data": {
      "text/plain": [
       "'{\"current_city\": \"Berlin\"}'"
      ]
     },
     "execution_count": 57,
     "metadata": {},
     "output_type": "execute_result"
    }
   ],
   "source": [
    "travel(case_id, \"Berlin\")"
   ]
  },
  {
   "cell_type": "code",
   "execution_count": 58,
   "id": "86ddc68a-d98a-4f6a-be94-e1b4bd6e9cae",
   "metadata": {},
   "outputs": [
    {
     "name": "stdout",
     "output_type": "stream",
     "text": [
      "\n",
      "\n",
      "\u001b[1m> Entering new AgentExecutor chain...\u001b[0m\n",
      "\u001b[32;1m\u001b[1;3m\n",
      "Invoking: `fetch_game_state` with `{'case_id': '123e4567-e89b-12d3-a456-426614174000'}`\n",
      "\n",
      "\n",
      "\u001b[0m\u001b[36;1m\u001b[1;3m{\"case_id\": \"123e4567-e89b-12d3-a456-426614174000\", \"suspect_name\": \"Countess Conundrum\", \"current_city\": \"Berlin\", \"stolen_item\": \"The Eiffel Tower's Topmost Tip\", \"hops\": [\"Paris\", \"New York\", \"Rio de Janeiro\", \"Cape Town\", \"Moscow\", \"Tokyo\", \"Sydney\"], \"next_hop\": 2}\u001b[0m\u001b[32;1m\u001b[1;3m\n",
      "Invoking: `python_repl` with `game_state = {'case_id': '123e4567-e89b-12d3-a456-426614174000', 'suspect_name': 'Countess Conundrum', 'current_city': 'Berlin', 'stolen_item': \"The Eiffel Tower's Topmost Tip\", 'hops': ['Paris', 'New York', 'Rio de Janeiro', 'Cape Town', 'Moscow', 'Tokyo', 'Sydney'], 'next_hop': 2}\n",
      "next_hop = game_state['next_hop']\n",
      "if next_hop == 5:\n",
      "    print('arrest clues')\n",
      "elif game_state['current_city'] not in game_state['hops']:\n",
      "    print('mistaken clues')\n",
      "else:\n",
      "    print('regular clues')`\n",
      "\n",
      "\n",
      "\u001b[0m\u001b[38;5;200m\u001b[1;3mmistaken clues\n",
      "\u001b[0m\u001b[32;1m\u001b[1;3m\n",
      "Invoking: `generate_mistaken_clues` with `{'city': 'Berlin'}`\n",
      "\n",
      "\n",
      "\u001b[0m\u001b[33;1m\u001b[1;3m{\n",
      "  \"location1\": {\n",
      "    \"location\": \"bank\",\n",
      "    \"clue\": \"No one with the suspect's description was seen here\"\n",
      "  },\n",
      "  \"location2\": {\n",
      "    \"location\": \"embassy\",\n",
      "    \"clue\": \"No one with the suspect's description was seen here\"\n",
      "  },\n",
      "  \"location3\": {\n",
      "    \"location\": \"restaurant\",\n",
      "    \"clue\": \"No one with the suspect's description was seen here\"\n",
      "  }\n",
      "}\u001b[0m\u001b[32;1m\u001b[1;3m{\"clues\": [\n",
      "  {\"location\": \"bank\", \"clue\": \"No one with the suspect's description was seen here\"},\n",
      "  {\"location\": \"embassy\", \"clue\": \"No one with the suspect's description was seen here\"},\n",
      "  {\"location\": \"restaurant\", \"clue\": \"No one with the suspect's description was seen here\"}\n",
      "]}\u001b[0m\n",
      "\n",
      "\u001b[1m> Finished chain.\u001b[0m\n"
     ]
    },
    {
     "data": {
      "text/plain": [
       "'{\"clues\": [\\n  {\"location\": \"bank\", \"clue\": \"No one with the suspect\\'s description was seen here\"},\\n  {\"location\": \"embassy\", \"clue\": \"No one with the suspect\\'s description was seen here\"},\\n  {\"location\": \"restaurant\", \"clue\": \"No one with the suspect\\'s description was seen here\"}\\n]}'"
      ]
     },
     "execution_count": 58,
     "metadata": {},
     "output_type": "execute_result"
    }
   ],
   "source": [
    "get_clues(case_id)"
   ]
  },
  {
   "cell_type": "code",
   "execution_count": 59,
   "id": "59b40ab0-3b78-4b96-b7ab-5f216063390a",
   "metadata": {},
   "outputs": [
    {
     "name": "stdout",
     "output_type": "stream",
     "text": [
      "\n",
      "\n",
      "\u001b[1m> Entering new AgentExecutor chain...\u001b[0m\n",
      "\u001b[32;1m\u001b[1;3m\n",
      "Invoking: `fetch_game_state` with `{'case_id': '123e4567-e89b-12d3-a456-426614174000'}`\n",
      "\n",
      "\n",
      "\u001b[0m\u001b[36;1m\u001b[1;3m{\"case_id\": \"123e4567-e89b-12d3-a456-426614174000\", \"suspect_name\": \"Countess Conundrum\", \"current_city\": \"Berlin\", \"stolen_item\": \"The Eiffel Tower's Topmost Tip\", \"hops\": [\"Paris\", \"New York\", \"Rio de Janeiro\", \"Cape Town\", \"Moscow\", \"Tokyo\", \"Sydney\"], \"next_hop\": 2}\u001b[0m\u001b[32;1m\u001b[1;3m\n",
      "Invoking: `python_repl` with `game_state = {'case_id': '123e4567-e89b-12d3-a456-426614174000', 'suspect_name': 'Countess Conundrum', 'current_city': 'Berlin', 'stolen_item': 'The Eiffel Towers Topmost Tip', 'hops': ['Paris', 'New York', 'Rio de Janeiro', 'Cape Town', 'Moscow', 'Tokyo', 'Sydney'], 'next_hop': 2}\n",
      "current_city = game_state['current_city']\n",
      "next_city = game_state['hops'][game_state['next_hop']]\n",
      "previous_city = '' if game_state['next_hop'] == 1 else game_state['hops'][game_state['next_hop'] - 1]\n",
      "exclude_list = [city for i, city in enumerate(game_state['hops']) if i not in [game_state['next_hop'], game_state['next_hop'] - 1]]\n",
      "(current_city, next_city, previous_city, exclude_list)`\n",
      "\n",
      "\n",
      "\u001b[0m\u001b[38;5;200m\u001b[1;3m\u001b[0m\u001b[32;1m\u001b[1;3m\n",
      "Invoking: `generate_destinations` with `{'previous_city': 'New York', 'next_city': 'Rio de Janeiro', 'current_city': 'Berlin', 'exclude_list': 'Paris,Cape Town,Moscow,Tokyo,Sydney'}`\n",
      "responded: The current city is 'Berlin', the next city is 'Rio de Janeiro', the previous city is 'New York', and the exclude list is ['Paris', 'Cape Town', 'Moscow', 'Tokyo', 'Sydney']. Now, let's generate the destinations for the player to travel to.\n",
      "\n",
      "\u001b[0m\u001b[33;1m\u001b[1;3m{\"destinations\": [\"New York\", \"Rio de Janeiro\", \"London\", \"Toronto\"]}\u001b[0m\u001b[32;1m\u001b[1;3m\n",
      "Invoking: `python_repl` with `import json\n",
      "import random\n",
      "destinations = ['New York', 'Rio de Janeiro', 'London', 'Toronto']\n",
      "random.shuffle(destinations)\n",
      "json.dumps(destinations)`\n",
      "\n",
      "\n",
      "\u001b[0m\u001b[38;5;200m\u001b[1;3m\u001b[0m\u001b[32;1m\u001b[1;3m[\"Rio de Janeiro\", \"London\", \"New York\", \"Toronto\"]\u001b[0m\n",
      "\n",
      "\u001b[1m> Finished chain.\u001b[0m\n"
     ]
    },
    {
     "data": {
      "text/plain": [
       "'[\"Rio de Janeiro\", \"London\", \"New York\", \"Toronto\"]'"
      ]
     },
     "execution_count": 59,
     "metadata": {},
     "output_type": "execute_result"
    }
   ],
   "source": [
    "get_destinations(case_id)"
   ]
  },
  {
   "cell_type": "code",
   "execution_count": 61,
   "id": "e77e11ec-e912-4405-99f8-2cb1864797f2",
   "metadata": {},
   "outputs": [
    {
     "name": "stdout",
     "output_type": "stream",
     "text": [
      "\n",
      "\n",
      "\u001b[1m> Entering new AgentExecutor chain...\u001b[0m\n",
      "\u001b[32;1m\u001b[1;3m\n",
      "Invoking: `fetch_game_state` with `{'case_id': '123e4567-e89b-12d3-a456-426614174000'}`\n",
      "\n",
      "\n",
      "\u001b[0m\u001b[36;1m\u001b[1;3m{\"case_id\": \"123e4567-e89b-12d3-a456-426614174000\", \"suspect_name\": \"Countess Conundrum\", \"current_city\": \"Berlin\", \"stolen_item\": \"The Eiffel Tower's Topmost Tip\", \"hops\": [\"Paris\", \"New York\", \"Rio de Janeiro\", \"Cape Town\", \"Moscow\", \"Tokyo\", \"Sydney\"], \"next_hop\": 2}\u001b[0m\u001b[32;1m\u001b[1;3m\n",
      "Invoking: `python_repl` with `game_state = {'case_id': '123e4567-e89b-12d3-a456-426614174000', 'suspect_name': 'Countess Conundrum', 'current_city': 'Berlin', 'stolen_item': \"The Eiffel Tower's Topmost Tip\", 'hops': ['Paris', 'New York', 'Rio de Janeiro', 'Cape Town', 'Moscow', 'Tokyo', 'Sydney'], 'next_hop': 2}\n",
      "\n",
      "if 'Rio de Janeiro' not in game_state['hops']:\n",
      "    game_state['current_city'] = 'Rio de Janeiro'\n",
      "    print({'current_city': game_state['current_city'], 'next_hop': game_state['next_hop']})\n",
      "elif game_state['hops'].index('Rio de Janeiro') <= game_state['next_hop']:\n",
      "    game_state['next_hop'] = game_state['hops'].index('Rio de Janeiro') + 1\n",
      "    game_state['current_city'] = 'Rio de Janeiro'\n",
      "    print({'current_city': game_state['current_city'], 'next_hop': game_state['next_hop']})\n",
      "elif game_state['hops'].index('Rio de Janeiro') > game_state['next_hop']:\n",
      "    print('Error')`\n",
      "\n",
      "\n",
      "\u001b[0m\u001b[38;5;200m\u001b[1;3m{'current_city': 'Rio de Janeiro', 'next_hop': 3}\n",
      "\u001b[0m\u001b[32;1m\u001b[1;3m\n",
      "Invoking: `update_game_state` with `{'case_id': '123e4567-e89b-12d3-a456-426614174000', 'key': 'current_city', 'value': 'Rio de Janeiro'}`\n",
      "\n",
      "\n",
      "\u001b[0m\u001b[36;1m\u001b[1;3mNone\u001b[0m\u001b[32;1m\u001b[1;3m\n",
      "Invoking: `update_game_state` with `{'case_id': '123e4567-e89b-12d3-a456-426614174000', 'key': 'next_hop', 'value': 3}`\n",
      "\n",
      "\n",
      "\u001b[0m\u001b[36;1m\u001b[1;3mNone\u001b[0m\u001b[32;1m\u001b[1;3m{\"current_city\": \"Rio de Janeiro\"}\u001b[0m\n",
      "\n",
      "\u001b[1m> Finished chain.\u001b[0m\n"
     ]
    },
    {
     "data": {
      "text/plain": [
       "'{\"current_city\": \"Rio de Janeiro\"}'"
      ]
     },
     "execution_count": 61,
     "metadata": {},
     "output_type": "execute_result"
    }
   ],
   "source": [
    "travel(case_id, \"Rio de Janeiro\")"
   ]
  },
  {
   "cell_type": "code",
   "execution_count": 63,
   "id": "ecb5e1d2-3ee1-4873-b12f-5c3a2b83828c",
   "metadata": {},
   "outputs": [
    {
     "name": "stdout",
     "output_type": "stream",
     "text": [
      "\n",
      "\n",
      "\u001b[1m> Entering new AgentExecutor chain...\u001b[0m\n",
      "\u001b[32;1m\u001b[1;3m\n",
      "Invoking: `fetch_game_state` with `{'case_id': '123e4567-e89b-12d3-a456-426614174000'}`\n",
      "\n",
      "\n",
      "\u001b[0m\u001b[36;1m\u001b[1;3m{\"case_id\": \"123e4567-e89b-12d3-a456-426614174000\", \"suspect_name\": \"Countess Conundrum\", \"current_city\": \"Rio de Janeiro\", \"stolen_item\": \"The Eiffel Tower's Topmost Tip\", \"hops\": [\"Paris\", \"New York\", \"Rio de Janeiro\", \"Cape Town\", \"Moscow\", \"Tokyo\", \"Sydney\"], \"next_hop\": 3}\u001b[0m\u001b[32;1m\u001b[1;3m\n",
      "Invoking: `python_repl` with `game_state = {\"case_id\": \"123e4567-e89b-12d3-a456-426614174000\", \"suspect_name\": \"Countess Conundrum\", \"current_city\": \"Rio de Janeiro\", \"stolen_item\": \"The Eiffel Tower's Topmost Tip\", \"hops\": [\"Paris\", \"New York\", \"Rio de Janeiro\", \"Cape Town\", \"Moscow\", \"Tokyo\", \"Sydney\"], \"next_hop\": 3}\n",
      "next_hop = game_state['next_hop']\n",
      "if next_hop == 5:\n",
      "    print('arrest clues')\n",
      "elif game_state['current_city'] not in game_state['hops']:\n",
      "    print('mistaken clues')\n",
      "else:\n",
      "    print('regular clues')`\n",
      "\n",
      "\n",
      "\u001b[0m\u001b[38;5;200m\u001b[1;3mregular clues\n",
      "\u001b[0m\u001b[32;1m\u001b[1;3m\n",
      "Invoking: `generate_regular_clues` with `{'city': 'Cape Town'}`\n",
      "\n",
      "\n",
      "\u001b[0m\u001b[38;5;200m\u001b[1;3m[\n",
      "  {\n",
      "    \"location\": \"bank\",\n",
      "    \"clue\": \"The suspect changed their currency to Rand\"\n",
      "  },\n",
      "  {\n",
      "    \"location\": \"restaurant\",\n",
      "    \"clue\": \"The suspect was looking for fresh biltong\"\n",
      "  },\n",
      "  {\n",
      "    \"location\": \"library\",\n",
      "    \"clue\": \"The suspect was interested in the work of Nadine Gordimer\"\n",
      "  }\n",
      "]\u001b[0m\u001b[32;1m\u001b[1;3m{\"clues\": [{\"location\": \"bank\", \"clue\": \"The suspect changed their currency to Rand\"}, {\"location\": \"restaurant\", \"clue\": \"The suspect was looking for fresh biltong\"}, {\"location\": \"library\", \"clue\": \"The suspect was interested in the work of Nadine Gordimer\"}]}\u001b[0m\n",
      "\n",
      "\u001b[1m> Finished chain.\u001b[0m\n"
     ]
    },
    {
     "data": {
      "text/plain": [
       "'{\"clues\": [{\"location\": \"bank\", \"clue\": \"The suspect changed their currency to Rand\"}, {\"location\": \"restaurant\", \"clue\": \"The suspect was looking for fresh biltong\"}, {\"location\": \"library\", \"clue\": \"The suspect was interested in the work of Nadine Gordimer\"}]}'"
      ]
     },
     "execution_count": 63,
     "metadata": {},
     "output_type": "execute_result"
    }
   ],
   "source": [
    "get_clues(case_id)"
   ]
  },
  {
   "cell_type": "code",
   "execution_count": 65,
   "id": "5cfe2aa3-4493-464e-acc0-b0d97a637d72",
   "metadata": {},
   "outputs": [
    {
     "name": "stdout",
     "output_type": "stream",
     "text": [
      "\n",
      "\n",
      "\u001b[1m> Entering new AgentExecutor chain...\u001b[0m\n",
      "\u001b[32;1m\u001b[1;3m\n",
      "Invoking: `fetch_game_state` with `{'case_id': '123e4567-e89b-12d3-a456-426614174000'}`\n",
      "\n",
      "\n",
      "\u001b[0m\u001b[36;1m\u001b[1;3m{\"case_id\": \"123e4567-e89b-12d3-a456-426614174000\", \"suspect_name\": \"Countess Conundrum\", \"current_city\": \"Rio de Janeiro\", \"stolen_item\": \"The Eiffel Tower's Topmost Tip\", \"hops\": [\"Paris\", \"New York\", \"Rio de Janeiro\", \"Cape Town\", \"Moscow\", \"Tokyo\", \"Sydney\"], \"next_hop\": 3}\u001b[0m\u001b[32;1m\u001b[1;3m\n",
      "Invoking: `python_repl` with `\n",
      "game_state = {'case_id': '123e4567-e89b-12d3-a456-426614174000', 'suspect_name': 'Countess Conundrum', 'current_city': 'Rio de Janeiro', 'stolen_item': 'The Eiffel Tower's Topmost Tip', 'hops': ['Paris', 'New York', 'Rio de Janeiro', 'Cape Town', 'Moscow', 'Tokyo', 'Sydney'], 'next_hop': 3}\n",
      "\n",
      "current_city = game_state['current_city']\n",
      "next_hop = game_state['next_hop']\n",
      "hops = game_state['hops']\n",
      "\n",
      "next_city = hops[next_hop]\n",
      "\n",
      "if next_hop == 1:\n",
      "    previous_city = ''\n",
      "else:\n",
      "    previous_city = hops[next_hop - 1]\n",
      "\n",
      "exclude_list = [city for city in hops if city not in [current_city, next_city, previous_city]]\n",
      "\n",
      "print(current_city, next_city, previous_city, exclude_list)\n",
      "`\n",
      "\n",
      "\n",
      "\u001b[0m\u001b[38;5;200m\u001b[1;3mSyntaxError('unterminated string literal (detected at line 2)', ('<string>', 2, 287, \"game_state = {'case_id': '123e4567-e89b-12d3-a456-426614174000', 'suspect_name': 'Countess Conundrum', 'current_city': 'Rio de Janeiro', 'stolen_item': 'The Eiffel Tower's Topmost Tip', 'hops': ['Paris', 'New York', 'Rio de Janeiro', 'Cape Town', 'Moscow', 'Tokyo', 'Sydney'], 'next_hop': 3}\", 2, 287))\u001b[0m\u001b[32;1m\u001b[1;3m\n",
      "Invoking: `python_repl` with `\n",
      "game_state = {'case_id': '123e4567-e89b-12d3-a456-426614174000', 'suspect_name': 'Countess Conundrum', 'current_city': 'Rio de Janeiro', 'stolen_item': 'The Eiffel Towers Topmost Tip', 'hops': ['Paris', 'New York', 'Rio de Janeiro', 'Cape Town', 'Moscow', 'Tokyo', 'Sydney'], 'next_hop': 3}\n",
      "\n",
      "current_city = game_state['current_city']\n",
      "next_hop = game_state['next_hop']\n",
      "hops = game_state['hops']\n",
      "\n",
      "next_city = hops[next_hop]\n",
      "\n",
      "if next_hop == 1:\n",
      "    previous_city = ''\n",
      "else:\n",
      "    previous_city = hops[next_hop - 1]\n",
      "\n",
      "exclude_list = [city for city in hops if city not in [current_city, next_city, previous_city]]\n",
      "\n",
      "print(current_city, next_city, previous_city, exclude_list)\n",
      "`\n",
      "\n",
      "\n",
      "\u001b[0m\u001b[38;5;200m\u001b[1;3mRio de Janeiro Cape Town Rio de Janeiro ['Paris', 'New York', 'Moscow', 'Tokyo', 'Sydney']\n",
      "\u001b[0m\u001b[32;1m\u001b[1;3m\n",
      "Invoking: `generate_destinations` with `{'previous_city': 'Rio de Janeiro', 'next_city': 'Cape Town', 'current_city': 'Rio de Janeiro', 'exclude_list': \"['Paris', 'New York', 'Moscow', 'Tokyo', 'Sydney']\"}`\n",
      "\n",
      "\n",
      "\u001b[0m\u001b[33;1m\u001b[1;3m{\n",
      "    \"destinations\": [\"Rio de Janeiro\", \"Cape Town\", \"London\", \"Los Angeles\"]\n",
      "}\u001b[0m\u001b[32;1m\u001b[1;3m[\"Rio de Janeiro\", \"Cape Town\", \"London\", \"Los Angeles\"]\u001b[0m\n",
      "\n",
      "\u001b[1m> Finished chain.\u001b[0m\n"
     ]
    },
    {
     "data": {
      "text/plain": [
       "'[\"Rio de Janeiro\", \"Cape Town\", \"London\", \"Los Angeles\"]'"
      ]
     },
     "execution_count": 65,
     "metadata": {},
     "output_type": "execute_result"
    }
   ],
   "source": [
    "get_destinations(case_id)"
   ]
  },
  {
   "cell_type": "code",
   "execution_count": 66,
   "id": "4f448bdd-30a4-489f-addb-4d12106989c0",
   "metadata": {},
   "outputs": [
    {
     "name": "stdout",
     "output_type": "stream",
     "text": [
      "\n",
      "\n",
      "\u001b[1m> Entering new AgentExecutor chain...\u001b[0m\n",
      "\u001b[32;1m\u001b[1;3m\n",
      "Invoking: `fetch_game_state` with `{'case_id': '123e4567-e89b-12d3-a456-426614174000'}`\n",
      "\n",
      "\n",
      "\u001b[0m\u001b[36;1m\u001b[1;3m{\"case_id\": \"123e4567-e89b-12d3-a456-426614174000\", \"suspect_name\": \"Countess Conundrum\", \"current_city\": \"Rio de Janeiro\", \"stolen_item\": \"The Eiffel Tower's Topmost Tip\", \"hops\": [\"Paris\", \"New York\", \"Rio de Janeiro\", \"Cape Town\", \"Moscow\", \"Tokyo\", \"Sydney\"], \"next_hop\": 3}\u001b[0m\u001b[32;1m\u001b[1;3m\n",
      "Invoking: `python_repl` with `game_state = {'case_id': '123e4567-e89b-12d3-a456-426614174000', 'suspect_name': 'Countess Conundrum', 'current_city': 'Rio de Janeiro', 'stolen_item': \"The Eiffel Tower's Topmost Tip\", 'hops': ['Paris', 'New York', 'Rio de Janeiro', 'Cape Town', 'Moscow', 'Tokyo', 'Sydney'], 'next_hop': 3}\n",
      "\n",
      "if 'Cape Town' in game_state['hops']:\n",
      "    cape_town_index = game_state['hops'].index('Cape Town')\n",
      "    if cape_town_index <= game_state['next_hop']:\n",
      "        game_state['next_hop'] = cape_town_index + 1\n",
      "        game_state['current_city'] = 'Cape Town'\n",
      "    elif cape_town_index > game_state['next_hop']:\n",
      "        print('Error')\n",
      "else:\n",
      "    game_state['current_city'] = 'Cape Town'\n",
      "\n",
      "print({'current_city': game_state['current_city'], 'next_hop': game_state['next_hop']})`\n",
      "\n",
      "\n",
      "\u001b[0m\u001b[38;5;200m\u001b[1;3m{'current_city': 'Cape Town', 'next_hop': 4}\n",
      "\u001b[0m\u001b[32;1m\u001b[1;3m\n",
      "Invoking: `update_game_state` with `{'case_id': '123e4567-e89b-12d3-a456-426614174000', 'key': 'current_city', 'value': 'Cape Town'}`\n",
      "\n",
      "\n",
      "\u001b[0m\u001b[36;1m\u001b[1;3mNone\u001b[0m\u001b[32;1m\u001b[1;3m\n",
      "Invoking: `update_game_state` with `{'case_id': '123e4567-e89b-12d3-a456-426614174000', 'key': 'next_hop', 'value': 4}`\n",
      "\n",
      "\n",
      "\u001b[0m\u001b[36;1m\u001b[1;3mNone\u001b[0m\u001b[32;1m\u001b[1;3m{\"current_city\": \"Cape Town\"}\u001b[0m\n",
      "\n",
      "\u001b[1m> Finished chain.\u001b[0m\n"
     ]
    },
    {
     "data": {
      "text/plain": [
       "'{\"current_city\": \"Cape Town\"}'"
      ]
     },
     "execution_count": 66,
     "metadata": {},
     "output_type": "execute_result"
    }
   ],
   "source": [
    "travel(case_id, \"Cape Town\")"
   ]
  },
  {
   "cell_type": "code",
   "execution_count": 67,
   "id": "613e16f3-3b81-4ae6-8394-48d10d5e8bbc",
   "metadata": {},
   "outputs": [
    {
     "name": "stdout",
     "output_type": "stream",
     "text": [
      "\n",
      "\n",
      "\u001b[1m> Entering new AgentExecutor chain...\u001b[0m\n",
      "\u001b[32;1m\u001b[1;3m\n",
      "Invoking: `fetch_game_state` with `{'case_id': '123e4567-e89b-12d3-a456-426614174000'}`\n",
      "\n",
      "\n",
      "\u001b[0m\u001b[36;1m\u001b[1;3m{\"case_id\": \"123e4567-e89b-12d3-a456-426614174000\", \"suspect_name\": \"Countess Conundrum\", \"current_city\": \"Cape Town\", \"stolen_item\": \"The Eiffel Tower's Topmost Tip\", \"hops\": [\"Paris\", \"New York\", \"Rio de Janeiro\", \"Cape Town\", \"Moscow\", \"Tokyo\", \"Sydney\"], \"next_hop\": 4}\u001b[0m\u001b[32;1m\u001b[1;3m\n",
      "Invoking: `python_repl` with `game_state = {'case_id': '123e4567-e89b-12d3-a456-426614174000', 'suspect_name': 'Countess Conundrum', 'current_city': 'Cape Town', 'stolen_item': 'The Eiffel Towers Topmost Tip', 'hops': ['Paris', 'New York', 'Rio de Janeiro', 'Cape Town', 'Moscow', 'Tokyo', 'Sydney'], 'next_hop': 4}\n",
      "next_hop = game_state['next_hop']\n",
      "if next_hop == 5:\n",
      "    print('arrest clues')\n",
      "elif game_state['current_city'] not in game_state['hops']:\n",
      "    print('mistaken clues')\n",
      "else:\n",
      "    print('regular clues')`\n",
      "\n",
      "\n",
      "\u001b[0m\u001b[38;5;200m\u001b[1;3mregular clues\n",
      "\u001b[0m\u001b[32;1m\u001b[1;3m\n",
      "Invoking: `generate_regular_clues` with `{'city': 'Moscow'}`\n",
      "\n",
      "\n",
      "\u001b[0m\u001b[38;5;200m\u001b[1;3m[\n",
      "  {\n",
      "    \"location\": \"bank\",\n",
      "    \"clue\": \"The suspect changed their currency to Rubles\"\n",
      "  },\n",
      "  {\n",
      "    \"location\": \"embassy\",\n",
      "    \"clue\": \"The suspect enquired about visiting a country with a white, blue and red flag\"\n",
      "  },\n",
      "  {\n",
      "    \"location\": \"restaurant\",\n",
      "    \"clue\": \"The suspect was looking for fresh Borscht\"\n",
      "  },\n",
      "  {\n",
      "    \"location\": \"tour guide\",\n",
      "    \"clue\": \"The suspect was interested in exploring the Red Square\"\n",
      "  },\n",
      "  {\n",
      "    \"location\": \"library\",\n",
      "    \"clue\": \"The suspect was interested in the works of Fyodor Dostoevsky\"\n",
      "  }\n",
      "]\u001b[0m\u001b[32;1m\u001b[1;3m{\"clues\": [{\"location\": \"bank\",\"clue\": \"The suspect changed their currency to Rubles\"},{\"location\": \"embassy\",\"clue\": \"The suspect enquired about visiting a country with a white, blue and red flag\"},{\"location\": \"restaurant\",\"clue\": \"The suspect was looking for fresh Borscht\"},{\"location\": \"tour guide\",\"clue\": \"The suspect was interested in exploring the Red Square\"},{\"location\": \"library\",\"clue\": \"The suspect was interested in the works of Fyodor Dostoevsky\"}]}\u001b[0m\n",
      "\n",
      "\u001b[1m> Finished chain.\u001b[0m\n"
     ]
    },
    {
     "data": {
      "text/plain": [
       "'{\"clues\": [{\"location\": \"bank\",\"clue\": \"The suspect changed their currency to Rubles\"},{\"location\": \"embassy\",\"clue\": \"The suspect enquired about visiting a country with a white, blue and red flag\"},{\"location\": \"restaurant\",\"clue\": \"The suspect was looking for fresh Borscht\"},{\"location\": \"tour guide\",\"clue\": \"The suspect was interested in exploring the Red Square\"},{\"location\": \"library\",\"clue\": \"The suspect was interested in the works of Fyodor Dostoevsky\"}]}'"
      ]
     },
     "execution_count": 67,
     "metadata": {},
     "output_type": "execute_result"
    }
   ],
   "source": [
    "get_clues(case_id)"
   ]
  },
  {
   "cell_type": "code",
   "execution_count": 69,
   "id": "4b6932a7-63fc-4a3d-9aec-41db9c909155",
   "metadata": {},
   "outputs": [
    {
     "name": "stdout",
     "output_type": "stream",
     "text": [
      "\n",
      "\n",
      "\u001b[1m> Entering new AgentExecutor chain...\u001b[0m\n",
      "\u001b[32;1m\u001b[1;3m\n",
      "Invoking: `fetch_game_state` with `{'case_id': '123e4567-e89b-12d3-a456-426614174000'}`\n",
      "\n",
      "\n",
      "\u001b[0m\u001b[36;1m\u001b[1;3m{\"case_id\": \"123e4567-e89b-12d3-a456-426614174000\", \"suspect_name\": \"Countess Conundrum\", \"current_city\": \"Cape Town\", \"stolen_item\": \"The Eiffel Tower's Topmost Tip\", \"hops\": [\"Paris\", \"New York\", \"Rio de Janeiro\", \"Cape Town\", \"Moscow\", \"Tokyo\", \"Sydney\"], \"next_hop\": 4}\u001b[0m\u001b[32;1m\u001b[1;3m\n",
      "Invoking: `python_repl` with `game_state = {\"case_id\": \"123e4567-e89b-12d3-a456-426614174000\", \"suspect_name\": \"Countess Conundrum\", \"current_city\": \"Cape Town\", \"stolen_item\": \"The Eiffel Tower's Topmost Tip\", \"hops\": [\"Paris\", \"New York\", \"Rio de Janeiro\", \"Cape Town\", \"Moscow\", \"Tokyo\", \"Sydney\"], \"next_hop\": 4}\n",
      "if 'Moscow' not in game_state['hops']:\n",
      "    game_state['current_city'] = 'Moscow'\n",
      "else:\n",
      "    moscow_index = game_state['hops'].index('Moscow')\n",
      "    if moscow_index <= game_state['next_hop']:\n",
      "        game_state['next_hop'] = moscow_index + 1\n",
      "        game_state['current_city'] = 'Moscow'\n",
      "    elif moscow_index > game_state['next_hop']:\n",
      "        print('Error: Moscow index is greater than next_hop')\n",
      "print({'current_city': game_state['current_city'], 'next_hop': game_state['next_hop']})`\n",
      "\n",
      "\n",
      "\u001b[0m\u001b[38;5;200m\u001b[1;3m{'current_city': 'Moscow', 'next_hop': 5}\n",
      "\u001b[0m\u001b[32;1m\u001b[1;3m\n",
      "Invoking: `update_game_state` with `{'case_id': '123e4567-e89b-12d3-a456-426614174000', 'key': 'current_city', 'value': 'Moscow'}`\n",
      "\n",
      "\n",
      "\u001b[0m\u001b[36;1m\u001b[1;3mNone\u001b[0m\u001b[32;1m\u001b[1;3m\n",
      "Invoking: `update_game_state` with `{'case_id': '123e4567-e89b-12d3-a456-426614174000', 'key': 'next_hop', 'value': 5}`\n",
      "\n",
      "\n",
      "\u001b[0m\u001b[36;1m\u001b[1;3mNone\u001b[0m\u001b[32;1m\u001b[1;3m{\"current_city\": \"Moscow\"}\u001b[0m\n",
      "\n",
      "\u001b[1m> Finished chain.\u001b[0m\n"
     ]
    },
    {
     "data": {
      "text/plain": [
       "'{\"current_city\": \"Moscow\"}'"
      ]
     },
     "execution_count": 69,
     "metadata": {},
     "output_type": "execute_result"
    }
   ],
   "source": [
    "travel(case_id, \"Moscow\")"
   ]
  },
  {
   "cell_type": "code",
   "execution_count": 70,
   "id": "1b8d4657-e703-4ccb-a811-beec24432298",
   "metadata": {},
   "outputs": [
    {
     "name": "stdout",
     "output_type": "stream",
     "text": [
      "\n",
      "\n",
      "\u001b[1m> Entering new AgentExecutor chain...\u001b[0m\n",
      "\u001b[32;1m\u001b[1;3m\n",
      "Invoking: `fetch_game_state` with `{'case_id': '123e4567-e89b-12d3-a456-426614174000'}`\n",
      "\n",
      "\n",
      "\u001b[0m\u001b[36;1m\u001b[1;3m{\"case_id\": \"123e4567-e89b-12d3-a456-426614174000\", \"suspect_name\": \"Countess Conundrum\", \"current_city\": \"Moscow\", \"stolen_item\": \"The Eiffel Tower's Topmost Tip\", \"hops\": [\"Paris\", \"New York\", \"Rio de Janeiro\", \"Cape Town\", \"Moscow\", \"Tokyo\", \"Sydney\"], \"next_hop\": 5}\u001b[0m\u001b[32;1m\u001b[1;3m\n",
      "Invoking: `python_repl` with `game_state = {\"case_id\": \"123e4567-e89b-12d3-a456-426614174000\", \"suspect_name\": \"Countess Conundrum\", \"current_city\": \"Moscow\", \"stolen_item\": \"The Eiffel Tower's Topmost Tip\", \"hops\": [\"Paris\", \"New York\", \"Rio de Janeiro\", \"Cape Town\", \"Moscow\", \"Tokyo\", \"Sydney\"], \"next_hop\": 5}\n",
      "next_hop = game_state['next_hop']\n",
      "current_city = game_state['current_city']\n",
      "hops = game_state['hops']\n",
      "if next_hop == 5:\n",
      "    print('arrest clues')\n",
      "elif current_city not in hops:\n",
      "    print('mistaken clues')\n",
      "else:\n",
      "    print('regular clues')`\n",
      "\n",
      "\n",
      "\u001b[0m\u001b[38;5;200m\u001b[1;3marrest clues\n",
      "\u001b[0m\u001b[32;1m\u001b[1;3m\n",
      "Invoking: `generate_arrest_clues` with `{'city': 'Tokyo'}`\n",
      "\n",
      "\n",
      "\u001b[0m\u001b[36;1m\u001b[1;3m[\n",
      "  {\n",
      "    \"location\": \"bank\",\n",
      "    \"clue\": \"Watch your step. You are getting close\"\n",
      "  },\n",
      "  {\n",
      "    \"location\": \"embassy\",\n",
      "    \"clue\": \"Watch your step. You are getting close\"\n",
      "  },\n",
      "  {\n",
      "    \"location\": \"restaurant\",\n",
      "    \"clue\": \"You have arrested the suspect!\"\n",
      "  }\n",
      "]\u001b[0m\u001b[32;1m\u001b[1;3m{\"clues\": [\n",
      "  {\n",
      "    \"location\": \"bank\",\n",
      "    \"clue\": \"Watch your step. You are getting close\"\n",
      "  },\n",
      "  {\n",
      "    \"location\": \"embassy\",\n",
      "    \"clue\": \"Watch your step. You are getting close\"\n",
      "  },\n",
      "  {\n",
      "    \"location\": \"restaurant\",\n",
      "    \"clue\": \"You have arrested the suspect!\"\n",
      "  }\n",
      "]}\u001b[0m\n",
      "\n",
      "\u001b[1m> Finished chain.\u001b[0m\n"
     ]
    },
    {
     "data": {
      "text/plain": [
       "'{\"clues\": [\\n  {\\n    \"location\": \"bank\",\\n    \"clue\": \"Watch your step. You are getting close\"\\n  },\\n  {\\n    \"location\": \"embassy\",\\n    \"clue\": \"Watch your step. You are getting close\"\\n  },\\n  {\\n    \"location\": \"restaurant\",\\n    \"clue\": \"You have arrested the suspect!\"\\n  }\\n]}'"
      ]
     },
     "execution_count": 70,
     "metadata": {},
     "output_type": "execute_result"
    }
   ],
   "source": [
    "get_clues(case_id)"
   ]
  },
  {
   "cell_type": "code",
   "execution_count": null,
   "id": "6193a52f-245b-4dac-a1f2-3b41d3788b16",
   "metadata": {},
   "outputs": [],
   "source": []
  }
 ],
 "metadata": {
  "kernelspec": {
   "display_name": "Python 3 (ipykernel)",
   "language": "python",
   "name": "python3"
  },
  "language_info": {
   "codemirror_mode": {
    "name": "ipython",
    "version": 3
   },
   "file_extension": ".py",
   "mimetype": "text/x-python",
   "name": "python",
   "nbconvert_exporter": "python",
   "pygments_lexer": "ipython3",
   "version": "3.12.2"
  }
 },
 "nbformat": 4,
 "nbformat_minor": 5
}
