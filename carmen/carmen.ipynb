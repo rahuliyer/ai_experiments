{
 "cells": [
  {
   "cell_type": "code",
   "execution_count": 1,
   "id": "cbb4d25d-b7a3-4fac-a560-34fbe30669cf",
   "metadata": {},
   "outputs": [],
   "source": [
    "#|default_exp carmen_backend"
   ]
  },
  {
   "cell_type": "code",
   "execution_count": 2,
   "id": "2ef15a87-8304-4f5e-a356-d5ef140e14c1",
   "metadata": {},
   "outputs": [],
   "source": [
    "#hide\n",
    "!pip install -Uqq --upgrade --force-reinstall langchain langchain-openai langchain-anthropic\n",
    "!pip install -Uqq langchain_experimental"
   ]
  },
  {
   "cell_type": "code",
   "execution_count": 3,
   "id": "fb4993bb-66d0-4374-8853-65de30e98bb5",
   "metadata": {},
   "outputs": [],
   "source": [
    "#|export\n",
    "import os\n",
    "import json\n",
    "\n",
    "from langchain_openai import ChatOpenAI\n",
    "from langchain_anthropic import ChatAnthropic\n",
    "\n",
    "from retrying import retry\n",
    "\n",
    "from langchain_core.tools import tool\n",
    "from langchain.agents import Tool\n",
    "from langchain_experimental.utilities import PythonREPL\n",
    "\n",
    "from langchain_core.prompts import ChatPromptTemplate\n",
    "from langchain.agents import create_tool_calling_agent\n",
    "from langchain.agents import AgentExecutor\n",
    "\n",
    "OPENAI_API_KEY = os.getenv(\"OPENAI_API_KEY\")\n",
    "ANTHROPIC_API_KEY = os.getenv(\"ANTHROPIC_API_KEY\")\n",
    "\n",
    "models = {\n",
    "    \"openai\": {\n",
    "        \"generation\": \"gpt-3.5-turbo\",\n",
    "        \"agent\": \"gpt-3.5-turbo\"\n",
    "    },\n",
    "    \"anthropic\": {\n",
    "        \"generation\": \"claude-3-sonnet-20240229\",\n",
    "        \"agent\": \"claude-3-opus-20240229\"\n",
    "    }\n",
    "}\n",
    "\n",
    "model_provider = os.getenv(\"MODEL_PROVIDER\", \"openai\")\n",
    "\n",
    "GAME_STATE_FILE = \"./carmen_game_state.json\"\n",
    "MAX_HOPS = 5"
   ]
  },
  {
   "cell_type": "code",
   "execution_count": 4,
   "id": "7199209e-07d8-4b2f-87fc-99afe49c8c08",
   "metadata": {},
   "outputs": [],
   "source": [
    "#|export\n",
    "def get_llm(provider, purpose):\n",
    "    model = models[provider][purpose]\n",
    "    \n",
    "    if model_provider == \"openai\":\n",
    "        return ChatOpenAI(api_key=OPENAI_API_KEY, model=model)\n",
    "    elif model_provider == \"anthropic\":\n",
    "        return ChatAnthropic(api_key=ANTHROPIC_API_KEY, model=model)\n",
    "    else:\n",
    "        raise Exception(f\"Unknown model provider: {model_provider}\")\n",
    "        \n",
    "def get_generation_llm():\n",
    "    return get_llm(model_provider, \"generation\")\n",
    "\n",
    "def get_agent_llm():\n",
    "    return get_llm(model_provider, \"agent\")"
   ]
  },
  {
   "cell_type": "code",
   "execution_count": 5,
   "id": "69ebd317-db24-4781-b22f-32ed25824b45",
   "metadata": {},
   "outputs": [],
   "source": [
    "#|export\n",
    "def get_game_states():\n",
    "    if not os.path.exists(GAME_STATE_FILE):\n",
    "        return {}\n",
    "    \n",
    "    with open(GAME_STATE_FILE, \"r\") as f:\n",
    "        return json.load(f)"
   ]
  },
  {
   "cell_type": "code",
   "execution_count": 6,
   "id": "856ed47f-d6a9-4a88-a748-07ca94f8834b",
   "metadata": {},
   "outputs": [],
   "source": [
    "#|export\n",
    "def store_game_state(game_state: dict):\n",
    "    game_states = get_game_states()\n",
    "    game_states[game_state[\"case_id\"]] = game_state\n",
    "\n",
    "    with open(GAME_STATE_FILE, \"w\") as f:\n",
    "        json.dump(game_states, f)"
   ]
  },
  {
   "cell_type": "code",
   "execution_count": 7,
   "id": "1546ad48-5de0-4008-91e9-46f628c8262f",
   "metadata": {},
   "outputs": [],
   "source": [
    "#|export\n",
    "def get_game_state(case_id: str):\n",
    "    return get_game_states()[case_id]"
   ]
  },
  {
   "cell_type": "code",
   "execution_count": 8,
   "id": "25394536-6b9a-4e52-bdcc-074158adb37f",
   "metadata": {},
   "outputs": [
    {
     "data": {
      "text/plain": [
       "{'a3f3c1d6-8a4b-4f18-bd3e-2a7b0d5d2e0e': {'case_id': 'a3f3c1d6-8a4b-4f18-bd3e-2a7b0d5d2e0e',\n",
       "  'suspect_name': 'Baron von Schnitzel',\n",
       "  'current_city': 'Chennai',\n",
       "  'stolen_item': \"Big Ben's bell\",\n",
       "  'hops': ['London',\n",
       "   'Paris',\n",
       "   'New York City',\n",
       "   'Tokyo',\n",
       "   'Sydney',\n",
       "   'Rio de Janeiro'],\n",
       "  'next_hop': 3},\n",
       " '3e12b9a1-1f8b-4d3b-aa9b-5d2d19d6c8d1': {'case_id': '3e12b9a1-1f8b-4d3b-aa9b-5d2d19d6c8d1',\n",
       "  'suspect_name': 'Dastardly Dan',\n",
       "  'current_city': 'Sydney',\n",
       "  'stolen_item': 'Samurai Sword',\n",
       "  'hops': ['Tokyo', 'Sydney', 'Dublin', 'Berlin', 'Cairo', 'New York City'],\n",
       "  'next_hop': 1}}"
      ]
     },
     "execution_count": 8,
     "metadata": {},
     "output_type": "execute_result"
    }
   ],
   "source": [
    "get_game_states()"
   ]
  },
  {
   "cell_type": "code",
   "execution_count": 9,
   "id": "b3986e2f-f1b3-419a-9a3c-c723bd2c5f34",
   "metadata": {},
   "outputs": [],
   "source": [
    "store_game_state(\n",
    "    {\n",
    "        \"case_id\": 1,\n",
    "        \"b\": 2,\n",
    "    }\n",
    ")"
   ]
  },
  {
   "cell_type": "code",
   "execution_count": 10,
   "id": "5626ec8f-8a94-48d9-857a-6ffec642aa91",
   "metadata": {},
   "outputs": [
    {
     "name": "stdout",
     "output_type": "stream",
     "text": [
      "{\"a3f3c1d6-8a4b-4f18-bd3e-2a7b0d5d2e0e\": {\"case_id\": \"a3f3c1d6-8a4b-4f18-bd3e-2a7b0d5d2e0e\", \"suspect_name\": \"Baron von Schnitzel\", \"current_city\": \"Chennai\", \"stolen_item\": \"Big Ben's bell\", \"hops\": [\"London\", \"Paris\", \"New York City\", \"Tokyo\", \"Sydney\", \"Rio de Janeiro\"], \"next_hop\": 3}, \"3e12b9a1-1f8b-4d3b-aa9b-5d2d19d6c8d1\": {\"case_id\": \"3e12b9a1-1f8b-4d3b-aa9b-5d2d19d6c8d1\", \"suspect_name\": \"Dastardly Dan\", \"current_city\": \"Sydney\", \"stolen_item\": \"Samurai Sword\", \"hops\": [\"Tokyo\", \"Sydney\", \"Dublin\", \"Berlin\", \"Cairo\", \"New York City\"], \"next_hop\": 1}, \"1\": {\"case_id\": 1, \"b\": 2}}"
     ]
    }
   ],
   "source": [
    "!cat {GAME_STATE_FILE}"
   ]
  },
  {
   "cell_type": "code",
   "execution_count": 11,
   "id": "d724e5e0-e289-4dd2-ab91-9a140acca9fd",
   "metadata": {},
   "outputs": [],
   "source": [
    "!rm {GAME_STATE_FILE}"
   ]
  },
  {
   "cell_type": "code",
   "execution_count": 12,
   "id": "e8b783a2-bda4-4fd1-b2bf-e99c0ec8ab07",
   "metadata": {},
   "outputs": [],
   "source": [
    "#|export\n",
    "famous_cities = [\n",
    "    \"Paris\", \"New York City\", \"London\", \"Tokyo\", \"Rome\",\n",
    "    \"Sydney\", \"Hong Kong\", \"Venice\", \"Barcelona\", \"Rio de Janeiro\",\n",
    "    \"Cape Town\", \"Dubai\", \"San Francisco\", \"Moscow\", \"Amsterdam\",\n",
    "    \"Prague\", \"Buenos Aires\", \"Mumbai\", \"Istanbul\", \"Bangkok\",\n",
    "    \"Singapore\", \"Dublin\", \"Florence\", \"Berlin\", \"Kyoto\",\n",
    "    \"Vienna\", \"Athens\", \"Seoul\", \"Beijing\", \"Los Angeles\",\n",
    "    \"Mexico City\", \"Toronto\", \"Vancouver\", \"Zurich\", \"Madrid\",\n",
    "    \"Edinburgh\", \"Las Vegas\", \"Cairo\", \"San Diego\", \"Shanghai\",\n",
    "    \"Washington D.C.\", \"Stockholm\", \"Dubrovnik\", \"Jerusalem\", \"Budapest\",\n",
    "    \"Oslo\", \"Lisbon\", \"Montreal\", \"Chicago\", \"Florence\"\n",
    "]"
   ]
  },
  {
   "cell_type": "code",
   "execution_count": 13,
   "id": "f6b7c9fc-b538-4986-9401-5381a6ee33ab",
   "metadata": {},
   "outputs": [],
   "source": [
    "#|export\n",
    "def generate_new_game():\n",
    "    new_game_prompt = f\"\"\"\n",
    "    System: You are the game master for a detective game like \"where in the world is Carmen San Diego\". \n",
    "    User: To start the game, generate the following and return it as a json hash. \n",
    "    1. A random uuid, key: case_id\n",
    "    2. A suspect name: suspect_name\n",
    "    3. A source city from {famous_cities}, key: current_city \n",
    "    4. A famous artifact from that city, key: stolen_item\n",
    "    5. A list of {MAX_HOPS + 1} unique cities from {famous_cities} with the current city as the first element, key: hops\n",
    "    6. Set a field called next_hop to 1\n",
    "    \n",
    "    Make the suspect name and artifacts as campy as possible but use real city names. \n",
    "\n",
    "    Here is an example:\n",
    "    {{\n",
    "        case_id: <uuid>,\n",
    "        suspect_name: <suspect_name>,\n",
    "        current_city: <current_city>,\n",
    "        stolen_item: <item name>,\n",
    "        hops: [\n",
    "            <city 1>,\n",
    "            <city 2>,\n",
    "            <city 3>,\n",
    "            <city 4>,\n",
    "            <city 5>,\n",
    "            <city 6>,\n",
    "        ],\n",
    "        next_hop: 1\n",
    "    }}\n",
    "    \n",
    "    Output only the json hash. Do not provide any other text output or additional formatting. \n",
    "\n",
    "    Game master:\n",
    "    \"\"\"\n",
    "\n",
    "    return get_generation_llm().invoke(new_game_prompt).content\n",
    "    "
   ]
  },
  {
   "cell_type": "code",
   "execution_count": 14,
   "id": "a1790a9b-adba-4000-ba0e-5e76aa1a72bb",
   "metadata": {},
   "outputs": [
    {
     "data": {
      "text/plain": [
       "{'case_id': 'd3f7c2f1-4588-4eac-a80f-2b1a4f54eac6',\n",
       " 'suspect_name': 'Baron Von Schnitzel',\n",
       " 'current_city': 'Paris',\n",
       " 'stolen_item': 'Eiffel Tower miniature',\n",
       " 'hops': ['Paris', 'Berlin', 'Moscow', 'Dubai', 'Sydney', 'Rio de Janeiro'],\n",
       " 'next_hop': 1}"
      ]
     },
     "execution_count": 14,
     "metadata": {},
     "output_type": "execute_result"
    }
   ],
   "source": [
    "game_state = json.loads(generate_new_game())\n",
    "game_state"
   ]
  },
  {
   "cell_type": "code",
   "execution_count": 15,
   "id": "0f62654b-ec72-4822-b607-8f301ee991f6",
   "metadata": {},
   "outputs": [],
   "source": [
    "#|export\n",
    "@retry(stop_max_delay=15000, stop_max_attempt_number=3)\n",
    "def new_game():\n",
    "    game_state = json.loads(generate_new_game())\n",
    "    store_game_state(game_state)\n",
    "\n",
    "    res_fields = [\"case_id\", \"suspect_name\", \"current_city\", \"stolen_item\"]\n",
    "    res = {}\n",
    "\n",
    "    for field in res_fields:\n",
    "        res[field] = game_state[field]\n",
    "        \n",
    "    return res"
   ]
  },
  {
   "cell_type": "code",
   "execution_count": 16,
   "id": "5e4c4466-daa8-4234-b9b4-7959cbec4a06",
   "metadata": {},
   "outputs": [
    {
     "data": {
      "text/plain": [
       "{'case_id': 'd8ff95c7-5f71-4f02-a6a2-5e4b3d0a7f3b',\n",
       " 'suspect_name': 'Diamond Dave',\n",
       " 'current_city': 'Paris',\n",
       " 'stolen_item': 'Eiffel Tower miniature'}"
      ]
     },
     "execution_count": 16,
     "metadata": {},
     "output_type": "execute_result"
    }
   ],
   "source": [
    "new_game()"
   ]
  },
  {
   "cell_type": "code",
   "execution_count": 17,
   "id": "96b8b64b-1713-4f6c-9a98-5b21644fdf18",
   "metadata": {},
   "outputs": [
    {
     "name": "stdout",
     "output_type": "stream",
     "text": [
      "{\"d8ff95c7-5f71-4f02-a6a2-5e4b3d0a7f3b\": {\"case_id\": \"d8ff95c7-5f71-4f02-a6a2-5e4b3d0a7f3b\", \"suspect_name\": \"Diamond Dave\", \"current_city\": \"Paris\", \"stolen_item\": \"Eiffel Tower miniature\", \"hops\": [\"Paris\", \"London\", \"New York City\", \"Tokyo\", \"Sydney\", \"Rio de Janeiro\"], \"next_hop\": 1}}"
     ]
    }
   ],
   "source": [
    "!cat {GAME_STATE_FILE}"
   ]
  },
  {
   "cell_type": "code",
   "execution_count": 18,
   "id": "2f66e171-0005-4cab-86a8-00f3975c298c",
   "metadata": {},
   "outputs": [
    {
     "data": {
      "text/plain": [
       "'d8ff95c7-5f71-4f02-a6a2-5e4b3d0a7f3b'"
      ]
     },
     "execution_count": 18,
     "metadata": {},
     "output_type": "execute_result"
    }
   ],
   "source": [
    "case_id, _ = next(iter(get_game_states().items()))\n",
    "case_id"
   ]
  },
  {
   "cell_type": "code",
   "execution_count": 19,
   "id": "85acb02d-7e3b-497d-9223-5667ea17ba01",
   "metadata": {},
   "outputs": [],
   "source": [
    "#|export\n",
    "@tool\n",
    "def fetch_game_state(case_id: str) -> str:\n",
    "    \"\"\" Fetch the game state given the case_id \"\"\"\n",
    "    return json.dumps(get_game_states()[case_id])"
   ]
  },
  {
   "cell_type": "code",
   "execution_count": 20,
   "id": "7b535af0-abb2-4a48-9631-113829a1eec3",
   "metadata": {},
   "outputs": [
    {
     "data": {
      "text/plain": [
       "'{\"case_id\": \"d8ff95c7-5f71-4f02-a6a2-5e4b3d0a7f3b\", \"suspect_name\": \"Diamond Dave\", \"current_city\": \"Paris\", \"stolen_item\": \"Eiffel Tower miniature\", \"hops\": [\"Paris\", \"London\", \"New York City\", \"Tokyo\", \"Sydney\", \"Rio de Janeiro\"], \"next_hop\": 1}'"
      ]
     },
     "execution_count": 20,
     "metadata": {},
     "output_type": "execute_result"
    }
   ],
   "source": [
    "fetch_game_state.invoke({\"case_id\": case_id})"
   ]
  },
  {
   "cell_type": "code",
   "execution_count": 21,
   "id": "dfcb52c4-61bd-4995-a893-052362815c21",
   "metadata": {},
   "outputs": [],
   "source": [
    "#|export\n",
    "@tool\n",
    "def set_current_city(case_id: str, current_city: str):\n",
    "    \"\"\" Sets the current city for the given case_id \"\"\"\n",
    "    game_state = get_game_state(case_id)\n",
    "    game_state[\"current_city\"] = current_city\n",
    "\n",
    "    store_game_state(game_state)\n",
    "    "
   ]
  },
  {
   "cell_type": "code",
   "execution_count": 22,
   "id": "cb7d2f1d-4d63-4d99-9a21-0cab8396d514",
   "metadata": {},
   "outputs": [
    {
     "data": {
      "text/plain": [
       "{'case_id': 'd8ff95c7-5f71-4f02-a6a2-5e4b3d0a7f3b',\n",
       " 'suspect_name': 'Diamond Dave',\n",
       " 'current_city': 'Mumbai',\n",
       " 'stolen_item': 'Eiffel Tower miniature',\n",
       " 'hops': ['Paris',\n",
       "  'London',\n",
       "  'New York City',\n",
       "  'Tokyo',\n",
       "  'Sydney',\n",
       "  'Rio de Janeiro'],\n",
       " 'next_hop': 1}"
      ]
     },
     "execution_count": 22,
     "metadata": {},
     "output_type": "execute_result"
    }
   ],
   "source": [
    "set_current_city.invoke(\n",
    "    {\n",
    "        \"case_id\": case_id,\n",
    "        \"current_city\": \"Mumbai\"\n",
    "    }\n",
    ")\n",
    "\n",
    "get_game_state(case_id)"
   ]
  },
  {
   "cell_type": "code",
   "execution_count": 23,
   "id": "e1f5acc9-faff-4568-b5fe-3432cf566c00",
   "metadata": {},
   "outputs": [],
   "source": [
    "#|export\n",
    "@tool\n",
    "def update_game_state(case_id, key, value):\n",
    "    \"\"\" Updates the game state based on the values given \"\"\"\n",
    "    game_state = get_game_state(case_id)\n",
    "    game_state[key] = value\n",
    "\n",
    "    store_game_state(game_state)"
   ]
  },
  {
   "cell_type": "code",
   "execution_count": 24,
   "id": "bb061598-6b9a-44ea-a2af-b615aed9753d",
   "metadata": {},
   "outputs": [
    {
     "data": {
      "text/plain": [
       "{'case_id': 'd8ff95c7-5f71-4f02-a6a2-5e4b3d0a7f3b',\n",
       " 'suspect_name': 'Diamond Dave',\n",
       " 'current_city': 'Mumbai',\n",
       " 'stolen_item': 'Eiffel Tower miniature',\n",
       " 'hops': ['Paris',\n",
       "  'London',\n",
       "  'New York City',\n",
       "  'Tokyo',\n",
       "  'Sydney',\n",
       "  'Rio de Janeiro'],\n",
       " 'next_hop': 3}"
      ]
     },
     "execution_count": 24,
     "metadata": {},
     "output_type": "execute_result"
    }
   ],
   "source": [
    "update_game_state.invoke(\n",
    "    {\n",
    "        \"case_id\": case_id,\n",
    "        \"key\": \"next_hop\",\n",
    "        \"value\": 3,\n",
    "    }\n",
    ")\n",
    "\n",
    "get_game_state(case_id)"
   ]
  },
  {
   "cell_type": "code",
   "execution_count": 25,
   "id": "68dc8544-54ed-4ce0-9c97-97b8155dce1c",
   "metadata": {},
   "outputs": [],
   "source": [
    "#|export\n",
    "@tool\n",
    "def generate_destinations(previous_city: str, next_city: str, current_city: str, exclude_list: str) -> str:\n",
    "    \"\"\" Generates destinations for the player to travel to given the current city, previous city, \n",
    "    the next city, and a list of cities to exclude \"\"\"\n",
    "    prompt = f\"\"\"\n",
    "        System: You are the game master for a detective game like \"where in the world is Carmen San Diego\". \n",
    "        User: Generate a list of 4 cities. The list must include {previous_city}, {next_city} \n",
    "        and 2 other cities. It must not include {current_city} or any of the\n",
    "        cities in {exclude_list}. Order the list so that {previous_city} and {next_city} are randomly\n",
    "        interspersed in the list.\n",
    "        \n",
    "        Return this as a json list named destinations. \n",
    "\n",
    "        Here is an example of the json format:\n",
    "        destinations: [\n",
    "            <city 1>,\n",
    "            <city 2>,\n",
    "            <city 3>,\n",
    "            <city 4>,\n",
    "        ]\n",
    "\n",
    "        Do not include any additional text or additional formatting.\n",
    "        Game Master:\n",
    "        \"\"\"\n",
    "\n",
    "    return get_generation_llm().invoke(prompt).content"
   ]
  },
  {
   "cell_type": "code",
   "execution_count": 26,
   "id": "71ee4d1a-470a-45fa-8db8-48ddef17c148",
   "metadata": {},
   "outputs": [
    {
     "data": {
      "text/plain": [
       "'destinations: [\\n            \"Cairo\",\\n            \"London\",\\n            \"Sydney\",\\n            \"Mumbai\",\\n        ]'"
      ]
     },
     "execution_count": 26,
     "metadata": {},
     "output_type": "execute_result"
    }
   ],
   "source": [
    "generate_destinations.invoke(\n",
    "    {\n",
    "        \"previous_city\": \"London\",\n",
    "        \"next_city\": \"Mumbai\",\n",
    "        \"current_city\": \"Tokyo\",\n",
    "        \"exclude_list\": \"Paris,Lima\"\n",
    "    }\n",
    ")"
   ]
  },
  {
   "cell_type": "code",
   "execution_count": 27,
   "id": "76cba967-4aae-4218-a372-0ccf00df240d",
   "metadata": {},
   "outputs": [],
   "source": [
    "#|export\n",
    "clue_locations = [\"Tourism Desk\", \"Bank\", \"Embassy\", \"Restaurant\", \"Library\"]"
   ]
  },
  {
   "cell_type": "code",
   "execution_count": 28,
   "id": "aeaa6998-45ec-482a-9ff5-9fd05f10190f",
   "metadata": {},
   "outputs": [],
   "source": [
    "#|export\n",
    "@tool\n",
    "def generate_regular_clues(city: str) -> str:\n",
    "    \"\"\" Generate regular clues given a location \"\"\"\n",
    "    prompt = f\"\"\"\n",
    "        System: You are the game master for a detective game like \"where in the world is Carmen San Diego\". \n",
    "        User: Generate 3 clues. To generate each clue, do the following \n",
    "        1. Pick 3 locations from {clue_locations}. Pick them in random order.\n",
    "        2. Generate a clue for each of the locations\n",
    "        \n",
    "        The clue for a bank should be the currency of the country. For example if the city is London, \n",
    "        the clue should say \"The suspect changed their currency to Pounds\"\n",
    "        \n",
    "        The clue for the embassy should be about the flag of the country. For example, if the city is \n",
    "        New York, the clue should say \"The suspect enquired about visiting a country with a red, white, and blue flag\"\n",
    "        \n",
    "        The clue for the restaurant should be a good from the country the city is in. For example, for Mumbai, the clue\n",
    "        should say \"The suspect was looking for fresh samosas\"\n",
    "        \n",
    "        The clue for Tourism Desk should be something about a famous tourist attraction from the city. For example, for \n",
    "        Lima the clue should say \"The suspect was interested in exploring Incan ruins\"\n",
    "        \n",
    "        The clue for the library should be about a famous author from the country the city is in. For example, for London\n",
    "        the clue could say \"The suspect was interested in visiting the grave of Charles Dickens\"\n",
    "        \n",
    "        Return it as a json hash with the following keys as a response:\n",
    "        1. clues: a list of json hashes with keys location and clue\n",
    "        \n",
    "        Here is an example of the output json format:\n",
    "        \"clues\": [\n",
    "            {{\n",
    "                \"location\": <location 1>,\n",
    "                \"clue\": <clue 1>,\n",
    "            }},\n",
    "            {{\n",
    "                \"location\": <location 2>,\n",
    "                \"clue\": <clue 2>,\n",
    "            }},\n",
    "            {{\n",
    "                \"location\": <location 3>,\n",
    "                \"clue\": <clue 3>,\n",
    "            }},\n",
    "        ]\n",
    "        \n",
    "        Do not generate any additional text or additional formatting.\n",
    "       \n",
    "        Now generate clues for {city}\n",
    "\n",
    "        Game Master:\n",
    "    \"\"\"\n",
    "    return get_generation_llm().invoke(prompt).content"
   ]
  },
  {
   "cell_type": "code",
   "execution_count": 29,
   "id": "e7c813c3-71b5-4471-a443-26b8efeb2de8",
   "metadata": {},
   "outputs": [
    {
     "data": {
      "text/plain": [
       "{'clues': [{'location': 'Bank',\n",
       "   'clue': 'The suspect exchanged their currency to Indian Rupees'},\n",
       "  {'location': 'Embassy',\n",
       "   'clue': 'The suspect asked about visiting a country with an orange, white, and green flag'},\n",
       "  {'location': 'Restaurant',\n",
       "   'clue': 'The suspect was craving spicy masala dosa'}]}"
      ]
     },
     "execution_count": 29,
     "metadata": {},
     "output_type": "execute_result"
    }
   ],
   "source": [
    "json.loads(generate_regular_clues.invoke(\n",
    "    {\n",
    "        \"city\": \"Bangalore\" \n",
    "    }\n",
    "))"
   ]
  },
  {
   "cell_type": "code",
   "execution_count": 30,
   "id": "86bae433-a914-4934-a07f-b7c0a2a2d0aa",
   "metadata": {},
   "outputs": [],
   "source": [
    "#|export\n",
    "@tool\n",
    "def generate_mistaken_clues() -> str:\n",
    "    \"\"\" Generate mistaken clues \"\"\"\n",
    "    prompt = f\"\"\"\n",
    "        System: You are the game master for a detective game like \"where in the world is Carmen San Diego\". \n",
    "        User: Generate 3 clues. To generate each clue, do the following \n",
    "        1. Pick 3 locations at random out of {clue_locations}. \n",
    "        2. Set the clue to \"No one with the suspect's description was seen here\"\n",
    "        \n",
    "        Return it as a json hash with the following keys as a response:\n",
    "            a. clues: a list of json hashes with keys location and clue\n",
    "\n",
    "        Here is an example of the output json format:\n",
    "        \"clues\": [\n",
    "            {{\n",
    "                \"location\": <location 1>,\n",
    "                \"clue\": <clue 1>,\n",
    "            }},\n",
    "            {{\n",
    "                \"location\": <location 2>,\n",
    "                \"clue\": <clue 2>,\n",
    "            }},\n",
    "            {{\n",
    "                \"location\": <location 3>,\n",
    "                \"clue\": <clue 3>,\n",
    "            }},\n",
    "        ]\n",
    "                \n",
    "        Do not generate any additional text or additional formatting.\n",
    "\n",
    "        Now generate the clues.\n",
    "\n",
    "        Game Master:\n",
    "    \"\"\"\n",
    "    return get_generation_llm().invoke(prompt).content"
   ]
  },
  {
   "cell_type": "code",
   "execution_count": 31,
   "id": "94cc3a5e-5834-4364-ad9b-e458b1d5e52e",
   "metadata": {},
   "outputs": [
    {
     "data": {
      "text/plain": [
       "{'clues': [{'location': 'Restaurant',\n",
       "   'clue': \"No one with the suspect's description was seen here\"},\n",
       "  {'location': 'Library',\n",
       "   'clue': \"No one with the suspect's description was seen here\"},\n",
       "  {'location': 'Embassy',\n",
       "   'clue': \"No one with the suspect's description was seen here\"}]}"
      ]
     },
     "execution_count": 31,
     "metadata": {},
     "output_type": "execute_result"
    }
   ],
   "source": [
    "json.loads(generate_mistaken_clues.invoke({}))"
   ]
  },
  {
   "cell_type": "code",
   "execution_count": 32,
   "id": "46bcc7f3-bece-4b7b-b2d7-4bdac6fb2e4f",
   "metadata": {},
   "outputs": [],
   "source": [
    "#|export\n",
    "@tool\n",
    "def generate_arrest_clues(suspect_name: str) -> str:\n",
    "    \"\"\" Generate arrest clues given the name of the suspect\"\"\"\n",
    "    prompt = f\"\"\"\n",
    "        Generate 3 clues. To generate each clue, do the following \n",
    "        1. Pick 3 locations at random out of {clue_locations}. \n",
    "        2. For two of them set the clue to \"Watch your step. You are getting close\"\n",
    "        3. For the third, set the clue to \"Congratulations! You have arrested the suspect, {suspect_name}\n",
    "        \n",
    "        Return it as a json hash with the following keys as a response:\n",
    "            a. clues: a list of json hashes with keys location and clue\n",
    "\n",
    "        Here is an example of the output json format:\n",
    "        \"clues\": [\n",
    "            {{\n",
    "                \"location\": <location 1>,\n",
    "                \"clue\": <clue 1>,\n",
    "            }},\n",
    "            {{\n",
    "                \"location\": <location 2>,\n",
    "                \"clue\": <clue 2>,\n",
    "            }},\n",
    "            {{\n",
    "                \"location\": <location 3>,\n",
    "                \"clue\": <clue 3>,\n",
    "            }},\n",
    "        ]\n",
    " \n",
    "        Do not generate any additional text or additional formatting.\n",
    "\n",
    "        Now generate the clues for {suspect_name} \n",
    "    \"\"\"\n",
    "    return get_generation_llm().invoke(prompt).content"
   ]
  },
  {
   "cell_type": "code",
   "execution_count": 33,
   "id": "bb053f5a-4fbb-4e27-9312-4c65f7a10c6b",
   "metadata": {},
   "outputs": [
    {
     "data": {
      "text/plain": [
       "{'clues': [{'location': 'Library',\n",
       "   'clue': 'Watch your step. You are getting close'},\n",
       "  {'location': 'Tourism Desk',\n",
       "   'clue': 'Watch your step. You are getting close'},\n",
       "  {'location': 'Bank',\n",
       "   'clue': 'Congratulations! You have arrested the suspect, Stealy McStealy'}]}"
      ]
     },
     "execution_count": 33,
     "metadata": {},
     "output_type": "execute_result"
    }
   ],
   "source": [
    "json.loads(generate_arrest_clues.invoke(\n",
    "    {\n",
    "        \"suspect_name\": \"Stealy McStealy\"\n",
    "    }\n",
    "))"
   ]
  },
  {
   "cell_type": "code",
   "execution_count": 34,
   "id": "5a911544-b7ae-41af-b92f-ac26e0babd84",
   "metadata": {},
   "outputs": [],
   "source": [
    "#|export\n",
    "python_repl = Tool(\n",
    "    name=\"python_repl\",\n",
    "    description=\"A Python shell. Use this to execute python commands. Input should be a valid python command. If you want to see the output of a value, you should print it out with `print(...)`.\",\n",
    "    func=PythonREPL().run,\n",
    ")"
   ]
  },
  {
   "cell_type": "code",
   "execution_count": 35,
   "id": "838e3864-aa01-453b-b12a-cda497e52f37",
   "metadata": {},
   "outputs": [],
   "source": [
    "#|export\n",
    "tools = [\n",
    "    fetch_game_state, \n",
    "    generate_destinations, \n",
    "    generate_regular_clues, \n",
    "    generate_arrest_clues, \n",
    "    generate_mistaken_clues,\n",
    "    python_repl,\n",
    "    update_game_state,   \n",
    "]"
   ]
  },
  {
   "cell_type": "code",
   "execution_count": 36,
   "id": "c16ef725-eb81-49da-a7f3-9b8ad96b0fc7",
   "metadata": {},
   "outputs": [],
   "source": [
    "#|export\n",
    "def get_agent_executor():\n",
    "    prompt = ChatPromptTemplate.from_messages(\n",
    "        [\n",
    "          (\"system\", \"You are the game master for a detective game like 'where in the world is Carmen San Diego'. You will have to make a lot of decisions so look at the clues carefully.\"),\n",
    "          (\"placeholder\", \"{chat_history}\"),\n",
    "          (\"human\", \"{input}\"),\n",
    "          (\"placeholder\", \"{agent_scratchpad}\"),\n",
    "        ]\n",
    "    )\n",
    "\n",
    "    llm = get_agent_llm()\n",
    "    # Construct the tool calling agent\n",
    "    agent = create_tool_calling_agent(llm, tools, prompt)\n",
    "\n",
    "    # Create an agent executor by passing in the agent and tools\n",
    "    agent_executor = AgentExecutor(agent=agent, tools=tools, verbose=True)\n",
    "\n",
    "    return agent_executor"
   ]
  },
  {
   "cell_type": "code",
   "execution_count": 37,
   "id": "e179886c-e7a9-45a1-b021-294607e36b3a",
   "metadata": {},
   "outputs": [],
   "source": [
    "#|export\n",
    "@retry(stop_max_delay=15000, stop_max_attempt_number=3)\n",
    "def get_destinations(case_id):\n",
    "    agent_executor = get_agent_executor()\n",
    "    \n",
    "    prompt = f\"\"\"\n",
    "    Do the following:\n",
    "    1. Fetch the game state for case_id {case_id}\n",
    "    2. Write python code passing in the game state to do the following:\n",
    "        a. Extract the current_city from the game state obtained above\n",
    "        b. If the value of next_hop is {MAX_HOPS + 1} return an empty list\n",
    "        c. Get the city at the index next_hop from the hops list in the game state and save it as the next city\n",
    "        d. If next_hop is 1 then set the previous city to \"\" otherwise get the city at the index next_hop -1 from \n",
    "            the hops list in the game state and save it as the previous city\n",
    "        e. Add all other cities in the hops list to an exclude list\n",
    "    \n",
    "    3. Based on the output above, generate 4 destinations for the player to travel to including the previous city,\n",
    "    current city, next city, and cities not in the exclude list. \n",
    "    4. Shuffle the list\n",
    "    \n",
    "    Return the output as a json hash with the following keys:\n",
    "    1. city: The current city\n",
    "    2. destinations: a list of the cities\n",
    "\n",
    "    Here is an example of the output format:\n",
    "    {{\n",
    "        \"city\": <current city>\n",
    "        \"destinations\": [\n",
    "            <city 1>,\n",
    "            <city 2>,\n",
    "            <city 3>,\n",
    "            <city 4>,\n",
    "        ]\n",
    "    }}\n",
    "            \n",
    "    Generate no additional text or additional formatting.\n",
    "    \"\"\"\n",
    "    ret = agent_executor.invoke(\n",
    "        {\n",
    "            \"input\": prompt\n",
    "        }\n",
    "    )\n",
    "\n",
    "    return json.loads(ret['output'])"
   ]
  },
  {
   "cell_type": "code",
   "execution_count": 38,
   "id": "caaeff7d-f497-426a-8cd1-b953c48bd91a",
   "metadata": {},
   "outputs": [
    {
     "name": "stdout",
     "output_type": "stream",
     "text": [
      "\n",
      "\n",
      "\u001b[1m> Entering new AgentExecutor chain...\u001b[0m\n",
      "\u001b[32;1m\u001b[1;3m\n",
      "Invoking: `fetch_game_state` with `{'case_id': 'd8ff95c7-5f71-4f02-a6a2-5e4b3d0a7f3b'}`\n",
      "\n",
      "\n",
      "\u001b[0m\u001b[36;1m\u001b[1;3m{\"case_id\": \"d8ff95c7-5f71-4f02-a6a2-5e4b3d0a7f3b\", \"suspect_name\": \"Diamond Dave\", \"current_city\": \"Mumbai\", \"stolen_item\": \"Eiffel Tower miniature\", \"hops\": [\"Paris\", \"London\", \"New York City\", \"Tokyo\", \"Sydney\", \"Rio de Janeiro\"], \"next_hop\": 3}\u001b[0m"
     ]
    },
    {
     "name": "stderr",
     "output_type": "stream",
     "text": [
      "Python REPL can execute arbitrary code. Use with caution.\n"
     ]
    },
    {
     "name": "stdout",
     "output_type": "stream",
     "text": [
      "\u001b[32;1m\u001b[1;3m\n",
      "Invoking: `python_repl` with `game_state = {'suspect_name': 'Diamond Dave', 'current_city': 'Mumbai', 'stolen_item': 'Eiffel Tower miniature', 'hops': ['Paris', 'London', 'New York City', 'Tokyo', 'Sydney', 'Rio de Janeiro'], 'next_hop': 3}\n",
      "\n",
      "exclude_list = []\n",
      "\n",
      "if game_state['next_hop'] == 6:\n",
      "    []\n",
      "else:\n",
      "    next_city = game_state['hops'][game_state['next_hop']]\n",
      "    if game_state['next_hop'] == 1:\n",
      "        previous_city = \"\"\n",
      "    else:\n",
      "        previous_city = game_state['hops'][game_state['next_hop'] - 1]\n",
      "    exclude_list = [city for city in game_state['hops']]\n",
      "    exclude_list.remove(previous_city)\n",
      "    exclude_list.remove(game_state['current_city'])\n",
      "    exclude_list.remove(next_city)\n",
      "\n",
      "{\n",
      "    'current_city': game_state['current_city'],\n",
      "    'previous_city': previous_city,\n",
      "    'next_city': next_city,\n",
      "    'exclude_list': exclude_list\n",
      "}`\n",
      "\n",
      "\n",
      "\u001b[0m\u001b[38;5;200m\u001b[1;3mValueError('list.remove(x): x not in list')\u001b[0m\u001b[32;1m\u001b[1;3m\n",
      "Invoking: `generate_destinations` with `{'current_city': 'Mumbai', 'exclude_list': 'Paris,London,New York City,Tokyo,Sydney,Rio de Janeiro', 'next_city': 'Tokyo', 'previous_city': 'New York City'}`\n",
      "\n",
      "\n",
      "\u001b[0m\u001b[33;1m\u001b[1;3mdestinations: [\n",
      "    \"Dubai\",\n",
      "    \"New York City\",\n",
      "    \"Sydney\",\n",
      "    \"Tokyo\"\n",
      "]\u001b[0m\u001b[32;1m\u001b[1;3m{\n",
      "    \"city\": \"Mumbai\",\n",
      "    \"destinations\": [\n",
      "        \"Dubai\",\n",
      "        \"New York City\",\n",
      "        \"Sydney\",\n",
      "        \"Tokyo\"\n",
      "    ]\n",
      "}\u001b[0m\n",
      "\n",
      "\u001b[1m> Finished chain.\u001b[0m\n"
     ]
    },
    {
     "data": {
      "text/plain": [
       "{'city': 'Mumbai',\n",
       " 'destinations': ['Dubai', 'New York City', 'Sydney', 'Tokyo']}"
      ]
     },
     "execution_count": 38,
     "metadata": {},
     "output_type": "execute_result"
    }
   ],
   "source": [
    "get_destinations(case_id)"
   ]
  },
  {
   "cell_type": "code",
   "execution_count": 39,
   "id": "069d9694-dc4c-4129-9c0c-14ffaff47092",
   "metadata": {},
   "outputs": [],
   "source": [
    "#|export\n",
    "@retry(stop_max_delay=15000, stop_max_attempt_number=3)\n",
    "def get_clues(case_id):\n",
    "    agent_executor = get_agent_executor()\n",
    "    \n",
    "    prompt = f\"\"\"\n",
    "    1. Fetch the game state for case_id {case_id}.\n",
    "    2. Write and execute python code passing in the game state to do the following to figure out what kind of \n",
    "       clue to generate:\n",
    "        a. Extract next_hop from the game state\n",
    "        b. If next_hop is equal to {MAX_HOPS + 1} only then print \"arrest clues\" as the type of clues\n",
    "        c. Else If the current city is not in the hops list only then print \"mistaken clues\" as the type of clue\n",
    "        d. Else print \"regular clues\" as the type of clue\n",
    "    3. Based on the output of the code generate the right type of clue for the city at index next_hop in the hops list\n",
    "    \n",
    "    Return the output exactly as a hash encoded in json returned from the tool. Generate no additional text or\n",
    "    additional formatting.\n",
    "    \"\"\"\n",
    "    ret = agent_executor.invoke(\n",
    "        {\n",
    "            \"input\": prompt\n",
    "        }\n",
    "    )\n",
    "\n",
    "    return json.loads(ret['output'])"
   ]
  },
  {
   "cell_type": "code",
   "execution_count": 40,
   "id": "f17aea33-40d1-41e6-9609-7381c8dd3b08",
   "metadata": {},
   "outputs": [
    {
     "name": "stdout",
     "output_type": "stream",
     "text": [
      "\n",
      "\n",
      "\u001b[1m> Entering new AgentExecutor chain...\u001b[0m\n",
      "\u001b[32;1m\u001b[1;3m\n",
      "Invoking: `fetch_game_state` with `{'case_id': 'd8ff95c7-5f71-4f02-a6a2-5e4b3d0a7f3b'}`\n",
      "\n",
      "\n",
      "\u001b[0m\u001b[36;1m\u001b[1;3m{\"case_id\": \"d8ff95c7-5f71-4f02-a6a2-5e4b3d0a7f3b\", \"suspect_name\": \"Diamond Dave\", \"current_city\": \"Mumbai\", \"stolen_item\": \"Eiffel Tower miniature\", \"hops\": [\"Paris\", \"London\", \"New York City\", \"Tokyo\", \"Sydney\", \"Rio de Janeiro\"], \"next_hop\": 3}\u001b[0m\u001b[32;1m\u001b[1;3m\n",
      "Invoking: `python_repl` with `game_state = {'case_id': 'd8ff95c7-5f71-4f02-a6a2-5e4b3d0a7f3b', 'suspect_name': 'Diamond Dave', 'current_city': 'Mumbai', 'stolen_item': 'Eiffel Tower miniature', 'hops': ['Paris', 'London', 'New York City', 'Tokyo', 'Sydney', 'Rio de Janeiro'], 'next_hop': 3}\n",
      "\n",
      "if game_state['next_hop'] == 6:\n",
      "    print('arrest clues')\n",
      "elif game_state['current_city'] not in game_state['hops']:\n",
      "    print('mistaken clues')\n",
      "else:\n",
      "    print('regular clues')`\n",
      "\n",
      "\n",
      "\u001b[0m\u001b[38;5;200m\u001b[1;3mmistaken clues\n",
      "\u001b[0m\u001b[32;1m\u001b[1;3m\n",
      "Invoking: `generate_mistaken_clues` with `{}`\n",
      "\n",
      "\n",
      "\u001b[0m\u001b[33;1m\u001b[1;3m{\n",
      "    \"clues\": [\n",
      "        {\n",
      "            \"location\": \"Library\",\n",
      "            \"clue\": \"No one with the suspect's description was seen here\"\n",
      "        },\n",
      "        {\n",
      "            \"location\": \"Bank\",\n",
      "            \"clue\": \"No one with the suspect's description was seen here\"\n",
      "        },\n",
      "        {\n",
      "            \"location\": \"Embassy\",\n",
      "            \"clue\": \"No one with the suspect's description was seen here\"\n",
      "        }\n",
      "    ]\n",
      "}\u001b[0m\u001b[32;1m\u001b[1;3m{\n",
      "    \"clues\": [\n",
      "        {\n",
      "            \"location\": \"Library\",\n",
      "            \"clue\": \"No one with the suspect's description was seen here\"\n",
      "        },\n",
      "        {\n",
      "            \"location\": \"Bank\",\n",
      "            \"clue\": \"No one with the suspect's description was seen here\"\n",
      "        },\n",
      "        {\n",
      "            \"location\": \"Embassy\",\n",
      "            \"clue\": \"No one with the suspect's description was seen here\"\n",
      "        }\n",
      "    ]\n",
      "}\u001b[0m\n",
      "\n",
      "\u001b[1m> Finished chain.\u001b[0m\n"
     ]
    },
    {
     "data": {
      "text/plain": [
       "{'clues': [{'location': 'Library',\n",
       "   'clue': \"No one with the suspect's description was seen here\"},\n",
       "  {'location': 'Bank',\n",
       "   'clue': \"No one with the suspect's description was seen here\"},\n",
       "  {'location': 'Embassy',\n",
       "   'clue': \"No one with the suspect's description was seen here\"}]}"
      ]
     },
     "execution_count": 40,
     "metadata": {},
     "output_type": "execute_result"
    }
   ],
   "source": [
    "get_clues(case_id)"
   ]
  },
  {
   "cell_type": "code",
   "execution_count": 41,
   "id": "897a0b13-587c-403c-98e9-1ced71e4ca03",
   "metadata": {
    "scrolled": true
   },
   "outputs": [
    {
     "name": "stdout",
     "output_type": "stream",
     "text": [
      "\n",
      "\n",
      "\u001b[1m> Entering new AgentExecutor chain...\u001b[0m\n",
      "\u001b[32;1m\u001b[1;3m\n",
      "Invoking: `fetch_game_state` with `{'case_id': 'd8ff95c7-5f71-4f02-a6a2-5e4b3d0a7f3b'}`\n",
      "\n",
      "\n",
      "\u001b[0m\u001b[36;1m\u001b[1;3m{\"case_id\": \"d8ff95c7-5f71-4f02-a6a2-5e4b3d0a7f3b\", \"suspect_name\": \"Diamond Dave\", \"current_city\": \"Pune\", \"stolen_item\": \"Eiffel Tower miniature\", \"hops\": [\"Paris\", \"London\", \"New York City\", \"Tokyo\", \"Sydney\", \"Rio de Janeiro\"], \"next_hop\": 3}\u001b[0m\u001b[32;1m\u001b[1;3m\n",
      "Invoking: `python_repl` with `game_state = {'case_id': 'd8ff95c7-5f71-4f02-a6a2-5e4b3d0a7f3b', 'suspect_name': 'Diamond Dave', 'current_city': 'Pune', 'stolen_item': 'Eiffel Tower miniature', 'hops': ['Paris', 'London', 'New York City', 'Tokyo', 'Sydney', 'Rio de Janeiro'], 'next_hop': 3}\n",
      "\n",
      "if game_state['next_hop'] == 6:\n",
      "    print('arrest clues')\n",
      "elif game_state['current_city'] not in game_state['hops']:\n",
      "    print('mistaken clues')\n",
      "else:\n",
      "    print('regular clues')`\n",
      "\n",
      "\n",
      "\u001b[0m\u001b[38;5;200m\u001b[1;3mmistaken clues\n",
      "\u001b[0m\u001b[32;1m\u001b[1;3m\n",
      "Invoking: `generate_mistaken_clues` with `{}`\n",
      "\n",
      "\n",
      "\u001b[0m\u001b[33;1m\u001b[1;3m{\n",
      "    \"clues\": [\n",
      "        {\n",
      "            \"location\": \"Bank\",\n",
      "            \"clue\": \"No one with the suspect's description was seen here\"\n",
      "        },\n",
      "        {\n",
      "            \"location\": \"Library\",\n",
      "            \"clue\": \"No one with the suspect's description was seen here\"\n",
      "        },\n",
      "        {\n",
      "            \"location\": \"Embassy\",\n",
      "            \"clue\": \"No one with the suspect's description was seen here\"\n",
      "        }\n",
      "    ]\n",
      "}\u001b[0m\u001b[32;1m\u001b[1;3m{\n",
      "    \"clues\": [\n",
      "        {\n",
      "            \"location\": \"Bank\",\n",
      "            \"clue\": \"No one with the suspect's description was seen here\"\n",
      "        },\n",
      "        {\n",
      "            \"location\": \"Library\",\n",
      "            \"clue\": \"No one with the suspect's description was seen here\"\n",
      "        },\n",
      "        {\n",
      "            \"location\": \"Embassy\",\n",
      "            \"clue\": \"No one with the suspect's description was seen here\"\n",
      "        }\n",
      "    ]\n",
      "}\u001b[0m\n",
      "\n",
      "\u001b[1m> Finished chain.\u001b[0m\n"
     ]
    }
   ],
   "source": [
    "cur_city = get_game_state(case_id)[\"current_city\"]\n",
    "set_current_city.invoke(\n",
    "    {\n",
    "        \"case_id\": case_id,\n",
    "        \"current_city\": \"Pune\"\n",
    "    }\n",
    ")\n",
    "\n",
    "get_clues(case_id)\n",
    "set_current_city.invoke(\n",
    "    {\n",
    "        \"case_id\": case_id,\n",
    "        \"current_city\": cur_city\n",
    "    }\n",
    ")"
   ]
  },
  {
   "cell_type": "code",
   "execution_count": 42,
   "id": "7fffa24e-c071-4fe3-8792-f2c5d17b61e1",
   "metadata": {},
   "outputs": [
    {
     "name": "stdout",
     "output_type": "stream",
     "text": [
      "\n",
      "\n",
      "\u001b[1m> Entering new AgentExecutor chain...\u001b[0m\n",
      "\u001b[32;1m\u001b[1;3m\n",
      "Invoking: `fetch_game_state` with `{'case_id': 'd8ff95c7-5f71-4f02-a6a2-5e4b3d0a7f3b'}`\n",
      "\n",
      "\n",
      "\u001b[0m\u001b[36;1m\u001b[1;3m{\"case_id\": \"d8ff95c7-5f71-4f02-a6a2-5e4b3d0a7f3b\", \"suspect_name\": \"Diamond Dave\", \"current_city\": \"Mumbai\", \"stolen_item\": \"Eiffel Tower miniature\", \"hops\": [\"Paris\", \"London\", \"New York City\", \"Tokyo\", \"Sydney\", \"Rio de Janeiro\"], \"next_hop\": 6}\u001b[0m\u001b[32;1m\u001b[1;3m\n",
      "Invoking: `python_repl` with `next_hop = 6\n",
      "if next_hop == 6:\n",
      "    clue_type = 'arrest clues'\n",
      "else:\n",
      "    current_city = 'Mumbai'\n",
      "    hops_list = ['Paris', 'London', 'New York City', 'Tokyo', 'Sydney', 'Rio de Janeiro']\n",
      "    if current_city not in hops_list:\n",
      "        clue_type = 'mistaken clues'\n",
      "    else:\n",
      "        clue_type = 'regular clues'\n",
      "clue_type`\n",
      "\n",
      "\n",
      "\u001b[0m\u001b[38;5;200m\u001b[1;3m\u001b[0m\u001b[32;1m\u001b[1;3m\n",
      "Invoking: `generate_arrest_clues` with `{'suspect_name': 'Diamond Dave'}`\n",
      "responded: {\"clue_type\": \"arrest clues\"}\n",
      "\n",
      "\u001b[0m\u001b[36;1m\u001b[1;3m{\n",
      "    \"clues\": [\n",
      "        {\n",
      "            \"location\": \"Restaurant\",\n",
      "            \"clue\": \"Watch your step. You are getting close\"\n",
      "        },\n",
      "        {\n",
      "            \"location\": \"Library\",\n",
      "            \"clue\": \"Watch your step. You are getting close\"\n",
      "        },\n",
      "        {\n",
      "            \"location\": \"Embassy\",\n",
      "            \"clue\": \"Congratulations! You have arrested the suspect, Diamond Dave\"\n",
      "        }\n",
      "    ]\n",
      "}\u001b[0m\u001b[32;1m\u001b[1;3m{\"clues\":[{\"location\":\"Restaurant\",\"clue\":\"Watch your step. You are getting close\"},{\"location\":\"Library\",\"clue\":\"Watch your step. You are getting close\"},{\"location\":\"Embassy\",\"clue\":\"Congratulations! You have arrested the suspect, Diamond Dave\"}]}\u001b[0m\n",
      "\n",
      "\u001b[1m> Finished chain.\u001b[0m\n"
     ]
    }
   ],
   "source": [
    "nxt_hop = get_game_state(case_id)[\"next_hop\"]\n",
    "update_game_state.invoke(\n",
    "    {\n",
    "        \"case_id\": case_id,\n",
    "        \"key\": \"next_hop\",\n",
    "        \"value\": MAX_HOPS + 1,\n",
    "    }\n",
    ")\n",
    "\n",
    "get_clues(case_id)\n",
    "\n",
    "update_game_state.invoke(\n",
    "    {\n",
    "        \"case_id\": case_id,\n",
    "        \"key\": \"next_hop\",\n",
    "        \"value\": nxt_hop,\n",
    "    }\n",
    ")"
   ]
  },
  {
   "cell_type": "code",
   "execution_count": 43,
   "id": "f5941d86-a22e-4473-8cec-8722b44414e5",
   "metadata": {},
   "outputs": [],
   "source": [
    "#|export\n",
    "@retry(stop_max_delay=15000, stop_max_attempt_number=3)\n",
    "def travel(case_id, city):\n",
    "    agent_executor = get_agent_executor()\n",
    "    \n",
    "    prompt = f\"\"\"\n",
    "        1. Fetch the game state for case_id {case_id}\n",
    "        2. Write python code passing in the game state to do the following:\n",
    "            a. If {city} is not in the hops list, update current_city to {city} and print out the \n",
    "            new values of current_city and next_hop as a json hash\n",
    "            b. Else if {city} is in the hops list and the index of {city} is <= next_hop then \n",
    "            set next_hop to the index + 1 and current_city to {city}. Print out the \n",
    "            new values of current_city and next_hop as a json hash\n",
    "            c. Else if {city} is in hops list and the index of {city} is greater than next_hop \n",
    "            print the error \"Error: You cannot travel to that city\"\n",
    "\n",
    "        If there is no error from the python code, \n",
    "        1. Update the current_city in the game state\n",
    "        2. Update next_hop in the game state\n",
    "        3. return the current city as json hash with a current_city key. \n",
    "        \n",
    "        Else if there is an error from the python code, return the error \"You cannot travel to that city\" as a \n",
    "        json hash with the key \"error\".\n",
    "        \n",
    "        Here is an example of the output format when there is no error:\n",
    "        {{\n",
    "            \"current_city\": <city>\n",
    "        }}\n",
    "\n",
    "        Here is an example of the output format when there is an error:\n",
    "        {{\n",
    "            \"error\": \"You cannot travel to that city\"\n",
    "        }}\n",
    "\n",
    "        Generate no additional text or additional formatting.\n",
    "\n",
    "    \"\"\"\n",
    "\n",
    "    ret = agent_executor.invoke(\n",
    "        {\n",
    "            \"input\": prompt\n",
    "        }\n",
    "    )\n",
    "\n",
    "    return json.loads(ret['output'])\n",
    "    "
   ]
  },
  {
   "cell_type": "code",
   "execution_count": 44,
   "id": "867455b8-1bdd-4160-80cd-16319a43fe1c",
   "metadata": {},
   "outputs": [
    {
     "name": "stdout",
     "output_type": "stream",
     "text": [
      "\n",
      "\n",
      "\u001b[1m> Entering new AgentExecutor chain...\u001b[0m\n",
      "\u001b[32;1m\u001b[1;3m\n",
      "Invoking: `fetch_game_state` with `{'case_id': 'd8ff95c7-5f71-4f02-a6a2-5e4b3d0a7f3b'}`\n",
      "\n",
      "\n",
      "\u001b[0m\u001b[36;1m\u001b[1;3m{\"case_id\": \"d8ff95c7-5f71-4f02-a6a2-5e4b3d0a7f3b\", \"suspect_name\": \"Diamond Dave\", \"current_city\": \"Mumbai\", \"stolen_item\": \"Eiffel Tower miniature\", \"hops\": [\"Paris\", \"London\", \"New York City\", \"Tokyo\", \"Sydney\", \"Rio de Janeiro\"], \"next_hop\": 3}\u001b[0m\u001b[32;1m\u001b[1;3m\n",
      "Invoking: `python_repl` with `if 'New York' not in game_state['hops']: print(json.dumps({'current_city': 'New York', 'next_hop': 1}))`\n",
      "\n",
      "\n",
      "\u001b[0m\u001b[38;5;200m\u001b[1;3mNameError(\"name 'json' is not defined\")\u001b[0m\u001b[32;1m\u001b[1;3m\n",
      "Invoking: `python_repl` with `elif 'New York' in game_state['hops'] and game_state['hops'].index('New York') <= game_state['next_hop']: print(json.dumps({'current_city': 'New York', 'next_hop': game_state['hops'].index('New York') + 1}) )`\n",
      "\n",
      "\n",
      "\u001b[0m\u001b[38;5;200m\u001b[1;3mSyntaxError('invalid syntax', ('<string>', 1, 1, \"elif 'New York' in game_state['hops'] and game_state['hops'].index('New York') <= game_state['next_hop']: print(json.dumps({'current_city': 'New York', 'next_hop': game_state['hops'].index('New York') + 1}) )\\n\", 1, 5))\u001b[0m\u001b[32;1m\u001b[1;3m\n",
      "Invoking: `python_repl` with `else: print(json.dumps({'error': 'You cannot travel to that city'}) )`\n",
      "\n",
      "\n",
      "\u001b[0m\u001b[38;5;200m\u001b[1;3mSyntaxError('invalid syntax', ('<string>', 1, 1, \"else: print(json.dumps({'error': 'You cannot travel to that city'}) )\\n\", 1, 5))\u001b[0m\u001b[32;1m\u001b[1;3m{\n",
      "    \"error\": \"You cannot travel to that city\"\n",
      "}\n",
      "{\n",
      "    \"error\": \"You cannot travel to that city\"\n",
      "}\u001b[0m\n",
      "\n",
      "\u001b[1m> Finished chain.\u001b[0m\n",
      "\n",
      "\n",
      "\u001b[1m> Entering new AgentExecutor chain...\u001b[0m\n",
      "\u001b[32;1m\u001b[1;3m\n",
      "Invoking: `fetch_game_state` with `{'case_id': 'd8ff95c7-5f71-4f02-a6a2-5e4b3d0a7f3b'}`\n",
      "\n",
      "\n",
      "\u001b[0m\u001b[36;1m\u001b[1;3m{\"case_id\": \"d8ff95c7-5f71-4f02-a6a2-5e4b3d0a7f3b\", \"suspect_name\": \"Diamond Dave\", \"current_city\": \"Mumbai\", \"stolen_item\": \"Eiffel Tower miniature\", \"hops\": [\"Paris\", \"London\", \"New York City\", \"Tokyo\", \"Sydney\", \"Rio de Janeiro\"], \"next_hop\": 3}\u001b[0m\u001b[32;1m\u001b[1;3m\n",
      "Invoking: `python_repl` with `game_state = {'current_city': 'Mumbai', 'next_hop': 3, 'hops': ['Paris', 'London', 'New York City', 'Tokyo', 'Sydney', 'Rio de Janeiro']}\\nif 'New York City' not in game_state['hops']:\\n    game_state['current_city'] = 'New York City'\\n    print({'current_city': game_state['current_city'], 'next_hop': game_state['next_hop']})\\nelif 'New York City' in game_state['hops'] and game_state['hops'].index('New York City') <= game_state['next_hop']:\\n    game_state['next_hop'] = game_state['hops'].index('New York City') + 1\\n    game_state['current_city'] = 'New York City'\\n    print({'current_city': game_state['current_city'], 'next_hop': game_state['next_hop']})\\nelse:\\n    print('Error: You cannot travel to that city')`\n",
      "\n",
      "\n",
      "\u001b[0m\u001b[38;5;200m\u001b[1;3mSyntaxError('unexpected character after line continuation character', ('<string>', 1, 139, \"game_state = {'current_city': 'Mumbai', 'next_hop': 3, 'hops': ['Paris', 'London', 'New York City', 'Tokyo', 'Sydney', 'Rio de Janeiro']}\\\\nif 'New York City' not in game_state['hops']:\\\\n    game_state['current_city'] = 'New York City'\\\\n    print({'current_city': game_state['current_city'], 'next_hop': game_state['next_hop']})\\\\nelif 'New York City' in game_state['hops'] and game_state['hops'].index('New York City') <= game_state['next_hop']:\\\\n    game_state['next_hop'] = game_state['hops'].index('New York City') + 1\\\\n    game_state['current_city'] = 'New York City'\\\\n    print({'current_city': game_state['current_city'], 'next_hop': game_state['next_hop']})\\\\nelse:\\\\n    print('Error: You cannot travel to that city')\\n\", 1, 0))\u001b[0m\u001b[32;1m\u001b[1;3m\n",
      "Invoking: `python_repl` with `game_state = {'current_city': 'Mumbai', 'next_hop': 3, 'hops': ['Paris', 'London', 'New York City', 'Tokyo', 'Sydney', 'Rio de Janeiro']}\\nif 'New York City' not in game_state['hops']:\\n    game_state['current_city'] = 'New York City'\\n    print({'current_city': game_state['current_city'], 'next_hop': game_state['next_hop']})\\nelif 'New York City' in game_state['hops'] and game_state['hops'].index('New York City') <= game_state['next_hop']:\\n    game_state['next_hop'] = game_state['hops'].index('New York City') + 1\\n    game_state['current_city'] = 'New York City'\\n    print({'current_city': game_state['current_city'], 'next_hop': game_state['next_hop']})\\nelse:\\n    print('Error: You cannot travel to that city')`\n",
      "responded: It seems there was a syntax error in the Python code provided. Let me correct it and try again.\n",
      "\n",
      "\u001b[0m\u001b[38;5;200m\u001b[1;3mSyntaxError('unexpected character after line continuation character', ('<string>', 1, 139, \"game_state = {'current_city': 'Mumbai', 'next_hop': 3, 'hops': ['Paris', 'London', 'New York City', 'Tokyo', 'Sydney', 'Rio de Janeiro']}\\\\nif 'New York City' not in game_state['hops']:\\\\n    game_state['current_city'] = 'New York City'\\\\n    print({'current_city': game_state['current_city'], 'next_hop': game_state['next_hop']})\\\\nelif 'New York City' in game_state['hops'] and game_state['hops'].index('New York City') <= game_state['next_hop']:\\\\n    game_state['next_hop'] = game_state['hops'].index('New York City') + 1\\\\n    game_state['current_city'] = 'New York City'\\\\n    print({'current_city': game_state['current_city'], 'next_hop': game_state['next_hop']})\\\\nelse:\\\\n    print('Error: You cannot travel to that city')\\n\", 1, 0))\u001b[0m\u001b[32;1m\u001b[1;3m\n",
      "Invoking: `update_game_state` with `{'case_id': 'd8ff95c7-5f71-4f02-a6a2-5e4b3d0a7f3b', 'key': 'current_city', 'value': 'New York City'}`\n",
      "responded: It seems there was a syntax error in the Python code provided. Let me correct it and try again.\n",
      "\n",
      "\u001b[0m\u001b[36;1m\u001b[1;3mNone\u001b[0m\u001b[32;1m\u001b[1;3m\n",
      "Invoking: `update_game_state` with `{'case_id': 'd8ff95c7-5f71-4f02-a6a2-5e4b3d0a7f3b', 'key': 'next_hop', 'value': 3}`\n",
      "responded: It seems there was a syntax error in the Python code provided. Let me correct it and try again.\n",
      "\n",
      "\u001b[0m\u001b[36;1m\u001b[1;3mNone\u001b[0m\u001b[32;1m\u001b[1;3m{\n",
      "    \"error\": \"You cannot travel to that city\"\n",
      "}\u001b[0m\n",
      "\n",
      "\u001b[1m> Finished chain.\u001b[0m\n"
     ]
    },
    {
     "data": {
      "text/plain": [
       "{'error': 'You cannot travel to that city'}"
      ]
     },
     "execution_count": 44,
     "metadata": {},
     "output_type": "execute_result"
    }
   ],
   "source": [
    "travel(case_id, \"New York\")"
   ]
  },
  {
   "cell_type": "code",
   "execution_count": 45,
   "id": "4d431aad-e450-4cfc-8099-0ee1349ecc76",
   "metadata": {},
   "outputs": [
    {
     "data": {
      "text/plain": [
       "{'case_id': 'd8ff95c7-5f71-4f02-a6a2-5e4b3d0a7f3b',\n",
       " 'suspect_name': 'Diamond Dave',\n",
       " 'current_city': 'New York City',\n",
       " 'stolen_item': 'Eiffel Tower miniature',\n",
       " 'hops': ['Paris',\n",
       "  'London',\n",
       "  'New York City',\n",
       "  'Tokyo',\n",
       "  'Sydney',\n",
       "  'Rio de Janeiro'],\n",
       " 'next_hop': 3}"
      ]
     },
     "execution_count": 45,
     "metadata": {},
     "output_type": "execute_result"
    }
   ],
   "source": [
    "get_game_state(case_id)"
   ]
  },
  {
   "cell_type": "code",
   "execution_count": 47,
   "id": "603ae752-14d0-4752-a22c-0cdab2be63a7",
   "metadata": {},
   "outputs": [
    {
     "name": "stdout",
     "output_type": "stream",
     "text": [
      "\n",
      "\n",
      "\u001b[1m> Entering new AgentExecutor chain...\u001b[0m\n",
      "\u001b[32;1m\u001b[1;3m\n",
      "Invoking: `fetch_game_state` with `{'case_id': 'd8ff95c7-5f71-4f02-a6a2-5e4b3d0a7f3b'}`\n",
      "\n",
      "\n",
      "\u001b[0m\u001b[36;1m\u001b[1;3m{\"case_id\": \"d8ff95c7-5f71-4f02-a6a2-5e4b3d0a7f3b\", \"suspect_name\": \"Diamond Dave\", \"current_city\": \"Chennai\", \"stolen_item\": \"Eiffel Tower miniature\", \"hops\": [\"Paris\", \"London\", \"New York City\", \"Tokyo\", \"Sydney\", \"Rio de Janeiro\"], \"next_hop\": 3}\u001b[0m\u001b[32;1m\u001b[1;3m\n",
      "Invoking: `python_repl` with `game_state = {'current_city': 'Chennai', 'next_hop': 3, 'hops': ['Paris', 'London', 'New York City', 'Tokyo', 'Sydney', 'Rio de Janeiro']}\n",
      "\n",
      "if 'Chennai' not in game_state['hops']:\n",
      "    game_state['current_city'] = 'Chennai'\n",
      "    print({'current_city': game_state['current_city'], 'next_hop': game_state['next_hop']})\n",
      "elif 'Chennai' in game_state['hops'] and game_state['hops'].index('Chennai') <= game_state['next_hop']:\n",
      "    game_state['next_hop'] = game_state['hops'].index('Chennai') + 1\n",
      "    game_state['current_city'] = 'Chennai'\n",
      "    print({'current_city': game_state['current_city'], 'next_hop': game_state['next_hop']})\n",
      "else:\n",
      "    print({'error': 'You cannot travel to that city'})`\n",
      "\n",
      "\n",
      "\u001b[0m\u001b[38;5;200m\u001b[1;3m{'current_city': 'Chennai', 'next_hop': 3}\n",
      "\u001b[0m\u001b[32;1m\u001b[1;3m\n",
      "Invoking: `update_game_state` with `{'case_id': 'd8ff95c7-5f71-4f02-a6a2-5e4b3d0a7f3b', 'key': 'current_city', 'value': 'Chennai'}`\n",
      "\n",
      "\n",
      "\u001b[0m\u001b[36;1m\u001b[1;3mNone\u001b[0m\u001b[32;1m\u001b[1;3m\n",
      "Invoking: `update_game_state` with `{'case_id': 'd8ff95c7-5f71-4f02-a6a2-5e4b3d0a7f3b', 'key': 'next_hop', 'value': 3}`\n",
      "\n",
      "\n",
      "\u001b[0m\u001b[36;1m\u001b[1;3mNone\u001b[0m\u001b[32;1m\u001b[1;3m{\n",
      "    \"current_city\": \"Chennai\"\n",
      "}\u001b[0m\n",
      "\n",
      "\u001b[1m> Finished chain.\u001b[0m\n"
     ]
    },
    {
     "data": {
      "text/plain": [
       "{'case_id': 'd8ff95c7-5f71-4f02-a6a2-5e4b3d0a7f3b',\n",
       " 'suspect_name': 'Diamond Dave',\n",
       " 'current_city': 'Chennai',\n",
       " 'stolen_item': 'Eiffel Tower miniature',\n",
       " 'hops': ['Paris',\n",
       "  'London',\n",
       "  'New York City',\n",
       "  'Tokyo',\n",
       "  'Sydney',\n",
       "  'Rio de Janeiro'],\n",
       " 'next_hop': 3}"
      ]
     },
     "execution_count": 47,
     "metadata": {},
     "output_type": "execute_result"
    }
   ],
   "source": [
    "travel(case_id, \"Chennai\")\n",
    "get_game_state(case_id)"
   ]
  },
  {
   "cell_type": "code",
   "execution_count": 48,
   "id": "efffa960-0efd-4283-b7a2-566fa197d4dc",
   "metadata": {},
   "outputs": [
    {
     "name": "stdout",
     "output_type": "stream",
     "text": [
      "\n",
      "\n",
      "\u001b[1m> Entering new AgentExecutor chain...\u001b[0m\n",
      "\u001b[32;1m\u001b[1;3m\n",
      "Invoking: `fetch_game_state` with `{'case_id': 'd8ff95c7-5f71-4f02-a6a2-5e4b3d0a7f3b'}`\n",
      "\n",
      "\n",
      "\u001b[0m\u001b[36;1m\u001b[1;3m{\"case_id\": \"d8ff95c7-5f71-4f02-a6a2-5e4b3d0a7f3b\", \"suspect_name\": \"Diamond Dave\", \"current_city\": \"Chennai\", \"stolen_item\": \"Eiffel Tower miniature\", \"hops\": [\"Paris\", \"London\", \"New York City\", \"Tokyo\", \"Sydney\", \"Rio de Janeiro\"], \"next_hop\": 3}\u001b[0m\u001b[32;1m\u001b[1;3m\n",
      "Invoking: `python_repl` with `game_state = {'case_id': 'd8ff95c7-5f71-4f02-a6a2-5e4b3d0a7f3b', 'suspect_name': 'Diamond Dave', 'current_city': 'Chennai', 'stolen_item': 'Eiffel Tower miniature', 'hops': ['Paris', 'London', 'New York City', 'Tokyo', 'Sydney', 'Rio de Janeiro'], 'next_hop': 3}\n",
      "\n",
      "if game_state['next_hop'] == 6:\n",
      "    print('arrest clues')\n",
      "elif game_state['current_city'] not in game_state['hops']:\n",
      "    print('mistaken clues')\n",
      "else:\n",
      "    print('regular clues')`\n",
      "\n",
      "\n",
      "\u001b[0m\u001b[38;5;200m\u001b[1;3mmistaken clues\n",
      "\u001b[0m\u001b[32;1m\u001b[1;3m\n",
      "Invoking: `generate_mistaken_clues` with `{}`\n",
      "\n",
      "\n",
      "\u001b[0m\u001b[33;1m\u001b[1;3m{\n",
      "    \"clues\": [\n",
      "        {\n",
      "            \"location\": \"Library\",\n",
      "            \"clue\": \"No one with the suspect's description was seen here\"\n",
      "        },\n",
      "        {\n",
      "            \"location\": \"Restaurant\",\n",
      "            \"clue\": \"No one with the suspect's description was seen here\"\n",
      "        },\n",
      "        {\n",
      "            \"location\": \"Tourism Desk\",\n",
      "            \"clue\": \"No one with the suspect's description was seen here\"\n",
      "        }\n",
      "    ]\n",
      "}\u001b[0m\u001b[32;1m\u001b[1;3m{\"clues\":[{\"location\":\"Library\",\"clue\":\"No one with the suspect's description was seen here\"},{\"location\":\"Restaurant\",\"clue\":\"No one with the suspect's description was seen here\"},{\"location\":\"Tourism Desk\",\"clue\":\"No one with the suspect's description was seen here\"}]}\u001b[0m\n",
      "\n",
      "\u001b[1m> Finished chain.\u001b[0m\n"
     ]
    },
    {
     "data": {
      "text/plain": [
       "{'clues': [{'location': 'Library',\n",
       "   'clue': \"No one with the suspect's description was seen here\"},\n",
       "  {'location': 'Restaurant',\n",
       "   'clue': \"No one with the suspect's description was seen here\"},\n",
       "  {'location': 'Tourism Desk',\n",
       "   'clue': \"No one with the suspect's description was seen here\"}]}"
      ]
     },
     "execution_count": 48,
     "metadata": {},
     "output_type": "execute_result"
    }
   ],
   "source": [
    "get_clues(case_id)"
   ]
  },
  {
   "cell_type": "code",
   "execution_count": 49,
   "id": "fb4ba6f2-f1d5-48db-ad09-e1cb95f91223",
   "metadata": {},
   "outputs": [],
   "source": [
    "from nbdev.export import nb_export\n",
    "\n",
    "nb_export('./carmen.ipynb', './')"
   ]
  },
  {
   "cell_type": "code",
   "execution_count": 50,
   "id": "3d6a4b27-782a-42c0-bf8a-09ec3c767f1c",
   "metadata": {},
   "outputs": [
    {
     "name": "stdout",
     "output_type": "stream",
     "text": [
      "carmen_backend.py\tcarmen_client.ipynb\tcarmen.ipynb  server.py\n",
      "carmen_backend_test.py\tcarmen_game_state.json\t__pycache__\n"
     ]
    }
   ],
   "source": [
    "!ls"
   ]
  }
 ],
 "metadata": {
  "kernelspec": {
   "display_name": "Python 3 (ipykernel)",
   "language": "python",
   "name": "python3"
  },
  "language_info": {
   "codemirror_mode": {
    "name": "ipython",
    "version": 3
   },
   "file_extension": ".py",
   "mimetype": "text/x-python",
   "name": "python",
   "nbconvert_exporter": "python",
   "pygments_lexer": "ipython3",
   "version": "3.12.2"
  }
 },
 "nbformat": 4,
 "nbformat_minor": 5
}
