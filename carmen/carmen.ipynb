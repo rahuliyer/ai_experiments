{
 "cells": [
  {
   "cell_type": "code",
   "execution_count": 1,
   "id": "cbb4d25d-b7a3-4fac-a560-34fbe30669cf",
   "metadata": {},
   "outputs": [],
   "source": [
    "#|default_exp carmen_backend"
   ]
  },
  {
   "cell_type": "code",
   "execution_count": 2,
   "id": "2ef15a87-8304-4f5e-a356-d5ef140e14c1",
   "metadata": {},
   "outputs": [],
   "source": [
    "#hide\n",
    "!pip install -Uqq --upgrade --force-reinstall langchain langchain-openai\n",
    "!pip install -Uqq langchain_experimental"
   ]
  },
  {
   "cell_type": "code",
   "execution_count": 3,
   "id": "fb4993bb-66d0-4374-8853-65de30e98bb5",
   "metadata": {},
   "outputs": [],
   "source": [
    "#|export\n",
    "import os\n",
    "from langchain_openai import ChatOpenAI\n",
    "import json\n",
    "\n",
    "from langchain_core.tools import tool\n",
    "from langchain.agents import Tool\n",
    "from langchain_experimental.utilities import PythonREPL\n",
    "\n",
    "from langchain_core.prompts import ChatPromptTemplate\n",
    "from langchain.agents import create_tool_calling_agent\n",
    "from langchain.agents import AgentExecutor\n",
    "\n",
    "OPENAI_API_KEY = os.getenv(\"OPENAI_API_KEY\")\n",
    "model = \"gpt-4\"\n",
    "\n",
    "GAME_STATE_FILE = \"./carmen_game_state.json\""
   ]
  },
  {
   "cell_type": "code",
   "execution_count": 4,
   "id": "69ebd317-db24-4781-b22f-32ed25824b45",
   "metadata": {},
   "outputs": [],
   "source": [
    "#|export\n",
    "def get_game_states():\n",
    "    if not os.path.exists(GAME_STATE_FILE):\n",
    "        return {}\n",
    "    \n",
    "    with open(GAME_STATE_FILE, \"r\") as f:\n",
    "        return json.load(f)"
   ]
  },
  {
   "cell_type": "code",
   "execution_count": 5,
   "id": "856ed47f-d6a9-4a88-a748-07ca94f8834b",
   "metadata": {},
   "outputs": [],
   "source": [
    "#|export\n",
    "def store_game_state(game_state: dict):\n",
    "    game_states = get_game_states()\n",
    "    game_states[game_state[\"case_id\"]] = game_state\n",
    "\n",
    "    with open(GAME_STATE_FILE, \"w\") as f:\n",
    "        json.dump(game_states, f)"
   ]
  },
  {
   "cell_type": "code",
   "execution_count": 6,
   "id": "1546ad48-5de0-4008-91e9-46f628c8262f",
   "metadata": {},
   "outputs": [],
   "source": [
    "#|export\n",
    "def get_game_state(case_id: str):\n",
    "    return get_game_states()[case_id]"
   ]
  },
  {
   "cell_type": "code",
   "execution_count": 7,
   "id": "25394536-6b9a-4e52-bdcc-074158adb37f",
   "metadata": {},
   "outputs": [
    {
     "data": {
      "text/plain": [
       "{'8d354a22-4ee1-4eb5-a594-aa6a60a2d6c5': {'case_id': '8d354a22-4ee1-4eb5-a594-aa6a60a2d6c5',\n",
       "  'suspect_name': 'Picasso Peculiar',\n",
       "  'current_city': 'Chennai',\n",
       "  'stolen_item': \"The Louvre's Laughing Mona Lisa\",\n",
       "  'hops': ['Paris', 'Rome', 'Cairo', 'Tokyo', 'New York', 'Sydney'],\n",
       "  'next_hop': 3}}"
      ]
     },
     "execution_count": 7,
     "metadata": {},
     "output_type": "execute_result"
    }
   ],
   "source": [
    "get_game_states()"
   ]
  },
  {
   "cell_type": "code",
   "execution_count": 8,
   "id": "b3986e2f-f1b3-419a-9a3c-c723bd2c5f34",
   "metadata": {},
   "outputs": [],
   "source": [
    "store_game_state(\n",
    "    {\n",
    "        \"case_id\": 1,\n",
    "        \"b\": 2,\n",
    "    }\n",
    ")"
   ]
  },
  {
   "cell_type": "code",
   "execution_count": 9,
   "id": "5626ec8f-8a94-48d9-857a-6ffec642aa91",
   "metadata": {},
   "outputs": [
    {
     "name": "stdout",
     "output_type": "stream",
     "text": [
      "{\"8d354a22-4ee1-4eb5-a594-aa6a60a2d6c5\": {\"case_id\": \"8d354a22-4ee1-4eb5-a594-aa6a60a2d6c5\", \"suspect_name\": \"Picasso Peculiar\", \"current_city\": \"Chennai\", \"stolen_item\": \"The Louvre's Laughing Mona Lisa\", \"hops\": [\"Paris\", \"Rome\", \"Cairo\", \"Tokyo\", \"New York\", \"Sydney\"], \"next_hop\": 3}, \"1\": {\"case_id\": 1, \"b\": 2}}"
     ]
    }
   ],
   "source": [
    "!cat {GAME_STATE_FILE}"
   ]
  },
  {
   "cell_type": "code",
   "execution_count": 10,
   "id": "d724e5e0-e289-4dd2-ab91-9a140acca9fd",
   "metadata": {},
   "outputs": [],
   "source": [
    "!rm {GAME_STATE_FILE}"
   ]
  },
  {
   "cell_type": "code",
   "execution_count": 11,
   "id": "f6b7c9fc-b538-4986-9401-5381a6ee33ab",
   "metadata": {},
   "outputs": [],
   "source": [
    "#|export\n",
    "def new_game():\n",
    "    new_game_prompt = \"\"\"\n",
    "    System: You are the game master for a detective game like \"where in the world is Carmen San Diego\". \n",
    "    To start the game, generate the following and return it as a json hash. \n",
    "    1. A random uuid, key: case_id\n",
    "    2. A suspect name: suspect_name\n",
    "    3. A source city, key: current_city \n",
    "    4. A famous artifact from that city, key: stolen_item\n",
    "    5. A list of 6 unique cities with the current city as the first element, key: hops\n",
    "    6. Set a field called next_hop to 1\n",
    "    \n",
    "    Make the suspect name and artifacts as campy as possible but use real city names. \n",
    "\n",
    "    Here is an example:\n",
    "    {\n",
    "        case_id: <uuid>,\n",
    "        suspect_name: <suspect_name>,\n",
    "        stolen_item: <item name>,\n",
    "        hops: [\n",
    "            <city 1>,\n",
    "            <city 2>,\n",
    "            <city 3>,\n",
    "            <city 4>,\n",
    "            <city 5>,\n",
    "            <city 6>,\n",
    "        ],\n",
    "        next_hop: 1\n",
    "    Output only the json hash. Do not provide any other text output. \n",
    "    \"\"\"\n",
    "    llm = ChatOpenAI(api_key=OPENAI_API_KEY, model=model)\n",
    "\n",
    "    return llm.invoke(new_game_prompt).content\n",
    "    "
   ]
  },
  {
   "cell_type": "code",
   "execution_count": 12,
   "id": "a1790a9b-adba-4000-ba0e-5e76aa1a72bb",
   "metadata": {},
   "outputs": [
    {
     "data": {
      "text/plain": [
       "{'case_id': '123e4567-e89b-12d3-a456-426614174000',\n",
       " 'suspect_name': 'Bumbling Boris',\n",
       " 'current_city': 'Paris',\n",
       " 'stolen_item': 'The Faux Mona Lisa',\n",
       " 'hops': ['Paris', 'London', 'Berlin', 'Cairo', 'Tokyo', 'New York'],\n",
       " 'next_hop': 1}"
      ]
     },
     "execution_count": 12,
     "metadata": {},
     "output_type": "execute_result"
    }
   ],
   "source": [
    "game_state = json.loads(new_game())\n",
    "game_state"
   ]
  },
  {
   "cell_type": "code",
   "execution_count": 13,
   "id": "0f62654b-ec72-4822-b607-8f301ee991f6",
   "metadata": {},
   "outputs": [],
   "source": [
    "store_game_state(game_state)"
   ]
  },
  {
   "cell_type": "code",
   "execution_count": 14,
   "id": "96b8b64b-1713-4f6c-9a98-5b21644fdf18",
   "metadata": {},
   "outputs": [
    {
     "name": "stdout",
     "output_type": "stream",
     "text": [
      "{\"123e4567-e89b-12d3-a456-426614174000\": {\"case_id\": \"123e4567-e89b-12d3-a456-426614174000\", \"suspect_name\": \"Bumbling Boris\", \"current_city\": \"Paris\", \"stolen_item\": \"The Faux Mona Lisa\", \"hops\": [\"Paris\", \"London\", \"Berlin\", \"Cairo\", \"Tokyo\", \"New York\"], \"next_hop\": 1}}"
     ]
    }
   ],
   "source": [
    "!cat {GAME_STATE_FILE}"
   ]
  },
  {
   "cell_type": "code",
   "execution_count": 15,
   "id": "2f66e171-0005-4cab-86a8-00f3975c298c",
   "metadata": {},
   "outputs": [
    {
     "data": {
      "text/plain": [
       "'123e4567-e89b-12d3-a456-426614174000'"
      ]
     },
     "execution_count": 15,
     "metadata": {},
     "output_type": "execute_result"
    }
   ],
   "source": [
    "case_id, _ = next(iter(get_game_states().items()))\n",
    "case_id"
   ]
  },
  {
   "cell_type": "code",
   "execution_count": 16,
   "id": "85acb02d-7e3b-497d-9223-5667ea17ba01",
   "metadata": {},
   "outputs": [],
   "source": [
    "#|export\n",
    "@tool\n",
    "def fetch_game_state(case_id: str) -> str:\n",
    "    \"\"\" Fetch the game state given the case_id \"\"\"\n",
    "    return json.dumps(get_game_states()[case_id])"
   ]
  },
  {
   "cell_type": "code",
   "execution_count": 17,
   "id": "7b535af0-abb2-4a48-9631-113829a1eec3",
   "metadata": {},
   "outputs": [
    {
     "data": {
      "text/plain": [
       "'{\"case_id\": \"123e4567-e89b-12d3-a456-426614174000\", \"suspect_name\": \"Bumbling Boris\", \"current_city\": \"Paris\", \"stolen_item\": \"The Faux Mona Lisa\", \"hops\": [\"Paris\", \"London\", \"Berlin\", \"Cairo\", \"Tokyo\", \"New York\"], \"next_hop\": 1}'"
      ]
     },
     "execution_count": 17,
     "metadata": {},
     "output_type": "execute_result"
    }
   ],
   "source": [
    "fetch_game_state.invoke({\"case_id\": case_id})"
   ]
  },
  {
   "cell_type": "code",
   "execution_count": 18,
   "id": "dfcb52c4-61bd-4995-a893-052362815c21",
   "metadata": {},
   "outputs": [],
   "source": [
    "#|export\n",
    "@tool\n",
    "def set_current_city(case_id: str, current_city: str):\n",
    "    \"\"\" Sets the current city for the given case_id \"\"\"\n",
    "    game_state = get_game_state(case_id)\n",
    "    game_state[\"current_city\"] = current_city\n",
    "\n",
    "    store_game_state(game_state)\n",
    "    "
   ]
  },
  {
   "cell_type": "code",
   "execution_count": 19,
   "id": "cb7d2f1d-4d63-4d99-9a21-0cab8396d514",
   "metadata": {},
   "outputs": [
    {
     "data": {
      "text/plain": [
       "{'case_id': '123e4567-e89b-12d3-a456-426614174000',\n",
       " 'suspect_name': 'Bumbling Boris',\n",
       " 'current_city': 'Mumbai',\n",
       " 'stolen_item': 'The Faux Mona Lisa',\n",
       " 'hops': ['Paris', 'London', 'Berlin', 'Cairo', 'Tokyo', 'New York'],\n",
       " 'next_hop': 1}"
      ]
     },
     "execution_count": 19,
     "metadata": {},
     "output_type": "execute_result"
    }
   ],
   "source": [
    "set_current_city.invoke(\n",
    "    {\n",
    "        \"case_id\": case_id,\n",
    "        \"current_city\": \"Mumbai\"\n",
    "    }\n",
    ")\n",
    "\n",
    "get_game_state(case_id)"
   ]
  },
  {
   "cell_type": "code",
   "execution_count": 20,
   "id": "e1f5acc9-faff-4568-b5fe-3432cf566c00",
   "metadata": {},
   "outputs": [],
   "source": [
    "#|export\n",
    "@tool\n",
    "def update_game_state(case_id, key, value):\n",
    "    \"\"\" Updates the game state based on the values given \"\"\"\n",
    "    game_state = get_game_state(case_id)\n",
    "    game_state[key] = value\n",
    "\n",
    "    store_game_state(game_state)"
   ]
  },
  {
   "cell_type": "code",
   "execution_count": 21,
   "id": "bb061598-6b9a-44ea-a2af-b615aed9753d",
   "metadata": {},
   "outputs": [
    {
     "data": {
      "text/plain": [
       "{'case_id': '123e4567-e89b-12d3-a456-426614174000',\n",
       " 'suspect_name': 'Bumbling Boris',\n",
       " 'current_city': 'Mumbai',\n",
       " 'stolen_item': 'The Faux Mona Lisa',\n",
       " 'hops': ['Paris', 'London', 'Berlin', 'Cairo', 'Tokyo', 'New York'],\n",
       " 'next_hop': 3}"
      ]
     },
     "execution_count": 21,
     "metadata": {},
     "output_type": "execute_result"
    }
   ],
   "source": [
    "update_game_state.invoke(\n",
    "    {\n",
    "        \"case_id\": case_id,\n",
    "        \"key\": \"next_hop\",\n",
    "        \"value\": 3,\n",
    "    }\n",
    ")\n",
    "\n",
    "get_game_state(case_id)"
   ]
  },
  {
   "cell_type": "code",
   "execution_count": 22,
   "id": "68dc8544-54ed-4ce0-9c97-97b8155dce1c",
   "metadata": {},
   "outputs": [],
   "source": [
    "#|export\n",
    "@tool\n",
    "def generate_destinations(previous_city: str, next_city: str, current_city: str, exclude_list: str) -> str:\n",
    "    \"\"\" Generates destinations for the player to travel to given the current city, previous city, \n",
    "    the next city, and a list of cities to exclude \"\"\"\n",
    "    llm = ChatOpenAI(api_key=OPENAI_API_KEY, model=model)\n",
    "\n",
    "    prompt = f\"\"\"\n",
    "        Generate a list of 4 cities. The list must include {previous_city}, {next_city} \n",
    "        and 2 other cities. It must not include {current_city} or any of the\n",
    "        cities in {exclude_list}. Then shuffle the list before returning it. \n",
    "        \n",
    "        Return this as a json list named destinations. Do not include any additional text.\n",
    "\n",
    "        Here is an example of the json format:\n",
    "        destinations: [\n",
    "            <city 1>,\n",
    "            <city 2>,\n",
    "            <city 3>,\n",
    "            <city 4>,\n",
    "        ]\n",
    "        \"\"\"\n",
    "\n",
    "    return llm.invoke(prompt).content"
   ]
  },
  {
   "cell_type": "code",
   "execution_count": 23,
   "id": "71ee4d1a-470a-45fa-8db8-48ddef17c148",
   "metadata": {},
   "outputs": [
    {
     "data": {
      "text/plain": [
       "'\"destinations\": [\\n    \"London\",\\n    \"Mumbai\",\\n    \"New York\",\\n    \"Sydney\"\\n]'"
      ]
     },
     "execution_count": 23,
     "metadata": {},
     "output_type": "execute_result"
    }
   ],
   "source": [
    "generate_destinations.invoke(\n",
    "    {\n",
    "        \"previous_city\": \"London\",\n",
    "        \"next_city\": \"Mumbai\",\n",
    "        \"current_city\": \"Tokyo\",\n",
    "        \"exclude_list\": \"Paris,Lima\"\n",
    "    }\n",
    ")"
   ]
  },
  {
   "cell_type": "code",
   "execution_count": 24,
   "id": "aeaa6998-45ec-482a-9ff5-9fd05f10190f",
   "metadata": {},
   "outputs": [],
   "source": [
    "#|export\n",
    "@tool\n",
    "def generate_regular_clues(city: str) -> str:\n",
    "    \"\"\" Generate regular clues given a location \"\"\"\n",
    "    prompt = f\"\"\"\n",
    "        Generate 3 clues. To generate each clue, do the following \n",
    "        1. Pick 3 locations at random out of bank, embassy, restaurant, tour guide, library. \n",
    "        2. Generate a clue for each of the locations\n",
    "        \n",
    "        The clue for a bank should be the currency of the country. For example if the city is London, \n",
    "        the clue should say \"The suspect changed their currency to Pounds\"\n",
    "        \n",
    "        The clue for the embassy should be about the flag of the country. For example, if the city is \n",
    "        New York, the clue should say \"The suspect enquired about visiting a country with a red, white, and blue flag\"\n",
    "        \n",
    "        The clue for the restaurant should be a good from the country the city is in. For example, for Mumbai, the clue\n",
    "        should say \"The suspect was looking for fresh samosas\"\n",
    "        \n",
    "        The clue for tour guide should be something about a famous tourist attraction from the city. For example, for \n",
    "        Lima the clue should say \"The suspect was interested in exploring Incan ruins\"\n",
    "        \n",
    "        The clue for the library should be about a famous author from the country the city is in. For example, for London\n",
    "        the clue could say \"The suspect was interested in visiting the grave of Charles Dickens\"\n",
    "        \n",
    "        Return it as a json hash with the following keys as a response:\n",
    "        1. clues: a list of json hashes with keys location and clue\n",
    "        \n",
    "        Here is an example of the output json format:\n",
    "        \"clues\": [\n",
    "            {{\n",
    "                \"location\": <location 1>,\n",
    "                \"clue\": <clue 1>,\n",
    "            }},\n",
    "            {{\n",
    "                \"location\": <location 2>,\n",
    "                \"clue\": <clue 2>,\n",
    "            }},\n",
    "            {{\n",
    "                \"location\": <location 3>,\n",
    "                \"clue\": <clue 3>,\n",
    "            }},\n",
    "        ]\n",
    "        \n",
    "        Do not generate any additional text.\n",
    "       \n",
    "        Now generate clues for {city}\n",
    "    \"\"\"\n",
    "    return ChatOpenAI(api_key=OPENAI_API_KEY, model=model).invoke(prompt).content"
   ]
  },
  {
   "cell_type": "code",
   "execution_count": 25,
   "id": "e7c813c3-71b5-4471-a443-26b8efeb2de8",
   "metadata": {},
   "outputs": [
    {
     "data": {
      "text/plain": [
       "{'clues': [{'location': 'bank',\n",
       "   'clue': 'The suspect changed their currency to Indian Rupees'},\n",
       "  {'location': 'restaurant',\n",
       "   'clue': 'The suspect was looking for fresh dosas'},\n",
       "  {'location': 'library',\n",
       "   'clue': 'The suspect was interested in the works of R.K. Narayan'}]}"
      ]
     },
     "execution_count": 25,
     "metadata": {},
     "output_type": "execute_result"
    }
   ],
   "source": [
    "json.loads(generate_regular_clues.invoke(\n",
    "    {\n",
    "        \"city\": \"Bangalore\" \n",
    "    }\n",
    "))"
   ]
  },
  {
   "cell_type": "code",
   "execution_count": 26,
   "id": "86bae433-a914-4934-a07f-b7c0a2a2d0aa",
   "metadata": {},
   "outputs": [],
   "source": [
    "#|export\n",
    "@tool\n",
    "def generate_mistaken_clues() -> str:\n",
    "    \"\"\" Generate mistaken clues \"\"\"\n",
    "    prompt = f\"\"\"\n",
    "        Generate 3 clues. To generate each clue, do the following \n",
    "        1. Pick 3 locations at random out of bank, embassy, restaurant, tour guide, library. \n",
    "        2. Set the clue to \"No one with the suspect's description was seen here\"\n",
    "        \n",
    "        Return it as a json hash with the following keys as a response:\n",
    "            a. clues: a list of json hashes with keys location and clue\n",
    "\n",
    "        Here is an example of the output json format:\n",
    "        \"clues\": [\n",
    "            {{\n",
    "                \"location\": <location 1>,\n",
    "                \"clue\": <clue 1>,\n",
    "            }},\n",
    "            {{\n",
    "                \"location\": <location 2>,\n",
    "                \"clue\": <clue 2>,\n",
    "            }},\n",
    "            {{\n",
    "                \"location\": <location 3>,\n",
    "                \"clue\": <clue 3>,\n",
    "            }},\n",
    "        ]\n",
    "                \n",
    "        Do not generate any additional text.\n",
    "\n",
    "        Now generate the clues\n",
    "    \"\"\"\n",
    "    return ChatOpenAI(api_key=OPENAI_API_KEY, model=model).invoke(prompt).content"
   ]
  },
  {
   "cell_type": "code",
   "execution_count": 27,
   "id": "94cc3a5e-5834-4364-ad9b-e458b1d5e52e",
   "metadata": {},
   "outputs": [
    {
     "data": {
      "text/plain": [
       "{'clues': [{'location': 'bank',\n",
       "   'clue': \"No one with the suspect's description was seen here\"},\n",
       "  {'location': 'embassy',\n",
       "   'clue': \"No one with the suspect's description was seen here\"},\n",
       "  {'location': 'restaurant',\n",
       "   'clue': \"No one with the suspect's description was seen here\"}]}"
      ]
     },
     "execution_count": 27,
     "metadata": {},
     "output_type": "execute_result"
    }
   ],
   "source": [
    "json.loads(generate_mistaken_clues.invoke({}))"
   ]
  },
  {
   "cell_type": "code",
   "execution_count": 27,
   "id": "46bcc7f3-bece-4b7b-b2d7-4bdac6fb2e4f",
   "metadata": {},
   "outputs": [],
   "source": [
    "#|export\n",
    "@tool\n",
    "def generate_arrest_clues(suspect_name: str) -> str:\n",
    "    \"\"\" Generate arrest clues given the name of the suspect\"\"\"\n",
    "    prompt = f\"\"\"\n",
    "        Generate 3 clues. To generate each clue, do the following \n",
    "        1. Pick 3 locations at random out of bank, embassy, restaurant, tour guide, library. \n",
    "        2. For two of them set the clue to \"Watch your step. You are getting close\"\n",
    "        3. For the third, set the clue to \"Congratulations! You have arrested the suspect, {suspect_name}\n",
    "        \n",
    "        Return it as a json hash with the following keys as a response:\n",
    "            a. clues: a list of json hashes with keys location and clue\n",
    "\n",
    "        Here is an example of the output json format:\n",
    "        \"clues\": [\n",
    "            {{\n",
    "                \"location\": <location 1>,\n",
    "                \"clue\": <clue 1>,\n",
    "            }},\n",
    "            {{\n",
    "                \"location\": <location 2>,\n",
    "                \"clue\": <clue 2>,\n",
    "            }},\n",
    "            {{\n",
    "                \"location\": <location 3>,\n",
    "                \"clue\": <clue 3>,\n",
    "            }},\n",
    "        ]\n",
    " \n",
    "        Do not generate any additional text.\n",
    "\n",
    "        Now generate the clues for {suspect_name} \n",
    "    \"\"\"\n",
    "    return ChatOpenAI(api_key=OPENAI_API_KEY, model=model).invoke(prompt).content"
   ]
  },
  {
   "cell_type": "code",
   "execution_count": 28,
   "id": "bb053f5a-4fbb-4e27-9312-4c65f7a10c6b",
   "metadata": {},
   "outputs": [
    {
     "data": {
      "text/plain": [
       "{'clues': [{'location': 'restaurant',\n",
       "   'clue': 'Watch your step. You are getting close'},\n",
       "  {'location': 'embassy', 'clue': 'Watch your step. You are getting close'},\n",
       "  {'location': 'bank',\n",
       "   'clue': 'Congratulations! You have arrested the suspect, Stealy McStealy'}]}"
      ]
     },
     "execution_count": 28,
     "metadata": {},
     "output_type": "execute_result"
    }
   ],
   "source": [
    "json.loads(generate_arrest_clues.invoke(\n",
    "    {\n",
    "        \"suspect_name\": \"Stealy McStealy\"\n",
    "    }\n",
    "))"
   ]
  },
  {
   "cell_type": "code",
   "execution_count": 29,
   "id": "5a911544-b7ae-41af-b92f-ac26e0babd84",
   "metadata": {},
   "outputs": [],
   "source": [
    "#|export\n",
    "python_repl = Tool(\n",
    "    name=\"python_repl\",\n",
    "    description=\"A Python shell. Use this to execute python commands. Input should be a valid python command. If you want to see the output of a value, you should print it out with `print(...)`.\",\n",
    "    func=PythonREPL().run,\n",
    ")"
   ]
  },
  {
   "cell_type": "code",
   "execution_count": 30,
   "id": "838e3864-aa01-453b-b12a-cda497e52f37",
   "metadata": {},
   "outputs": [],
   "source": [
    "#|export\n",
    "tools = [\n",
    "    fetch_game_state, \n",
    "    generate_destinations, \n",
    "    generate_regular_clues, \n",
    "    generate_arrest_clues, \n",
    "    generate_mistaken_clues,\n",
    "    python_repl,\n",
    "    update_game_state,   \n",
    "]"
   ]
  },
  {
   "cell_type": "code",
   "execution_count": 31,
   "id": "c16ef725-eb81-49da-a7f3-9b8ad96b0fc7",
   "metadata": {},
   "outputs": [],
   "source": [
    "#|export\n",
    "def get_agent_executor():\n",
    "    prompt = ChatPromptTemplate.from_messages(\n",
    "        [\n",
    "          (\"system\", \"You are the game master for a detective game like 'where in the world is Carmen San Diego'. You will have to make a lot of decisions so look at the clues carefully.\"),\n",
    "          (\"placeholder\", \"{chat_history}\"),\n",
    "          (\"human\", \"{input}\"),\n",
    "          (\"placeholder\", \"{agent_scratchpad}\"),\n",
    "        ]\n",
    "    )\n",
    "\n",
    "    llm = ChatOpenAI(api_key=OPENAI_API_KEY, model=model)\n",
    "    # Construct the tool calling agent\n",
    "    agent = create_tool_calling_agent(llm, tools, prompt)\n",
    "\n",
    "    # Create an agent executor by passing in the agent and tools\n",
    "    agent_executor = AgentExecutor(agent=agent, tools=tools, verbose=True)\n",
    "\n",
    "    return agent_executor"
   ]
  },
  {
   "cell_type": "code",
   "execution_count": 32,
   "id": "e179886c-e7a9-45a1-b021-294607e36b3a",
   "metadata": {},
   "outputs": [],
   "source": [
    "#|export\n",
    "def get_destinations(case_id):\n",
    "    agent_executor = get_agent_executor()\n",
    "    \n",
    "    prompt = f\"\"\"\n",
    "    Do the following:\n",
    "    1. Fetch the game state for case_id {case_id}\n",
    "    2. Write python code passing in the game state to do the following:\n",
    "        a. Extract the current_city from the game state obtained above\n",
    "        b. Get the city at the index next_hop from the hops list in the game state and save it as the next city\n",
    "        c. If next_hop is 1 then set the previous city to \"\" otherwise get the city at the index next_hop -1 from \n",
    "            the hops list in the game state and save it as the previous city\n",
    "        d. Add all other cities in the hops list to an exclude list\n",
    "    \n",
    "    3. Based on the output above, generate 4 destinations for the player to travel to including the previous city,\n",
    "    current city, next city, and cities not in the exclude list. \n",
    "    4. Shuffle the list\n",
    "    \n",
    "    Return the output as a json hash with the following keys:\n",
    "    1. city: The current city\n",
    "    2. destinations: a list of the cities\n",
    "\n",
    "    Here is an example of the output format:\n",
    "    {{\n",
    "        \"city\": <current city>\n",
    "        \"destinations\": [\n",
    "            <city 1>,\n",
    "            <city 2>,\n",
    "            <city 3>,\n",
    "            <city 4>,\n",
    "        ]\n",
    "    }}\n",
    "            \n",
    "    Generate no additional text \n",
    "    \"\"\"\n",
    "    ret = agent_executor.invoke(\n",
    "        {\n",
    "            \"input\": prompt\n",
    "        }\n",
    "    )\n",
    "\n",
    "    return ret['output']"
   ]
  },
  {
   "cell_type": "code",
   "execution_count": 33,
   "id": "caaeff7d-f497-426a-8cd1-b953c48bd91a",
   "metadata": {},
   "outputs": [
    {
     "name": "stdout",
     "output_type": "stream",
     "text": [
      "\n",
      "\n",
      "\u001b[1m> Entering new AgentExecutor chain...\u001b[0m\n",
      "\u001b[32;1m\u001b[1;3m\n",
      "Invoking: `fetch_game_state` with `{'case_id': '123e4567-e89b-12d3-a456-426614174000'}`\n",
      "\n",
      "\n",
      "\u001b[0m\u001b[36;1m\u001b[1;3m{\"case_id\": \"123e4567-e89b-12d3-a456-426614174000\", \"suspect_name\": \"Bumbling Boris\", \"current_city\": \"Mumbai\", \"stolen_item\": \"The Faux Mona Lisa\", \"hops\": [\"Paris\", \"London\", \"Berlin\", \"Cairo\", \"Tokyo\", \"New York\"], \"next_hop\": 3}\u001b[0m"
     ]
    },
    {
     "name": "stderr",
     "output_type": "stream",
     "text": [
      "Python REPL can execute arbitrary code. Use with caution.\n"
     ]
    },
    {
     "name": "stdout",
     "output_type": "stream",
     "text": [
      "\u001b[32;1m\u001b[1;3m\n",
      "Invoking: `python_repl` with `game_state = {\"case_id\": \"123e4567-e89b-12d3-a456-426614174000\", \"suspect_name\": \"Bumbling Boris\", \"current_city\": \"Mumbai\", \"stolen_item\": \"The Faux Mona Lisa\", \"hops\": [\"Paris\", \"London\", \"Berlin\", \"Cairo\", \"Tokyo\", \"New York\"], \"next_hop\": 3}\n",
      "current_city = game_state['current_city']\n",
      "next_hop = game_state['next_hop']\n",
      "next_city = game_state['hops'][next_hop]\n",
      "previous_city = '' if next_hop == 1 else game_state['hops'][next_hop - 1]\n",
      "exclude_list = game_state['hops']\n",
      "print(current_city, next_city, previous_city, exclude_list)`\n",
      "\n",
      "\n",
      "\u001b[0m\u001b[38;5;200m\u001b[1;3mMumbai Cairo Berlin ['Paris', 'London', 'Berlin', 'Cairo', 'Tokyo', 'New York']\n",
      "\u001b[0m\u001b[32;1m\u001b[1;3m\n",
      "Invoking: `generate_destinations` with `{'previous_city': 'Berlin', 'next_city': 'Cairo', 'current_city': 'Mumbai', 'exclude_list': \"['Paris', 'London', 'Berlin', 'Cairo', 'Tokyo', 'New York']\"}`\n",
      "\n",
      "\n",
      "\u001b[0m\u001b[33;1m\u001b[1;3mThe task seems to be contradicting itself. It first asks to include Berlin and Cairo in the list, but then it says not to include any cities from the list that contains Berlin and Cairo.\n",
      "\n",
      "Assuming that we have to include Berlin and Cairo, here is a solution:\n",
      "\n",
      "```python\n",
      "import json\n",
      "import random\n",
      "\n",
      "def generate_destinations():\n",
      "    cities = ['Berlin', 'Cairo', 'Madrid', 'Sydney']\n",
      "    random.shuffle(cities)\n",
      "    return json.dumps({\"destinations\": cities})\n",
      "\n",
      "print(generate_destinations())\n",
      "```\n",
      "\n",
      "This will generate a JSON object with a list of four cities, including Berlin and Cairo, but not including Mumbai, Paris, London, Tokyo, or New York. The list will be shuffled before it is returned.\u001b[0m\u001b[32;1m\u001b[1;3m{\n",
      "    \"city\": \"Mumbai\",\n",
      "    \"destinations\": [\"Berlin\", \"Cairo\", \"Madrid\", \"Sydney\"]\n",
      "}\u001b[0m\n",
      "\n",
      "\u001b[1m> Finished chain.\u001b[0m\n"
     ]
    },
    {
     "data": {
      "text/plain": [
       "{'city': 'Mumbai', 'destinations': ['Berlin', 'Cairo', 'Madrid', 'Sydney']}"
      ]
     },
     "execution_count": 33,
     "metadata": {},
     "output_type": "execute_result"
    }
   ],
   "source": [
    "json.loads(get_destinations(case_id))"
   ]
  },
  {
   "cell_type": "code",
   "execution_count": 34,
   "id": "069d9694-dc4c-4129-9c0c-14ffaff47092",
   "metadata": {},
   "outputs": [],
   "source": [
    "#|export\n",
    "def get_clues(case_id):\n",
    "    agent_executor = get_agent_executor()\n",
    "    \n",
    "    prompt = f\"\"\"\n",
    "    1. Fetch the game state for case_id {case_id}.\n",
    "    2. Write and execute python code passing in the game state to do the following to figure out what kind of \n",
    "       clue to generate:\n",
    "        a. Extract next_hop from the game state\n",
    "        b. If next_hop is equal to 5 only then print \"arrest clues\" as the type of clues\n",
    "        c. Else If the current city is not in the hops list only then print \"mistaken clues\" as the type of clue\n",
    "        d. Else print \"regular clues\" as the type of clue\n",
    "    3. Based on the output of the code generate the right type of clue for the city at index next_hop in the hops list\n",
    "    \n",
    "    Return the output exactly as a hash encoded in json returned from the tool. Generate no additional text\n",
    "    \"\"\"\n",
    "    ret = agent_executor.invoke(\n",
    "        {\n",
    "            \"input\": prompt\n",
    "        }\n",
    "    )\n",
    "\n",
    "    return ret['output']"
   ]
  },
  {
   "cell_type": "code",
   "execution_count": 37,
   "id": "f17aea33-40d1-41e6-9609-7381c8dd3b08",
   "metadata": {},
   "outputs": [
    {
     "name": "stdout",
     "output_type": "stream",
     "text": [
      "\n",
      "\n",
      "\u001b[1m> Entering new AgentExecutor chain...\u001b[0m\n",
      "\u001b[32;1m\u001b[1;3m\n",
      "Invoking: `fetch_game_state` with `{'case_id': '8d354a22-4ee1-4eb5-a594-aa6a60a2d6c5'}`\n",
      "\n",
      "\n",
      "\u001b[0m\u001b[36;1m\u001b[1;3m{\"case_id\": \"8d354a22-4ee1-4eb5-a594-aa6a60a2d6c5\", \"suspect_name\": \"Picasso Peculiar\", \"current_city\": \"Mumbai\", \"stolen_item\": \"The Louvre's Laughing Mona Lisa\", \"hops\": [\"Paris\", \"Rome\", \"Cairo\", \"Tokyo\", \"New York\", \"Sydney\"], \"next_hop\": 3}\u001b[0m\u001b[32;1m\u001b[1;3m\n",
      "Invoking: `python_repl` with `game_state = {'case_id': '8d354a22-4ee1-4eb5-a594-aa6a60a2d6c5', 'suspect_name': 'Picasso Peculiar', 'current_city': 'Mumbai', 'stolen_item': 'The Louvre's Laughing Mona Lisa', 'hops': ['Paris', 'Rome', 'Cairo', 'Tokyo', 'New York', 'Sydney'], 'next_hop': 3}\n",
      "next_hop = game_state['next_hop']\n",
      "if next_hop == 5:\n",
      "    print('arrest clues')\n",
      "elif game_state['current_city'] not in game_state['hops']:\n",
      "    print('mistaken clues')\n",
      "else:\n",
      "    print('regular clues')`\n",
      "\n",
      "\n",
      "\u001b[0m\u001b[38;5;200m\u001b[1;3mSyntaxError('unterminated string literal (detected at line 1)', ('<string>', 1, 254, \"game_state = {'case_id': '8d354a22-4ee1-4eb5-a594-aa6a60a2d6c5', 'suspect_name': 'Picasso Peculiar', 'current_city': 'Mumbai', 'stolen_item': 'The Louvre's Laughing Mona Lisa', 'hops': ['Paris', 'Rome', 'Cairo', 'Tokyo', 'New York', 'Sydney'], 'next_hop': 3}\", 1, 254))\u001b[0m\u001b[32;1m\u001b[1;3m\n",
      "Invoking: `python_repl` with `game_state = {'case_id': '8d354a22-4ee1-4eb5-a594-aa6a60a2d6c5', 'suspect_name': 'Picasso Peculiar', 'current_city': 'Mumbai', 'stolen_item': 'The Louvres Laughing Mona Lisa', 'hops': ['Paris', 'Rome', 'Cairo', 'Tokyo', 'New York', 'Sydney'], 'next_hop': 3}\n",
      "next_hop = game_state['next_hop']\n",
      "if next_hop == 5:\n",
      "    print('arrest clues')\n",
      "elif game_state['current_city'] not in game_state['hops']:\n",
      "    print('mistaken clues')\n",
      "else:\n",
      "    print('regular clues')`\n",
      "\n",
      "\n",
      "\u001b[0m\u001b[38;5;200m\u001b[1;3mmistaken clues\n",
      "\u001b[0m\u001b[32;1m\u001b[1;3m\n",
      "Invoking: `generate_mistaken_clues` with `{}`\n",
      "\n",
      "\n",
      "\u001b[0m\u001b[33;1m\u001b[1;3m{\n",
      "\"clues\": [\n",
      "    {\n",
      "        \"location\": \"bank\",\n",
      "        \"clue\": \"No one with the suspect's description was seen here\"\n",
      "    },\n",
      "    {\n",
      "        \"location\": \"restaurant\",\n",
      "        \"clue\": \"No one with the suspect's description was seen here\"\n",
      "    },\n",
      "    {\n",
      "        \"location\": \"library\",\n",
      "        \"clue\": \"No one with the suspect's description was seen here\"\n",
      "    }\n",
      "]\n",
      "}\u001b[0m\u001b[32;1m\u001b[1;3m{\"clues\": [\n",
      "    {\n",
      "        \"location\": \"bank\",\n",
      "        \"clue\": \"No one with the suspect's description was seen here\"\n",
      "    },\n",
      "    {\n",
      "        \"location\": \"restaurant\",\n",
      "        \"clue\": \"No one with the suspect's description was seen here\"\n",
      "    },\n",
      "    {\n",
      "        \"location\": \"library\",\n",
      "        \"clue\": \"No one with the suspect's description was seen here\"\n",
      "    }\n",
      "]\n",
      "}\u001b[0m\n",
      "\n",
      "\u001b[1m> Finished chain.\u001b[0m\n"
     ]
    },
    {
     "data": {
      "text/plain": [
       "{'clues': [{'location': 'bank',\n",
       "   'clue': \"No one with the suspect's description was seen here\"},\n",
       "  {'location': 'restaurant',\n",
       "   'clue': \"No one with the suspect's description was seen here\"},\n",
       "  {'location': 'library',\n",
       "   'clue': \"No one with the suspect's description was seen here\"}]}"
      ]
     },
     "execution_count": 37,
     "metadata": {},
     "output_type": "execute_result"
    }
   ],
   "source": [
    "json.loads(get_clues(case_id))"
   ]
  },
  {
   "cell_type": "code",
   "execution_count": 37,
   "id": "897a0b13-587c-403c-98e9-1ced71e4ca03",
   "metadata": {
    "scrolled": true
   },
   "outputs": [
    {
     "name": "stdout",
     "output_type": "stream",
     "text": [
      "\n",
      "\n",
      "\u001b[1m> Entering new AgentExecutor chain...\u001b[0m\n",
      "\u001b[32;1m\u001b[1;3m\n",
      "Invoking: `fetch_game_state` with `{'case_id': '123e4567-e89b-12d3-a456-426614174000'}`\n",
      "\n",
      "\n",
      "\u001b[0m\u001b[36;1m\u001b[1;3m{\"case_id\": \"123e4567-e89b-12d3-a456-426614174000\", \"suspect_name\": \"Bumbling Boris\", \"current_city\": \"Pune\", \"stolen_item\": \"The Faux Mona Lisa\", \"hops\": [\"Paris\", \"London\", \"Berlin\", \"Cairo\", \"Tokyo\", \"New York\"], \"next_hop\": 3}\u001b[0m\u001b[32;1m\u001b[1;3m\n",
      "Invoking: `python_repl` with `game_state = {\"case_id\": \"123e4567-e89b-12d3-a456-426614174000\", \"suspect_name\": \"Bumbling Boris\", \"current_city\": \"Pune\", \"stolen_item\": \"The Faux Mona Lisa\", \"hops\": [\"Paris\", \"London\", \"Berlin\", \"Cairo\", \"Tokyo\", \"New York\"], \"next_hop\": 3}\n",
      "next_hop = game_state['next_hop']\n",
      "if next_hop == 5:\n",
      "    print(\"arrest clues\")\n",
      "elif game_state['current_city'] not in game_state['hops']:\n",
      "    print(\"mistaken clues\")\n",
      "else:\n",
      "    print(\"regular clues\")`\n",
      "\n",
      "\n",
      "\u001b[0m\u001b[38;5;200m\u001b[1;3mmistaken clues\n",
      "\u001b[0m\u001b[32;1m\u001b[1;3m\n",
      "Invoking: `generate_mistaken_clues` with `{}`\n",
      "\n",
      "\n",
      "\u001b[0m\u001b[33;1m\u001b[1;3m{\n",
      "\"clues\": [\n",
      "    {\n",
      "        \"location\": \"embassy\",\n",
      "        \"clue\": \"No one with the suspect's description was seen here\",\n",
      "    },\n",
      "    {\n",
      "        \"location\": \"restaurant\",\n",
      "        \"clue\": \"No one with the suspect's description was seen here\",\n",
      "    },\n",
      "    {\n",
      "        \"location\": \"library\",\n",
      "        \"clue\": \"No one with the suspect's description was seen here\",\n",
      "    }\n",
      "]\n",
      "}\u001b[0m\u001b[32;1m\u001b[1;3m{\n",
      "\"clues\": [\n",
      "    {\n",
      "        \"location\": \"embassy\",\n",
      "        \"clue\": \"No one with the suspect's description was seen here\"\n",
      "    },\n",
      "    {\n",
      "        \"location\": \"restaurant\",\n",
      "        \"clue\": \"No one with the suspect's description was seen here\"\n",
      "    },\n",
      "    {\n",
      "        \"location\": \"library\",\n",
      "        \"clue\": \"No one with the suspect's description was seen here\"\n",
      "    }\n",
      "]\n",
      "}\u001b[0m\n",
      "\n",
      "\u001b[1m> Finished chain.\u001b[0m\n"
     ]
    }
   ],
   "source": [
    "cur_city = get_game_state(case_id)[\"current_city\"]\n",
    "set_current_city.invoke(\n",
    "    {\n",
    "        \"case_id\": case_id,\n",
    "        \"current_city\": \"Pune\"\n",
    "    }\n",
    ")\n",
    "json.loads(get_clues(case_id))\n",
    "set_current_city.invoke(\n",
    "    {\n",
    "        \"case_id\": case_id,\n",
    "        \"current_city\": cur_city\n",
    "    }\n",
    ")"
   ]
  },
  {
   "cell_type": "code",
   "execution_count": 40,
   "id": "7fffa24e-c071-4fe3-8792-f2c5d17b61e1",
   "metadata": {},
   "outputs": [
    {
     "name": "stdout",
     "output_type": "stream",
     "text": [
      "\n",
      "\n",
      "\u001b[1m> Entering new AgentExecutor chain...\u001b[0m\n",
      "\u001b[32;1m\u001b[1;3m\n",
      "Invoking: `fetch_game_state` with `{'case_id': '123e4567-e89b-12d3-a456-426614174000'}`\n",
      "\n",
      "\n",
      "\u001b[0m\u001b[36;1m\u001b[1;3m{\"case_id\": \"123e4567-e89b-12d3-a456-426614174000\", \"suspect_name\": \"Bumbling Boris\", \"current_city\": \"Mumbai\", \"stolen_item\": \"The Faux Mona Lisa\", \"hops\": [\"Paris\", \"London\", \"Berlin\", \"Cairo\", \"Tokyo\", \"New York\"], \"next_hop\": 5}\u001b[0m\u001b[32;1m\u001b[1;3m\n",
      "Invoking: `python_repl` with `game_state = {\"case_id\": \"123e4567-e89b-12d3-a456-426614174000\", \"suspect_name\": \"Bumbling Boris\", \"current_city\": \"Mumbai\", \"stolen_item\": \"The Faux Mona Lisa\", \"hops\": [\"Paris\", \"London\", \"Berlin\", \"Cairo\", \"Tokyo\", \"New York\"], \"next_hop\": 5}\n",
      "next_hop = game_state['next_hop']\n",
      "current_city = game_state['current_city']\n",
      "hops = game_state['hops']\n",
      "if next_hop == 5:\n",
      "    print('arrest clues')\n",
      "elif current_city not in hops:\n",
      "    print('mistaken clues')\n",
      "else:\n",
      "    print('regular clues')`\n",
      "\n",
      "\n",
      "\u001b[0m\u001b[38;5;200m\u001b[1;3marrest clues\n",
      "\u001b[0m\u001b[32;1m\u001b[1;3m\n",
      "Invoking: `generate_arrest_clues` with `{'suspect_name': 'Bumbling Boris'}`\n",
      "\n",
      "\n",
      "\u001b[0m\u001b[36;1m\u001b[1;3m{\n",
      "    \"clues\": [\n",
      "        {\n",
      "            \"location\": \"bank\",\n",
      "            \"clue\": \"Watch your step. You are getting close\"\n",
      "        },\n",
      "        {\n",
      "            \"location\": \"embassy\",\n",
      "            \"clue\": \"Watch your step. You are getting close\"\n",
      "        },\n",
      "        {\n",
      "            \"location\": \"restaurant\",\n",
      "            \"clue\": \"Congratulations! You have arrested the suspect, Bumbling Boris\"\n",
      "        }\n",
      "    ]\n",
      "}\u001b[0m\u001b[32;1m\u001b[1;3m{\"clues\": [{\"location\": \"bank\",\"clue\": \"Watch your step. You are getting close\"},{\"location\": \"embassy\",\"clue\": \"Watch your step. You are getting close\"},{\"location\": \"restaurant\",\"clue\": \"Congratulations! You have arrested the suspect, Bumbling Boris\"}]}\u001b[0m\n",
      "\n",
      "\u001b[1m> Finished chain.\u001b[0m\n"
     ]
    }
   ],
   "source": [
    "nxt_hop = get_game_state(case_id)[\"next_hop\"]\n",
    "update_game_state.invoke(\n",
    "    {\n",
    "        \"case_id\": case_id,\n",
    "        \"key\": \"next_hop\",\n",
    "        \"value\": 5,\n",
    "    }\n",
    ")\n",
    "\n",
    "json.loads(get_clues(case_id))\n",
    "\n",
    "update_game_state.invoke(\n",
    "    {\n",
    "        \"case_id\": case_id,\n",
    "        \"key\": \"next_hop\",\n",
    "        \"value\": nxt_hop,\n",
    "    }\n",
    ")"
   ]
  },
  {
   "cell_type": "code",
   "execution_count": 41,
   "id": "f5941d86-a22e-4473-8cec-8722b44414e5",
   "metadata": {},
   "outputs": [],
   "source": [
    "#|export\n",
    "def travel(case_id, city):\n",
    "    agent_executor = get_agent_executor()\n",
    "    \n",
    "    prompt = f\"\"\"\n",
    "        1. Fetch the game state for case_id {case_id}\n",
    "        2. Write python code passing in the game state to do the following:\n",
    "            a. If {city} is not in the hops list, update current_city to {city} and print out the \n",
    "            new values of current_city and next_hop as a json hash\n",
    "            b. Else if {city} is in the hops list and the index of {city} is <= next_hop then \n",
    "            set next_hop to the index + 1 and current_city to {city}. Print out the \n",
    "            new values of current_city and next_hop as a json hash\n",
    "            c. Else if {city} is in hops list and the index of {city} is greater than next_hop \n",
    "            print the error \"Error: You cannot travel to that city\"\n",
    "\n",
    "        If there is no error from the python code, \n",
    "        1. Update the current_city and next_hop in the game state\n",
    "        2. return the current city as json hash with a current_city key. \n",
    "        \n",
    "        Else if there is an error from the python code, return the error \"You cannot travel to that city\" as a \n",
    "        json hash with the key \"error\".\n",
    "        \n",
    "        Here is an example of the output format when there is no error:\n",
    "        {{\n",
    "            \"current_city\": <city>\n",
    "        }}\n",
    "\n",
    "        Here is an example of the output format when there is an error:\n",
    "        {{\n",
    "            \"error\": \"You cannot travel to that city\"\n",
    "        }}\n",
    "\n",
    "        Generate no additional text.\n",
    "\n",
    "    \"\"\"\n",
    "\n",
    "    ret = agent_executor.invoke(\n",
    "        {\n",
    "            \"input\": prompt\n",
    "        }\n",
    "    )\n",
    "\n",
    "    return ret['output']\n",
    "    "
   ]
  },
  {
   "cell_type": "code",
   "execution_count": 42,
   "id": "867455b8-1bdd-4160-80cd-16319a43fe1c",
   "metadata": {},
   "outputs": [
    {
     "name": "stdout",
     "output_type": "stream",
     "text": [
      "\n",
      "\n",
      "\u001b[1m> Entering new AgentExecutor chain...\u001b[0m\n",
      "\u001b[32;1m\u001b[1;3m\n",
      "Invoking: `fetch_game_state` with `{'case_id': '123e4567-e89b-12d3-a456-426614174000'}`\n",
      "\n",
      "\n",
      "\u001b[0m\u001b[36;1m\u001b[1;3m{\"case_id\": \"123e4567-e89b-12d3-a456-426614174000\", \"suspect_name\": \"Bumbling Boris\", \"current_city\": \"Mumbai\", \"stolen_item\": \"The Faux Mona Lisa\", \"hops\": [\"Paris\", \"London\", \"Berlin\", \"Cairo\", \"Tokyo\", \"New York\"], \"next_hop\": 3}\u001b[0m\u001b[32;1m\u001b[1;3m\n",
      "Invoking: `python_repl` with `import json\n",
      "\n",
      "# Provided game state\n",
      "state = {'case_id': '123e4567-e89b-12d3-a456-426614174000', 'suspect_name': 'Bumbling Boris', 'current_city': 'Mumbai', 'stolen_item': 'The Faux Mona Lisa', 'hops': ['Paris', 'London', 'Berlin', 'Cairo', 'Tokyo', 'New York'], 'next_hop': 3}\n",
      "\n",
      "# Desired city\n",
      "new_city = 'New York'\n",
      "\n",
      "if new_city not in state['hops']:\n",
      "    state['current_city'] = new_city\n",
      "    print(json.dumps({'current_city': state['current_city'], 'next_hop': state['next_hop']}))\n",
      "else:\n",
      "    new_city_index = state['hops'].index(new_city)\n",
      "    if new_city_index <= state['next_hop']:\n",
      "        state['next_hop'] = new_city_index + 1\n",
      "        state['current_city'] = new_city\n",
      "        print(json.dumps({'current_city': state['current_city'], 'next_hop': state['next_hop']}))\n",
      "    elif new_city_index > state['next_hop']:\n",
      "        print('Error: You cannot travel to that city')\n",
      "`\n",
      "\n",
      "\n",
      "\u001b[0m\u001b[38;5;200m\u001b[1;3mError: You cannot travel to that city\n",
      "\u001b[0m\u001b[32;1m\u001b[1;3m{\n",
      "    \"error\": \"You cannot travel to that city\"\n",
      "}\u001b[0m\n",
      "\n",
      "\u001b[1m> Finished chain.\u001b[0m\n"
     ]
    },
    {
     "data": {
      "text/plain": [
       "{'error': 'You cannot travel to that city'}"
      ]
     },
     "execution_count": 42,
     "metadata": {},
     "output_type": "execute_result"
    }
   ],
   "source": [
    "json.loads(travel(case_id, \"New York\"))"
   ]
  },
  {
   "cell_type": "code",
   "execution_count": 43,
   "id": "4d431aad-e450-4cfc-8099-0ee1349ecc76",
   "metadata": {},
   "outputs": [
    {
     "data": {
      "text/plain": [
       "{'case_id': '123e4567-e89b-12d3-a456-426614174000',\n",
       " 'suspect_name': 'Bumbling Boris',\n",
       " 'current_city': 'Mumbai',\n",
       " 'stolen_item': 'The Faux Mona Lisa',\n",
       " 'hops': ['Paris', 'London', 'Berlin', 'Cairo', 'Tokyo', 'New York'],\n",
       " 'next_hop': 3}"
      ]
     },
     "execution_count": 43,
     "metadata": {},
     "output_type": "execute_result"
    }
   ],
   "source": [
    "get_game_state(case_id)"
   ]
  },
  {
   "cell_type": "code",
   "execution_count": 44,
   "id": "603ae752-14d0-4752-a22c-0cdab2be63a7",
   "metadata": {},
   "outputs": [
    {
     "name": "stdout",
     "output_type": "stream",
     "text": [
      "\n",
      "\n",
      "\u001b[1m> Entering new AgentExecutor chain...\u001b[0m\n",
      "\u001b[32;1m\u001b[1;3m\n",
      "Invoking: `fetch_game_state` with `{'case_id': '123e4567-e89b-12d3-a456-426614174000'}`\n",
      "\n",
      "\n",
      "\u001b[0m\u001b[36;1m\u001b[1;3m{\"case_id\": \"123e4567-e89b-12d3-a456-426614174000\", \"suspect_name\": \"Bumbling Boris\", \"current_city\": \"Mumbai\", \"stolen_item\": \"The Faux Mona Lisa\", \"hops\": [\"Paris\", \"London\", \"Berlin\", \"Cairo\", \"Tokyo\", \"New York\"], \"next_hop\": 3}\u001b[0m\u001b[32;1m\u001b[1;3m\n",
      "Invoking: `python_repl` with `import json\n",
      "\n",
      "# game state\n",
      "state = {'case_id': '123e4567-e89b-12d3-a456-426614174000', 'suspect_name': 'Bumbling Boris', 'current_city': 'Mumbai', 'stolen_item': 'The Faux Mona Lisa', 'hops': ['Paris', 'London', 'Berlin', 'Cairo', 'Tokyo', 'New York'], 'next_hop': 3}\n",
      "\n",
      "# check if Chennai is in the hops list\n",
      "if 'Chennai' not in state['hops']:\n",
      "    state['current_city'] = 'Chennai'\n",
      "    result = {'current_city': state['current_city'], 'next_hop': state['next_hop']}\n",
      "else:\n",
      "    index = state['hops'].index('Chennai')\n",
      "    if index <= state['next_hop']:\n",
      "        state['next_hop'] = index + 1\n",
      "        state['current_city'] = 'Chennai'\n",
      "        result = {'current_city': state['current_city'], 'next_hop': state['next_hop']}\n",
      "    else:\n",
      "        result = {'error': 'You cannot travel to that city'}\n",
      "\n",
      "print(json.dumps(result))`\n",
      "\n",
      "\n",
      "\u001b[0m\u001b[38;5;200m\u001b[1;3m{\"current_city\": \"Chennai\", \"next_hop\": 3}\n",
      "\u001b[0m\u001b[32;1m\u001b[1;3m\n",
      "Invoking: `update_game_state` with `{'case_id': '123e4567-e89b-12d3-a456-426614174000', 'key': 'current_city', 'value': 'Chennai'}`\n",
      "\n",
      "\n",
      "\u001b[0m\u001b[36;1m\u001b[1;3mNone\u001b[0m\u001b[32;1m\u001b[1;3m\n",
      "Invoking: `update_game_state` with `{'case_id': '123e4567-e89b-12d3-a456-426614174000', 'key': 'next_hop', 'value': 3}`\n",
      "\n",
      "\n",
      "\u001b[0m\u001b[36;1m\u001b[1;3mNone\u001b[0m\u001b[32;1m\u001b[1;3m{\"current_city\": \"Chennai\"}\u001b[0m\n",
      "\n",
      "\u001b[1m> Finished chain.\u001b[0m\n"
     ]
    },
    {
     "data": {
      "text/plain": [
       "{'case_id': '123e4567-e89b-12d3-a456-426614174000',\n",
       " 'suspect_name': 'Bumbling Boris',\n",
       " 'current_city': 'Chennai',\n",
       " 'stolen_item': 'The Faux Mona Lisa',\n",
       " 'hops': ['Paris', 'London', 'Berlin', 'Cairo', 'Tokyo', 'New York'],\n",
       " 'next_hop': 3}"
      ]
     },
     "execution_count": 44,
     "metadata": {},
     "output_type": "execute_result"
    }
   ],
   "source": [
    "json.loads(travel(case_id, \"Chennai\"))\n",
    "get_game_state(case_id)"
   ]
  },
  {
   "cell_type": "code",
   "execution_count": 45,
   "id": "efffa960-0efd-4283-b7a2-566fa197d4dc",
   "metadata": {},
   "outputs": [
    {
     "name": "stdout",
     "output_type": "stream",
     "text": [
      "\n",
      "\n",
      "\u001b[1m> Entering new AgentExecutor chain...\u001b[0m\n",
      "\u001b[32;1m\u001b[1;3m\n",
      "Invoking: `fetch_game_state` with `{'case_id': '123e4567-e89b-12d3-a456-426614174000'}`\n",
      "\n",
      "\n",
      "\u001b[0m\u001b[36;1m\u001b[1;3m{\"case_id\": \"123e4567-e89b-12d3-a456-426614174000\", \"suspect_name\": \"Bumbling Boris\", \"current_city\": \"Chennai\", \"stolen_item\": \"The Faux Mona Lisa\", \"hops\": [\"Paris\", \"London\", \"Berlin\", \"Cairo\", \"Tokyo\", \"New York\"], \"next_hop\": 3}\u001b[0m\u001b[32;1m\u001b[1;3m\n",
      "Invoking: `python_repl` with `game_state = {'case_id': '123e4567-e89b-12d3-a456-426614174000', 'suspect_name': 'Bumbling Boris', 'current_city': 'Chennai', 'stolen_item': 'The Faux Mona Lisa', 'hops': ['Paris', 'London', 'Berlin', 'Cairo', 'Tokyo', 'New York'], 'next_hop': 3}\n",
      "next_hop = game_state['next_hop']\n",
      "if next_hop == 5:\n",
      "    print('arrest clues')\n",
      "elif game_state['current_city'] not in game_state['hops']:\n",
      "    print('mistaken clues')\n",
      "else:\n",
      "    print('regular clues')`\n",
      "\n",
      "\n",
      "\u001b[0m\u001b[38;5;200m\u001b[1;3mmistaken clues\n",
      "\u001b[0m\u001b[32;1m\u001b[1;3m\n",
      "Invoking: `generate_mistaken_clues` with `{}`\n",
      "\n",
      "\n",
      "\u001b[0m\u001b[33;1m\u001b[1;3m{\n",
      "    \"clues\": [\n",
      "        {\n",
      "            \"location\": \"bank\",\n",
      "            \"clue\": \"No one with the suspect's description was seen here\"\n",
      "        },\n",
      "        {\n",
      "            \"location\": \"restaurant\",\n",
      "            \"clue\": \"No one with the suspect's description was seen here\"\n",
      "        },\n",
      "        {\n",
      "            \"location\": \"library\",\n",
      "            \"clue\": \"No one with the suspect's description was seen here\"\n",
      "        }\n",
      "    ]\n",
      "}\u001b[0m\u001b[32;1m\u001b[1;3m{\n",
      "    \"clues\": [\n",
      "        {\n",
      "            \"location\": \"bank\",\n",
      "            \"clue\": \"No one with the suspect's description was seen here\"\n",
      "        },\n",
      "        {\n",
      "            \"location\": \"restaurant\",\n",
      "            \"clue\": \"No one with the suspect's description was seen here\"\n",
      "        },\n",
      "        {\n",
      "            \"location\": \"library\",\n",
      "            \"clue\": \"No one with the suspect's description was seen here\"\n",
      "        }\n",
      "    ]\n",
      "}\u001b[0m\n",
      "\n",
      "\u001b[1m> Finished chain.\u001b[0m\n"
     ]
    },
    {
     "data": {
      "text/plain": [
       "{'clues': [{'location': 'bank',\n",
       "   'clue': \"No one with the suspect's description was seen here\"},\n",
       "  {'location': 'restaurant',\n",
       "   'clue': \"No one with the suspect's description was seen here\"},\n",
       "  {'location': 'library',\n",
       "   'clue': \"No one with the suspect's description was seen here\"}]}"
      ]
     },
     "execution_count": 45,
     "metadata": {},
     "output_type": "execute_result"
    }
   ],
   "source": [
    "json.loads(get_clues(case_id))"
   ]
  },
  {
   "cell_type": "code",
   "execution_count": 46,
   "id": "fb4ba6f2-f1d5-48db-ad09-e1cb95f91223",
   "metadata": {},
   "outputs": [],
   "source": [
    "from nbdev.export import nb_export\n",
    "\n",
    "nb_export('./carmen.ipynb', './')"
   ]
  },
  {
   "cell_type": "code",
   "execution_count": 47,
   "id": "3d6a4b27-782a-42c0-bf8a-09ec3c767f1c",
   "metadata": {},
   "outputs": [
    {
     "name": "stdout",
     "output_type": "stream",
     "text": [
      "carmen_backend.py  carmen_game_state.json  carmen.ipynb\n"
     ]
    }
   ],
   "source": [
    "!ls"
   ]
  },
  {
   "cell_type": "code",
   "execution_count": 37,
   "id": "dac43cfd-888d-44af-b5b9-087f500f6b41",
   "metadata": {},
   "outputs": [
    {
     "data": {
      "text/plain": [
       "{'b7b4d3a7-1dd4-4b6b-8f8d-3f2db45b2a8f': {'case_id': 'b7b4d3a7-1dd4-4b6b-8f8d-3f2db45b2a8f',\n",
       "  'suspect_name': 'Mysterio McVanish',\n",
       "  'current_city': 'Berlin',\n",
       "  'stolen_item': 'The Laughing Mona Lisa',\n",
       "  'hops': ['Paris', 'London', 'Tokyo', 'New York', 'Sydney', 'Cairo'],\n",
       "  'next_hop': 1},\n",
       " 'c6e6e3e7-80e9-4a9a-8f8a-6c54e3c6b9de': {'case_id': 'c6e6e3e7-80e9-4a9a-8f8a-6c54e3c6b9de',\n",
       "  'suspect_name': 'Mysterio McVanity',\n",
       "  'current_city': 'Paris',\n",
       "  'stolen_item': 'The Dazzling Eiffel Tower Keychain',\n",
       "  'hops': ['Paris', 'London', 'New York', 'Cairo', 'Berlin', 'Tokyo'],\n",
       "  'next_hop': 1}}"
      ]
     },
     "execution_count": 37,
     "metadata": {},
     "output_type": "execute_result"
    }
   ],
   "source": [
    "game_state = json.loads(new_game())\n",
    "game_states[game_state[\"case_id\"]] = game_state\n",
    "game_states"
   ]
  },
  {
   "cell_type": "code",
   "execution_count": 38,
   "id": "b09f9db9-bd2e-46e8-9011-551d2f02cfbf",
   "metadata": {},
   "outputs": [],
   "source": [
    "case_id, _ = next(iter(game_states.items()))"
   ]
  },
  {
   "cell_type": "code",
   "execution_count": 39,
   "id": "b7dc18e3-6ca1-404b-9ac8-f927e2455435",
   "metadata": {},
   "outputs": [
    {
     "name": "stdout",
     "output_type": "stream",
     "text": [
      "\n",
      "\n",
      "\u001b[1m> Entering new AgentExecutor chain...\u001b[0m\n",
      "\u001b[32;1m\u001b[1;3m\n",
      "Invoking: `fetch_game_state` with `{'case_id': 'b7b4d3a7-1dd4-4b6b-8f8d-3f2db45b2a8f'}`\n",
      "\n",
      "\n",
      "\u001b[0m\u001b[36;1m\u001b[1;3m{\"case_id\": \"b7b4d3a7-1dd4-4b6b-8f8d-3f2db45b2a8f\", \"suspect_name\": \"Mysterio McVanish\", \"current_city\": \"Berlin\", \"stolen_item\": \"The Laughing Mona Lisa\", \"hops\": [\"Paris\", \"London\", \"Tokyo\", \"New York\", \"Sydney\", \"Cairo\"], \"next_hop\": 1}\u001b[0m\u001b[32;1m\u001b[1;3m\n",
      "Invoking: `python_repl` with `game_state = {\"case_id\": \"b7b4d3a7-1dd4-4b6b-8f8d-3f2db45b2a8f\", \"suspect_name\": \"Mysterio McVanish\", \"current_city\": \"Berlin\", \"stolen_item\": \"The Laughing Mona Lisa\", \"hops\": [\"Paris\", \"London\", \"Tokyo\", \"New York\", \"Sydney\", \"Cairo\"], \"next_hop\": 1}\n",
      "next_hop = game_state['next_hop']\n",
      "current_city = game_state['current_city']\n",
      "hops = game_state['hops']\n",
      "\n",
      "if next_hop == 5:\n",
      "    print('arrest clues')\n",
      "elif current_city not in hops:\n",
      "    print('mistaken clues')\n",
      "else:\n",
      "    print('regular clues')`\n",
      "\n",
      "\n",
      "\u001b[0m\u001b[38;5;200m\u001b[1;3mmistaken clues\n",
      "\u001b[0m\u001b[32;1m\u001b[1;3m\n",
      "Invoking: `generate_mistaken_clues` with `{}`\n",
      "\n",
      "\n",
      "\u001b[0m\u001b[33;1m\u001b[1;3m{\n",
      "    \"clues\": [\n",
      "        {\n",
      "            \"location\": \"bank\",\n",
      "            \"clue\": \"No one with the suspect's description was seen here\"\n",
      "        },\n",
      "        {\n",
      "            \"location\": \"embassy\",\n",
      "            \"clue\": \"No one with the suspect's description was seen here\"\n",
      "        },\n",
      "        {\n",
      "            \"location\": \"restaurant\",\n",
      "            \"clue\": \"No one with the suspect's description was seen here\"\n",
      "        }\n",
      "    ]\n",
      "}\u001b[0m\u001b[32;1m\u001b[1;3m{\"clues\": [{\"location\": \"bank\", \"clue\": \"No one with the suspect's description was seen here\"}, {\"location\": \"embassy\", \"clue\": \"No one with the suspect's description was seen here\"}, {\"location\": \"restaurant\", \"clue\": \"No one with the suspect's description was seen here\"}]}\u001b[0m\n",
      "\n",
      "\u001b[1m> Finished chain.\u001b[0m\n"
     ]
    },
    {
     "data": {
      "text/plain": [
       "'{\"clues\": [{\"location\": \"bank\", \"clue\": \"No one with the suspect\\'s description was seen here\"}, {\"location\": \"embassy\", \"clue\": \"No one with the suspect\\'s description was seen here\"}, {\"location\": \"restaurant\", \"clue\": \"No one with the suspect\\'s description was seen here\"}]}'"
      ]
     },
     "execution_count": 39,
     "metadata": {},
     "output_type": "execute_result"
    }
   ],
   "source": [
    "get_clues(case_id)"
   ]
  },
  {
   "cell_type": "code",
   "execution_count": 40,
   "id": "0182e18d-f58c-4524-902f-729f76e9af47",
   "metadata": {},
   "outputs": [
    {
     "name": "stdout",
     "output_type": "stream",
     "text": [
      "\n",
      "\n",
      "\u001b[1m> Entering new AgentExecutor chain...\u001b[0m\n",
      "\u001b[32;1m\u001b[1;3m\n",
      "Invoking: `fetch_game_state` with `{'case_id': 'b7b4d3a7-1dd4-4b6b-8f8d-3f2db45b2a8f'}`\n",
      "\n",
      "\n",
      "\u001b[0m\u001b[36;1m\u001b[1;3m{\"case_id\": \"b7b4d3a7-1dd4-4b6b-8f8d-3f2db45b2a8f\", \"suspect_name\": \"Mysterio McVanish\", \"current_city\": \"Berlin\", \"stolen_item\": \"The Laughing Mona Lisa\", \"hops\": [\"Paris\", \"London\", \"Tokyo\", \"New York\", \"Sydney\", \"Cairo\"], \"next_hop\": 1}\u001b[0m"
     ]
    },
    {
     "ename": "KeyboardInterrupt",
     "evalue": "",
     "output_type": "error",
     "traceback": [
      "\u001b[0;31m---------------------------------------------------------------------------\u001b[0m",
      "\u001b[0;31mKeyboardInterrupt\u001b[0m                         Traceback (most recent call last)",
      "Cell \u001b[0;32mIn[40], line 1\u001b[0m\n\u001b[0;32m----> 1\u001b[0m \u001b[43mtravel\u001b[49m\u001b[43m(\u001b[49m\u001b[43mcase_id\u001b[49m\u001b[43m,\u001b[49m\u001b[43m \u001b[49m\u001b[38;5;124;43m\"\u001b[39;49m\u001b[38;5;124;43mNew York\u001b[39;49m\u001b[38;5;124;43m\"\u001b[39;49m\u001b[43m)\u001b[49m\n",
      "Cell \u001b[0;32mIn[29], line 36\u001b[0m, in \u001b[0;36mtravel\u001b[0;34m(case_id, city)\u001b[0m\n\u001b[1;32m      2\u001b[0m agent_executor \u001b[38;5;241m=\u001b[39m get_agent_executor()\n\u001b[1;32m      4\u001b[0m prompt \u001b[38;5;241m=\u001b[39m \u001b[38;5;124mf\u001b[39m\u001b[38;5;124m\"\"\"\u001b[39m\n\u001b[1;32m      5\u001b[0m \u001b[38;5;124m    1. Fetch the game state for case_id \u001b[39m\u001b[38;5;132;01m{\u001b[39;00mcase_id\u001b[38;5;132;01m}\u001b[39;00m\n\u001b[1;32m      6\u001b[0m \u001b[38;5;124m    2. Write python code passing in the game state to do the following:\u001b[39m\n\u001b[0;32m   (...)\u001b[0m\n\u001b[1;32m     33\u001b[0m \n\u001b[1;32m     34\u001b[0m \u001b[38;5;124m\u001b[39m\u001b[38;5;124m\"\"\"\u001b[39m\n\u001b[0;32m---> 36\u001b[0m ret \u001b[38;5;241m=\u001b[39m \u001b[43magent_executor\u001b[49m\u001b[38;5;241;43m.\u001b[39;49m\u001b[43minvoke\u001b[49m\u001b[43m(\u001b[49m\n\u001b[1;32m     37\u001b[0m \u001b[43m    \u001b[49m\u001b[43m{\u001b[49m\n\u001b[1;32m     38\u001b[0m \u001b[43m        \u001b[49m\u001b[38;5;124;43m\"\u001b[39;49m\u001b[38;5;124;43minput\u001b[39;49m\u001b[38;5;124;43m\"\u001b[39;49m\u001b[43m:\u001b[49m\u001b[43m \u001b[49m\u001b[43mprompt\u001b[49m\n\u001b[1;32m     39\u001b[0m \u001b[43m    \u001b[49m\u001b[43m}\u001b[49m\n\u001b[1;32m     40\u001b[0m \u001b[43m\u001b[49m\u001b[43m)\u001b[49m\n\u001b[1;32m     42\u001b[0m \u001b[38;5;28;01mreturn\u001b[39;00m ret[\u001b[38;5;124m'\u001b[39m\u001b[38;5;124moutput\u001b[39m\u001b[38;5;124m'\u001b[39m]\n",
      "File \u001b[0;32m~/miniforge3/envs/carmen/lib/python3.12/site-packages/langchain/chains/base.py:163\u001b[0m, in \u001b[0;36mChain.invoke\u001b[0;34m(self, input, config, **kwargs)\u001b[0m\n\u001b[1;32m    161\u001b[0m \u001b[38;5;28;01mexcept\u001b[39;00m \u001b[38;5;167;01mBaseException\u001b[39;00m \u001b[38;5;28;01mas\u001b[39;00m e:\n\u001b[1;32m    162\u001b[0m     run_manager\u001b[38;5;241m.\u001b[39mon_chain_error(e)\n\u001b[0;32m--> 163\u001b[0m     \u001b[38;5;28;01mraise\u001b[39;00m e\n\u001b[1;32m    164\u001b[0m run_manager\u001b[38;5;241m.\u001b[39mon_chain_end(outputs)\n\u001b[1;32m    166\u001b[0m \u001b[38;5;28;01mif\u001b[39;00m include_run_info:\n",
      "File \u001b[0;32m~/miniforge3/envs/carmen/lib/python3.12/site-packages/langchain/chains/base.py:153\u001b[0m, in \u001b[0;36mChain.invoke\u001b[0;34m(self, input, config, **kwargs)\u001b[0m\n\u001b[1;32m    150\u001b[0m \u001b[38;5;28;01mtry\u001b[39;00m:\n\u001b[1;32m    151\u001b[0m     \u001b[38;5;28mself\u001b[39m\u001b[38;5;241m.\u001b[39m_validate_inputs(inputs)\n\u001b[1;32m    152\u001b[0m     outputs \u001b[38;5;241m=\u001b[39m (\n\u001b[0;32m--> 153\u001b[0m         \u001b[38;5;28;43mself\u001b[39;49m\u001b[38;5;241;43m.\u001b[39;49m\u001b[43m_call\u001b[49m\u001b[43m(\u001b[49m\u001b[43minputs\u001b[49m\u001b[43m,\u001b[49m\u001b[43m \u001b[49m\u001b[43mrun_manager\u001b[49m\u001b[38;5;241;43m=\u001b[39;49m\u001b[43mrun_manager\u001b[49m\u001b[43m)\u001b[49m\n\u001b[1;32m    154\u001b[0m         \u001b[38;5;28;01mif\u001b[39;00m new_arg_supported\n\u001b[1;32m    155\u001b[0m         \u001b[38;5;28;01melse\u001b[39;00m \u001b[38;5;28mself\u001b[39m\u001b[38;5;241m.\u001b[39m_call(inputs)\n\u001b[1;32m    156\u001b[0m     )\n\u001b[1;32m    158\u001b[0m     final_outputs: Dict[\u001b[38;5;28mstr\u001b[39m, Any] \u001b[38;5;241m=\u001b[39m \u001b[38;5;28mself\u001b[39m\u001b[38;5;241m.\u001b[39mprep_outputs(\n\u001b[1;32m    159\u001b[0m         inputs, outputs, return_only_outputs\n\u001b[1;32m    160\u001b[0m     )\n\u001b[1;32m    161\u001b[0m \u001b[38;5;28;01mexcept\u001b[39;00m \u001b[38;5;167;01mBaseException\u001b[39;00m \u001b[38;5;28;01mas\u001b[39;00m e:\n",
      "File \u001b[0;32m~/miniforge3/envs/carmen/lib/python3.12/site-packages/langchain/agents/agent.py:1432\u001b[0m, in \u001b[0;36mAgentExecutor._call\u001b[0;34m(self, inputs, run_manager)\u001b[0m\n\u001b[1;32m   1430\u001b[0m \u001b[38;5;66;03m# We now enter the agent loop (until it returns something).\u001b[39;00m\n\u001b[1;32m   1431\u001b[0m \u001b[38;5;28;01mwhile\u001b[39;00m \u001b[38;5;28mself\u001b[39m\u001b[38;5;241m.\u001b[39m_should_continue(iterations, time_elapsed):\n\u001b[0;32m-> 1432\u001b[0m     next_step_output \u001b[38;5;241m=\u001b[39m \u001b[38;5;28;43mself\u001b[39;49m\u001b[38;5;241;43m.\u001b[39;49m\u001b[43m_take_next_step\u001b[49m\u001b[43m(\u001b[49m\n\u001b[1;32m   1433\u001b[0m \u001b[43m        \u001b[49m\u001b[43mname_to_tool_map\u001b[49m\u001b[43m,\u001b[49m\n\u001b[1;32m   1434\u001b[0m \u001b[43m        \u001b[49m\u001b[43mcolor_mapping\u001b[49m\u001b[43m,\u001b[49m\n\u001b[1;32m   1435\u001b[0m \u001b[43m        \u001b[49m\u001b[43minputs\u001b[49m\u001b[43m,\u001b[49m\n\u001b[1;32m   1436\u001b[0m \u001b[43m        \u001b[49m\u001b[43mintermediate_steps\u001b[49m\u001b[43m,\u001b[49m\n\u001b[1;32m   1437\u001b[0m \u001b[43m        \u001b[49m\u001b[43mrun_manager\u001b[49m\u001b[38;5;241;43m=\u001b[39;49m\u001b[43mrun_manager\u001b[49m\u001b[43m,\u001b[49m\n\u001b[1;32m   1438\u001b[0m \u001b[43m    \u001b[49m\u001b[43m)\u001b[49m\n\u001b[1;32m   1439\u001b[0m     \u001b[38;5;28;01mif\u001b[39;00m \u001b[38;5;28misinstance\u001b[39m(next_step_output, AgentFinish):\n\u001b[1;32m   1440\u001b[0m         \u001b[38;5;28;01mreturn\u001b[39;00m \u001b[38;5;28mself\u001b[39m\u001b[38;5;241m.\u001b[39m_return(\n\u001b[1;32m   1441\u001b[0m             next_step_output, intermediate_steps, run_manager\u001b[38;5;241m=\u001b[39mrun_manager\n\u001b[1;32m   1442\u001b[0m         )\n",
      "File \u001b[0;32m~/miniforge3/envs/carmen/lib/python3.12/site-packages/langchain/agents/agent.py:1138\u001b[0m, in \u001b[0;36mAgentExecutor._take_next_step\u001b[0;34m(self, name_to_tool_map, color_mapping, inputs, intermediate_steps, run_manager)\u001b[0m\n\u001b[1;32m   1129\u001b[0m \u001b[38;5;28;01mdef\u001b[39;00m \u001b[38;5;21m_take_next_step\u001b[39m(\n\u001b[1;32m   1130\u001b[0m     \u001b[38;5;28mself\u001b[39m,\n\u001b[1;32m   1131\u001b[0m     name_to_tool_map: Dict[\u001b[38;5;28mstr\u001b[39m, BaseTool],\n\u001b[0;32m   (...)\u001b[0m\n\u001b[1;32m   1135\u001b[0m     run_manager: Optional[CallbackManagerForChainRun] \u001b[38;5;241m=\u001b[39m \u001b[38;5;28;01mNone\u001b[39;00m,\n\u001b[1;32m   1136\u001b[0m ) \u001b[38;5;241m-\u001b[39m\u001b[38;5;241m>\u001b[39m Union[AgentFinish, List[Tuple[AgentAction, \u001b[38;5;28mstr\u001b[39m]]]:\n\u001b[1;32m   1137\u001b[0m     \u001b[38;5;28;01mreturn\u001b[39;00m \u001b[38;5;28mself\u001b[39m\u001b[38;5;241m.\u001b[39m_consume_next_step(\n\u001b[0;32m-> 1138\u001b[0m         \u001b[43m[\u001b[49m\n\u001b[1;32m   1139\u001b[0m \u001b[43m            \u001b[49m\u001b[43ma\u001b[49m\n\u001b[1;32m   1140\u001b[0m \u001b[43m            \u001b[49m\u001b[38;5;28;43;01mfor\u001b[39;49;00m\u001b[43m \u001b[49m\u001b[43ma\u001b[49m\u001b[43m \u001b[49m\u001b[38;5;129;43;01min\u001b[39;49;00m\u001b[43m \u001b[49m\u001b[38;5;28;43mself\u001b[39;49m\u001b[38;5;241;43m.\u001b[39;49m\u001b[43m_iter_next_step\u001b[49m\u001b[43m(\u001b[49m\n\u001b[1;32m   1141\u001b[0m \u001b[43m                \u001b[49m\u001b[43mname_to_tool_map\u001b[49m\u001b[43m,\u001b[49m\n\u001b[1;32m   1142\u001b[0m \u001b[43m                \u001b[49m\u001b[43mcolor_mapping\u001b[49m\u001b[43m,\u001b[49m\n\u001b[1;32m   1143\u001b[0m \u001b[43m                \u001b[49m\u001b[43minputs\u001b[49m\u001b[43m,\u001b[49m\n\u001b[1;32m   1144\u001b[0m \u001b[43m                \u001b[49m\u001b[43mintermediate_steps\u001b[49m\u001b[43m,\u001b[49m\n\u001b[1;32m   1145\u001b[0m \u001b[43m                \u001b[49m\u001b[43mrun_manager\u001b[49m\u001b[43m,\u001b[49m\n\u001b[1;32m   1146\u001b[0m \u001b[43m            \u001b[49m\u001b[43m)\u001b[49m\n\u001b[1;32m   1147\u001b[0m \u001b[43m        \u001b[49m\u001b[43m]\u001b[49m\n\u001b[1;32m   1148\u001b[0m     )\n",
      "File \u001b[0;32m~/miniforge3/envs/carmen/lib/python3.12/site-packages/langchain/agents/agent.py:1166\u001b[0m, in \u001b[0;36mAgentExecutor._iter_next_step\u001b[0;34m(self, name_to_tool_map, color_mapping, inputs, intermediate_steps, run_manager)\u001b[0m\n\u001b[1;32m   1163\u001b[0m     intermediate_steps \u001b[38;5;241m=\u001b[39m \u001b[38;5;28mself\u001b[39m\u001b[38;5;241m.\u001b[39m_prepare_intermediate_steps(intermediate_steps)\n\u001b[1;32m   1165\u001b[0m     \u001b[38;5;66;03m# Call the LLM to see what to do.\u001b[39;00m\n\u001b[0;32m-> 1166\u001b[0m     output \u001b[38;5;241m=\u001b[39m \u001b[38;5;28;43mself\u001b[39;49m\u001b[38;5;241;43m.\u001b[39;49m\u001b[43magent\u001b[49m\u001b[38;5;241;43m.\u001b[39;49m\u001b[43mplan\u001b[49m\u001b[43m(\u001b[49m\n\u001b[1;32m   1167\u001b[0m \u001b[43m        \u001b[49m\u001b[43mintermediate_steps\u001b[49m\u001b[43m,\u001b[49m\n\u001b[1;32m   1168\u001b[0m \u001b[43m        \u001b[49m\u001b[43mcallbacks\u001b[49m\u001b[38;5;241;43m=\u001b[39;49m\u001b[43mrun_manager\u001b[49m\u001b[38;5;241;43m.\u001b[39;49m\u001b[43mget_child\u001b[49m\u001b[43m(\u001b[49m\u001b[43m)\u001b[49m\u001b[43m \u001b[49m\u001b[38;5;28;43;01mif\u001b[39;49;00m\u001b[43m \u001b[49m\u001b[43mrun_manager\u001b[49m\u001b[43m \u001b[49m\u001b[38;5;28;43;01melse\u001b[39;49;00m\u001b[43m \u001b[49m\u001b[38;5;28;43;01mNone\u001b[39;49;00m\u001b[43m,\u001b[49m\n\u001b[1;32m   1169\u001b[0m \u001b[43m        \u001b[49m\u001b[38;5;241;43m*\u001b[39;49m\u001b[38;5;241;43m*\u001b[39;49m\u001b[43minputs\u001b[49m\u001b[43m,\u001b[49m\n\u001b[1;32m   1170\u001b[0m \u001b[43m    \u001b[49m\u001b[43m)\u001b[49m\n\u001b[1;32m   1171\u001b[0m \u001b[38;5;28;01mexcept\u001b[39;00m OutputParserException \u001b[38;5;28;01mas\u001b[39;00m e:\n\u001b[1;32m   1172\u001b[0m     \u001b[38;5;28;01mif\u001b[39;00m \u001b[38;5;28misinstance\u001b[39m(\u001b[38;5;28mself\u001b[39m\u001b[38;5;241m.\u001b[39mhandle_parsing_errors, \u001b[38;5;28mbool\u001b[39m):\n",
      "File \u001b[0;32m~/miniforge3/envs/carmen/lib/python3.12/site-packages/langchain/agents/agent.py:514\u001b[0m, in \u001b[0;36mRunnableMultiActionAgent.plan\u001b[0;34m(self, intermediate_steps, callbacks, **kwargs)\u001b[0m\n\u001b[1;32m    506\u001b[0m final_output: Any \u001b[38;5;241m=\u001b[39m \u001b[38;5;28;01mNone\u001b[39;00m\n\u001b[1;32m    507\u001b[0m \u001b[38;5;28;01mif\u001b[39;00m \u001b[38;5;28mself\u001b[39m\u001b[38;5;241m.\u001b[39mstream_runnable:\n\u001b[1;32m    508\u001b[0m     \u001b[38;5;66;03m# Use streaming to make sure that the underlying LLM is invoked in a\u001b[39;00m\n\u001b[1;32m    509\u001b[0m     \u001b[38;5;66;03m# streaming\u001b[39;00m\n\u001b[0;32m   (...)\u001b[0m\n\u001b[1;32m    512\u001b[0m     \u001b[38;5;66;03m# Because the response from the plan is not a generator, we need to\u001b[39;00m\n\u001b[1;32m    513\u001b[0m     \u001b[38;5;66;03m# accumulate the output into final output and return that.\u001b[39;00m\n\u001b[0;32m--> 514\u001b[0m \u001b[43m    \u001b[49m\u001b[38;5;28;43;01mfor\u001b[39;49;00m\u001b[43m \u001b[49m\u001b[43mchunk\u001b[49m\u001b[43m \u001b[49m\u001b[38;5;129;43;01min\u001b[39;49;00m\u001b[43m \u001b[49m\u001b[38;5;28;43mself\u001b[39;49m\u001b[38;5;241;43m.\u001b[39;49m\u001b[43mrunnable\u001b[49m\u001b[38;5;241;43m.\u001b[39;49m\u001b[43mstream\u001b[49m\u001b[43m(\u001b[49m\u001b[43minputs\u001b[49m\u001b[43m,\u001b[49m\u001b[43m \u001b[49m\u001b[43mconfig\u001b[49m\u001b[38;5;241;43m=\u001b[39;49m\u001b[43m{\u001b[49m\u001b[38;5;124;43m\"\u001b[39;49m\u001b[38;5;124;43mcallbacks\u001b[39;49m\u001b[38;5;124;43m\"\u001b[39;49m\u001b[43m:\u001b[49m\u001b[43m \u001b[49m\u001b[43mcallbacks\u001b[49m\u001b[43m}\u001b[49m\u001b[43m)\u001b[49m\u001b[43m:\u001b[49m\n\u001b[1;32m    515\u001b[0m \u001b[43m        \u001b[49m\u001b[38;5;28;43;01mif\u001b[39;49;00m\u001b[43m \u001b[49m\u001b[43mfinal_output\u001b[49m\u001b[43m \u001b[49m\u001b[38;5;129;43;01mis\u001b[39;49;00m\u001b[43m \u001b[49m\u001b[38;5;28;43;01mNone\u001b[39;49;00m\u001b[43m:\u001b[49m\n\u001b[1;32m    516\u001b[0m \u001b[43m            \u001b[49m\u001b[43mfinal_output\u001b[49m\u001b[43m \u001b[49m\u001b[38;5;241;43m=\u001b[39;49m\u001b[43m \u001b[49m\u001b[43mchunk\u001b[49m\n",
      "File \u001b[0;32m~/miniforge3/envs/carmen/lib/python3.12/site-packages/langchain_core/runnables/base.py:2875\u001b[0m, in \u001b[0;36mRunnableSequence.stream\u001b[0;34m(self, input, config, **kwargs)\u001b[0m\n\u001b[1;32m   2869\u001b[0m \u001b[38;5;28;01mdef\u001b[39;00m \u001b[38;5;21mstream\u001b[39m(\n\u001b[1;32m   2870\u001b[0m     \u001b[38;5;28mself\u001b[39m,\n\u001b[1;32m   2871\u001b[0m     \u001b[38;5;28minput\u001b[39m: Input,\n\u001b[1;32m   2872\u001b[0m     config: Optional[RunnableConfig] \u001b[38;5;241m=\u001b[39m \u001b[38;5;28;01mNone\u001b[39;00m,\n\u001b[1;32m   2873\u001b[0m     \u001b[38;5;241m*\u001b[39m\u001b[38;5;241m*\u001b[39mkwargs: Optional[Any],\n\u001b[1;32m   2874\u001b[0m ) \u001b[38;5;241m-\u001b[39m\u001b[38;5;241m>\u001b[39m Iterator[Output]:\n\u001b[0;32m-> 2875\u001b[0m     \u001b[38;5;28;01myield from\u001b[39;00m \u001b[38;5;28mself\u001b[39m\u001b[38;5;241m.\u001b[39mtransform(\u001b[38;5;28miter\u001b[39m([\u001b[38;5;28minput\u001b[39m]), config, \u001b[38;5;241m*\u001b[39m\u001b[38;5;241m*\u001b[39mkwargs)\n",
      "File \u001b[0;32m~/miniforge3/envs/carmen/lib/python3.12/site-packages/langchain_core/runnables/base.py:2862\u001b[0m, in \u001b[0;36mRunnableSequence.transform\u001b[0;34m(self, input, config, **kwargs)\u001b[0m\n\u001b[1;32m   2856\u001b[0m \u001b[38;5;28;01mdef\u001b[39;00m \u001b[38;5;21mtransform\u001b[39m(\n\u001b[1;32m   2857\u001b[0m     \u001b[38;5;28mself\u001b[39m,\n\u001b[1;32m   2858\u001b[0m     \u001b[38;5;28minput\u001b[39m: Iterator[Input],\n\u001b[1;32m   2859\u001b[0m     config: Optional[RunnableConfig] \u001b[38;5;241m=\u001b[39m \u001b[38;5;28;01mNone\u001b[39;00m,\n\u001b[1;32m   2860\u001b[0m     \u001b[38;5;241m*\u001b[39m\u001b[38;5;241m*\u001b[39mkwargs: Optional[Any],\n\u001b[1;32m   2861\u001b[0m ) \u001b[38;5;241m-\u001b[39m\u001b[38;5;241m>\u001b[39m Iterator[Output]:\n\u001b[0;32m-> 2862\u001b[0m     \u001b[38;5;28;01myield from\u001b[39;00m \u001b[38;5;28mself\u001b[39m\u001b[38;5;241m.\u001b[39m_transform_stream_with_config(\n\u001b[1;32m   2863\u001b[0m         \u001b[38;5;28minput\u001b[39m,\n\u001b[1;32m   2864\u001b[0m         \u001b[38;5;28mself\u001b[39m\u001b[38;5;241m.\u001b[39m_transform,\n\u001b[1;32m   2865\u001b[0m         patch_config(config, run_name\u001b[38;5;241m=\u001b[39m(config \u001b[38;5;129;01mor\u001b[39;00m {})\u001b[38;5;241m.\u001b[39mget(\u001b[38;5;124m\"\u001b[39m\u001b[38;5;124mrun_name\u001b[39m\u001b[38;5;124m\"\u001b[39m) \u001b[38;5;129;01mor\u001b[39;00m \u001b[38;5;28mself\u001b[39m\u001b[38;5;241m.\u001b[39mname),\n\u001b[1;32m   2866\u001b[0m         \u001b[38;5;241m*\u001b[39m\u001b[38;5;241m*\u001b[39mkwargs,\n\u001b[1;32m   2867\u001b[0m     )\n",
      "File \u001b[0;32m~/miniforge3/envs/carmen/lib/python3.12/site-packages/langchain_core/runnables/base.py:1880\u001b[0m, in \u001b[0;36mRunnable._transform_stream_with_config\u001b[0;34m(self, input, transformer, config, run_type, **kwargs)\u001b[0m\n\u001b[1;32m   1878\u001b[0m \u001b[38;5;28;01mtry\u001b[39;00m:\n\u001b[1;32m   1879\u001b[0m     \u001b[38;5;28;01mwhile\u001b[39;00m \u001b[38;5;28;01mTrue\u001b[39;00m:\n\u001b[0;32m-> 1880\u001b[0m         chunk: Output \u001b[38;5;241m=\u001b[39m \u001b[43mcontext\u001b[49m\u001b[38;5;241;43m.\u001b[39;49m\u001b[43mrun\u001b[49m\u001b[43m(\u001b[49m\u001b[38;5;28;43mnext\u001b[39;49m\u001b[43m,\u001b[49m\u001b[43m \u001b[49m\u001b[43miterator\u001b[49m\u001b[43m)\u001b[49m  \u001b[38;5;66;03m# type: ignore\u001b[39;00m\n\u001b[1;32m   1881\u001b[0m         \u001b[38;5;28;01myield\u001b[39;00m chunk\n\u001b[1;32m   1882\u001b[0m         \u001b[38;5;28;01mif\u001b[39;00m final_output_supported:\n",
      "File \u001b[0;32m~/miniforge3/envs/carmen/lib/python3.12/site-packages/langchain_core/runnables/base.py:2826\u001b[0m, in \u001b[0;36mRunnableSequence._transform\u001b[0;34m(self, input, run_manager, config)\u001b[0m\n\u001b[1;32m   2817\u001b[0m \u001b[38;5;28;01mfor\u001b[39;00m step \u001b[38;5;129;01min\u001b[39;00m steps:\n\u001b[1;32m   2818\u001b[0m     final_pipeline \u001b[38;5;241m=\u001b[39m step\u001b[38;5;241m.\u001b[39mtransform(\n\u001b[1;32m   2819\u001b[0m         final_pipeline,\n\u001b[1;32m   2820\u001b[0m         patch_config(\n\u001b[0;32m   (...)\u001b[0m\n\u001b[1;32m   2823\u001b[0m         ),\n\u001b[1;32m   2824\u001b[0m     )\n\u001b[0;32m-> 2826\u001b[0m \u001b[43m\u001b[49m\u001b[38;5;28;43;01mfor\u001b[39;49;00m\u001b[43m \u001b[49m\u001b[43moutput\u001b[49m\u001b[43m \u001b[49m\u001b[38;5;129;43;01min\u001b[39;49;00m\u001b[43m \u001b[49m\u001b[43mfinal_pipeline\u001b[49m\u001b[43m:\u001b[49m\n\u001b[1;32m   2827\u001b[0m \u001b[43m    \u001b[49m\u001b[38;5;28;43;01myield\u001b[39;49;00m\u001b[43m \u001b[49m\u001b[43moutput\u001b[49m\n",
      "File \u001b[0;32m~/miniforge3/envs/carmen/lib/python3.12/site-packages/langchain_core/runnables/base.py:1283\u001b[0m, in \u001b[0;36mRunnable.transform\u001b[0;34m(self, input, config, **kwargs)\u001b[0m\n\u001b[1;32m   1280\u001b[0m final: Input\n\u001b[1;32m   1281\u001b[0m got_first_val \u001b[38;5;241m=\u001b[39m \u001b[38;5;28;01mFalse\u001b[39;00m\n\u001b[0;32m-> 1283\u001b[0m \u001b[43m\u001b[49m\u001b[38;5;28;43;01mfor\u001b[39;49;00m\u001b[43m \u001b[49m\u001b[43mchunk\u001b[49m\u001b[43m \u001b[49m\u001b[38;5;129;43;01min\u001b[39;49;00m\u001b[43m \u001b[49m\u001b[38;5;28;43minput\u001b[39;49m\u001b[43m:\u001b[49m\n\u001b[1;32m   1284\u001b[0m \u001b[43m    \u001b[49m\u001b[38;5;28;43;01mif\u001b[39;49;00m\u001b[43m \u001b[49m\u001b[38;5;129;43;01mnot\u001b[39;49;00m\u001b[43m \u001b[49m\u001b[43mgot_first_val\u001b[49m\u001b[43m:\u001b[49m\n\u001b[1;32m   1285\u001b[0m \u001b[43m        \u001b[49m\u001b[43mfinal\u001b[49m\u001b[43m \u001b[49m\u001b[38;5;241;43m=\u001b[39;49m\u001b[43m \u001b[49m\u001b[43madapt_first_streaming_chunk\u001b[49m\u001b[43m(\u001b[49m\u001b[43mchunk\u001b[49m\u001b[43m)\u001b[49m\u001b[43m  \u001b[49m\u001b[38;5;66;43;03m# type: ignore\u001b[39;49;00m\n",
      "File \u001b[0;32m~/miniforge3/envs/carmen/lib/python3.12/site-packages/langchain_core/runnables/base.py:4728\u001b[0m, in \u001b[0;36mRunnableBindingBase.transform\u001b[0;34m(self, input, config, **kwargs)\u001b[0m\n\u001b[1;32m   4722\u001b[0m \u001b[38;5;28;01mdef\u001b[39;00m \u001b[38;5;21mtransform\u001b[39m(\n\u001b[1;32m   4723\u001b[0m     \u001b[38;5;28mself\u001b[39m,\n\u001b[1;32m   4724\u001b[0m     \u001b[38;5;28minput\u001b[39m: Iterator[Input],\n\u001b[1;32m   4725\u001b[0m     config: Optional[RunnableConfig] \u001b[38;5;241m=\u001b[39m \u001b[38;5;28;01mNone\u001b[39;00m,\n\u001b[1;32m   4726\u001b[0m     \u001b[38;5;241m*\u001b[39m\u001b[38;5;241m*\u001b[39mkwargs: Any,\n\u001b[1;32m   4727\u001b[0m ) \u001b[38;5;241m-\u001b[39m\u001b[38;5;241m>\u001b[39m Iterator[Output]:\n\u001b[0;32m-> 4728\u001b[0m     \u001b[38;5;28;01myield from\u001b[39;00m \u001b[38;5;28mself\u001b[39m\u001b[38;5;241m.\u001b[39mbound\u001b[38;5;241m.\u001b[39mtransform(\n\u001b[1;32m   4729\u001b[0m         \u001b[38;5;28minput\u001b[39m,\n\u001b[1;32m   4730\u001b[0m         \u001b[38;5;28mself\u001b[39m\u001b[38;5;241m.\u001b[39m_merge_configs(config),\n\u001b[1;32m   4731\u001b[0m         \u001b[38;5;241m*\u001b[39m\u001b[38;5;241m*\u001b[39m{\u001b[38;5;241m*\u001b[39m\u001b[38;5;241m*\u001b[39m\u001b[38;5;28mself\u001b[39m\u001b[38;5;241m.\u001b[39mkwargs, \u001b[38;5;241m*\u001b[39m\u001b[38;5;241m*\u001b[39mkwargs},\n\u001b[1;32m   4732\u001b[0m     )\n",
      "File \u001b[0;32m~/miniforge3/envs/carmen/lib/python3.12/site-packages/langchain_core/runnables/base.py:1300\u001b[0m, in \u001b[0;36mRunnable.transform\u001b[0;34m(self, input, config, **kwargs)\u001b[0m\n\u001b[1;32m   1293\u001b[0m             \u001b[38;5;28;01mraise\u001b[39;00m \u001b[38;5;167;01mTypeError\u001b[39;00m(\n\u001b[1;32m   1294\u001b[0m                 \u001b[38;5;124mf\u001b[39m\u001b[38;5;124m\"\u001b[39m\u001b[38;5;124mFailed while trying to add together \u001b[39m\u001b[38;5;124m\"\u001b[39m\n\u001b[1;32m   1295\u001b[0m                 \u001b[38;5;124mf\u001b[39m\u001b[38;5;124m\"\u001b[39m\u001b[38;5;124mtype \u001b[39m\u001b[38;5;132;01m{\u001b[39;00m\u001b[38;5;28mtype\u001b[39m(final)\u001b[38;5;132;01m}\u001b[39;00m\u001b[38;5;124m and \u001b[39m\u001b[38;5;132;01m{\u001b[39;00m\u001b[38;5;28mtype\u001b[39m(chunk)\u001b[38;5;132;01m}\u001b[39;00m\u001b[38;5;124m.\u001b[39m\u001b[38;5;124m\"\u001b[39m\n\u001b[1;32m   1296\u001b[0m                 \u001b[38;5;124mf\u001b[39m\u001b[38;5;124m\"\u001b[39m\u001b[38;5;124mThese types should be addable for transform to work.\u001b[39m\u001b[38;5;124m\"\u001b[39m\n\u001b[1;32m   1297\u001b[0m             )\n\u001b[1;32m   1299\u001b[0m \u001b[38;5;28;01mif\u001b[39;00m got_first_val:\n\u001b[0;32m-> 1300\u001b[0m     \u001b[38;5;28;01myield from\u001b[39;00m \u001b[38;5;28mself\u001b[39m\u001b[38;5;241m.\u001b[39mstream(final, config, \u001b[38;5;241m*\u001b[39m\u001b[38;5;241m*\u001b[39mkwargs)\n",
      "File \u001b[0;32m~/miniforge3/envs/carmen/lib/python3.12/site-packages/langchain_core/language_models/chat_models.py:249\u001b[0m, in \u001b[0;36mBaseChatModel.stream\u001b[0;34m(self, input, config, stop, **kwargs)\u001b[0m\n\u001b[1;32m    242\u001b[0m \u001b[38;5;28;01mexcept\u001b[39;00m \u001b[38;5;167;01mBaseException\u001b[39;00m \u001b[38;5;28;01mas\u001b[39;00m e:\n\u001b[1;32m    243\u001b[0m     run_manager\u001b[38;5;241m.\u001b[39mon_llm_error(\n\u001b[1;32m    244\u001b[0m         e,\n\u001b[1;32m    245\u001b[0m         response\u001b[38;5;241m=\u001b[39mLLMResult(\n\u001b[1;32m    246\u001b[0m             generations\u001b[38;5;241m=\u001b[39m[[generation]] \u001b[38;5;28;01mif\u001b[39;00m generation \u001b[38;5;28;01melse\u001b[39;00m []\n\u001b[1;32m    247\u001b[0m         ),\n\u001b[1;32m    248\u001b[0m     )\n\u001b[0;32m--> 249\u001b[0m     \u001b[38;5;28;01mraise\u001b[39;00m e\n\u001b[1;32m    250\u001b[0m \u001b[38;5;28;01melse\u001b[39;00m:\n\u001b[1;32m    251\u001b[0m     run_manager\u001b[38;5;241m.\u001b[39mon_llm_end(LLMResult(generations\u001b[38;5;241m=\u001b[39m[[generation]]))\n",
      "File \u001b[0;32m~/miniforge3/envs/carmen/lib/python3.12/site-packages/langchain_core/language_models/chat_models.py:229\u001b[0m, in \u001b[0;36mBaseChatModel.stream\u001b[0;34m(self, input, config, stop, **kwargs)\u001b[0m\n\u001b[1;32m    227\u001b[0m generation: Optional[ChatGenerationChunk] \u001b[38;5;241m=\u001b[39m \u001b[38;5;28;01mNone\u001b[39;00m\n\u001b[1;32m    228\u001b[0m \u001b[38;5;28;01mtry\u001b[39;00m:\n\u001b[0;32m--> 229\u001b[0m \u001b[43m    \u001b[49m\u001b[38;5;28;43;01mfor\u001b[39;49;00m\u001b[43m \u001b[49m\u001b[43mchunk\u001b[49m\u001b[43m \u001b[49m\u001b[38;5;129;43;01min\u001b[39;49;00m\u001b[43m \u001b[49m\u001b[38;5;28;43mself\u001b[39;49m\u001b[38;5;241;43m.\u001b[39;49m\u001b[43m_stream\u001b[49m\u001b[43m(\u001b[49m\u001b[43mmessages\u001b[49m\u001b[43m,\u001b[49m\u001b[43m \u001b[49m\u001b[43mstop\u001b[49m\u001b[38;5;241;43m=\u001b[39;49m\u001b[43mstop\u001b[49m\u001b[43m,\u001b[49m\u001b[43m \u001b[49m\u001b[38;5;241;43m*\u001b[39;49m\u001b[38;5;241;43m*\u001b[39;49m\u001b[43mkwargs\u001b[49m\u001b[43m)\u001b[49m\u001b[43m:\u001b[49m\n\u001b[1;32m    230\u001b[0m \u001b[43m        \u001b[49m\u001b[38;5;28;43;01mif\u001b[39;49;00m\u001b[43m \u001b[49m\u001b[43mchunk\u001b[49m\u001b[38;5;241;43m.\u001b[39;49m\u001b[43mmessage\u001b[49m\u001b[38;5;241;43m.\u001b[39;49m\u001b[43mid\u001b[49m\u001b[43m \u001b[49m\u001b[38;5;129;43;01mis\u001b[39;49;00m\u001b[43m \u001b[49m\u001b[38;5;28;43;01mNone\u001b[39;49;00m\u001b[43m:\u001b[49m\n\u001b[1;32m    231\u001b[0m \u001b[43m            \u001b[49m\u001b[43mchunk\u001b[49m\u001b[38;5;241;43m.\u001b[39;49m\u001b[43mmessage\u001b[49m\u001b[38;5;241;43m.\u001b[39;49m\u001b[43mid\u001b[49m\u001b[43m \u001b[49m\u001b[38;5;241;43m=\u001b[39;49m\u001b[43m \u001b[49m\u001b[38;5;124;43mf\u001b[39;49m\u001b[38;5;124;43m\"\u001b[39;49m\u001b[38;5;124;43mrun-\u001b[39;49m\u001b[38;5;132;43;01m{\u001b[39;49;00m\u001b[43mrun_manager\u001b[49m\u001b[38;5;241;43m.\u001b[39;49m\u001b[43mrun_id\u001b[49m\u001b[38;5;132;43;01m}\u001b[39;49;00m\u001b[38;5;124;43m\"\u001b[39;49m\n",
      "File \u001b[0;32m~/miniforge3/envs/carmen/lib/python3.12/site-packages/langchain_openai/chat_models/base.py:507\u001b[0m, in \u001b[0;36mChatOpenAI._stream\u001b[0;34m(self, messages, stop, run_manager, **kwargs)\u001b[0m\n\u001b[1;32m    505\u001b[0m default_chunk_class \u001b[38;5;241m=\u001b[39m AIMessageChunk\n\u001b[1;32m    506\u001b[0m \u001b[38;5;28;01mwith\u001b[39;00m \u001b[38;5;28mself\u001b[39m\u001b[38;5;241m.\u001b[39mclient\u001b[38;5;241m.\u001b[39mcreate(messages\u001b[38;5;241m=\u001b[39mmessage_dicts, \u001b[38;5;241m*\u001b[39m\u001b[38;5;241m*\u001b[39mparams) \u001b[38;5;28;01mas\u001b[39;00m response:\n\u001b[0;32m--> 507\u001b[0m \u001b[43m    \u001b[49m\u001b[38;5;28;43;01mfor\u001b[39;49;00m\u001b[43m \u001b[49m\u001b[43mchunk\u001b[49m\u001b[43m \u001b[49m\u001b[38;5;129;43;01min\u001b[39;49;00m\u001b[43m \u001b[49m\u001b[43mresponse\u001b[49m\u001b[43m:\u001b[49m\n\u001b[1;32m    508\u001b[0m \u001b[43m        \u001b[49m\u001b[38;5;28;43;01mif\u001b[39;49;00m\u001b[43m \u001b[49m\u001b[38;5;129;43;01mnot\u001b[39;49;00m\u001b[43m \u001b[49m\u001b[38;5;28;43misinstance\u001b[39;49m\u001b[43m(\u001b[49m\u001b[43mchunk\u001b[49m\u001b[43m,\u001b[49m\u001b[43m \u001b[49m\u001b[38;5;28;43mdict\u001b[39;49m\u001b[43m)\u001b[49m\u001b[43m:\u001b[49m\n\u001b[1;32m    509\u001b[0m \u001b[43m            \u001b[49m\u001b[43mchunk\u001b[49m\u001b[43m \u001b[49m\u001b[38;5;241;43m=\u001b[39;49m\u001b[43m \u001b[49m\u001b[43mchunk\u001b[49m\u001b[38;5;241;43m.\u001b[39;49m\u001b[43mmodel_dump\u001b[49m\u001b[43m(\u001b[49m\u001b[43m)\u001b[49m\n",
      "File \u001b[0;32m~/miniforge3/envs/carmen/lib/python3.12/site-packages/openai/_streaming.py:46\u001b[0m, in \u001b[0;36mStream.__iter__\u001b[0;34m(self)\u001b[0m\n\u001b[1;32m     45\u001b[0m \u001b[38;5;28;01mdef\u001b[39;00m \u001b[38;5;21m__iter__\u001b[39m(\u001b[38;5;28mself\u001b[39m) \u001b[38;5;241m-\u001b[39m\u001b[38;5;241m>\u001b[39m Iterator[_T]:\n\u001b[0;32m---> 46\u001b[0m \u001b[43m    \u001b[49m\u001b[38;5;28;43;01mfor\u001b[39;49;00m\u001b[43m \u001b[49m\u001b[43mitem\u001b[49m\u001b[43m \u001b[49m\u001b[38;5;129;43;01min\u001b[39;49;00m\u001b[43m \u001b[49m\u001b[38;5;28;43mself\u001b[39;49m\u001b[38;5;241;43m.\u001b[39;49m\u001b[43m_iterator\u001b[49m\u001b[43m:\u001b[49m\n\u001b[1;32m     47\u001b[0m \u001b[43m        \u001b[49m\u001b[38;5;28;43;01myield\u001b[39;49;00m\u001b[43m \u001b[49m\u001b[43mitem\u001b[49m\n",
      "File \u001b[0;32m~/miniforge3/envs/carmen/lib/python3.12/site-packages/openai/_streaming.py:58\u001b[0m, in \u001b[0;36mStream.__stream__\u001b[0;34m(self)\u001b[0m\n\u001b[1;32m     55\u001b[0m process_data \u001b[38;5;241m=\u001b[39m \u001b[38;5;28mself\u001b[39m\u001b[38;5;241m.\u001b[39m_client\u001b[38;5;241m.\u001b[39m_process_response_data\n\u001b[1;32m     56\u001b[0m iterator \u001b[38;5;241m=\u001b[39m \u001b[38;5;28mself\u001b[39m\u001b[38;5;241m.\u001b[39m_iter_events()\n\u001b[0;32m---> 58\u001b[0m \u001b[43m\u001b[49m\u001b[38;5;28;43;01mfor\u001b[39;49;00m\u001b[43m \u001b[49m\u001b[43msse\u001b[49m\u001b[43m \u001b[49m\u001b[38;5;129;43;01min\u001b[39;49;00m\u001b[43m \u001b[49m\u001b[43miterator\u001b[49m\u001b[43m:\u001b[49m\n\u001b[1;32m     59\u001b[0m \u001b[43m    \u001b[49m\u001b[38;5;28;43;01mif\u001b[39;49;00m\u001b[43m \u001b[49m\u001b[43msse\u001b[49m\u001b[38;5;241;43m.\u001b[39;49m\u001b[43mdata\u001b[49m\u001b[38;5;241;43m.\u001b[39;49m\u001b[43mstartswith\u001b[49m\u001b[43m(\u001b[49m\u001b[38;5;124;43m\"\u001b[39;49m\u001b[38;5;124;43m[DONE]\u001b[39;49m\u001b[38;5;124;43m\"\u001b[39;49m\u001b[43m)\u001b[49m\u001b[43m:\u001b[49m\n\u001b[1;32m     60\u001b[0m \u001b[43m        \u001b[49m\u001b[38;5;28;43;01mbreak\u001b[39;49;00m\n",
      "File \u001b[0;32m~/miniforge3/envs/carmen/lib/python3.12/site-packages/openai/_streaming.py:50\u001b[0m, in \u001b[0;36mStream._iter_events\u001b[0;34m(self)\u001b[0m\n\u001b[1;32m     49\u001b[0m \u001b[38;5;28;01mdef\u001b[39;00m \u001b[38;5;21m_iter_events\u001b[39m(\u001b[38;5;28mself\u001b[39m) \u001b[38;5;241m-\u001b[39m\u001b[38;5;241m>\u001b[39m Iterator[ServerSentEvent]:\n\u001b[0;32m---> 50\u001b[0m     \u001b[38;5;28;01myield from\u001b[39;00m \u001b[38;5;28mself\u001b[39m\u001b[38;5;241m.\u001b[39m_decoder\u001b[38;5;241m.\u001b[39miter_bytes(\u001b[38;5;28mself\u001b[39m\u001b[38;5;241m.\u001b[39mresponse\u001b[38;5;241m.\u001b[39miter_bytes())\n",
      "File \u001b[0;32m~/miniforge3/envs/carmen/lib/python3.12/site-packages/openai/_streaming.py:280\u001b[0m, in \u001b[0;36mSSEDecoder.iter_bytes\u001b[0;34m(self, iterator)\u001b[0m\n\u001b[1;32m    278\u001b[0m \u001b[38;5;28;01mdef\u001b[39;00m \u001b[38;5;21miter_bytes\u001b[39m(\u001b[38;5;28mself\u001b[39m, iterator: Iterator[\u001b[38;5;28mbytes\u001b[39m]) \u001b[38;5;241m-\u001b[39m\u001b[38;5;241m>\u001b[39m Iterator[ServerSentEvent]:\n\u001b[1;32m    279\u001b[0m \u001b[38;5;250m    \u001b[39m\u001b[38;5;124;03m\"\"\"Given an iterator that yields raw binary data, iterate over it & yield every event encountered\"\"\"\u001b[39;00m\n\u001b[0;32m--> 280\u001b[0m \u001b[43m    \u001b[49m\u001b[38;5;28;43;01mfor\u001b[39;49;00m\u001b[43m \u001b[49m\u001b[43mchunk\u001b[49m\u001b[43m \u001b[49m\u001b[38;5;129;43;01min\u001b[39;49;00m\u001b[43m \u001b[49m\u001b[38;5;28;43mself\u001b[39;49m\u001b[38;5;241;43m.\u001b[39;49m\u001b[43m_iter_chunks\u001b[49m\u001b[43m(\u001b[49m\u001b[43miterator\u001b[49m\u001b[43m)\u001b[49m\u001b[43m:\u001b[49m\n\u001b[1;32m    281\u001b[0m \u001b[43m        \u001b[49m\u001b[38;5;66;43;03m# Split before decoding so splitlines() only uses \\r and \\n\u001b[39;49;00m\n\u001b[1;32m    282\u001b[0m \u001b[43m        \u001b[49m\u001b[38;5;28;43;01mfor\u001b[39;49;00m\u001b[43m \u001b[49m\u001b[43mraw_line\u001b[49m\u001b[43m \u001b[49m\u001b[38;5;129;43;01min\u001b[39;49;00m\u001b[43m \u001b[49m\u001b[43mchunk\u001b[49m\u001b[38;5;241;43m.\u001b[39;49m\u001b[43msplitlines\u001b[49m\u001b[43m(\u001b[49m\u001b[43m)\u001b[49m\u001b[43m:\u001b[49m\n\u001b[1;32m    283\u001b[0m \u001b[43m            \u001b[49m\u001b[43mline\u001b[49m\u001b[43m \u001b[49m\u001b[38;5;241;43m=\u001b[39;49m\u001b[43m \u001b[49m\u001b[43mraw_line\u001b[49m\u001b[38;5;241;43m.\u001b[39;49m\u001b[43mdecode\u001b[49m\u001b[43m(\u001b[49m\u001b[38;5;124;43m\"\u001b[39;49m\u001b[38;5;124;43mutf-8\u001b[39;49m\u001b[38;5;124;43m\"\u001b[39;49m\u001b[43m)\u001b[49m\n",
      "File \u001b[0;32m~/miniforge3/envs/carmen/lib/python3.12/site-packages/openai/_streaming.py:291\u001b[0m, in \u001b[0;36mSSEDecoder._iter_chunks\u001b[0;34m(self, iterator)\u001b[0m\n\u001b[1;32m    289\u001b[0m \u001b[38;5;250m\u001b[39m\u001b[38;5;124;03m\"\"\"Given an iterator that yields raw binary data, iterate over it and yield individual SSE chunks\"\"\"\u001b[39;00m\n\u001b[1;32m    290\u001b[0m data \u001b[38;5;241m=\u001b[39m \u001b[38;5;124mb\u001b[39m\u001b[38;5;124m\"\u001b[39m\u001b[38;5;124m\"\u001b[39m\n\u001b[0;32m--> 291\u001b[0m \u001b[43m\u001b[49m\u001b[38;5;28;43;01mfor\u001b[39;49;00m\u001b[43m \u001b[49m\u001b[43mchunk\u001b[49m\u001b[43m \u001b[49m\u001b[38;5;129;43;01min\u001b[39;49;00m\u001b[43m \u001b[49m\u001b[43miterator\u001b[49m\u001b[43m:\u001b[49m\n\u001b[1;32m    292\u001b[0m \u001b[43m    \u001b[49m\u001b[38;5;28;43;01mfor\u001b[39;49;00m\u001b[43m \u001b[49m\u001b[43mline\u001b[49m\u001b[43m \u001b[49m\u001b[38;5;129;43;01min\u001b[39;49;00m\u001b[43m \u001b[49m\u001b[43mchunk\u001b[49m\u001b[38;5;241;43m.\u001b[39;49m\u001b[43msplitlines\u001b[49m\u001b[43m(\u001b[49m\u001b[43mkeepends\u001b[49m\u001b[38;5;241;43m=\u001b[39;49m\u001b[38;5;28;43;01mTrue\u001b[39;49;00m\u001b[43m)\u001b[49m\u001b[43m:\u001b[49m\n\u001b[1;32m    293\u001b[0m \u001b[43m        \u001b[49m\u001b[43mdata\u001b[49m\u001b[43m \u001b[49m\u001b[38;5;241;43m+\u001b[39;49m\u001b[38;5;241;43m=\u001b[39;49m\u001b[43m \u001b[49m\u001b[43mline\u001b[49m\n",
      "File \u001b[0;32m~/miniforge3/envs/carmen/lib/python3.12/site-packages/httpx/_models.py:829\u001b[0m, in \u001b[0;36mResponse.iter_bytes\u001b[0;34m(self, chunk_size)\u001b[0m\n\u001b[1;32m    827\u001b[0m chunker \u001b[38;5;241m=\u001b[39m ByteChunker(chunk_size\u001b[38;5;241m=\u001b[39mchunk_size)\n\u001b[1;32m    828\u001b[0m \u001b[38;5;28;01mwith\u001b[39;00m request_context(request\u001b[38;5;241m=\u001b[39m\u001b[38;5;28mself\u001b[39m\u001b[38;5;241m.\u001b[39m_request):\n\u001b[0;32m--> 829\u001b[0m \u001b[43m    \u001b[49m\u001b[38;5;28;43;01mfor\u001b[39;49;00m\u001b[43m \u001b[49m\u001b[43mraw_bytes\u001b[49m\u001b[43m \u001b[49m\u001b[38;5;129;43;01min\u001b[39;49;00m\u001b[43m \u001b[49m\u001b[38;5;28;43mself\u001b[39;49m\u001b[38;5;241;43m.\u001b[39;49m\u001b[43miter_raw\u001b[49m\u001b[43m(\u001b[49m\u001b[43m)\u001b[49m\u001b[43m:\u001b[49m\n\u001b[1;32m    830\u001b[0m \u001b[43m        \u001b[49m\u001b[43mdecoded\u001b[49m\u001b[43m \u001b[49m\u001b[38;5;241;43m=\u001b[39;49m\u001b[43m \u001b[49m\u001b[43mdecoder\u001b[49m\u001b[38;5;241;43m.\u001b[39;49m\u001b[43mdecode\u001b[49m\u001b[43m(\u001b[49m\u001b[43mraw_bytes\u001b[49m\u001b[43m)\u001b[49m\n\u001b[1;32m    831\u001b[0m \u001b[43m        \u001b[49m\u001b[38;5;28;43;01mfor\u001b[39;49;00m\u001b[43m \u001b[49m\u001b[43mchunk\u001b[49m\u001b[43m \u001b[49m\u001b[38;5;129;43;01min\u001b[39;49;00m\u001b[43m \u001b[49m\u001b[43mchunker\u001b[49m\u001b[38;5;241;43m.\u001b[39;49m\u001b[43mdecode\u001b[49m\u001b[43m(\u001b[49m\u001b[43mdecoded\u001b[49m\u001b[43m)\u001b[49m\u001b[43m:\u001b[49m\n",
      "File \u001b[0;32m~/miniforge3/envs/carmen/lib/python3.12/site-packages/httpx/_models.py:883\u001b[0m, in \u001b[0;36mResponse.iter_raw\u001b[0;34m(self, chunk_size)\u001b[0m\n\u001b[1;32m    880\u001b[0m chunker \u001b[38;5;241m=\u001b[39m ByteChunker(chunk_size\u001b[38;5;241m=\u001b[39mchunk_size)\n\u001b[1;32m    882\u001b[0m \u001b[38;5;28;01mwith\u001b[39;00m request_context(request\u001b[38;5;241m=\u001b[39m\u001b[38;5;28mself\u001b[39m\u001b[38;5;241m.\u001b[39m_request):\n\u001b[0;32m--> 883\u001b[0m \u001b[43m    \u001b[49m\u001b[38;5;28;43;01mfor\u001b[39;49;00m\u001b[43m \u001b[49m\u001b[43mraw_stream_bytes\u001b[49m\u001b[43m \u001b[49m\u001b[38;5;129;43;01min\u001b[39;49;00m\u001b[43m \u001b[49m\u001b[38;5;28;43mself\u001b[39;49m\u001b[38;5;241;43m.\u001b[39;49m\u001b[43mstream\u001b[49m\u001b[43m:\u001b[49m\n\u001b[1;32m    884\u001b[0m \u001b[43m        \u001b[49m\u001b[38;5;28;43mself\u001b[39;49m\u001b[38;5;241;43m.\u001b[39;49m\u001b[43m_num_bytes_downloaded\u001b[49m\u001b[43m \u001b[49m\u001b[38;5;241;43m+\u001b[39;49m\u001b[38;5;241;43m=\u001b[39;49m\u001b[43m \u001b[49m\u001b[38;5;28;43mlen\u001b[39;49m\u001b[43m(\u001b[49m\u001b[43mraw_stream_bytes\u001b[49m\u001b[43m)\u001b[49m\n\u001b[1;32m    885\u001b[0m \u001b[43m        \u001b[49m\u001b[38;5;28;43;01mfor\u001b[39;49;00m\u001b[43m \u001b[49m\u001b[43mchunk\u001b[49m\u001b[43m \u001b[49m\u001b[38;5;129;43;01min\u001b[39;49;00m\u001b[43m \u001b[49m\u001b[43mchunker\u001b[49m\u001b[38;5;241;43m.\u001b[39;49m\u001b[43mdecode\u001b[49m\u001b[43m(\u001b[49m\u001b[43mraw_stream_bytes\u001b[49m\u001b[43m)\u001b[49m\u001b[43m:\u001b[49m\n",
      "File \u001b[0;32m~/miniforge3/envs/carmen/lib/python3.12/site-packages/httpx/_client.py:126\u001b[0m, in \u001b[0;36mBoundSyncStream.__iter__\u001b[0;34m(self)\u001b[0m\n\u001b[1;32m    125\u001b[0m \u001b[38;5;28;01mdef\u001b[39;00m \u001b[38;5;21m__iter__\u001b[39m(\u001b[38;5;28mself\u001b[39m) \u001b[38;5;241m-\u001b[39m\u001b[38;5;241m>\u001b[39m typing\u001b[38;5;241m.\u001b[39mIterator[\u001b[38;5;28mbytes\u001b[39m]:\n\u001b[0;32m--> 126\u001b[0m \u001b[43m    \u001b[49m\u001b[38;5;28;43;01mfor\u001b[39;49;00m\u001b[43m \u001b[49m\u001b[43mchunk\u001b[49m\u001b[43m \u001b[49m\u001b[38;5;129;43;01min\u001b[39;49;00m\u001b[43m \u001b[49m\u001b[38;5;28;43mself\u001b[39;49m\u001b[38;5;241;43m.\u001b[39;49m\u001b[43m_stream\u001b[49m\u001b[43m:\u001b[49m\n\u001b[1;32m    127\u001b[0m \u001b[43m        \u001b[49m\u001b[38;5;28;43;01myield\u001b[39;49;00m\u001b[43m \u001b[49m\u001b[43mchunk\u001b[49m\n",
      "File \u001b[0;32m~/miniforge3/envs/carmen/lib/python3.12/site-packages/httpx/_transports/default.py:113\u001b[0m, in \u001b[0;36mResponseStream.__iter__\u001b[0;34m(self)\u001b[0m\n\u001b[1;32m    111\u001b[0m \u001b[38;5;28;01mdef\u001b[39;00m \u001b[38;5;21m__iter__\u001b[39m(\u001b[38;5;28mself\u001b[39m) \u001b[38;5;241m-\u001b[39m\u001b[38;5;241m>\u001b[39m typing\u001b[38;5;241m.\u001b[39mIterator[\u001b[38;5;28mbytes\u001b[39m]:\n\u001b[1;32m    112\u001b[0m     \u001b[38;5;28;01mwith\u001b[39;00m map_httpcore_exceptions():\n\u001b[0;32m--> 113\u001b[0m \u001b[43m        \u001b[49m\u001b[38;5;28;43;01mfor\u001b[39;49;00m\u001b[43m \u001b[49m\u001b[43mpart\u001b[49m\u001b[43m \u001b[49m\u001b[38;5;129;43;01min\u001b[39;49;00m\u001b[43m \u001b[49m\u001b[38;5;28;43mself\u001b[39;49m\u001b[38;5;241;43m.\u001b[39;49m\u001b[43m_httpcore_stream\u001b[49m\u001b[43m:\u001b[49m\n\u001b[1;32m    114\u001b[0m \u001b[43m            \u001b[49m\u001b[38;5;28;43;01myield\u001b[39;49;00m\u001b[43m \u001b[49m\u001b[43mpart\u001b[49m\n",
      "File \u001b[0;32m~/miniforge3/envs/carmen/lib/python3.12/site-packages/httpcore/_sync/connection_pool.py:367\u001b[0m, in \u001b[0;36mPoolByteStream.__iter__\u001b[0;34m(self)\u001b[0m\n\u001b[1;32m    365\u001b[0m \u001b[38;5;28;01mexcept\u001b[39;00m \u001b[38;5;167;01mBaseException\u001b[39;00m \u001b[38;5;28;01mas\u001b[39;00m exc:\n\u001b[1;32m    366\u001b[0m     \u001b[38;5;28mself\u001b[39m\u001b[38;5;241m.\u001b[39mclose()\n\u001b[0;32m--> 367\u001b[0m     \u001b[38;5;28;01mraise\u001b[39;00m exc \u001b[38;5;28;01mfrom\u001b[39;00m \u001b[38;5;28;01mNone\u001b[39;00m\n",
      "File \u001b[0;32m~/miniforge3/envs/carmen/lib/python3.12/site-packages/httpcore/_sync/connection_pool.py:363\u001b[0m, in \u001b[0;36mPoolByteStream.__iter__\u001b[0;34m(self)\u001b[0m\n\u001b[1;32m    361\u001b[0m \u001b[38;5;28;01mdef\u001b[39;00m \u001b[38;5;21m__iter__\u001b[39m(\u001b[38;5;28mself\u001b[39m) \u001b[38;5;241m-\u001b[39m\u001b[38;5;241m>\u001b[39m Iterator[\u001b[38;5;28mbytes\u001b[39m]:\n\u001b[1;32m    362\u001b[0m     \u001b[38;5;28;01mtry\u001b[39;00m:\n\u001b[0;32m--> 363\u001b[0m \u001b[43m        \u001b[49m\u001b[38;5;28;43;01mfor\u001b[39;49;00m\u001b[43m \u001b[49m\u001b[43mpart\u001b[49m\u001b[43m \u001b[49m\u001b[38;5;129;43;01min\u001b[39;49;00m\u001b[43m \u001b[49m\u001b[38;5;28;43mself\u001b[39;49m\u001b[38;5;241;43m.\u001b[39;49m\u001b[43m_stream\u001b[49m\u001b[43m:\u001b[49m\n\u001b[1;32m    364\u001b[0m \u001b[43m            \u001b[49m\u001b[38;5;28;43;01myield\u001b[39;49;00m\u001b[43m \u001b[49m\u001b[43mpart\u001b[49m\n\u001b[1;32m    365\u001b[0m     \u001b[38;5;28;01mexcept\u001b[39;00m \u001b[38;5;167;01mBaseException\u001b[39;00m \u001b[38;5;28;01mas\u001b[39;00m exc:\n",
      "File \u001b[0;32m~/miniforge3/envs/carmen/lib/python3.12/site-packages/httpcore/_sync/http11.py:349\u001b[0m, in \u001b[0;36mHTTP11ConnectionByteStream.__iter__\u001b[0;34m(self)\u001b[0m\n\u001b[1;32m    347\u001b[0m \u001b[38;5;28;01mwith\u001b[39;00m ShieldCancellation():\n\u001b[1;32m    348\u001b[0m     \u001b[38;5;28mself\u001b[39m\u001b[38;5;241m.\u001b[39mclose()\n\u001b[0;32m--> 349\u001b[0m \u001b[38;5;28;01mraise\u001b[39;00m exc\n",
      "File \u001b[0;32m~/miniforge3/envs/carmen/lib/python3.12/site-packages/httpcore/_sync/http11.py:341\u001b[0m, in \u001b[0;36mHTTP11ConnectionByteStream.__iter__\u001b[0;34m(self)\u001b[0m\n\u001b[1;32m    339\u001b[0m \u001b[38;5;28;01mtry\u001b[39;00m:\n\u001b[1;32m    340\u001b[0m     \u001b[38;5;28;01mwith\u001b[39;00m Trace(\u001b[38;5;124m\"\u001b[39m\u001b[38;5;124mreceive_response_body\u001b[39m\u001b[38;5;124m\"\u001b[39m, logger, \u001b[38;5;28mself\u001b[39m\u001b[38;5;241m.\u001b[39m_request, kwargs):\n\u001b[0;32m--> 341\u001b[0m \u001b[43m        \u001b[49m\u001b[38;5;28;43;01mfor\u001b[39;49;00m\u001b[43m \u001b[49m\u001b[43mchunk\u001b[49m\u001b[43m \u001b[49m\u001b[38;5;129;43;01min\u001b[39;49;00m\u001b[43m \u001b[49m\u001b[38;5;28;43mself\u001b[39;49m\u001b[38;5;241;43m.\u001b[39;49m\u001b[43m_connection\u001b[49m\u001b[38;5;241;43m.\u001b[39;49m\u001b[43m_receive_response_body\u001b[49m\u001b[43m(\u001b[49m\u001b[38;5;241;43m*\u001b[39;49m\u001b[38;5;241;43m*\u001b[39;49m\u001b[43mkwargs\u001b[49m\u001b[43m)\u001b[49m\u001b[43m:\u001b[49m\n\u001b[1;32m    342\u001b[0m \u001b[43m            \u001b[49m\u001b[38;5;28;43;01myield\u001b[39;49;00m\u001b[43m \u001b[49m\u001b[43mchunk\u001b[49m\n\u001b[1;32m    343\u001b[0m \u001b[38;5;28;01mexcept\u001b[39;00m \u001b[38;5;167;01mBaseException\u001b[39;00m \u001b[38;5;28;01mas\u001b[39;00m exc:\n\u001b[1;32m    344\u001b[0m     \u001b[38;5;66;03m# If we get an exception while streaming the response,\u001b[39;00m\n\u001b[1;32m    345\u001b[0m     \u001b[38;5;66;03m# we want to close the response (and possibly the connection)\u001b[39;00m\n\u001b[1;32m    346\u001b[0m     \u001b[38;5;66;03m# before raising that exception.\u001b[39;00m\n",
      "File \u001b[0;32m~/miniforge3/envs/carmen/lib/python3.12/site-packages/httpcore/_sync/http11.py:210\u001b[0m, in \u001b[0;36mHTTP11Connection._receive_response_body\u001b[0;34m(self, request)\u001b[0m\n\u001b[1;32m    207\u001b[0m timeout \u001b[38;5;241m=\u001b[39m timeouts\u001b[38;5;241m.\u001b[39mget(\u001b[38;5;124m\"\u001b[39m\u001b[38;5;124mread\u001b[39m\u001b[38;5;124m\"\u001b[39m, \u001b[38;5;28;01mNone\u001b[39;00m)\n\u001b[1;32m    209\u001b[0m \u001b[38;5;28;01mwhile\u001b[39;00m \u001b[38;5;28;01mTrue\u001b[39;00m:\n\u001b[0;32m--> 210\u001b[0m     event \u001b[38;5;241m=\u001b[39m \u001b[38;5;28;43mself\u001b[39;49m\u001b[38;5;241;43m.\u001b[39;49m\u001b[43m_receive_event\u001b[49m\u001b[43m(\u001b[49m\u001b[43mtimeout\u001b[49m\u001b[38;5;241;43m=\u001b[39;49m\u001b[43mtimeout\u001b[49m\u001b[43m)\u001b[49m\n\u001b[1;32m    211\u001b[0m     \u001b[38;5;28;01mif\u001b[39;00m \u001b[38;5;28misinstance\u001b[39m(event, h11\u001b[38;5;241m.\u001b[39mData):\n\u001b[1;32m    212\u001b[0m         \u001b[38;5;28;01myield\u001b[39;00m \u001b[38;5;28mbytes\u001b[39m(event\u001b[38;5;241m.\u001b[39mdata)\n",
      "File \u001b[0;32m~/miniforge3/envs/carmen/lib/python3.12/site-packages/httpcore/_sync/http11.py:224\u001b[0m, in \u001b[0;36mHTTP11Connection._receive_event\u001b[0;34m(self, timeout)\u001b[0m\n\u001b[1;32m    221\u001b[0m     event \u001b[38;5;241m=\u001b[39m \u001b[38;5;28mself\u001b[39m\u001b[38;5;241m.\u001b[39m_h11_state\u001b[38;5;241m.\u001b[39mnext_event()\n\u001b[1;32m    223\u001b[0m \u001b[38;5;28;01mif\u001b[39;00m event \u001b[38;5;129;01mis\u001b[39;00m h11\u001b[38;5;241m.\u001b[39mNEED_DATA:\n\u001b[0;32m--> 224\u001b[0m     data \u001b[38;5;241m=\u001b[39m \u001b[38;5;28;43mself\u001b[39;49m\u001b[38;5;241;43m.\u001b[39;49m\u001b[43m_network_stream\u001b[49m\u001b[38;5;241;43m.\u001b[39;49m\u001b[43mread\u001b[49m\u001b[43m(\u001b[49m\n\u001b[1;32m    225\u001b[0m \u001b[43m        \u001b[49m\u001b[38;5;28;43mself\u001b[39;49m\u001b[38;5;241;43m.\u001b[39;49m\u001b[43mREAD_NUM_BYTES\u001b[49m\u001b[43m,\u001b[49m\u001b[43m \u001b[49m\u001b[43mtimeout\u001b[49m\u001b[38;5;241;43m=\u001b[39;49m\u001b[43mtimeout\u001b[49m\n\u001b[1;32m    226\u001b[0m \u001b[43m    \u001b[49m\u001b[43m)\u001b[49m\n\u001b[1;32m    228\u001b[0m     \u001b[38;5;66;03m# If we feed this case through h11 we'll raise an exception like:\u001b[39;00m\n\u001b[1;32m    229\u001b[0m     \u001b[38;5;66;03m#\u001b[39;00m\n\u001b[1;32m    230\u001b[0m     \u001b[38;5;66;03m#     httpcore.RemoteProtocolError: can't handle event type\u001b[39;00m\n\u001b[0;32m   (...)\u001b[0m\n\u001b[1;32m    234\u001b[0m     \u001b[38;5;66;03m# perspective. Instead we handle this case distinctly and treat\u001b[39;00m\n\u001b[1;32m    235\u001b[0m     \u001b[38;5;66;03m# it as a ConnectError.\u001b[39;00m\n\u001b[1;32m    236\u001b[0m     \u001b[38;5;28;01mif\u001b[39;00m data \u001b[38;5;241m==\u001b[39m \u001b[38;5;124mb\u001b[39m\u001b[38;5;124m\"\u001b[39m\u001b[38;5;124m\"\u001b[39m \u001b[38;5;129;01mand\u001b[39;00m \u001b[38;5;28mself\u001b[39m\u001b[38;5;241m.\u001b[39m_h11_state\u001b[38;5;241m.\u001b[39mtheir_state \u001b[38;5;241m==\u001b[39m h11\u001b[38;5;241m.\u001b[39mSEND_RESPONSE:\n",
      "File \u001b[0;32m~/miniforge3/envs/carmen/lib/python3.12/site-packages/httpcore/_backends/sync.py:126\u001b[0m, in \u001b[0;36mSyncStream.read\u001b[0;34m(self, max_bytes, timeout)\u001b[0m\n\u001b[1;32m    124\u001b[0m \u001b[38;5;28;01mwith\u001b[39;00m map_exceptions(exc_map):\n\u001b[1;32m    125\u001b[0m     \u001b[38;5;28mself\u001b[39m\u001b[38;5;241m.\u001b[39m_sock\u001b[38;5;241m.\u001b[39msettimeout(timeout)\n\u001b[0;32m--> 126\u001b[0m     \u001b[38;5;28;01mreturn\u001b[39;00m \u001b[38;5;28;43mself\u001b[39;49m\u001b[38;5;241;43m.\u001b[39;49m\u001b[43m_sock\u001b[49m\u001b[38;5;241;43m.\u001b[39;49m\u001b[43mrecv\u001b[49m\u001b[43m(\u001b[49m\u001b[43mmax_bytes\u001b[49m\u001b[43m)\u001b[49m\n",
      "File \u001b[0;32m~/miniforge3/envs/carmen/lib/python3.12/ssl.py:1233\u001b[0m, in \u001b[0;36mSSLSocket.recv\u001b[0;34m(self, buflen, flags)\u001b[0m\n\u001b[1;32m   1229\u001b[0m     \u001b[38;5;28;01mif\u001b[39;00m flags \u001b[38;5;241m!=\u001b[39m \u001b[38;5;241m0\u001b[39m:\n\u001b[1;32m   1230\u001b[0m         \u001b[38;5;28;01mraise\u001b[39;00m \u001b[38;5;167;01mValueError\u001b[39;00m(\n\u001b[1;32m   1231\u001b[0m             \u001b[38;5;124m\"\u001b[39m\u001b[38;5;124mnon-zero flags not allowed in calls to recv() on \u001b[39m\u001b[38;5;132;01m%s\u001b[39;00m\u001b[38;5;124m\"\u001b[39m \u001b[38;5;241m%\u001b[39m\n\u001b[1;32m   1232\u001b[0m             \u001b[38;5;28mself\u001b[39m\u001b[38;5;241m.\u001b[39m\u001b[38;5;18m__class__\u001b[39m)\n\u001b[0;32m-> 1233\u001b[0m     \u001b[38;5;28;01mreturn\u001b[39;00m \u001b[38;5;28;43mself\u001b[39;49m\u001b[38;5;241;43m.\u001b[39;49m\u001b[43mread\u001b[49m\u001b[43m(\u001b[49m\u001b[43mbuflen\u001b[49m\u001b[43m)\u001b[49m\n\u001b[1;32m   1234\u001b[0m \u001b[38;5;28;01melse\u001b[39;00m:\n\u001b[1;32m   1235\u001b[0m     \u001b[38;5;28;01mreturn\u001b[39;00m \u001b[38;5;28msuper\u001b[39m()\u001b[38;5;241m.\u001b[39mrecv(buflen, flags)\n",
      "File \u001b[0;32m~/miniforge3/envs/carmen/lib/python3.12/ssl.py:1106\u001b[0m, in \u001b[0;36mSSLSocket.read\u001b[0;34m(self, len, buffer)\u001b[0m\n\u001b[1;32m   1104\u001b[0m         \u001b[38;5;28;01mreturn\u001b[39;00m \u001b[38;5;28mself\u001b[39m\u001b[38;5;241m.\u001b[39m_sslobj\u001b[38;5;241m.\u001b[39mread(\u001b[38;5;28mlen\u001b[39m, buffer)\n\u001b[1;32m   1105\u001b[0m     \u001b[38;5;28;01melse\u001b[39;00m:\n\u001b[0;32m-> 1106\u001b[0m         \u001b[38;5;28;01mreturn\u001b[39;00m \u001b[38;5;28;43mself\u001b[39;49m\u001b[38;5;241;43m.\u001b[39;49m\u001b[43m_sslobj\u001b[49m\u001b[38;5;241;43m.\u001b[39;49m\u001b[43mread\u001b[49m\u001b[43m(\u001b[49m\u001b[38;5;28;43mlen\u001b[39;49m\u001b[43m)\u001b[49m\n\u001b[1;32m   1107\u001b[0m \u001b[38;5;28;01mexcept\u001b[39;00m SSLError \u001b[38;5;28;01mas\u001b[39;00m x:\n\u001b[1;32m   1108\u001b[0m     \u001b[38;5;28;01mif\u001b[39;00m x\u001b[38;5;241m.\u001b[39margs[\u001b[38;5;241m0\u001b[39m] \u001b[38;5;241m==\u001b[39m SSL_ERROR_EOF \u001b[38;5;129;01mand\u001b[39;00m \u001b[38;5;28mself\u001b[39m\u001b[38;5;241m.\u001b[39msuppress_ragged_eofs:\n",
      "\u001b[0;31mKeyboardInterrupt\u001b[0m: "
     ]
    }
   ],
   "source": [
    "travel(case_id, \"New York\")"
   ]
  }
 ],
 "metadata": {
  "kernelspec": {
   "display_name": "Python 3 (ipykernel)",
   "language": "python",
   "name": "python3"
  },
  "language_info": {
   "codemirror_mode": {
    "name": "ipython",
    "version": 3
   },
   "file_extension": ".py",
   "mimetype": "text/x-python",
   "name": "python",
   "nbconvert_exporter": "python",
   "pygments_lexer": "ipython3",
   "version": "3.12.2"
  }
 },
 "nbformat": 4,
 "nbformat_minor": 5
}
