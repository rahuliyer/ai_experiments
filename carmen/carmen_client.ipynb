{
 "cells": [
  {
   "cell_type": "code",
   "execution_count": 1,
   "id": "7edffbc8-7267-465c-af0f-4d0afc495e39",
   "metadata": {},
   "outputs": [],
   "source": [
    "!pip install -Uqq langchain langchain-openai langchain-experimental"
   ]
  },
  {
   "cell_type": "code",
   "execution_count": 2,
   "id": "797299ab-fb7b-4b0d-9110-804007410a7f",
   "metadata": {},
   "outputs": [],
   "source": [
    "import os\n",
    "import requests\n",
    "import json\n",
    "\n",
    "from langchain_core.tools import tool\n",
    "from langchain.agents import Tool\n",
    "from langchain_experimental.utilities import PythonREPL\n",
    "\n",
    "from langchain_openai import ChatOpenAI\n",
    "\n",
    "from langchain_core.prompts import ChatPromptTemplate\n",
    "from langchain.agents import create_tool_calling_agent\n",
    "from langchain.agents import AgentExecutor"
   ]
  },
  {
   "cell_type": "code",
   "execution_count": 3,
   "id": "7eea2939-f63d-46d5-a328-489e28171ac4",
   "metadata": {},
   "outputs": [],
   "source": [
    "OPENAI_API_KEY = os.getenv(\"OPENAI_API_KEY\")\n",
    "model = \"gpt-4-turbo\"\n",
    "\n",
    "URL=\"http://zion.local:8000\""
   ]
  },
  {
   "cell_type": "code",
   "execution_count": 4,
   "id": "36630863-1425-4962-b684-3b1faf81e64e",
   "metadata": {},
   "outputs": [],
   "source": [
    "@tool\n",
    "def make_api_call(method, endpoint, params):\n",
    "    \"\"\" Make an API call to an endpoint given the HTTP method, endpoint, and parameters to send as a dict \"\"\"\n",
    "    url = endpoint\n",
    "\n",
    "    if method == \"GET\":\n",
    "        res = requests.get(url, params)\n",
    "    elif method == \"POST\":\n",
    "        res = requests.post(url, data=json.dumps(params))\n",
    "    else:\n",
    "        raise Exception(f\"Unknown method: {method}\")\n",
    "\n",
    "    if res.status_code != 200:\n",
    "        return json.dumps({\n",
    "            \"error_code\": res.status_code,\n",
    "            \"error_msg\": res.text\n",
    "        })\n",
    "    else:\n",
    "        return res.json()"
   ]
  },
  {
   "cell_type": "code",
   "execution_count": 5,
   "id": "944bd47e-36b9-41e6-bb3c-c84e9cbb7518",
   "metadata": {},
   "outputs": [
    {
     "data": {
      "text/plain": [
       "{'current_city': 'Chennai'}"
      ]
     },
     "execution_count": 5,
     "metadata": {},
     "output_type": "execute_result"
    }
   ],
   "source": [
    "make_api_call.invoke({\n",
    "    \"method\": \"POST\",\n",
    "    \"endpoint\": URL + \"/travel\",\n",
    "    \"params\": {\"case_id\": \"b3f98acb-5b80-4d2b-9b6f-4f2c4a65fbca\", \"city\": \"Chennai\"}\n",
    "})"
   ]
  },
  {
   "cell_type": "code",
   "execution_count": 6,
   "id": "7a27020f-f19b-4d70-8d86-61b6e22f36c4",
   "metadata": {},
   "outputs": [],
   "source": [
    "tools = [\n",
    "    make_api_call,\n",
    "]"
   ]
  },
  {
   "cell_type": "code",
   "execution_count": null,
   "id": "0763bdc6-90ca-447b-8a0c-9f3ff880db32",
   "metadata": {},
   "outputs": [
    {
     "name": "stdout",
     "output_type": "stream",
     "text": [
      "\n",
      "\n",
      "\u001b[1m> Entering new AgentExecutor chain...\u001b[0m\n",
      "\u001b[32;1m\u001b[1;3m\n",
      "Invoking: `make_api_call` with `{'method': 'GET', 'endpoint': 'http://zion.local:8000/openapi.json', 'params': {}}`\n",
      "\n",
      "\n",
      "\u001b[0m\u001b[36;1m\u001b[1;3m{'openapi': '3.1.0', 'info': {'title': 'FastAPI', 'version': '0.1.0'}, 'paths': {'/new_game': {'post': {'summary': 'Starts a new game', 'operationId': 'new_game_new_game_post', 'responses': {'200': {'description': 'Successful Response', 'content': {'application/json': {'schema': {}}}}}}}, '/get_destinations': {'get': {'summary': 'Gets the next set of destinations', 'description': 'Gets the possible destinations to travel to next to solve the case specified by case_id', 'operationId': 'get_destinations_get_destinations_get', 'parameters': [{'name': 'case_id', 'in': 'query', 'required': True, 'schema': {'type': 'string', 'title': 'Case Id'}}], 'responses': {'200': {'description': 'Successful Response', 'content': {'application/json': {'schema': {}}}}, '422': {'description': 'Validation Error', 'content': {'application/json': {'schema': {'$ref': '#/components/schemas/HTTPValidationError'}}}}}}}, '/get_clues': {'get': {'summary': 'Get clues for the next destination to travel to', 'description': 'Get clues for the next destination to travel to in the case specified by case_id', 'operationId': 'get_clues_get_clues_get', 'parameters': [{'name': 'case_id', 'in': 'query', 'required': True, 'schema': {'type': 'string', 'title': 'Case Id'}}], 'responses': {'200': {'description': 'Successful Response', 'content': {'application/json': {'schema': {}}}}, '422': {'description': 'Validation Error', 'content': {'application/json': {'schema': {'$ref': '#/components/schemas/HTTPValidationError'}}}}}}}, '/travel': {'post': {'summary': 'Travel to the specified destination', 'description': 'Travel to the specified destination to solve the case for a given case_id', 'operationId': 'travel_travel_post', 'requestBody': {'content': {'application/json': {'schema': {'$ref': '#/components/schemas/TravelParam'}}}, 'required': True}, 'responses': {'200': {'description': 'Successful Response', 'content': {'application/json': {'schema': {}}}}, '422': {'description': 'Validation Error', 'content': {'application/json': {'schema': {'$ref': '#/components/schemas/HTTPValidationError'}}}}}}}}, 'components': {'schemas': {'HTTPValidationError': {'properties': {'detail': {'items': {'$ref': '#/components/schemas/ValidationError'}, 'type': 'array', 'title': 'Detail'}}, 'type': 'object', 'title': 'HTTPValidationError'}, 'TravelParam': {'properties': {'case_id': {'type': 'string', 'title': 'Case Id'}, 'city': {'type': 'string', 'title': 'City'}}, 'type': 'object', 'required': ['case_id', 'city'], 'title': 'TravelParam'}, 'ValidationError': {'properties': {'loc': {'items': {'anyOf': [{'type': 'string'}, {'type': 'integer'}]}, 'type': 'array', 'title': 'Location'}, 'msg': {'type': 'string', 'title': 'Message'}, 'type': {'type': 'string', 'title': 'Error Type'}}, 'type': 'object', 'required': ['loc', 'msg', 'type'], 'title': 'ValidationError'}}}}\u001b[0m\u001b[32;1m\u001b[1;3m\n",
      "Invoking: `make_api_call` with `{'method': 'POST', 'endpoint': 'http://zion.local:8000/new_game', 'params': {}}`\n",
      "\n",
      "\n",
      "\u001b[0m\u001b[36;1m\u001b[1;3m{'case_id': '123e4567-e89b-12d3-a456-426614174000', 'suspect_name': 'Fancy Fedora Fred', 'current_city': 'Paris', 'stolen_item': 'The Mischievous Mona Lisa'}\u001b[0m\u001b[32;1m\u001b[1;3m\n",
      "Invoking: `make_api_call` with `{'method': 'GET', 'endpoint': 'http://zion.local:8000/get_clues', 'params': {'case_id': '123e4567-e89b-12d3-a456-426614174000'}}`\n",
      "\n",
      "\n",
      "\u001b[0m\u001b[36;1m\u001b[1;3m{'clues': [{'location': 'bank', 'clue': 'The suspect changed their currency to Euros'}, {'location': 'restaurant', 'clue': 'The suspect was looking for fresh pasta'}, {'location': 'tour guide', 'clue': 'The suspect was interested in visiting the Colosseum'}]}\u001b[0m\u001b[32;1m\u001b[1;3m\n",
      "Invoking: `make_api_call` with `{'method': 'GET', 'endpoint': 'http://zion.local:8000/get_destinations', 'params': {'case_id': '123e4567-e89b-12d3-a456-426614174000'}}`\n",
      "\n",
      "\n",
      "\u001b[0m\u001b[36;1m\u001b[1;3m{'city': 'Paris', 'destinations': ['Rome', 'New York', 'Sydney', 'London']}\u001b[0m\u001b[32;1m\u001b[1;3m\n",
      "Invoking: `make_api_call` with `{'method': 'POST', 'endpoint': 'http://zion.local:8000/travel', 'params': {'case_id': '123e4567-e89b-12d3-a456-426614174000', 'city': 'Rome'}}`\n",
      "\n",
      "\n",
      "\u001b[0m\u001b[36;1m\u001b[1;3m{'current_city': 'Rome'}\u001b[0m\u001b[32;1m\u001b[1;3m\n",
      "Invoking: `make_api_call` with `{'method': 'GET', 'endpoint': 'http://zion.local:8000/get_clues', 'params': {'case_id': '123e4567-e89b-12d3-a456-426614174000'}}`\n",
      "\n",
      "\n",
      "\u001b[0m\u001b[36;1m\u001b[1;3m{'clues': [{'location': 'bank', 'clue': 'The suspect changed their currency to Euros'}, {'location': 'restaurant', 'clue': 'The suspect was looking for fresh Moussaka'}, {'location': 'tour guide', 'clue': 'The suspect was interested in visiting the Acropolis'}]}\u001b[0m\u001b[32;1m\u001b[1;3m\n",
      "Invoking: `make_api_call` with `{'method': 'GET', 'endpoint': 'http://zion.local:8000/get_destinations', 'params': {'case_id': '123e4567-e89b-12d3-a456-426614174000'}}`\n",
      "\n",
      "\n",
      "\u001b[0m\u001b[36;1m\u001b[1;3m{'city': 'Rome', 'destinations': ['Rome', 'Athens', 'Madrid', 'Sydney']}\u001b[0m\u001b[32;1m\u001b[1;3m\n",
      "Invoking: `make_api_call` with `{'method': 'POST', 'endpoint': 'http://zion.local:8000/travel', 'params': {'case_id': '123e4567-e89b-12d3-a456-426614174000', 'city': 'Athens'}}`\n",
      "\n",
      "\n",
      "\u001b[0m\u001b[36;1m\u001b[1;3m{'current_city': 'Athens'}\u001b[0m\u001b[32;1m\u001b[1;3m\n",
      "Invoking: `make_api_call` with `{'method': 'GET', 'endpoint': 'http://zion.local:8000/get_clues', 'params': {'case_id': '123e4567-e89b-12d3-a456-426614174000'}}`\n",
      "\n",
      "\n",
      "\u001b[0m\u001b[36;1m\u001b[1;3m{'clues': [{'location': 'bank', 'clue': 'The suspect changed their currency to Egyptian pounds'}, {'location': 'restaurant', 'clue': 'The suspect was looking for fresh koshari'}, {'location': 'library', 'clue': 'The suspect was interested in the works of Naguib Mahfouz'}]}\u001b[0m\u001b[32;1m\u001b[1;3m\n",
      "Invoking: `make_api_call` with `{'method': 'GET', 'endpoint': 'http://zion.local:8000/get_destinations', 'params': {'case_id': '123e4567-e89b-12d3-a456-426614174000'}}`\n",
      "\n",
      "\n",
      "\u001b[0m\u001b[36;1m\u001b[1;3m{'city': 'Athens', 'destinations': ['Athens', 'Cairo', 'New York', 'Sydney']}\u001b[0m\u001b[32;1m\u001b[1;3m\n",
      "Invoking: `make_api_call` with `{'method': 'POST', 'endpoint': 'http://zion.local:8000/travel', 'params': {'case_id': '123e4567-e89b-12d3-a456-426614174000', 'city': 'Cairo'}}`\n",
      "\n",
      "\n",
      "\u001b[0m\u001b[36;1m\u001b[1;3m{'current_city': 'Cairo'}\u001b[0m\u001b[32;1m\u001b[1;3m\n",
      "Invoking: `make_api_call` with `{'method': 'GET', 'endpoint': 'http://zion.local:8000/get_clues', 'params': {'case_id': '123e4567-e89b-12d3-a456-426614174000'}}`\n",
      "\n",
      "\n",
      "\u001b[0m\u001b[36;1m\u001b[1;3m{'clues': [{'location': 'bank', 'clue': 'The suspect changed their currency to Rubles'}, {'location': 'restaurant', 'clue': 'The suspect was looking for fresh Borscht'}, {'location': 'library', 'clue': 'The suspect was interested in works by Fyodor Dostoevsky'}]}\u001b[0m\u001b[32;1m\u001b[1;3m\n",
      "Invoking: `make_api_call` with `{'method': 'GET', 'endpoint': 'http://zion.local:8000/get_destinations', 'params': {'case_id': '123e4567-e89b-12d3-a456-426614174000'}}`\n",
      "\n",
      "\n",
      "\u001b[0m\u001b[36;1m\u001b[1;3m{'city': 'Cairo', 'destinations': ['Moscow', 'London', 'Cairo', 'New York']}\u001b[0m\u001b[32;1m\u001b[1;3m\n",
      "Invoking: `make_api_call` with `{'method': 'POST', 'endpoint': 'http://zion.local:8000/travel', 'params': {'case_id': '123e4567-e89b-12d3-a456-426614174000', 'city': 'Moscow'}}`\n",
      "\n",
      "\n",
      "\u001b[0m\u001b[36;1m\u001b[1;3m{'current_city': 'Moscow'}\u001b[0m\u001b[32;1m\u001b[1;3m\n",
      "Invoking: `make_api_call` with `{'method': 'GET', 'endpoint': 'http://zion.local:8000/get_clues', 'params': {'case_id': '123e4567-e89b-12d3-a456-426614174000'}}`\n",
      "\n",
      "\n",
      "\u001b[0m\u001b[36;1m\u001b[1;3m{'clues': [{'location': 'bank', 'clue': 'The suspect changed their currency to Yen'}, {'location': 'restaurant', 'clue': 'The suspect was looking for fresh sushi'}, {'location': 'library', 'clue': 'The suspect was interested in the works of Haruki Murakami'}]}\u001b[0m\u001b[32;1m\u001b[1;3m\n",
      "Invoking: `make_api_call` with `{'method': 'GET', 'endpoint': 'http://zion.local:8000/get_destinations', 'params': {'case_id': '123e4567-e89b-12d3-a456-426614174000'}}`\n",
      "\n",
      "\n",
      "\u001b[0m\u001b[36;1m\u001b[1;3m{'city': 'Moscow', 'destinations': ['Moscow', 'Tokyo', 'London', 'New York']}\u001b[0m\u001b[32;1m\u001b[1;3m\n",
      "Invoking: `make_api_call` with `{'method': 'POST', 'endpoint': 'http://zion.local:8000/travel', 'params': {'case_id': '123e4567-e89b-12d3-a456-426614174000', 'city': 'Tokyo'}}`\n",
      "\n",
      "\n",
      "\u001b[0m\u001b[36;1m\u001b[1;3m{\"error_code\": 500, \"error_msg\": \"Internal Server Error\"}\u001b[0m\u001b[32;1m\u001b[1;3m\n",
      "Invoking: `make_api_call` with `{'method': 'POST', 'endpoint': 'http://zion.local:8000/travel', 'params': {'case_id': '123e4567-e89b-12d3-a456-426614174000', 'city': 'Tokyo'}}`\n",
      "\n",
      "\n",
      "\u001b[0m\u001b[36;1m\u001b[1;3m{'current_city': 'Tokyo'}\u001b[0m\u001b[32;1m\u001b[1;3m\n",
      "Invoking: `make_api_call` with `{'method': 'GET', 'endpoint': 'http://zion.local:8000/get_clues', 'params': {'case_id': '123e4567-e89b-12d3-a456-426614174000'}}`\n",
      "\n",
      "\n",
      "\u001b[0m\u001b[36;1m\u001b[1;3m{'clues': [{'location': 'embassy', 'clue': 'Watch your step. You are getting close'}, {'location': 'restaurant', 'clue': 'Watch your step. You are getting close'}, {'location': 'library', 'clue': 'Congratulations! You have arrested the suspect, Fancy Fedora Fred'}]}\u001b[0m\u001b[32;1m\u001b[1;3m\n",
      "Invoking: `make_api_call` with `{'method': 'GET', 'endpoint': 'http://zion.local:8000/get_destinations', 'params': {'case_id': '123e4567-e89b-12d3-a456-426614174000'}}`\n",
      "\n",
      "\n",
      "\u001b[0m"
     ]
    }
   ],
   "source": [
    "system_prompt = f\"\"\"\n",
    "    You are playing a detective game like 'where in the world is Carmen San Diego'. You will have to make a lot of \n",
    "    decisions so look at the clues carefully. The server is hosted at {URL}. The API specification is at the \n",
    "    endpoint /openapi.json. \n",
    "\n",
    "    To play the game, do the following:\n",
    "    1. Make an API call to get the schema and understand it\n",
    "    2. Make an API call to start a new game\n",
    "    3. Make an API call to get the clues for the next place to travel to\n",
    "    4. Make an API call to get the next destinations\n",
    "    5. Based on the clues pick the destination to go to next\n",
    "    6. Make an API call to travel to the destination\n",
    "    7. Keep doing steps 2 - 6 until you get a clue that says that you have arrested the suspect.\n",
    "\n",
    "    Always use the full url for making the API calls. If you get an error, retry the step.\n",
    "\"\"\"\n",
    "prompt = ChatPromptTemplate.from_messages(\n",
    "    [\n",
    "      (\"system\", system_prompt),\n",
    "      (\"placeholder\", \"{chat_history}\"),\n",
    "      (\"human\", \"{input}\"),\n",
    "      (\"placeholder\", \"{agent_scratchpad}\"),\n",
    "    ]\n",
    ")\n",
    "\n",
    "llm = ChatOpenAI(api_key=OPENAI_API_KEY, model=model)\n",
    "# Construct the tool calling agent\n",
    "agent = create_tool_calling_agent(llm, tools, prompt)\n",
    "\n",
    "# Create an agent executor by passing in the agent and tools\n",
    "agent_executor = AgentExecutor(agent=agent, tools=tools, verbose=True, max_iterations=50)\n",
    "\n",
    "res = agent_executor.invoke(\n",
    "    {\n",
    "        \"input\": \"Play the game using the tools available\"\n",
    "    }\n",
    ")\n",
    "\n",
    "res[\"output\"]"
   ]
  }
 ],
 "metadata": {
  "kernelspec": {
   "display_name": "Python 3 (ipykernel)",
   "language": "python",
   "name": "python3"
  },
  "language_info": {
   "codemirror_mode": {
    "name": "ipython",
    "version": 3
   },
   "file_extension": ".py",
   "mimetype": "text/x-python",
   "name": "python",
   "nbconvert_exporter": "python",
   "pygments_lexer": "ipython3",
   "version": "3.12.2"
  }
 },
 "nbformat": 4,
 "nbformat_minor": 5
}
