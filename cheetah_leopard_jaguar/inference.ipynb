{
 "cells": [
  {
   "cell_type": "markdown",
   "id": "ef9abeec-15a0-438a-9376-4c46ea346d85",
   "metadata": {},
   "source": [
    "# Leopard, Cheetah, or Jaguar Inference"
   ]
  },
  {
   "cell_type": "markdown",
   "id": "97a5bfa9-1f4f-4060-a272-5d27f7a2d402",
   "metadata": {},
   "source": [
    "This notebook uses the model developed in the [training notebook ](./cheetah_leopard_jaguar.ipynb) for inference "
   ]
  },
  {
   "cell_type": "code",
   "execution_count": 25,
   "id": "c5d33e1c-2f2a-46bb-a51e-decdab4ba0ba",
   "metadata": {},
   "outputs": [],
   "source": [
    "#|default_exp app"
   ]
  },
  {
   "cell_type": "code",
   "execution_count": 26,
   "id": "00a94afd-de3d-4845-ac4b-6333a0b44919",
   "metadata": {},
   "outputs": [],
   "source": [
    "#hide\n",
    "!pip install -Uqq fastai gradio"
   ]
  },
  {
   "cell_type": "code",
   "execution_count": 36,
   "id": "961af223-dd08-4740-9e6e-a083b01ed295",
   "metadata": {},
   "outputs": [],
   "source": [
    "#|export\n",
    "from fastai.vision.all import *"
   ]
  },
  {
   "cell_type": "markdown",
   "id": "af93df41-4412-4d2f-9130-30b649243b63",
   "metadata": {},
   "source": [
    "Let's load the learner and make a prediction"
   ]
  },
  {
   "cell_type": "code",
   "execution_count": 37,
   "id": "c09cb490-96f0-42a3-8105-69014a0c892c",
   "metadata": {},
   "outputs": [],
   "source": [
    "#|export\n",
    "learner = load_learner(\"clj_model.pkl\")"
   ]
  },
  {
   "cell_type": "code",
   "execution_count": 38,
   "id": "2e589c4c-c7c0-44b6-a7e4-b127784ff4a3",
   "metadata": {},
   "outputs": [
    {
     "data": {
      "text/html": [
       "\n",
       "<style>\n",
       "    /* Turns off some styling */\n",
       "    progress {\n",
       "        /* gets rid of default border in Firefox and Opera. */\n",
       "        border: none;\n",
       "        /* Needs to be in here for Safari polyfill so background images work as expected. */\n",
       "        background-size: auto;\n",
       "    }\n",
       "    progress:not([value]), progress:not([value])::-webkit-progress-bar {\n",
       "        background: repeating-linear-gradient(45deg, #7e7e7e, #7e7e7e 10px, #5c5c5c 10px, #5c5c5c 20px);\n",
       "    }\n",
       "    .progress-bar-interrupted, .progress-bar-interrupted::-webkit-progress-bar {\n",
       "        background: #F44336;\n",
       "    }\n",
       "</style>\n"
      ],
      "text/plain": [
       "<IPython.core.display.HTML object>"
      ]
     },
     "metadata": {},
     "output_type": "display_data"
    },
    {
     "data": {
      "text/html": [],
      "text/plain": [
       "<IPython.core.display.HTML object>"
      ]
     },
     "metadata": {},
     "output_type": "display_data"
    },
    {
     "data": {
      "text/plain": [
       "('cheetah', tensor(0), tensor([9.9905e-01, 9.4177e-04, 4.5862e-06]))"
      ]
     },
     "execution_count": 38,
     "metadata": {},
     "output_type": "execute_result"
    }
   ],
   "source": [
    "learner.predict(PILImage.create('./cheetah.jpg'))"
   ]
  },
  {
   "cell_type": "markdown",
   "id": "a42e81da-a70b-41c9-a06b-22b756dc29e7",
   "metadata": {},
   "source": [
    "Great! That worked. Now let's make this an application. \n",
    "\n",
    "First we start with a `predict()` function that will take in a learner and an image and return the probabilities of each label"
   ]
  },
  {
   "cell_type": "code",
   "execution_count": 39,
   "id": "aeb98881-8ea8-4eb5-b8c4-2b09169428b7",
   "metadata": {},
   "outputs": [],
   "source": [
    "#|export\n",
    "def predict(img):\n",
    "    labels = learner.dls.vocab\n",
    "    \n",
    "    label, idx, probs = learner.predict(img)\n",
    "    return {labels[i]: float(probs[i]) for i in range(len(labels))}\n",
    "                    "
   ]
  },
  {
   "cell_type": "code",
   "execution_count": 40,
   "id": "5c7058e7-9272-423c-a4be-901c0bf5e841",
   "metadata": {},
   "outputs": [
    {
     "data": {
      "text/html": [
       "\n",
       "<style>\n",
       "    /* Turns off some styling */\n",
       "    progress {\n",
       "        /* gets rid of default border in Firefox and Opera. */\n",
       "        border: none;\n",
       "        /* Needs to be in here for Safari polyfill so background images work as expected. */\n",
       "        background-size: auto;\n",
       "    }\n",
       "    progress:not([value]), progress:not([value])::-webkit-progress-bar {\n",
       "        background: repeating-linear-gradient(45deg, #7e7e7e, #7e7e7e 10px, #5c5c5c 10px, #5c5c5c 20px);\n",
       "    }\n",
       "    .progress-bar-interrupted, .progress-bar-interrupted::-webkit-progress-bar {\n",
       "        background: #F44336;\n",
       "    }\n",
       "</style>\n"
      ],
      "text/plain": [
       "<IPython.core.display.HTML object>"
      ]
     },
     "metadata": {},
     "output_type": "display_data"
    },
    {
     "data": {
      "text/html": [],
      "text/plain": [
       "<IPython.core.display.HTML object>"
      ]
     },
     "metadata": {},
     "output_type": "display_data"
    },
    {
     "data": {
      "text/plain": [
       "{'cheetah': 0.9990535378456116,\n",
       " 'jaguar': 0.0009417717810720205,\n",
       " 'leopard': 4.586157956509851e-06}"
      ]
     },
     "execution_count": 40,
     "metadata": {},
     "output_type": "execute_result"
    }
   ],
   "source": [
    "predict(PILImage.create('./cheetah.jpg'))"
   ]
  },
  {
   "cell_type": "code",
   "execution_count": 41,
   "id": "b13947f7-d958-4a1b-8832-348773dcfa2d",
   "metadata": {},
   "outputs": [
    {
     "name": "stdout",
     "output_type": "stream",
     "text": [
      "Running on local URL:  http://0.0.0.0:7863\n",
      "\n",
      "To create a public link, set `share=True` in `launch()`.\n"
     ]
    },
    {
     "data": {
      "text/plain": []
     },
     "execution_count": 41,
     "metadata": {},
     "output_type": "execute_result"
    }
   ],
   "source": [
    "#|export\n",
    "import gradio as gr\n",
    "\n",
    "image = gr.Image(width=224, height=224)\n",
    "label = gr.Label()\n",
    "examples = ['cheetah.jpg', 'leopard.jpg', 'jaguar.jpg']\n",
    "\n",
    "interface = gr.Interface(fn = predict, inputs=image, outputs=label, examples=examples)\n",
    "interface.launch(server_name=\"0.0.0.0\", inline=False)"
   ]
  },
  {
   "cell_type": "code",
   "execution_count": 45,
   "id": "cdc0f4f5-5622-46f7-a927-e8495a20fae2",
   "metadata": {},
   "outputs": [],
   "source": [
    "from nbdev.export import nb_export\n",
    "\n",
    "nb_export('./inference.ipynb', './')"
   ]
  },
  {
   "cell_type": "code",
   "execution_count": 46,
   "id": "76502b39-7f76-4673-bf67-ac1f34729b7a",
   "metadata": {},
   "outputs": [
    {
     "name": "stdout",
     "output_type": "stream",
     "text": [
      "app.py\t\t\t      clj_model.pkl  inference.ipynb  models\n",
      "cheetah.jpg\t\t      data\t     jaguar.jpg\n",
      "cheetah_leopard_jaguar.ipynb  flagged\t     leopard.jpg\n"
     ]
    }
   ],
   "source": [
    "!ls"
   ]
  },
  {
   "cell_type": "code",
   "execution_count": 48,
   "id": "2ad92d61-c8dd-4249-affd-6ebbc216ec8b",
   "metadata": {},
   "outputs": [
    {
     "name": "stdout",
     "output_type": "stream",
     "text": [
      "2.7.14\n"
     ]
    }
   ],
   "source": [
    "import fastai\n",
    "print(fastai.__version__)"
   ]
  },
  {
   "cell_type": "code",
   "execution_count": null,
   "id": "85093316-0b12-4af4-899f-d2ccfec40bb9",
   "metadata": {},
   "outputs": [],
   "source": []
  }
 ],
 "metadata": {
  "kernelspec": {
   "display_name": "Python 3 (ipykernel)",
   "language": "python",
   "name": "python3"
  },
  "language_info": {
   "codemirror_mode": {
    "name": "ipython",
    "version": 3
   },
   "file_extension": ".py",
   "mimetype": "text/x-python",
   "name": "python",
   "nbconvert_exporter": "python",
   "pygments_lexer": "ipython3",
   "version": "3.12.2"
  }
 },
 "nbformat": 4,
 "nbformat_minor": 5
}
